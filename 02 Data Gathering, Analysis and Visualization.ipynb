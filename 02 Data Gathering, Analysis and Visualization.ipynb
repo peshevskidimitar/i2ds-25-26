{
 "cells": [
  {
   "cell_type": "markdown",
   "id": "6d2c31c6",
   "metadata": {},
   "source": [
    "# Data Gathering"
   ]
  },
  {
   "cell_type": "markdown",
   "id": "2f9d760c",
   "metadata": {},
   "source": [
    "## Scraping"
   ]
  },
  {
   "cell_type": "markdown",
   "id": "94ef5a3f",
   "metadata": {},
   "source": [
    "### Beautiful Soup\n",
    "\n",
    "Beautiful Soup is a Python library designed for parsing HTML and XML documents, including those with malformed markup. It constructs a parse tree from the document, enabling navigation, searching, and modification of the content. This functionality is particularly useful for web scraping, where data needs to be extracted from web pages."
   ]
  },
  {
   "cell_type": "markdown",
   "id": "f02c93a3",
   "metadata": {},
   "source": [
    "You can install Requests with `pip install requests` and Beautiful Soup with `pip install beautifulsoup4`."
   ]
  },
  {
   "cell_type": "markdown",
   "id": "372f2347",
   "metadata": {},
   "source": [
    "Here, we import the main Python libraries needed for web scraping and data handling:\n",
    "- `requests` for fetching data from web pages,\n",
    "- `bs4` for parsing HTML content, and\n",
    "- `pandas` for organizing data into tables."
   ]
  },
  {
   "cell_type": "code",
   "execution_count": 1,
   "id": "d18ddc24",
   "metadata": {},
   "outputs": [],
   "source": [
    "import requests\n",
    "from bs4 import BeautifulSoup\n",
    "import pandas as pd"
   ]
  },
  {
   "cell_type": "markdown",
   "id": "ca7c1f2c",
   "metadata": {},
   "source": [
    "Now, we send a request to the target website https://klimi.mk/ using the `requests` library."
   ]
  },
  {
   "cell_type": "code",
   "execution_count": 2,
   "id": "0c48ece3",
   "metadata": {},
   "outputs": [],
   "source": [
    "response = requests.get(\"https://klimi.mk/\")"
   ]
  },
  {
   "cell_type": "markdown",
   "id": "83ee837d",
   "metadata": {},
   "source": [
    "We inspect the server's response to confirm a successful connection and preview a small part of the HTML content."
   ]
  },
  {
   "cell_type": "code",
   "execution_count": 3,
   "id": "27a0d875",
   "metadata": {},
   "outputs": [
    {
     "data": {
      "text/plain": [
       "<Response [200]>"
      ]
     },
     "execution_count": 3,
     "metadata": {},
     "output_type": "execute_result"
    }
   ],
   "source": [
    "response"
   ]
  },
  {
   "cell_type": "code",
   "execution_count": 4,
   "id": "379f4aa8",
   "metadata": {},
   "outputs": [
    {
     "name": "stdout",
     "output_type": "stream",
     "text": [
      "<!doctype html>\n",
      "<html lang=\"en\">\n",
      "<head>\n",
      "    <meta charset=\"utf-8\">\n",
      "    <meta name=\"viewport\" content=\"width=device-width, initial-scale=1\">\n",
      "                <meta property=\"fb:app_id\" content=\"308558492587260\" />\n",
      "        <meta property=\"og:url\" content=\"https://klimi.mk\" />\n",
      "        <meta property=\"og:image\" content=\"https://klimi.mk/public/storage/main/fb.png\" />\n",
      "        <meta property=\"og:title\" content=\"КЛИМИ.мк - резиденцијални и комерцијални клима уреди\" />\n",
      "        <meta property=\"og:type\" content=\"artic\n"
     ]
    }
   ],
   "source": [
    "print(response.text[:512])"
   ]
  },
  {
   "cell_type": "markdown",
   "id": "9feefdc0",
   "metadata": {},
   "source": [
    "We use `BeautifulSoup` to parse the HTML text into a structured format. This allows easy navigation and searching within the page’s elements."
   ]
  },
  {
   "cell_type": "code",
   "execution_count": 5,
   "id": "0f3645e3",
   "metadata": {},
   "outputs": [],
   "source": [
    "soup = BeautifulSoup(response.text, \"html.parser\")"
   ]
  },
  {
   "cell_type": "code",
   "execution_count": 6,
   "id": "0a051a50",
   "metadata": {},
   "outputs": [
    {
     "name": "stdout",
     "output_type": "stream",
     "text": [
      "<!DOCTYPE html>\n",
      "<html lang=\"en\">\n",
      " <head>\n",
      "  <meta charset=\"utf-8\"/>\n",
      "  <meta content=\"width=device-width, initial-scale=1\" name=\"viewport\"/>\n",
      "  <meta content=\"308558492587260\" property=\"fb:app_id\">\n",
      "   <meta content=\"https://klimi.mk\" property=\"og:url\">\n",
      "    <meta content=\"https://klimi.mk/public/storage/main/fb.png\" property=\"og:image\"/>\n",
      "    <meta content=\"КЛИМИ.мк - резиденцијални и комерцијални клима уреди\" property=\"og:title\"/>\n",
      "    <meta content=\"article\" property=\"og:type\"/>\n",
      "    <meta content=\"KLIMI.MK | De\n"
     ]
    }
   ],
   "source": [
    "print(soup.prettify()[:512])"
   ]
  },
  {
   "cell_type": "markdown",
   "id": "2273a6e4",
   "metadata": {},
   "source": [
    "#### Selectors\n",
    "\n",
    "- Class Selector: Use a dot `.` followed by the class name to select elements by class.\n",
    "\n",
    "  *Example:* `.sale` selects all elements with the class `sale`.\n",
    "\n",
    "- ID Selector: Use a hash `#` followed by the ID name to select elements by ID.\n",
    "\n",
    "  *Example:* `#product` selects the element with the ID `product`.\n",
    "\n",
    "- Tag Selector: Use the tag name to select elements by their HTML tag.\n",
    "\n",
    "  *Examples:* `p` -> paragraph, `a` -> anchor (link), `div` -> division, etc."
   ]
  },
  {
   "cell_type": "markdown",
   "id": "45414fd2",
   "metadata": {},
   "source": [
    "Here, we extract specific parts of the HTML using CSS selectors. Specifically, we select all manufacturer elements by their class. Then, we inspect these elements to verify that the selections are correct."
   ]
  },
  {
   "cell_type": "code",
   "execution_count": 7,
   "id": "a10e14fd",
   "metadata": {},
   "outputs": [],
   "source": [
    "manufacturer_elements = soup.select(\".proizvoditel\")"
   ]
  },
  {
   "cell_type": "code",
   "execution_count": 8,
   "id": "84573ed3",
   "metadata": {},
   "outputs": [
    {
     "data": {
      "text/plain": [
       "[<input class=\"custom-control-input proizvoditel\" id=\"gree\" name=\"\" type=\"checkbox\" value=\"6\"/>,\n",
       " <input class=\"custom-control-input proizvoditel\" id=\"vivax\" name=\"\" type=\"checkbox\" value=\"8\"/>,\n",
       " <input class=\"custom-control-input proizvoditel\" id=\"hisense\" name=\"\" type=\"checkbox\" value=\"52\"/>,\n",
       " <input class=\"custom-control-input proizvoditel\" id=\"toshiba\" name=\"\" type=\"checkbox\" value=\"45\"/>,\n",
       " <input class=\"custom-control-input proizvoditel\" id=\"tesla\" name=\"\" type=\"checkbox\" value=\"39\"/>,\n",
       " <input class=\"custom-control-input proizvoditel\" id=\"carrier\" name=\"\" type=\"checkbox\" value=\"49\"/>,\n",
       " <input class=\"custom-control-input proizvoditel\" id=\"haier\" name=\"\" type=\"checkbox\" value=\"44\"/>,\n",
       " <input class=\"custom-control-input proizvoditel\" id=\"fujitsu\" name=\"\" type=\"checkbox\" value=\"57\"/>,\n",
       " <input class=\"custom-control-input proizvoditel\" id=\"samsung\" name=\"\" type=\"checkbox\" value=\"43\"/>,\n",
       " <input class=\"custom-control-input proizvoditel\" id=\"daikin\" name=\"\" type=\"checkbox\" value=\"42\"/>,\n",
       " <input class=\"custom-control-input proizvoditel\" id=\"mitsubishi\" name=\"\" type=\"checkbox\" value=\"48\"/>,\n",
       " <input class=\"custom-control-input proizvoditel\" id=\"aux\" name=\"\" type=\"checkbox\" value=\"40\"/>,\n",
       " <input class=\"custom-control-input proizvoditel\" id=\"tosot\" name=\"\" type=\"checkbox\" value=\"55\"/>,\n",
       " <input class=\"custom-control-input proizvoditel\" id=\"hitachi\" name=\"\" type=\"checkbox\" value=\"59\"/>,\n",
       " <input class=\"custom-control-input proizvoditel\" id=\"hyundai\" name=\"\" type=\"checkbox\" value=\"10\"/>,\n",
       " <input class=\"custom-control-input proizvoditel\" id=\"tcl\" name=\"\" type=\"checkbox\" value=\"60\"/>,\n",
       " <input class=\"custom-control-input proizvoditel\" id=\"bosch\" name=\"\" type=\"checkbox\" value=\"62\"/>,\n",
       " <input class=\"custom-control-input proizvoditel\" id=\"vaillant\" name=\"\" type=\"checkbox\" value=\"64\"/>]"
      ]
     },
     "execution_count": 8,
     "metadata": {},
     "output_type": "execute_result"
    }
   ],
   "source": [
    "manufacturer_elements"
   ]
  },
  {
   "cell_type": "markdown",
   "id": "7ae05bb5",
   "metadata": {},
   "source": [
    "We extract the `id` attribute from each manufacturer element."
   ]
  },
  {
   "cell_type": "code",
   "execution_count": 9,
   "id": "ccba0011",
   "metadata": {},
   "outputs": [],
   "source": [
    "manufacturers = [\n",
    "    manufacturer_element.get(\"id\") for manufacturer_element in manufacturer_elements\n",
    "]"
   ]
  },
  {
   "cell_type": "code",
   "execution_count": 10,
   "id": "cdf933ef",
   "metadata": {},
   "outputs": [
    {
     "data": {
      "text/plain": [
       "['gree',\n",
       " 'vivax',\n",
       " 'hisense',\n",
       " 'toshiba',\n",
       " 'tesla',\n",
       " 'carrier',\n",
       " 'haier',\n",
       " 'fujitsu',\n",
       " 'samsung',\n",
       " 'daikin',\n",
       " 'mitsubishi',\n",
       " 'aux',\n",
       " 'tosot',\n",
       " 'hitachi',\n",
       " 'hyundai',\n",
       " 'tcl',\n",
       " 'bosch',\n",
       " 'vaillant']"
      ]
     },
     "execution_count": 10,
     "metadata": {},
     "output_type": "execute_result"
    }
   ],
   "source": [
    "manufacturers"
   ]
  },
  {
   "cell_type": "markdown",
   "id": "68d88404",
   "metadata": {},
   "source": [
    "We select the slider element using its `id`. Then, we locate all image tags inside the slider and extract their `src` attributes. These URLs can be used to download or display product images later."
   ]
  },
  {
   "cell_type": "code",
   "execution_count": 11,
   "id": "1fd7b7ea",
   "metadata": {},
   "outputs": [],
   "source": [
    "slider_element = soup.select_one(\"#slider\")"
   ]
  },
  {
   "cell_type": "code",
   "execution_count": 12,
   "id": "b9e71b03",
   "metadata": {},
   "outputs": [
    {
     "name": "stdout",
     "output_type": "stream",
     "text": [
      "<section id=\"slider\"><!--slider-->\n",
      "<div class=\"carousel slide div-slajder\" data-ride=\"carousel\" id=\"carousel-example-generic\">\n",
      "<!-- Indicators -->\n",
      "<ol class=\"carousel-indicators\">\n",
      "<li class=\"active\" data-slide-to=\"0\" data-target=\"#carousel-example-generic\"></li>\n",
      "<li class=\"\" data-slide-to=\"1\" data-target=\"#carousel-example-generic\"></li>\n",
      "<li class=\"\" data-slide-to=\"2\" data-target=\"#carousel-example-generic\"></li>\n",
      "<li class=\"\" data-slide-to=\"3\" data-target=\"#carousel-example-generic\"></li>\n",
      "<li class=\"\" data-\n"
     ]
    }
   ],
   "source": [
    "print(str(slider_element)[:512])"
   ]
  },
  {
   "cell_type": "code",
   "execution_count": 13,
   "id": "bcaadf15",
   "metadata": {},
   "outputs": [],
   "source": [
    "image_elements = slider_element.select(\"img.img.img-fluid.slika-klima-slajder\")"
   ]
  },
  {
   "cell_type": "code",
   "execution_count": 14,
   "id": "eafedd47",
   "metadata": {},
   "outputs": [
    {
     "data": {
      "text/plain": [
       "20"
      ]
     },
     "execution_count": 14,
     "metadata": {},
     "output_type": "execute_result"
    }
   ],
   "source": [
    "len(image_elements)"
   ]
  },
  {
   "cell_type": "code",
   "execution_count": 15,
   "id": "3bf7109d",
   "metadata": {},
   "outputs": [
    {
     "name": "stdout",
     "output_type": "stream",
     "text": [
      "<img alt=\"\" class=\"img img-fluid slika-klima-slajder\" src=\"https://klimi.mk/public/storage/proizvodi/O2AnygmaFsCeFxo6M85Fd5WpkNSzDjJPMCTv3u9C.png\"/>\n"
     ]
    }
   ],
   "source": [
    "print(image_elements[0])"
   ]
  },
  {
   "cell_type": "code",
   "execution_count": 16,
   "id": "5d451cc8",
   "metadata": {},
   "outputs": [
    {
     "data": {
      "text/plain": [
       "'https://klimi.mk/public/storage/proizvodi/O2AnygmaFsCeFxo6M85Fd5WpkNSzDjJPMCTv3u9C.png'"
      ]
     },
     "execution_count": 16,
     "metadata": {},
     "output_type": "execute_result"
    }
   ],
   "source": [
    "image_elements[0].get(\"src\")"
   ]
  },
  {
   "cell_type": "code",
   "execution_count": 17,
   "id": "c3dca1d1",
   "metadata": {},
   "outputs": [],
   "source": [
    "image_urls = [image_element.get(\"src\") for image_element in image_elements]"
   ]
  },
  {
   "cell_type": "code",
   "execution_count": 18,
   "id": "89e01322",
   "metadata": {},
   "outputs": [
    {
     "data": {
      "text/plain": [
       "20"
      ]
     },
     "execution_count": 18,
     "metadata": {},
     "output_type": "execute_result"
    }
   ],
   "source": [
    "len(image_urls)"
   ]
  },
  {
   "cell_type": "code",
   "execution_count": 19,
   "id": "4a52c023",
   "metadata": {},
   "outputs": [
    {
     "data": {
      "text/plain": [
       "['https://klimi.mk/public/storage/proizvodi/O2AnygmaFsCeFxo6M85Fd5WpkNSzDjJPMCTv3u9C.png',\n",
       " 'https://klimi.mk/public/storage/proizvodi/1AF1VBpEoWQJPptxaOHpC7nWp6yYnPwlIDoB6awL.png',\n",
       " 'https://klimi.mk/public/storage/proizvodi/hiv5ww2PyxFlN0cyQTKvVaiQX0gKL8WkGfCNTq09.png',\n",
       " 'https://klimi.mk/public/storage/proizvodi/VTsibO8WletY6YemkQ6hw8550ObFFV2ORKhEqPJb.png',\n",
       " 'https://klimi.mk/public/storage/proizvodi/PDrEGeZDdN3ujtFob1VXKit59Ovh0sbIs71xwz96.png',\n",
       " 'https://klimi.mk/public/storage/proizvodi/jlIYzJL8xK9IEfcBcCUfVppZYahF4xh7xGfwbYgG.png',\n",
       " 'https://klimi.mk/public/storage/proizvodi/eYeTB1U65b9ufDp9UMXZQDAeqUMrDcbnlLaVG7Q0.png',\n",
       " 'https://klimi.mk/public/storage/proizvodi/8cJsyyDKa6NYhI8WZ928Y3Qh4FAbkou4NGHdokMt.jpeg',\n",
       " 'https://klimi.mk/public/storage/proizvodi/hEt0buOJSJAgqv4QVGCFPpc72SKqUlJ2VpHfepAc.png',\n",
       " 'https://klimi.mk/public/storage/proizvodi/r1eCBrb70xosGF5aR6xOi5SdtRHKX56VFJ88VT4B.png']"
      ]
     },
     "execution_count": 19,
     "metadata": {},
     "output_type": "execute_result"
    }
   ],
   "source": [
    "image_urls[:10]"
   ]
  },
  {
   "cell_type": "markdown",
   "id": "a3e41082",
   "metadata": {},
   "source": [
    "The main product data is grouped in a specific container on the web page. We locate and inspect this container to understand how product information is organized."
   ]
  },
  {
   "cell_type": "code",
   "execution_count": 20,
   "id": "fa6b6162",
   "metadata": {},
   "outputs": [],
   "source": [
    "container = soup.select_one(\".sodrzina-klimi-naslovna\")"
   ]
  },
  {
   "cell_type": "code",
   "execution_count": 21,
   "id": "623908c1",
   "metadata": {},
   "outputs": [
    {
     "name": "stdout",
     "output_type": "stream",
     "text": [
      "<div class=\"sodrzina-klimi-naslovna\">\n",
      "<!-- -->\n",
      "<div class=\"col-md-12 row klimi-red\" id=\"proizvodi-data\">\n",
      "<div class=\"col-md-4 col-sm-6 klima-box ramka-promo-cena\">\n",
      "<div class=\"header-box\">\n",
      "<img alt=\"ACP-12CH35AEFIs R32\" class=\"image img-fluid slika-klima-box\" src=\"https://klimi.mk/public/storage/proizvodi/1AF1VBpEoWQJPptxaOHpC7nWp6yYnPwlIDoB6awL.png\"/>\n",
      "</div>\n",
      "<div class=\"proizvoditel-model\">\n",
      "<img align=\"left\" alt=\"VIVAX\" class=\"logo-box-klima\" src=\"https://klimi.mk/public/storage/proizvoditeli/vivax-bw.png\"\n"
     ]
    }
   ],
   "source": [
    "print(str(container)[:512])"
   ]
  },
  {
   "cell_type": "code",
   "execution_count": 22,
   "id": "0f1a8145",
   "metadata": {},
   "outputs": [],
   "source": [
    "rows = container.select(\".klimi-red\")"
   ]
  },
  {
   "cell_type": "code",
   "execution_count": 23,
   "id": "137ec671",
   "metadata": {},
   "outputs": [
    {
     "data": {
      "text/plain": [
       "2"
      ]
     },
     "execution_count": 23,
     "metadata": {},
     "output_type": "execute_result"
    }
   ],
   "source": [
    "len(rows)"
   ]
  },
  {
   "cell_type": "code",
   "execution_count": 24,
   "id": "a6f58338",
   "metadata": {},
   "outputs": [
    {
     "name": "stdout",
     "output_type": "stream",
     "text": [
      "<div class=\"col-md-12 row klimi-red\" id=\"proizvodi-data\">\n",
      "<div class=\"col-md-4 col-sm-6 klima-box ramka-promo-cena\">\n",
      "<div class=\"header-box\">\n",
      "<img alt=\"ACP-12CH35AEFIs R32\" class=\"image img-fluid slika-klima-box\" src=\"https://klimi.mk/public/storage/proizvodi/1AF1VBpEoWQJPptxaOHpC7nWp6yYnPwlIDoB6awL.png\"/>\n",
      "</div>\n",
      "<div class=\"proizvoditel-model\">\n",
      "<img align=\"left\" alt=\"VIVAX\" class=\"logo-box-klima\" src=\"https://klimi.mk/public/storage/proizvoditeli/vivax-bw.png\"/>\n",
      "<span class=\"opis-model\">ACP-12CH35AEFIs R32\n"
     ]
    }
   ],
   "source": [
    "print(str(rows[0])[:512])"
   ]
  },
  {
   "cell_type": "code",
   "execution_count": 25,
   "id": "b0c164a2",
   "metadata": {},
   "outputs": [],
   "source": [
    "cells = []\n",
    "for row in rows:\n",
    "    cells.extend(row.select(\".klima-box\"))"
   ]
  },
  {
   "cell_type": "code",
   "execution_count": 26,
   "id": "750cc2ed",
   "metadata": {},
   "outputs": [
    {
     "data": {
      "text/plain": [
       "9"
      ]
     },
     "execution_count": 26,
     "metadata": {},
     "output_type": "execute_result"
    }
   ],
   "source": [
    "len(cells)"
   ]
  },
  {
   "cell_type": "code",
   "execution_count": 27,
   "id": "59bc9f19",
   "metadata": {},
   "outputs": [
    {
     "name": "stdout",
     "output_type": "stream",
     "text": [
      "<div class=\"col-md-4 col-sm-6 klima-box ramka-promo-cena\">\n",
      "<div class=\"header-box\">\n",
      "<img alt=\"ACP-12CH35AEFIs R32\" class=\"image img-fluid slika-klima-box\" src=\"https://klimi.mk/public/storage/proizvodi/1AF1VBpEoWQJPptxaOHpC7nWp6yYnPwlIDoB6awL.png\"/>\n",
      "</div>\n",
      "<div class=\"proizvoditel-model\">\n",
      "<img align=\"left\" alt=\"VIVAX\" class=\"logo-box-klima\" src=\"https://klimi.mk/public/storage/proizvoditeli/vivax-bw.png\"/>\n",
      "<span class=\"opis-model\">ACP-12CH35AEFIs R32</span>\n",
      "</div>\n",
      "<div class=\"osnovni-podatoci-div\">\n",
      "<span class=\"osnovni-info\"><b>ТИП</b>: ИНВЕРТЕР СПЛИТ СИСТЕМ</span>\n",
      "<span class=\"osnovni-info\"><b>ЕНЕРГЕТСКА КЛАСА</b>: A++ </span>\n",
      "<span class=\"osnovni-info\"><b>МОЌНОСТ</b>: 3517/3810 W</span>\n",
      "<span class=\"osnovni-info\"><b>ГРЕЕЊЕ / ЛАДЕЊЕ</b>: ОД -10℃ ДО 50℃</span>\n",
      "<span class=\"osnovni-info\"><b>ПРЕПОРАЧАНА ПОВРШИНА</b>: <span style=\"color: #090037;\">ДО 30 м<sup>2</sup></span></span>\n",
      "<span class=\"osnovni-info info-funkcii\" title=\"Внесете свежина во вашите домашни и деловни простории и во најтешките летни денови!\"><b>ФУНКЦИИ</b>: Внесете свежина во вашите домашни и деловни простории и во најтешките летни денови!</span>\n",
      "<span class=\"osnovni-info\"><b>ГАРАНЦИЈА</b>:<span style=\"color: #090037;\"> 5 ГОДИНИ</span></span>\n",
      "</div>\n",
      "<img alt=\"\" class=\"img img-fluid promo-cena-new\" src=\"https://klimi.mk/public/storage/main/promo-cena.png\"/>\n",
      "<div class=\"cena-div text-left\" style=\"display: -webkit-box;\">\n",
      "<span class=\"cena-box-naslovna\" style=\"color: #ffffff !important;\">17.990<sup>00</sup></span>\n",
      "<span class=\"stara-cena-linija\" style=\"color: #ffffff; font-size: 1.4em; position: relative; bottom: -24px;\">20.990<sup>00</sup></span>\n",
      "</div>\n",
      "<div class=\"co-md-12 kopcinja\">\n",
      "<a class=\"btn-poveke text-center\" href=\"https://klimi.mk/product/599\">ПОВЕЌЕ</a>\n",
      "<span class=\"btn-naracaj text-center naracaj\" data-idured=\"599\" style=\"color: #0489F3; background-color: #ffffff;\" ured-id=\"599\">НАРАЧАЈ</span>\n",
      "</div>\n",
      "</div>\n"
     ]
    }
   ],
   "source": [
    "print(cells[0])"
   ]
  },
  {
   "cell_type": "markdown",
   "id": "34ec264e",
   "metadata": {},
   "source": [
    "We extract the brand name and model for each product. Also, we define a helper function to simplify this process for multiple items."
   ]
  },
  {
   "cell_type": "code",
   "execution_count": 28,
   "id": "590adab7",
   "metadata": {},
   "outputs": [],
   "source": [
    "manufacturer_details = cells[0].select_one(\".proizvoditel-model\")"
   ]
  },
  {
   "cell_type": "code",
   "execution_count": 29,
   "id": "b3d58b79",
   "metadata": {},
   "outputs": [
    {
     "data": {
      "text/plain": [
       "'VIVAX'"
      ]
     },
     "execution_count": 29,
     "metadata": {},
     "output_type": "execute_result"
    }
   ],
   "source": [
    "manufacturer_details.select_one(\"img\").get(\"alt\")"
   ]
  },
  {
   "cell_type": "code",
   "execution_count": 30,
   "id": "96042e3c",
   "metadata": {},
   "outputs": [
    {
     "data": {
      "text/plain": [
       "'ACP-12CH35AEFIs R32'"
      ]
     },
     "execution_count": 30,
     "metadata": {},
     "output_type": "execute_result"
    }
   ],
   "source": [
    "manufacturer_details.select_one(\".opis-model\").text"
   ]
  },
  {
   "cell_type": "code",
   "execution_count": 31,
   "id": "2ef56191",
   "metadata": {},
   "outputs": [],
   "source": [
    "def extract_brand_and_model(cell):\n",
    "    manufacturer_details = cell.select_one(\".proizvoditel-model\")\n",
    "    brand = manufacturer_details.select_one(\"img\").get(\"alt\")\n",
    "    model = manufacturer_details.select_one(\".opis-model\").text\n",
    "    return {\"brand\": brand, \"model\": model}"
   ]
  },
  {
   "cell_type": "code",
   "execution_count": 32,
   "id": "0853f06c",
   "metadata": {},
   "outputs": [
    {
     "data": {
      "text/plain": [
       "{'brand': 'VIVAX', 'model': 'ACP-12CH35AEFIs R32'}"
      ]
     },
     "execution_count": 32,
     "metadata": {},
     "output_type": "execute_result"
    }
   ],
   "source": [
    "extract_brand_and_model(cells[0])"
   ]
  },
  {
   "cell_type": "markdown",
   "id": "7cbdd321",
   "metadata": {},
   "source": [
    "Each product has key details such as energy class, power, area coverage, etc. We extract these properties and store them in a structured dictionary for easier analysis. Again, we define a helper function that extracts these properties for a cell."
   ]
  },
  {
   "cell_type": "code",
   "execution_count": 33,
   "id": "370d19f0",
   "metadata": {},
   "outputs": [],
   "source": [
    "properties = cells[0].select(\".osnovni-info\")"
   ]
  },
  {
   "cell_type": "code",
   "execution_count": 34,
   "id": "1e9d1482",
   "metadata": {},
   "outputs": [],
   "source": [
    "names = [\n",
    "    \"type\",\n",
    "    \"energy_class\",\n",
    "    \"power\",\n",
    "    \"temperature\",\n",
    "    \"area\",\n",
    "    \"functions\",\n",
    "    \"guarantee\",\n",
    "]"
   ]
  },
  {
   "cell_type": "code",
   "execution_count": 35,
   "id": "2260a443",
   "metadata": {},
   "outputs": [],
   "source": [
    "info = {}\n",
    "for index in range(len(names)):\n",
    "    name = names[index]\n",
    "    parts = properties[index].text.split(\":\")\n",
    "    info[name] = parts[1].strip()"
   ]
  },
  {
   "cell_type": "code",
   "execution_count": 36,
   "id": "439f396c",
   "metadata": {},
   "outputs": [
    {
     "data": {
      "text/plain": [
       "{'type': 'ИНВЕРТЕР СПЛИТ СИСТЕМ',\n",
       " 'energy_class': 'A++',\n",
       " 'power': '3517/3810 W',\n",
       " 'temperature': 'ОД -10℃ ДО 50℃',\n",
       " 'area': 'ДО 30 м2',\n",
       " 'functions': 'Внесете свежина во вашите домашни и деловни простории и во најтешките летни денови!',\n",
       " 'guarantee': '5 ГОДИНИ'}"
      ]
     },
     "execution_count": 36,
     "metadata": {},
     "output_type": "execute_result"
    }
   ],
   "source": [
    "info"
   ]
  },
  {
   "cell_type": "code",
   "execution_count": 37,
   "id": "5f8c7f45",
   "metadata": {},
   "outputs": [],
   "source": [
    "def extract_properties(cell):\n",
    "    properties = cell.select(\".osnovni-info\")\n",
    "\n",
    "    info = {}\n",
    "    for index in range(len(names)):\n",
    "        name = names[index]\n",
    "        parts = properties[index].text.split(\":\")\n",
    "        info[name] = parts[1].strip()\n",
    "\n",
    "    return info"
   ]
  },
  {
   "cell_type": "code",
   "execution_count": 38,
   "id": "987aab12",
   "metadata": {},
   "outputs": [
    {
     "data": {
      "text/plain": [
       "{'type': 'ИНВЕРТЕР СПЛИТ СИСТЕМ',\n",
       " 'energy_class': 'A++',\n",
       " 'power': '3517/3810 W',\n",
       " 'temperature': 'ОД -10℃ ДО 50℃',\n",
       " 'area': 'ДО 30 м2',\n",
       " 'functions': 'Внесете свежина во вашите домашни и деловни простории и во најтешките летни денови!',\n",
       " 'guarantee': '5 ГОДИНИ'}"
      ]
     },
     "execution_count": 38,
     "metadata": {},
     "output_type": "execute_result"
    }
   ],
   "source": [
    "extract_properties(cells[0])"
   ]
  },
  {
   "cell_type": "markdown",
   "id": "2411c08e",
   "metadata": {},
   "source": [
    "Here, we extract the current and previous product price. Note that not each product has a discount, so not each product has a previous price. Then, we define a helper function to extract the prices for a cell as we did before."
   ]
  },
  {
   "cell_type": "code",
   "execution_count": 39,
   "id": "57b8bd25",
   "metadata": {},
   "outputs": [],
   "source": [
    "curr_price_element = cells[0].select_one(\".cena-box-naslovna\")"
   ]
  },
  {
   "cell_type": "code",
   "execution_count": 40,
   "id": "b424fe9f",
   "metadata": {},
   "outputs": [
    {
     "data": {
      "text/plain": [
       "<span class=\"cena-box-naslovna\" style=\"color: #ffffff !important;\">17.990<sup>00</sup></span>"
      ]
     },
     "execution_count": 40,
     "metadata": {},
     "output_type": "execute_result"
    }
   ],
   "source": [
    "curr_price_element"
   ]
  },
  {
   "cell_type": "code",
   "execution_count": 41,
   "id": "215ff390",
   "metadata": {},
   "outputs": [],
   "source": [
    "curr_price = curr_price_element.contents[0]"
   ]
  },
  {
   "cell_type": "code",
   "execution_count": 42,
   "id": "5f690df5",
   "metadata": {},
   "outputs": [
    {
     "data": {
      "text/plain": [
       "'17.990'"
      ]
     },
     "execution_count": 42,
     "metadata": {},
     "output_type": "execute_result"
    }
   ],
   "source": [
    "curr_price"
   ]
  },
  {
   "cell_type": "code",
   "execution_count": 43,
   "id": "4182eedf",
   "metadata": {},
   "outputs": [],
   "source": [
    "prev_price_element = cells[0].select_one(\".stara-cena-linija\")"
   ]
  },
  {
   "cell_type": "code",
   "execution_count": 44,
   "id": "e75fba1f",
   "metadata": {},
   "outputs": [
    {
     "data": {
      "text/plain": [
       "<span class=\"stara-cena-linija\" style=\"color: #ffffff; font-size: 1.4em; position: relative; bottom: -24px;\">20.990<sup>00</sup></span>"
      ]
     },
     "execution_count": 44,
     "metadata": {},
     "output_type": "execute_result"
    }
   ],
   "source": [
    "prev_price_element"
   ]
  },
  {
   "cell_type": "code",
   "execution_count": 45,
   "id": "a24d1eb8",
   "metadata": {},
   "outputs": [],
   "source": [
    "prev_price = prev_price_element.contents[0] if prev_price_element else None"
   ]
  },
  {
   "cell_type": "code",
   "execution_count": 46,
   "id": "ce5f8253",
   "metadata": {},
   "outputs": [
    {
     "data": {
      "text/plain": [
       "'20.990'"
      ]
     },
     "execution_count": 46,
     "metadata": {},
     "output_type": "execute_result"
    }
   ],
   "source": [
    "prev_price"
   ]
  },
  {
   "cell_type": "code",
   "execution_count": 47,
   "id": "7d25b244",
   "metadata": {},
   "outputs": [],
   "source": [
    "def extract_prices(cell):\n",
    "    curr_price_element = cell.select_one(\".cena-box-naslovna\")\n",
    "    curr_price = curr_price_element.contents[0]\n",
    "    prev_price_element = cell.select_one(\".stara-cena-linija\")\n",
    "    prev_price = prev_price_element.contents[0] if prev_price_element else None\n",
    "    return {\"curr_price\": curr_price, \"prev_price\": prev_price}"
   ]
  },
  {
   "cell_type": "code",
   "execution_count": 48,
   "id": "48c01c25",
   "metadata": {},
   "outputs": [
    {
     "data": {
      "text/plain": [
       "{'curr_price': '17.990', 'prev_price': '20.990'}"
      ]
     },
     "execution_count": 48,
     "metadata": {},
     "output_type": "execute_result"
    }
   ],
   "source": [
    "extract_prices(cells[0])"
   ]
  },
  {
   "cell_type": "markdown",
   "id": "6a9b56ad",
   "metadata": {},
   "source": [
    "Here, we combine all the previously defined helper functions to extract all relevant data for each product cell. We then transform this data into a list of dictionaries, where each dictionary represents a product with its details."
   ]
  },
  {
   "cell_type": "code",
   "execution_count": 49,
   "id": "3681892f",
   "metadata": {},
   "outputs": [],
   "source": [
    "def extract_cell_data(cell):\n",
    "    dictionary = {}\n",
    "\n",
    "    manufacturer_details = extract_brand_and_model(cell)\n",
    "    dictionary.update(manufacturer_details)\n",
    "\n",
    "    info = extract_properties(cell)\n",
    "    dictionary.update(info)\n",
    "\n",
    "    price = extract_prices(cell)\n",
    "    dictionary.update(price)\n",
    "\n",
    "    return dictionary"
   ]
  },
  {
   "cell_type": "code",
   "execution_count": 50,
   "id": "ab0643c3",
   "metadata": {},
   "outputs": [],
   "source": [
    "data = []\n",
    "for cell in cells:\n",
    "    data.append(extract_cell_data(cell))"
   ]
  },
  {
   "cell_type": "code",
   "execution_count": 51,
   "id": "76a62c08",
   "metadata": {},
   "outputs": [
    {
     "data": {
      "text/plain": [
       "[{'brand': 'VIVAX',\n",
       "  'model': 'ACP-12CH35AEFIs R32',\n",
       "  'type': 'ИНВЕРТЕР СПЛИТ СИСТЕМ',\n",
       "  'energy_class': 'A++',\n",
       "  'power': '3517/3810 W',\n",
       "  'temperature': 'ОД -10℃ ДО 50℃',\n",
       "  'area': 'ДО 30 м2',\n",
       "  'functions': 'Внесете свежина во вашите домашни и деловни простории и во најтешките летни денови!',\n",
       "  'guarantee': '5 ГОДИНИ',\n",
       "  'curr_price': '17.990',\n",
       "  'prev_price': '20.990'},\n",
       " {'brand': 'TESLA',\n",
       "  'model': 'CLASSIC TA36FFLL-1232IA',\n",
       "  'type': 'ИНВЕРТЕР СПЛИТ СИСТЕМ',\n",
       "  'energy_class': 'A++',\n",
       "  'power': '3400/3500 W',\n",
       "  'temperature': 'ОД -15℃ ДО 49℃',\n",
       "  'area': 'ДО 35 м2',\n",
       "  'functions': '/',\n",
       "  'guarantee': '3 ГОДИНИ',\n",
       "  'curr_price': '18.990',\n",
       "  'prev_price': None},\n",
       " {'brand': 'VIVAX',\n",
       "  'model': 'ACP-12CH35AEXIs R32',\n",
       "  'type': 'ИНВЕРТЕР СПЛИТ СИСТЕМ',\n",
       "  'energy_class': 'A++',\n",
       "  'power': '3520/3810 W',\n",
       "  'temperature': 'ОД -15℃ ДО 50℃',\n",
       "  'area': 'ДО 30 м2',\n",
       "  'functions': '/',\n",
       "  'guarantee': '5 ГОДИНИ',\n",
       "  'curr_price': '19.990',\n",
       "  'prev_price': '24.990'}]"
      ]
     },
     "execution_count": 51,
     "metadata": {},
     "output_type": "execute_result"
    }
   ],
   "source": [
    "data[:3]"
   ]
  },
  {
   "cell_type": "markdown",
   "id": "a21b7857",
   "metadata": {},
   "source": [
    "Now, we store the extracted data in a `pandas` data frame."
   ]
  },
  {
   "cell_type": "code",
   "execution_count": 52,
   "id": "4e46c3c4",
   "metadata": {},
   "outputs": [],
   "source": [
    "df = pd.DataFrame(data)"
   ]
  },
  {
   "cell_type": "code",
   "execution_count": 53,
   "id": "d1772380",
   "metadata": {},
   "outputs": [
    {
     "data": {
      "application/vnd.microsoft.datawrangler.viewer.v0+json": {
       "columns": [
        {
         "name": "index",
         "rawType": "int64",
         "type": "integer"
        },
        {
         "name": "brand",
         "rawType": "object",
         "type": "string"
        },
        {
         "name": "model",
         "rawType": "object",
         "type": "string"
        },
        {
         "name": "type",
         "rawType": "object",
         "type": "string"
        },
        {
         "name": "energy_class",
         "rawType": "object",
         "type": "string"
        },
        {
         "name": "power",
         "rawType": "object",
         "type": "string"
        },
        {
         "name": "temperature",
         "rawType": "object",
         "type": "string"
        },
        {
         "name": "area",
         "rawType": "object",
         "type": "string"
        },
        {
         "name": "functions",
         "rawType": "object",
         "type": "string"
        },
        {
         "name": "guarantee",
         "rawType": "object",
         "type": "string"
        },
        {
         "name": "curr_price",
         "rawType": "object",
         "type": "string"
        },
        {
         "name": "prev_price",
         "rawType": "object",
         "type": "unknown"
        }
       ],
       "ref": "891d5344-b063-4c8a-a641-3bffcbfeb6c8",
       "rows": [
        [
         "0",
         "VIVAX",
         "ACP-12CH35AEFIs R32",
         "ИНВЕРТЕР СПЛИТ СИСТЕМ",
         "A++",
         "3517/3810 W",
         "ОД -10℃ ДО 50℃",
         "ДО 30 м2",
         "Внесете свежина во вашите домашни и деловни простории и во најтешките летни денови!",
         "5 ГОДИНИ",
         "17.990",
         "20.990"
        ],
        [
         "1",
         "TESLA",
         "CLASSIC TA36FFLL-1232IA",
         "ИНВЕРТЕР СПЛИТ СИСТЕМ",
         "A++",
         "3400/3500 W",
         "ОД -15℃ ДО 49℃",
         "ДО 35 м2",
         "/",
         "3 ГОДИНИ",
         "18.990",
         null
        ],
        [
         "2",
         "VIVAX",
         "ACP-12CH35AEXIs R32",
         "ИНВЕРТЕР СПЛИТ СИСТЕМ",
         "A++",
         "3520/3810 W",
         "ОД -15℃ ДО 50℃",
         "ДО 30 м2",
         "/",
         "5 ГОДИНИ",
         "19.990",
         "24.990"
        ],
        [
         "3",
         "VIVAX",
         "ACP-09CH25AEQIS R32",
         "ИНВЕРТЕР СПЛИТ СИСТЕМ",
         "A++",
         "2638/2930 W",
         "ОД -15℃ ДО 50℃",
         "ДО 25 м2",
         "Висока ефикасност, прикажување на самодијагноза, индикатор за истекување на гасот за разладување, 1W standby, турбо, заштита на вентил на надворешна единица, интелегентно отопување, 12 Fan Speed, безшумна опција, двосмерен одвод на кондензат, дигитален екран.",
         "5 ГОДИНИ",
         "19.990",
         "22.990"
        ],
        [
         "4",
         "VIVAX",
         "ACP-09PT25AEG",
         "МОБИЛНИ КЛИМА УРЕДИ",
         "A",
         "2640 W",
         "ОД 17℃ ДО 35℃",
         "ДО 25 м2",
         "Тајмер, 3 стапки на проток на воздух, Рачно ракување, Повеќенасочни тркала.",
         "3 ГОДИНИ",
         "19.990",
         null
        ],
        [
         "5",
         "TOSOT",
         "MUSE PREMIUM TWH12AFBXB-K6DNA5A",
         "ИНВЕРТЕР СПЛИТ СИСТЕМ",
         "A++",
         "3200/3400 W",
         "ОД -15℃ ДО 43℃",
         "ДО 30 м2",
         "Произведено од GREE. Самодијагноза, интелегентно отопување, аuto restart, нормален sleep mode,тајмер, turbo",
         "3 ГОДИНИ",
         "19.990",
         "31.990"
        ],
        [
         "6",
         "VIVAX",
         "ACP-09CH25AEMIS R32",
         "ИНВЕРТЕР СПЛИТ СИСТЕМ",
         "A++",
         "2638/2930 W",
         "ОД -15℃ ДО 50℃",
         "ДО 25 м2",
         "Висока ефикасност, самодијагноза, 1W standby, заштита на вентил надворешна единица, 12 Fan Speed, self cleaning, индикатор за истекување на гасот за разладување, безшумна операција, двосмерен одвод на кондензат, дигитален екран, sleep mode, тајмер, интелегентно отопување, memory функција, турбо, припрема за Wi-Fi  ( WiFi ready )",
         "5 ГОДИНИ",
         "19.990",
         "24.990"
        ],
        [
         "7",
         "VIVAX",
         "ACP-12CH35AEQIS R32",
         "ИНВЕРТЕР СПЛИТ СИСТЕМ",
         "A++",
         "3517/3810 W",
         "ОД -15℃ ДО 50℃",
         "ДО 35 м2",
         "Висока ефикасност, прикажување на самодијагноза, индикатор за истекување на гасот за разладување, 1W standby, турбо, заштита на вентил на надворешна единица, интелегентно отопување, 12 Fan Speed, безшумна опција, двосмерен одвод на кондензат, дигитален екран.",
         "5 ГОДИНИ",
         "20.990",
         "25.990"
        ],
        [
         "8",
         "TESLA",
         "CLASSIC TT34EX21-1232IA",
         "ИНВЕРТЕР СПЛИТ СИСТЕМ",
         "A++",
         "3400/3420 W",
         "ОД -20℃ ДО 53℃",
         "ДО 35 м2",
         "/",
         "3 ГОДИНИ",
         "20.990",
         "25.990"
        ]
       ],
       "shape": {
        "columns": 11,
        "rows": 9
       }
      },
      "text/html": [
       "<div>\n",
       "<style scoped>\n",
       "    .dataframe tbody tr th:only-of-type {\n",
       "        vertical-align: middle;\n",
       "    }\n",
       "\n",
       "    .dataframe tbody tr th {\n",
       "        vertical-align: top;\n",
       "    }\n",
       "\n",
       "    .dataframe thead th {\n",
       "        text-align: right;\n",
       "    }\n",
       "</style>\n",
       "<table border=\"1\" class=\"dataframe\">\n",
       "  <thead>\n",
       "    <tr style=\"text-align: right;\">\n",
       "      <th></th>\n",
       "      <th>brand</th>\n",
       "      <th>model</th>\n",
       "      <th>type</th>\n",
       "      <th>energy_class</th>\n",
       "      <th>power</th>\n",
       "      <th>temperature</th>\n",
       "      <th>area</th>\n",
       "      <th>functions</th>\n",
       "      <th>guarantee</th>\n",
       "      <th>curr_price</th>\n",
       "      <th>prev_price</th>\n",
       "    </tr>\n",
       "  </thead>\n",
       "  <tbody>\n",
       "    <tr>\n",
       "      <th>0</th>\n",
       "      <td>VIVAX</td>\n",
       "      <td>ACP-12CH35AEFIs R32</td>\n",
       "      <td>ИНВЕРТЕР СПЛИТ СИСТЕМ</td>\n",
       "      <td>A++</td>\n",
       "      <td>3517/3810 W</td>\n",
       "      <td>ОД -10℃ ДО 50℃</td>\n",
       "      <td>ДО 30 м2</td>\n",
       "      <td>Внесете свежина во вашите домашни и деловни пр...</td>\n",
       "      <td>5 ГОДИНИ</td>\n",
       "      <td>17.990</td>\n",
       "      <td>20.990</td>\n",
       "    </tr>\n",
       "    <tr>\n",
       "      <th>1</th>\n",
       "      <td>TESLA</td>\n",
       "      <td>CLASSIC TA36FFLL-1232IA</td>\n",
       "      <td>ИНВЕРТЕР СПЛИТ СИСТЕМ</td>\n",
       "      <td>A++</td>\n",
       "      <td>3400/3500 W</td>\n",
       "      <td>ОД -15℃ ДО 49℃</td>\n",
       "      <td>ДО 35 м2</td>\n",
       "      <td>/</td>\n",
       "      <td>3 ГОДИНИ</td>\n",
       "      <td>18.990</td>\n",
       "      <td>None</td>\n",
       "    </tr>\n",
       "    <tr>\n",
       "      <th>2</th>\n",
       "      <td>VIVAX</td>\n",
       "      <td>ACP-12CH35AEXIs R32</td>\n",
       "      <td>ИНВЕРТЕР СПЛИТ СИСТЕМ</td>\n",
       "      <td>A++</td>\n",
       "      <td>3520/3810 W</td>\n",
       "      <td>ОД -15℃ ДО 50℃</td>\n",
       "      <td>ДО 30 м2</td>\n",
       "      <td>/</td>\n",
       "      <td>5 ГОДИНИ</td>\n",
       "      <td>19.990</td>\n",
       "      <td>24.990</td>\n",
       "    </tr>\n",
       "    <tr>\n",
       "      <th>3</th>\n",
       "      <td>VIVAX</td>\n",
       "      <td>ACP-09CH25AEQIS R32</td>\n",
       "      <td>ИНВЕРТЕР СПЛИТ СИСТЕМ</td>\n",
       "      <td>A++</td>\n",
       "      <td>2638/2930 W</td>\n",
       "      <td>ОД -15℃ ДО 50℃</td>\n",
       "      <td>ДО 25 м2</td>\n",
       "      <td>Висока ефикасност, прикажување на самодијагноз...</td>\n",
       "      <td>5 ГОДИНИ</td>\n",
       "      <td>19.990</td>\n",
       "      <td>22.990</td>\n",
       "    </tr>\n",
       "    <tr>\n",
       "      <th>4</th>\n",
       "      <td>VIVAX</td>\n",
       "      <td>ACP-09PT25AEG</td>\n",
       "      <td>МОБИЛНИ КЛИМА УРЕДИ</td>\n",
       "      <td>A</td>\n",
       "      <td>2640 W</td>\n",
       "      <td>ОД 17℃ ДО 35℃</td>\n",
       "      <td>ДО 25 м2</td>\n",
       "      <td>Тајмер, 3 стапки на проток на воздух, Рачно ра...</td>\n",
       "      <td>3 ГОДИНИ</td>\n",
       "      <td>19.990</td>\n",
       "      <td>None</td>\n",
       "    </tr>\n",
       "    <tr>\n",
       "      <th>5</th>\n",
       "      <td>TOSOT</td>\n",
       "      <td>MUSE PREMIUM TWH12AFBXB-K6DNA5A</td>\n",
       "      <td>ИНВЕРТЕР СПЛИТ СИСТЕМ</td>\n",
       "      <td>A++</td>\n",
       "      <td>3200/3400 W</td>\n",
       "      <td>ОД -15℃ ДО 43℃</td>\n",
       "      <td>ДО 30 м2</td>\n",
       "      <td>Произведено од GREE. Самодијагноза, интелегент...</td>\n",
       "      <td>3 ГОДИНИ</td>\n",
       "      <td>19.990</td>\n",
       "      <td>31.990</td>\n",
       "    </tr>\n",
       "    <tr>\n",
       "      <th>6</th>\n",
       "      <td>VIVAX</td>\n",
       "      <td>ACP-09CH25AEMIS R32</td>\n",
       "      <td>ИНВЕРТЕР СПЛИТ СИСТЕМ</td>\n",
       "      <td>A++</td>\n",
       "      <td>2638/2930 W</td>\n",
       "      <td>ОД -15℃ ДО 50℃</td>\n",
       "      <td>ДО 25 м2</td>\n",
       "      <td>Висока ефикасност, самодијагноза, 1W standby, ...</td>\n",
       "      <td>5 ГОДИНИ</td>\n",
       "      <td>19.990</td>\n",
       "      <td>24.990</td>\n",
       "    </tr>\n",
       "    <tr>\n",
       "      <th>7</th>\n",
       "      <td>VIVAX</td>\n",
       "      <td>ACP-12CH35AEQIS R32</td>\n",
       "      <td>ИНВЕРТЕР СПЛИТ СИСТЕМ</td>\n",
       "      <td>A++</td>\n",
       "      <td>3517/3810 W</td>\n",
       "      <td>ОД -15℃ ДО 50℃</td>\n",
       "      <td>ДО 35 м2</td>\n",
       "      <td>Висока ефикасност, прикажување на самодијагноз...</td>\n",
       "      <td>5 ГОДИНИ</td>\n",
       "      <td>20.990</td>\n",
       "      <td>25.990</td>\n",
       "    </tr>\n",
       "    <tr>\n",
       "      <th>8</th>\n",
       "      <td>TESLA</td>\n",
       "      <td>CLASSIC TT34EX21-1232IA</td>\n",
       "      <td>ИНВЕРТЕР СПЛИТ СИСТЕМ</td>\n",
       "      <td>A++</td>\n",
       "      <td>3400/3420 W</td>\n",
       "      <td>ОД -20℃ ДО 53℃</td>\n",
       "      <td>ДО 35 м2</td>\n",
       "      <td>/</td>\n",
       "      <td>3 ГОДИНИ</td>\n",
       "      <td>20.990</td>\n",
       "      <td>25.990</td>\n",
       "    </tr>\n",
       "  </tbody>\n",
       "</table>\n",
       "</div>"
      ],
      "text/plain": [
       "   brand                            model                   type energy_class  \\\n",
       "0  VIVAX              ACP-12CH35AEFIs R32  ИНВЕРТЕР СПЛИТ СИСТЕМ          A++   \n",
       "1  TESLA          CLASSIC TA36FFLL-1232IA  ИНВЕРТЕР СПЛИТ СИСТЕМ          A++   \n",
       "2  VIVAX              ACP-12CH35AEXIs R32  ИНВЕРТЕР СПЛИТ СИСТЕМ          A++   \n",
       "3  VIVAX              ACP-09CH25AEQIS R32  ИНВЕРТЕР СПЛИТ СИСТЕМ          A++   \n",
       "4  VIVAX                    ACP-09PT25AEG    МОБИЛНИ КЛИМА УРЕДИ            A   \n",
       "5  TOSOT  MUSE PREMIUM TWH12AFBXB-K6DNA5A  ИНВЕРТЕР СПЛИТ СИСТЕМ          A++   \n",
       "6  VIVAX              ACP-09CH25AEMIS R32  ИНВЕРТЕР СПЛИТ СИСТЕМ          A++   \n",
       "7  VIVAX              ACP-12CH35AEQIS R32  ИНВЕРТЕР СПЛИТ СИСТЕМ          A++   \n",
       "8  TESLA          CLASSIC TT34EX21-1232IA  ИНВЕРТЕР СПЛИТ СИСТЕМ          A++   \n",
       "\n",
       "         power     temperature      area  \\\n",
       "0  3517/3810 W  ОД -10℃ ДО 50℃  ДО 30 м2   \n",
       "1  3400/3500 W  ОД -15℃ ДО 49℃  ДО 35 м2   \n",
       "2  3520/3810 W  ОД -15℃ ДО 50℃  ДО 30 м2   \n",
       "3  2638/2930 W  ОД -15℃ ДО 50℃  ДО 25 м2   \n",
       "4       2640 W   ОД 17℃ ДО 35℃  ДО 25 м2   \n",
       "5  3200/3400 W  ОД -15℃ ДО 43℃  ДО 30 м2   \n",
       "6  2638/2930 W  ОД -15℃ ДО 50℃  ДО 25 м2   \n",
       "7  3517/3810 W  ОД -15℃ ДО 50℃  ДО 35 м2   \n",
       "8  3400/3420 W  ОД -20℃ ДО 53℃  ДО 35 м2   \n",
       "\n",
       "                                           functions guarantee curr_price  \\\n",
       "0  Внесете свежина во вашите домашни и деловни пр...  5 ГОДИНИ     17.990   \n",
       "1                                                  /  3 ГОДИНИ     18.990   \n",
       "2                                                  /  5 ГОДИНИ     19.990   \n",
       "3  Висока ефикасност, прикажување на самодијагноз...  5 ГОДИНИ     19.990   \n",
       "4  Тајмер, 3 стапки на проток на воздух, Рачно ра...  3 ГОДИНИ     19.990   \n",
       "5  Произведено од GREE. Самодијагноза, интелегент...  3 ГОДИНИ     19.990   \n",
       "6  Висока ефикасност, самодијагноза, 1W standby, ...  5 ГОДИНИ     19.990   \n",
       "7  Висока ефикасност, прикажување на самодијагноз...  5 ГОДИНИ     20.990   \n",
       "8                                                  /  3 ГОДИНИ     20.990   \n",
       "\n",
       "  prev_price  \n",
       "0     20.990  \n",
       "1       None  \n",
       "2     24.990  \n",
       "3     22.990  \n",
       "4       None  \n",
       "5     31.990  \n",
       "6     24.990  \n",
       "7     25.990  \n",
       "8     25.990  "
      ]
     },
     "execution_count": 53,
     "metadata": {},
     "output_type": "execute_result"
    }
   ],
   "source": [
    "df"
   ]
  },
  {
   "cell_type": "code",
   "execution_count": 54,
   "id": "7ac536e6",
   "metadata": {},
   "outputs": [
    {
     "data": {
      "text/plain": [
       "array(['VIVAX', 'TESLA', 'TOSOT'], dtype=object)"
      ]
     },
     "execution_count": 54,
     "metadata": {},
     "output_type": "execute_result"
    }
   ],
   "source": [
    "df[\"brand\"].unique()"
   ]
  },
  {
   "cell_type": "markdown",
   "id": "e294f13a",
   "metadata": {},
   "source": [
    "### Selenium\n",
    "\n",
    "Selenium with Python provides a powerful combination for automating web browsers, enabling tasks such as web scraping, automated testing, and general web automation."
   ]
  },
  {
   "cell_type": "markdown",
   "id": "285b55fc",
   "metadata": {},
   "source": [
    "Selenium can handle dynamic pages that load content with JavaScript, which `requests` cannot easily access. We import the necessary Selenium components and prepare to interact with the browser."
   ]
  },
  {
   "cell_type": "code",
   "execution_count": 55,
   "id": "874a84cb",
   "metadata": {},
   "outputs": [],
   "source": [
    "import time\n",
    "\n",
    "from selenium.webdriver import Chrome\n",
    "from selenium.webdriver.common.by import By"
   ]
  },
  {
   "cell_type": "code",
   "execution_count": 56,
   "id": "1d8982d1",
   "metadata": {},
   "outputs": [],
   "source": [
    "driver = Chrome()"
   ]
  },
  {
   "cell_type": "code",
   "execution_count": 57,
   "id": "fe568899",
   "metadata": {},
   "outputs": [],
   "source": [
    "driver.get(\"https://klimi.mk/\")"
   ]
  },
  {
   "cell_type": "markdown",
   "id": "926b1143",
   "metadata": {},
   "source": [
    "Here, we automate page scrolling using `selenium` in order to scroll to the end of the page and collect data for each product displayed of the page."
   ]
  },
  {
   "cell_type": "code",
   "execution_count": 58,
   "id": "6bec2f5c",
   "metadata": {},
   "outputs": [],
   "source": [
    "last_height = driver.execute_script(\"return document.body.scrollHeight;\")\n",
    "\n",
    "while True:\n",
    "    driver.execute_script(\"window.scrollTo(0, document.body.scrollHeight);\")\n",
    "\n",
    "    time.sleep(3)\n",
    "\n",
    "    new_height = driver.execute_script(\"return document.body.scrollHeight;\")\n",
    "\n",
    "    if new_height == last_height:\n",
    "        break\n",
    "    last_height = new_height"
   ]
  },
  {
   "cell_type": "code",
   "execution_count": 59,
   "id": "38523941",
   "metadata": {},
   "outputs": [],
   "source": [
    "grid_element = driver.find_element(By.CLASS_NAME, \"sodrzina-klimi-naslovna\")"
   ]
  },
  {
   "cell_type": "code",
   "execution_count": 60,
   "id": "0cbab476",
   "metadata": {},
   "outputs": [],
   "source": [
    "row_elements = grid_element.find_elements(By.CLASS_NAME, \"klimi-red\")"
   ]
  },
  {
   "cell_type": "code",
   "execution_count": 61,
   "id": "7425d217",
   "metadata": {},
   "outputs": [
    {
     "data": {
      "text/plain": [
       "33"
      ]
     },
     "execution_count": 61,
     "metadata": {},
     "output_type": "execute_result"
    }
   ],
   "source": [
    "len(row_elements)"
   ]
  },
  {
   "cell_type": "code",
   "execution_count": 62,
   "id": "17b012bf",
   "metadata": {},
   "outputs": [],
   "source": [
    "cell_elements = []\n",
    "for row_element in row_elements:\n",
    "    curr_cell_elements = row_element.find_elements(By.CLASS_NAME, \"klima-box\")\n",
    "    cell_elements.extend(curr_cell_elements)"
   ]
  },
  {
   "cell_type": "code",
   "execution_count": 63,
   "id": "3e4f10c4",
   "metadata": {},
   "outputs": [
    {
     "data": {
      "text/plain": [
       "286"
      ]
     },
     "execution_count": 63,
     "metadata": {},
     "output_type": "execute_result"
    }
   ],
   "source": [
    "len(cell_elements)"
   ]
  },
  {
   "cell_type": "code",
   "execution_count": 64,
   "id": "be733b94",
   "metadata": {},
   "outputs": [],
   "source": [
    "curr_price_element = cell_elements[0].find_element(By.CLASS_NAME, \"cena-box-naslovna\")"
   ]
  },
  {
   "cell_type": "code",
   "execution_count": 65,
   "id": "54599811",
   "metadata": {},
   "outputs": [],
   "source": [
    "curr_price = driver.execute_script(\n",
    "    \"return arguments[0].firstChild.nodeValue;\",\n",
    "    curr_price_element,\n",
    ")"
   ]
  },
  {
   "cell_type": "code",
   "execution_count": 66,
   "id": "dcda21ec",
   "metadata": {},
   "outputs": [
    {
     "data": {
      "text/plain": [
       "'17.990'"
      ]
     },
     "execution_count": 66,
     "metadata": {},
     "output_type": "execute_result"
    }
   ],
   "source": [
    "curr_price"
   ]
  },
  {
   "cell_type": "code",
   "execution_count": 67,
   "id": "49925d0e",
   "metadata": {},
   "outputs": [],
   "source": [
    "prev_price_element = cell_elements[0].find_element(By.CLASS_NAME, \"stara-cena-linija\")"
   ]
  },
  {
   "cell_type": "code",
   "execution_count": 68,
   "id": "7581e865",
   "metadata": {},
   "outputs": [],
   "source": [
    "prev_price = driver.execute_script(\n",
    "    \"return arguments[0].firstChild.nodeValue;\",\n",
    "    prev_price_element,\n",
    ")"
   ]
  },
  {
   "cell_type": "code",
   "execution_count": 69,
   "id": "71afc15e",
   "metadata": {},
   "outputs": [
    {
     "data": {
      "text/plain": [
       "'20.990'"
      ]
     },
     "execution_count": 69,
     "metadata": {},
     "output_type": "execute_result"
    }
   ],
   "source": [
    "prev_price"
   ]
  },
  {
   "cell_type": "code",
   "execution_count": 70,
   "id": "71e7bd9f",
   "metadata": {},
   "outputs": [
    {
     "name": "stdout",
     "output_type": "stream",
     "text": [
      "<div class=\"col-md-4 col-sm-6 klima-box   ramka-promo-cena  \">\n",
      "                                        <div class=\"header-box\">\n",
      "                                            <img src=\"https://klimi.mk/public/storage/proizvodi/1AF1VBpEoWQJPptxaOHpC7nWp6yYnPwlIDoB6awL.png\" alt=\"ACP-12CH35AEFIs R32\" class=\"image img-fluid slika-klima-box\">\n",
      "                                        </div>\n",
      "                    <div class=\"proizvoditel-model\">\n",
      "                        <img src=\"https://klimi.mk/public/storage/proizvoditeli/vivax-bw.png\" alt=\"VIVAX\" align=\"left\" class=\"logo-box-klima\">\n",
      "                        <span class=\"opis-model\">ACP-12CH35AEFIs R32</span>\n",
      "                    </div>\n",
      "                    <div class=\"osnovni-podatoci-div\">\n",
      "                        <span class=\"osnovni-info\"><b>ТИП</b>: ИНВЕРТЕР СПЛИТ СИСТЕМ</span>\n",
      "                                                    <span class=\"osnovni-info\"><b>ЕНЕРГЕТСКА КЛАСА</b>: A++ </span>\n",
      "                                                <span class=\"osnovni-info\"><b>МОЌНОСТ</b>: 3517/3810 W</span>\n",
      "                        <span class=\"osnovni-info\"><b>ГРЕЕЊЕ / ЛАДЕЊЕ</b>: ОД -10℃ ДО 50℃</span>\n",
      "                                                    <span class=\"osnovni-info\"><b>ПРЕПОРАЧАНА ПОВРШИНА</b>: <span style=\"color: #090037;\">ДО 30 м<sup>2</sup></span></span>\n",
      "                                                <span class=\"osnovni-info info-funkcii\" title=\"Внесете свежина во вашите домашни и деловни простории и во најтешките летни денови!\"><b>ФУНКЦИИ</b>: Внесете свежина во вашите домашни и деловни простории и во најтешките летни денови!</span>\n",
      "                                                    <span class=\"osnovni-info\"><b>ГАРАНЦИЈА</b>:<span style=\"color: #090037;\"> 5 ГОДИНИ</span></span>\n",
      "                                            </div>\n",
      "                                                                        <img src=\"https://klimi.mk/public/storage/main/promo-cena.png\" alt=\"\" class=\"img img-fluid promo-cena-new\">\n",
      "                            <div class=\"cena-div text-left\" style=\"display: -webkit-box;\">\n",
      "                                <span class=\"cena-box-naslovna\" style=\"color: #ffffff !important;\">17.990<sup>00</sup></span>\n",
      "                                <span class=\"stara-cena-linija\" style=\"color: #ffffff; font-size: 1.4em; position: relative; bottom: -24px;\">20.990<sup>00</sup></span>\n",
      "                            </div>\n",
      "                                                                <div class=\"co-md-12 kopcinja\">\n",
      "                        <a href=\"https://klimi.mk/product/599\" class=\"btn-poveke text-center\">ПОВЕЌЕ</a>\n",
      "                                                                                                                                                    <span class=\"btn-naracaj text-center naracaj\" ured-id=\"599\" data-idured=\"599\" style=\"color: #0489F3; background-color: #ffffff;\">НАРАЧАЈ</span>\n",
      "                                            </div>\n",
      "                </div>\n"
     ]
    }
   ],
   "source": [
    "print(cell_elements[0].get_attribute(\"outerHTML\"))"
   ]
  },
  {
   "cell_type": "code",
   "execution_count": 71,
   "id": "1a91fe9d",
   "metadata": {},
   "outputs": [],
   "source": [
    "data = []\n",
    "for cell_element in cell_elements:\n",
    "    outer_html = cell_element.get_attribute(\"outerHTML\")\n",
    "    soup = BeautifulSoup(outer_html, \"html.parser\")\n",
    "    data.append(extract_cell_data(soup))"
   ]
  },
  {
   "cell_type": "code",
   "execution_count": 72,
   "id": "f1096b04",
   "metadata": {},
   "outputs": [
    {
     "data": {
      "text/plain": [
       "[{'brand': 'VIVAX',\n",
       "  'model': 'ACP-12CH35AEFIs R32',\n",
       "  'type': 'ИНВЕРТЕР СПЛИТ СИСТЕМ',\n",
       "  'energy_class': 'A++',\n",
       "  'power': '3517/3810 W',\n",
       "  'temperature': 'ОД -10℃ ДО 50℃',\n",
       "  'area': 'ДО 30 м2',\n",
       "  'functions': 'Внесете свежина во вашите домашни и деловни простории и во најтешките летни денови!',\n",
       "  'guarantee': '5 ГОДИНИ',\n",
       "  'curr_price': '17.990',\n",
       "  'prev_price': '20.990'},\n",
       " {'brand': 'TESLA',\n",
       "  'model': 'CLASSIC TA36FFLL-1232IA',\n",
       "  'type': 'ИНВЕРТЕР СПЛИТ СИСТЕМ',\n",
       "  'energy_class': 'A++',\n",
       "  'power': '3400/3500 W',\n",
       "  'temperature': 'ОД -15℃ ДО 49℃',\n",
       "  'area': 'ДО 35 м2',\n",
       "  'functions': '/',\n",
       "  'guarantee': '3 ГОДИНИ',\n",
       "  'curr_price': '18.990',\n",
       "  'prev_price': None},\n",
       " {'brand': 'VIVAX',\n",
       "  'model': 'ACP-12CH35AEXIs R32',\n",
       "  'type': 'ИНВЕРТЕР СПЛИТ СИСТЕМ',\n",
       "  'energy_class': 'A++',\n",
       "  'power': '3520/3810 W',\n",
       "  'temperature': 'ОД -15℃ ДО 50℃',\n",
       "  'area': 'ДО 30 м2',\n",
       "  'functions': '/',\n",
       "  'guarantee': '5 ГОДИНИ',\n",
       "  'curr_price': '19.990',\n",
       "  'prev_price': '24.990'}]"
      ]
     },
     "execution_count": 72,
     "metadata": {},
     "output_type": "execute_result"
    }
   ],
   "source": [
    "data[:3]"
   ]
  },
  {
   "cell_type": "code",
   "execution_count": 73,
   "id": "37e9563f",
   "metadata": {},
   "outputs": [],
   "source": [
    "driver.quit()"
   ]
  },
  {
   "cell_type": "code",
   "execution_count": 74,
   "id": "56ef7253",
   "metadata": {},
   "outputs": [],
   "source": [
    "df = pd.DataFrame(data)"
   ]
  },
  {
   "cell_type": "code",
   "execution_count": 75,
   "id": "fc23c553",
   "metadata": {},
   "outputs": [
    {
     "data": {
      "application/vnd.microsoft.datawrangler.viewer.v0+json": {
       "columns": [
        {
         "name": "index",
         "rawType": "int64",
         "type": "integer"
        },
        {
         "name": "brand",
         "rawType": "object",
         "type": "string"
        },
        {
         "name": "model",
         "rawType": "object",
         "type": "string"
        },
        {
         "name": "type",
         "rawType": "object",
         "type": "string"
        },
        {
         "name": "energy_class",
         "rawType": "object",
         "type": "string"
        },
        {
         "name": "power",
         "rawType": "object",
         "type": "string"
        },
        {
         "name": "temperature",
         "rawType": "object",
         "type": "string"
        },
        {
         "name": "area",
         "rawType": "object",
         "type": "string"
        },
        {
         "name": "functions",
         "rawType": "object",
         "type": "string"
        },
        {
         "name": "guarantee",
         "rawType": "object",
         "type": "string"
        },
        {
         "name": "curr_price",
         "rawType": "object",
         "type": "string"
        },
        {
         "name": "prev_price",
         "rawType": "object",
         "type": "unknown"
        }
       ],
       "ref": "9efca52f-0fc4-4fdf-a6e7-5b200c86a25f",
       "rows": [
        [
         "0",
         "VIVAX",
         "ACP-12CH35AEFIs R32",
         "ИНВЕРТЕР СПЛИТ СИСТЕМ",
         "A++",
         "3517/3810 W",
         "ОД -10℃ ДО 50℃",
         "ДО 30 м2",
         "Внесете свежина во вашите домашни и деловни простории и во најтешките летни денови!",
         "5 ГОДИНИ",
         "17.990",
         "20.990"
        ],
        [
         "1",
         "TESLA",
         "CLASSIC TA36FFLL-1232IA",
         "ИНВЕРТЕР СПЛИТ СИСТЕМ",
         "A++",
         "3400/3500 W",
         "ОД -15℃ ДО 49℃",
         "ДО 35 м2",
         "/",
         "3 ГОДИНИ",
         "18.990",
         null
        ],
        [
         "2",
         "VIVAX",
         "ACP-12CH35AEXIs R32",
         "ИНВЕРТЕР СПЛИТ СИСТЕМ",
         "A++",
         "3520/3810 W",
         "ОД -15℃ ДО 50℃",
         "ДО 30 м2",
         "/",
         "5 ГОДИНИ",
         "19.990",
         "24.990"
        ],
        [
         "3",
         "VIVAX",
         "ACP-09CH25AEQIS R32",
         "ИНВЕРТЕР СПЛИТ СИСТЕМ",
         "A++",
         "2638/2930 W",
         "ОД -15℃ ДО 50℃",
         "ДО 25 м2",
         "Висока ефикасност, прикажување на самодијагноза, индикатор за истекување на гасот за разладување, 1W standby, турбо, заштита на вентил на надворешна единица, интелегентно отопување, 12 Fan Speed, безшумна опција, двосмерен одвод на кондензат, дигитален екран.",
         "5 ГОДИНИ",
         "19.990",
         "22.990"
        ],
        [
         "4",
         "VIVAX",
         "ACP-09PT25AEG",
         "МОБИЛНИ КЛИМА УРЕДИ",
         "A",
         "2640 W",
         "ОД 17℃ ДО 35℃",
         "ДО 25 м2",
         "Тајмер, 3 стапки на проток на воздух, Рачно ракување, Повеќенасочни тркала.",
         "3 ГОДИНИ",
         "19.990",
         null
        ],
        [
         "5",
         "TOSOT",
         "MUSE PREMIUM TWH12AFBXB-K6DNA5A",
         "ИНВЕРТЕР СПЛИТ СИСТЕМ",
         "A++",
         "3200/3400 W",
         "ОД -15℃ ДО 43℃",
         "ДО 30 м2",
         "Произведено од GREE. Самодијагноза, интелегентно отопување, аuto restart, нормален sleep mode,тајмер, turbo",
         "3 ГОДИНИ",
         "19.990",
         "31.990"
        ],
        [
         "6",
         "VIVAX",
         "ACP-09CH25AEMIS R32",
         "ИНВЕРТЕР СПЛИТ СИСТЕМ",
         "A++",
         "2638/2930 W",
         "ОД -15℃ ДО 50℃",
         "ДО 25 м2",
         "Висока ефикасност, самодијагноза, 1W standby, заштита на вентил надворешна единица, 12 Fan Speed, self cleaning, индикатор за истекување на гасот за разладување, безшумна операција, двосмерен одвод на кондензат, дигитален екран, sleep mode, тајмер, интелегентно отопување, memory функција, турбо, припрема за Wi-Fi  ( WiFi ready )",
         "5 ГОДИНИ",
         "19.990",
         "24.990"
        ],
        [
         "7",
         "VIVAX",
         "ACP-12CH35AEQIS R32",
         "ИНВЕРТЕР СПЛИТ СИСТЕМ",
         "A++",
         "3517/3810 W",
         "ОД -15℃ ДО 50℃",
         "ДО 35 м2",
         "Висока ефикасност, прикажување на самодијагноза, индикатор за истекување на гасот за разладување, 1W standby, турбо, заштита на вентил на надворешна единица, интелегентно отопување, 12 Fan Speed, безшумна опција, двосмерен одвод на кондензат, дигитален екран.",
         "5 ГОДИНИ",
         "20.990",
         "25.990"
        ],
        [
         "8",
         "TESLA",
         "CLASSIC TT34EX21-1232IA",
         "ИНВЕРТЕР СПЛИТ СИСТЕМ",
         "A++",
         "3400/3420 W",
         "ОД -20℃ ДО 53℃",
         "ДО 35 м2",
         "/",
         "3 ГОДИНИ",
         "20.990",
         "25.990"
        ],
        [
         "9",
         "VIVAX",
         "ACP-12CH35AEMIS R32",
         "ИНВЕРТЕР СПЛИТ СИСТЕМ",
         "A++",
         "3517/3810 W",
         "ОД -15℃ ДО 50℃",
         "ДО 35 м2",
         "-ГРАТИС WI-FI МОДУЛ!\nВисока ефикасност, самодијагноза, 1W standby, заштита на вентил надворешна единица, висока ефикасност, 12 Fan Speed, self cleaning, индикатор за истекување на гасот за разладување, безшумна операција, двосмерен одвод на кондензат, дигитален екран, sleep mode, тајмер, интелегентно отопување, memory функција, турбо.",
         "5 ГОДИНИ",
         "21.990",
         "27.990"
        ],
        [
         "10",
         "TESLA",
         "SELECT TT34EX81-1232IAW",
         "ИНВЕРТЕР СПЛИТ СИСТЕМ",
         "A++",
         "3400/3420 W",
         "ОД -20℃ ДО 53℃",
         "ДО 35 м2",
         "/",
         "3 ГОДИНИ",
         "21.990",
         "26.990"
        ],
        [
         "11",
         "TESLA",
         "PORTABLE TTMYW-12CHW",
         "МОБИЛНИ КЛИМА УРЕДИ",
         "A",
         "3200/2900 W",
         "ОД 0℃ ДО 0℃",
         "ДО 30 м2",
         "/",
         "3 ГОДИНИ",
         "22.990",
         null
        ],
        [
         "12",
         "TESLA",
         "SELECT STYLE TT34EX82BM-1232IAW",
         "ИНВЕРТЕР СПЛИТ СИСТЕМ",
         "A++",
         "3400/3420 W",
         "ОД -20℃ ДО 53℃",
         "ДО 35 м2",
         "Стерилизација на 56°C",
         "3 ГОДИНИ",
         "22.990",
         null
        ],
        [
         "13",
         "TESLA",
         "SELECT STYLE TT34EX82SM-1232IAW",
         "ИНВЕРТЕР СПЛИТ СИСТЕМ",
         "A++",
         "3400/3420 W",
         "ОД -20℃ ДО 53℃",
         "ДО 35 м2",
         "Стерилизација на 56°C",
         "3 ГОДИНИ",
         "22.990",
         null
        ],
        [
         "14",
         "GREE",
         "Charmo Premium GWH12ATBXB-K6DNA1D",
         "ИНВЕРТЕР СПЛИТ СИСТЕМ",
         "A++",
         "3200/3400 W",
         "ОД -15℃ ДО 43℃",
         "ДО 30 м2",
         "GREE компресор со магнети од ретки метали (Rare Earth Magnet)\nФункции",
         "10 ГОДИНИ",
         "22.990",
         "26.990"
        ],
        [
         "15",
         "TCL",
         "Elite Lite TAC-12CHSD/XA73IF",
         "ИНВЕРТЕР СПЛИТ СИСТЕМ",
         "A++",
         "3400/3420 W",
         "ОД -20℃ ДО 53℃",
         "ДО 35 м2",
         "/",
         "3 ГОДИНИ",
         "22.990",
         "25.990"
        ],
        [
         "16",
         "VIVAX",
         "ACP-12CH35AENI R32",
         "ИНВЕРТЕР СПЛИТ СИСТЕМ",
         "A++",
         "3517/3810 W",
         "ОД -20℃ ДО 50℃",
         "ДО 35 м2",
         "/",
         "5 ГОДИНИ",
         "22.990",
         "27.990"
        ],
        [
         "17",
         "TESLA",
         "PORTABLE TTMYB-12CHW",
         "МОБИЛНИ КЛИМА УРЕДИ",
         "A",
         "3200/2900 W",
         "ОД 0℃ ДО 0℃",
         "ДО 30 м2",
         "/",
         "3 ГОДИНИ",
         "23.590",
         null
        ],
        [
         "18",
         "AUX",
         "Gentle Breeze ASW-H09B5C4/CAR3DI-C3",
         "ИНВЕРТЕР СПЛИТ СИСТЕМ",
         "A++",
         "2700/3200 W",
         "ОД -25℃ ДО 52℃",
         "ДО 25 м2",
         "A++ / A+++ висока енергетска класа при ладење / греење (топла зона)\nDC Hybrid inverter  технологија\nSOFT AIR микро отвори за безосетно ладење\nвграден WiFi уред за постојана контрола \nI FEEL опција со далечинско како термостат, VOICE Control, 4D Wind, UVC дезинфекција\nгреач во када на надворешната единица против мрзнење\nопсег на работа ладење – надворешна температура од 15 ÷ 52oC\nопсег на работа греење – надворешна температура од -25 ÷ 24oC",
         "5 ГОДИНИ",
         "23.990",
         null
        ],
        [
         "19",
         "VIVAX",
         "ACP-12PT35AEFs",
         "МОБИЛНИ КЛИМА УРЕДИ",
         "A",
         "3517 W",
         "ОД 0℃ ДО 0℃",
         "ДО 35 м2",
         "0.5 W standby, мemory функција (auto-restart), аnti cool air design, oдвлажнување, тајмер, sleep mode, led display, прикажување на само дијагноза, повеќенасочни позиции, самоиспарувачки систем.",
         "3 ГОДИНИ",
         "23.990",
         null
        ],
        [
         "20",
         "HISENSE",
         "EASY SMART CA35YR03G-CA35YR03W",
         "ИНВЕРТЕР СПЛИТ СИСТЕМ",
         "A++",
         "3400/3800 W",
         "ОД -20℃ ДО 43℃",
         "ДО 35 м2",
         "5 години гаранција на компресор ( 16.10.2025-31.10.2025 ) со регистрација на  https",
         "2 ( 5 години на компресор ) ГОДИНИ",
         "23.990",
         "28.990"
        ],
        [
         "21",
         "TESLA",
         "ADVANCE TA36QQCT-1232IAWT",
         "ИНВЕРТЕР СПЛИТ СИСТЕМ",
         "A++",
         "3500/3800 W",
         "ОД -25℃ ДО 49℃",
         "ДО 35 м2",
         "Функција против создавање на мувла и габи \nФункција против ‘рѓа \nСтерилизација на 56°C",
         "3 ГОДИНИ",
         "24.990",
         null
        ],
        [
         "22",
         "AUX",
         "Gentle Breeze ASW-H12C5A4/CAR3DI-B8",
         "ИНВЕРТЕР СПЛИТ СИСТЕМ",
         "A++",
         "3500/3800 W",
         "ОД -25℃ ДО 52℃",
         "ДО 35 м2",
         "A++ / A+++ висока енергетска класа при ладење / греење (топла зона)\nDC Hybrid inverter  технологија\nSOFT AIR микро отвори за безосетно ладење\nвграден WiFi уред за постојана контрола \nI FEEL опција со далечинско како термостат, VOICE Control, 4D Wind, UVC дезинфекција\nгреач во када на надворешната единица против мрзнење\nопсег на работа ладење – надворешна температура од 15 ÷ 52oC\nопсег на работа греење – надворешна температура од -25 ÷ 24oC",
         "5 ГОДИНИ",
         "24.990",
         null
        ],
        [
         "23",
         "TESLA",
         "ADVANCE TT34TP81-1232IAWT",
         "ИНВЕРТЕР СПЛИТ СИСТЕМ",
         "A++",
         "3500/3620 W",
         "ОД -25℃ ДО 53℃",
         "ДО 35 м2",
         "UV lamp",
         "3 ГОДИНИ",
         "24.990",
         "28.990"
        ],
        [
         "24",
         "TESLA",
         "ADVANCE TT34TP81-1232IHWT",
         "ИНВЕРТЕР СПЛИТ СИСТЕМ",
         "A+++",
         "3520/3860 W",
         "ОД -25℃ ДО 52℃",
         "ДО 35 м2",
         "Функција против создавање на мувла и габи \nФункција против ‘рѓа \nСтерилизација на 56°C",
         "3 ГОДИНИ",
         "25.990",
         null
        ],
        [
         "25",
         "GREE",
         "PULAR PREMIUM GWH07AGA-K6DNA1A",
         "ИНВЕРТЕР СПЛИТ СИСТЕМ",
         "A++",
         "2200/2400 W",
         "ОД -15℃ ДО 43℃",
         "ДО 20 м2",
         "/",
         "10 ГОДИНИ",
         "25.990",
         "29.990"
        ],
        [
         "26",
         "HAIER",
         "AS25RHBHRA / 1U25YERFRA Revive",
         "ИНВЕРТЕР СПЛИТ СИСТЕМ",
         "A++",
         "2500/2800 W",
         "ОД -15℃ ДО 43℃",
         "ДО 25 м2",
         "- Фабрички вграден hOn Wi-Fi\n- Tивок режим на работа (18dB)\n- Coanda Plus технологија за рамномерна дистрибуција на воздухот\n- Super Quiet mode, Comfortable sleep mode, Aнтибактериски филтер\n- Модерниот дизајн дава можност за многу брза и прецизна инсталација",
         "3 ГОДИНИ",
         "25.990",
         null
        ],
        [
         "27",
         "VIVAX",
         "ACP-12PT35AEHs",
         "МОБИЛНИ КЛИМА УРЕДИ",
         "A+",
         "3500/2900 W",
         "ОД 5℃ ДО 35℃",
         "ДО 35 м2",
         "0.5 W standby, memory функција (auto-restart), anti cool air design, oдвлажнување, тајмер, sleep mode, led display, прикажување на само диагноза, повеќенасочни позиции, самоиспарувачки систем.",
         "3 ГОДИНИ",
         "25.990",
         null
        ],
        [
         "28",
         "HAIER",
         "AS35RHBHRA / 1U35YERFRA Revive",
         "ИНВЕРТЕР СПЛИТ СИСТЕМ",
         "A++",
         "3200/3400 W",
         "ОД -15℃ ДО 43℃",
         "ДО 35 м2",
         "- Фабрички вграден hOn Wi-Fi - Tивок режим на работа (18dB) - Coanda Plus технологија за рамномерна дистрибуција на воздухот - Super Quiet mode, Comfortable sleep mode, Aнтибактериски филтер - Модерниот дизајн дава можност за многу брза и прецизна инсталација",
         "3 ГОДИНИ",
         "26.990",
         "32.000"
        ],
        [
         "29",
         "GREE",
         "Charmo Arctic PRO II GWH09ATCXB-K6DNA4A",
         "ИНВЕРТЕР СПЛИТ СИСТЕМ",
         "A++",
         "2700/3000 W",
         "ОД -25℃ ДО 50℃",
         "ДО 25 м2",
         "Функции",
         "10 ГОДИНИ",
         "26.990",
         "29.990"
        ],
        [
         "30",
         "GREE",
         "PULAR PREMIUM GWH09AGA-K6DNA1A",
         "ИНВЕРТЕР СПЛИТ СИСТЕМ",
         "A++",
         "2500/2800 W",
         "ОД -15℃ ДО 43℃",
         "ДО 25 м2",
         "/",
         "10 ГОДИНИ",
         "26.990",
         "31.990"
        ],
        [
         "31",
         "TESLA",
         "ADVANCE TT34TP91-1232IHWT",
         "ИНВЕРТЕР СПЛИТ СИСТЕМ",
         "A+++",
         "3510/3800 W",
         "ОД -25℃ ДО 53℃",
         "ДО 35 м2",
         "UV lamp",
         "3 ГОДИНИ",
         "26.990",
         null
        ],
        [
         "32",
         "HISENSE",
         "WINGS PRO KB35YR3EG-KB35YR3EW",
         "ИНВЕРТЕР СПЛИТ СИСТЕМ",
         "A++",
         "3400/3800 W",
         "ОД -20℃ ДО 43℃",
         "ДО 35 м2",
         "5 години гаранција на компресор ( 16.10.2025-31.10.2025 ) со регистрација на  https",
         "2 ( 5 години на компресор ) ГОДИНИ",
         "26.990",
         "32.990"
        ],
        [
         "33",
         "BOSCH",
         "CLIMATE 2000 26 WE",
         "ИНВЕРТЕР СПЛИТ СИСТЕМ",
         "A++",
         "2600/2900 W",
         "ОД -15℃ ДО 50℃",
         "ДО 25 м2",
         "- Внатрешната единица може да работи исклучително тивко со ниво на бучавост од само 21 dB(A)\n- Филтрите со висока густина и филтрите со ладен катализатор ја отстрануваат прашината и поленот од просторијата до 80%\n- Комбинацијата на вертикални и хоризонтални перки за вентилација обезбедува рамномерна распределба на протокот на воздух",
         "3 ГОДИНИ",
         "27.900",
         "35.900"
        ],
        [
         "34",
         "GREE",
         "FAIRY PREMIUM GWH12ACC-K6DNA1F",
         "ИНВЕРТЕР СПЛИТ СИСТЕМ",
         "A++",
         "3510/3810 W",
         "ОД -25℃ ДО 50℃",
         "ДО 35 м2",
         "SMART DC Инвертер со G10 технологија, патент на ГРЕЕ\nGREE компресор со магнети од ретки метали (Rare Earth Magnet)\nEEV – Eлектронски експанзионен вентил, Грејач на тацна за одмрзнување на кондензат\nФункции",
         "10 ГОДИНИ",
         "27.990",
         "39.990"
        ],
        [
         "35",
         "GREE",
         "FAIRY PREMIUM Black GWH12ACC-K6DNA1F",
         "ИНВЕРТЕР СПЛИТ СИСТЕМ",
         "A++",
         "3510/3810 W",
         "ОД -25℃ ДО 50℃",
         "ДО 35 м2",
         "SMART DC Инвертер со G10 технологија, патент на ГРЕЕ GREE компресор со магнети од ретки метали (Rare Earth Magnet) EEV – Eлектронски експанзионен вентил, Грејач на тацна за одмрзнување на кондензат Функции",
         "10 ГОДИНИ",
         "27.990",
         "41.990"
        ],
        [
         "36",
         "VIVAX",
         "ACP-09CH25AERI+ R32",
         "ИНВЕРТЕР СПЛИТ СИСТЕМ",
         "A+++",
         "2638/2931 W",
         "ОД -25℃ ДО 50℃",
         "ДО 25 м2",
         "/",
         "5 ГОДИНИ",
         "27.990",
         "33.990"
        ],
        [
         "37",
         "VIVAX",
         "ACP-12CH35AERI+ R32",
         "ИНВЕРТЕР СПЛИТ СИСТЕМ",
         "A+++",
         "3517/3810 W",
         "ОД -25℃ ДО 50℃",
         "ДО 35 м2",
         "/",
         "5 ГОДИНИ",
         "27.990",
         "36.990"
        ],
        [
         "38",
         "VIVAX",
         "ACP-09CH25AERI+ R32 Gold",
         "ИНВЕРТЕР СПЛИТ СИСТЕМ",
         "A+++",
         "2638/2931 W",
         "ОД -25℃ ДО 50℃",
         "ДО 25 м2",
         "/",
         "5 ГОДИНИ",
         "27.990",
         "33.990"
        ],
        [
         "39",
         "VIVAX",
         "ACP-09CH25AERI+ R32 Silver",
         "ИНВЕРТЕР СПЛИТ СИСТЕМ",
         "A+++",
         "2638/2931 W",
         "ОД -25℃ ДО 50℃",
         "ДО 25 м2",
         "/",
         "5 ГОДИНИ",
         "27.990",
         "33.990"
        ],
        [
         "40",
         "TOSOT",
         "MUSE EXTREME LCLH TWH12AFC-K6DNA5F",
         "ИНВЕРТЕР СПЛИТ СИСТЕМ",
         "A++",
         "3510/3810 W",
         "ОД -25℃ ДО 50℃",
         "ДО 35 м2",
         "Произведено од GREE. Самодијагноза, интелегентно отопување, аuto restart, I Feel фунција, нормален sleep mode,тајмер, turbo",
         "3 ГОДИНИ",
         "27.990",
         "37.990"
        ],
        [
         "41",
         "HAIER",
         "TIDE PLUS AS25THMHRA-C/1U25YEFFRA-C",
         "ИНВЕРТЕР СПЛИТ СИСТЕМ",
         "A++",
         "2600/2800 W",
         "ОД -15℃ ДО 43℃",
         "ДО 25 м2",
         "DC Inverter технологија со Intelligent Air, функција на самочистење и самодијагностицирање, можност за Wi-Fi управување, Auto-restart, 24h тајмер, оптимизиран дизајн на вентилаторот.",
         "3 ГОДИНИ",
         "27.990",
         "31.990"
        ],
        [
         "42",
         "HAIER",
         "TUNDRA PLUS AS25TAEHRA-THC/1U25YEFFRA-1",
         "ИНВЕРТЕР СПЛИТ СИСТЕМ",
         "A++",
         "2600/2900 W",
         "ОД -15℃ ДО 43℃",
         "ДО 25 м2",
         "180° sine wave DC Inverter технологија со IntelligentAir, Super Quiet mode, Comfortable sleep mode - режими на работа , Eurovent сертификат, можност за Wi-Fi управување, функција на самочистење и самодијагностицирање, Auto-restart, 24hтајмер.",
         "3 ГОДИНИ",
         "27.990",
         "36.990"
        ],
        [
         "43",
         "HAIER",
         "TUNDRA GREEN AS25TADHRA-CL/1U25BEЕFRA",
         "ИНВЕРТЕР СПЛИТ СИСТЕМ",
         "A++",
         "2600/2900 W",
         "ОД -15℃ ДО 43℃",
         "ДО 25 м2",
         "180° sine wave DC Inverter технологија со IntelligentAir, Super Quiet mode, Comfortable sleep mode - режими на работа \n, Eurovent сертификат, можност за Wi-Fi управување, функција на самочистење и самодијагностицирање, Auto-restart, 24hтајмер.",
         "3 ГОДИНИ",
         "27.990",
         "33.990"
        ],
        [
         "44",
         "GREE",
         "Charmo Arctic PRO II GWH12ATCXB-K6DNA4A",
         "ИНВЕРТЕР СПЛИТ СИСТЕМ",
         "A++",
         "3510/3810 W",
         "ОД -25℃ ДО 50℃",
         "ДО 35 м2",
         "Функции",
         "10 ГОДИНИ",
         "27.990",
         "30.990"
        ],
        [
         "45",
         "GREE",
         "PULAR PREMIUM GWH12AGC-K6DNA1A",
         "ИНВЕРТЕР СПЛИТ СИСТЕМ",
         "A++",
         "3200/3400 W",
         "ОД -15℃ ДО 43℃",
         "ДО 30 м2",
         "/",
         "10 ГОДИНИ",
         "27.990",
         "33.990"
        ],
        [
         "46",
         "TESLA",
         "STANDARD TT51X81-18410A",
         "СТАНДАРД СПЛИТ СИСТЕМ",
         "A",
         "4990/5310 W",
         "ОД -7℃ ДО 43℃",
         "ДО 55 м2",
         "/",
         "3 ГОДИНИ",
         "28.990",
         "29.990"
        ],
        [
         "47",
         "VIVAX",
         "ACP-12CH35AERI+ R32 Red",
         "ИНВЕРТЕР СПЛИТ СИСТЕМ",
         "A+++",
         "3517/3810 W",
         "ОД -25℃ ДО 50℃",
         "ДО 35 м2",
         "/",
         "5 ГОДИНИ",
         "29.990",
         "36.990"
        ],
        [
         "48",
         "VIVAX",
         "ACP-12CH35AERI+ R32 Silver",
         "ИНВЕРТЕР СПЛИТ СИСТЕМ",
         "A+++",
         "3517/3810 W",
         "ОД -25℃ ДО 50℃",
         "ДО 35 м2",
         "/",
         "5 ГОДИНИ",
         "29.990",
         "36.990"
        ],
        [
         "49",
         "VIVAX",
         "ACP-12CH35AERI+ R32 Gold",
         "ИНВЕРТЕР СПЛИТ СИСТЕМ",
         "A+++",
         "3517/3810 W",
         "ОД -25℃ ДО 50℃",
         "ДО 35 м2",
         "/",
         "5 ГОДИНИ",
         "29.990",
         "36.990"
        ]
       ],
       "shape": {
        "columns": 11,
        "rows": 286
       }
      },
      "text/html": [
       "<div>\n",
       "<style scoped>\n",
       "    .dataframe tbody tr th:only-of-type {\n",
       "        vertical-align: middle;\n",
       "    }\n",
       "\n",
       "    .dataframe tbody tr th {\n",
       "        vertical-align: top;\n",
       "    }\n",
       "\n",
       "    .dataframe thead th {\n",
       "        text-align: right;\n",
       "    }\n",
       "</style>\n",
       "<table border=\"1\" class=\"dataframe\">\n",
       "  <thead>\n",
       "    <tr style=\"text-align: right;\">\n",
       "      <th></th>\n",
       "      <th>brand</th>\n",
       "      <th>model</th>\n",
       "      <th>type</th>\n",
       "      <th>energy_class</th>\n",
       "      <th>power</th>\n",
       "      <th>temperature</th>\n",
       "      <th>area</th>\n",
       "      <th>functions</th>\n",
       "      <th>guarantee</th>\n",
       "      <th>curr_price</th>\n",
       "      <th>prev_price</th>\n",
       "    </tr>\n",
       "  </thead>\n",
       "  <tbody>\n",
       "    <tr>\n",
       "      <th>0</th>\n",
       "      <td>VIVAX</td>\n",
       "      <td>ACP-12CH35AEFIs R32</td>\n",
       "      <td>ИНВЕРТЕР СПЛИТ СИСТЕМ</td>\n",
       "      <td>A++</td>\n",
       "      <td>3517/3810 W</td>\n",
       "      <td>ОД -10℃ ДО 50℃</td>\n",
       "      <td>ДО 30 м2</td>\n",
       "      <td>Внесете свежина во вашите домашни и деловни пр...</td>\n",
       "      <td>5 ГОДИНИ</td>\n",
       "      <td>17.990</td>\n",
       "      <td>20.990</td>\n",
       "    </tr>\n",
       "    <tr>\n",
       "      <th>1</th>\n",
       "      <td>TESLA</td>\n",
       "      <td>CLASSIC TA36FFLL-1232IA</td>\n",
       "      <td>ИНВЕРТЕР СПЛИТ СИСТЕМ</td>\n",
       "      <td>A++</td>\n",
       "      <td>3400/3500 W</td>\n",
       "      <td>ОД -15℃ ДО 49℃</td>\n",
       "      <td>ДО 35 м2</td>\n",
       "      <td>/</td>\n",
       "      <td>3 ГОДИНИ</td>\n",
       "      <td>18.990</td>\n",
       "      <td>None</td>\n",
       "    </tr>\n",
       "    <tr>\n",
       "      <th>2</th>\n",
       "      <td>VIVAX</td>\n",
       "      <td>ACP-12CH35AEXIs R32</td>\n",
       "      <td>ИНВЕРТЕР СПЛИТ СИСТЕМ</td>\n",
       "      <td>A++</td>\n",
       "      <td>3520/3810 W</td>\n",
       "      <td>ОД -15℃ ДО 50℃</td>\n",
       "      <td>ДО 30 м2</td>\n",
       "      <td>/</td>\n",
       "      <td>5 ГОДИНИ</td>\n",
       "      <td>19.990</td>\n",
       "      <td>24.990</td>\n",
       "    </tr>\n",
       "    <tr>\n",
       "      <th>3</th>\n",
       "      <td>VIVAX</td>\n",
       "      <td>ACP-09CH25AEQIS R32</td>\n",
       "      <td>ИНВЕРТЕР СПЛИТ СИСТЕМ</td>\n",
       "      <td>A++</td>\n",
       "      <td>2638/2930 W</td>\n",
       "      <td>ОД -15℃ ДО 50℃</td>\n",
       "      <td>ДО 25 м2</td>\n",
       "      <td>Висока ефикасност, прикажување на самодијагноз...</td>\n",
       "      <td>5 ГОДИНИ</td>\n",
       "      <td>19.990</td>\n",
       "      <td>22.990</td>\n",
       "    </tr>\n",
       "    <tr>\n",
       "      <th>4</th>\n",
       "      <td>VIVAX</td>\n",
       "      <td>ACP-09PT25AEG</td>\n",
       "      <td>МОБИЛНИ КЛИМА УРЕДИ</td>\n",
       "      <td>A</td>\n",
       "      <td>2640 W</td>\n",
       "      <td>ОД 17℃ ДО 35℃</td>\n",
       "      <td>ДО 25 м2</td>\n",
       "      <td>Тајмер, 3 стапки на проток на воздух, Рачно ра...</td>\n",
       "      <td>3 ГОДИНИ</td>\n",
       "      <td>19.990</td>\n",
       "      <td>None</td>\n",
       "    </tr>\n",
       "    <tr>\n",
       "      <th>...</th>\n",
       "      <td>...</td>\n",
       "      <td>...</td>\n",
       "      <td>...</td>\n",
       "      <td>...</td>\n",
       "      <td>...</td>\n",
       "      <td>...</td>\n",
       "      <td>...</td>\n",
       "      <td>...</td>\n",
       "      <td>...</td>\n",
       "      <td>...</td>\n",
       "      <td>...</td>\n",
       "    </tr>\n",
       "    <tr>\n",
       "      <th>281</th>\n",
       "      <td>VIVAX</td>\n",
       "      <td>ACP-55DT160AERI+ R32</td>\n",
       "      <td>КАНАЛНИ СИСТЕМИ</td>\n",
       "      <td>A++</td>\n",
       "      <td>15240/18170 W</td>\n",
       "      <td>ОД -20℃ ДО 50℃</td>\n",
       "      <td>ДО 170 м2</td>\n",
       "      <td>/</td>\n",
       "      <td>5 ГОДИНИ</td>\n",
       "      <td>199.990</td>\n",
       "      <td>None</td>\n",
       "    </tr>\n",
       "    <tr>\n",
       "      <th>282</th>\n",
       "      <td>VIVAX</td>\n",
       "      <td>ACP-55FS160AERI R410A</td>\n",
       "      <td>САМОСТОЕЧКИ</td>\n",
       "      <td>A++</td>\n",
       "      <td>16120/17000 W</td>\n",
       "      <td>ОД -15℃ ДО 50℃</td>\n",
       "      <td>ДО 170 м2</td>\n",
       "      <td>/</td>\n",
       "      <td>5 ГОДИНИ</td>\n",
       "      <td>199.990</td>\n",
       "      <td>None</td>\n",
       "    </tr>\n",
       "    <tr>\n",
       "      <th>283</th>\n",
       "      <td>MITSUBISHI</td>\n",
       "      <td>Heavy Diamond Hyperinverter SRK/SRC 100 ZR-W</td>\n",
       "      <td>ИНВЕРТЕР СПЛИТ СИСТЕМ</td>\n",
       "      <td>A+</td>\n",
       "      <td>9600/10000 W</td>\n",
       "      <td>ОД -15℃ ДО 46℃</td>\n",
       "      <td>ДО 100 м2</td>\n",
       "      <td>• Серијата ZR е идеално решение за греење и ла...</td>\n",
       "      <td>3 ГОДИНИ</td>\n",
       "      <td>205.590</td>\n",
       "      <td>None</td>\n",
       "    </tr>\n",
       "    <tr>\n",
       "      <th>284</th>\n",
       "      <td>TOSHIBA</td>\n",
       "      <td>Inverter RAV-RM1401FT / RAV-GM1401ATP-E</td>\n",
       "      <td>САМОСТОЕЧКИ</td>\n",
       "      <td>A</td>\n",
       "      <td>14000/14600 W</td>\n",
       "      <td>ОД -15℃ ДО 46℃</td>\n",
       "      <td>ДО 140 м2</td>\n",
       "      <td>Екстремно тивок и штедлив клима уред\\nА/ А ене...</td>\n",
       "      <td>3 ГОДИНИ</td>\n",
       "      <td>249.990</td>\n",
       "      <td>None</td>\n",
       "    </tr>\n",
       "    <tr>\n",
       "      <th>285</th>\n",
       "      <td>TOSHIBA</td>\n",
       "      <td>Inverter RAV-RM1601FT / RAV-GM1601ATP-E</td>\n",
       "      <td>САМОСТОЕЧКИ</td>\n",
       "      <td>A</td>\n",
       "      <td>14000/16000 W</td>\n",
       "      <td>ОД -15℃ ДО 53℃</td>\n",
       "      <td>ДО 170 м2</td>\n",
       "      <td>Екстремно тивок и штедлив клима уред А/ А енер...</td>\n",
       "      <td>3 ГОДИНИ</td>\n",
       "      <td>305.990</td>\n",
       "      <td>None</td>\n",
       "    </tr>\n",
       "  </tbody>\n",
       "</table>\n",
       "<p>286 rows × 11 columns</p>\n",
       "</div>"
      ],
      "text/plain": [
       "          brand                                         model  \\\n",
       "0         VIVAX                           ACP-12CH35AEFIs R32   \n",
       "1         TESLA                       CLASSIC TA36FFLL-1232IA   \n",
       "2         VIVAX                           ACP-12CH35AEXIs R32   \n",
       "3         VIVAX                           ACP-09CH25AEQIS R32   \n",
       "4         VIVAX                                 ACP-09PT25AEG   \n",
       "..          ...                                           ...   \n",
       "281       VIVAX                          ACP-55DT160AERI+ R32   \n",
       "282       VIVAX                         ACP-55FS160AERI R410A   \n",
       "283  MITSUBISHI  Heavy Diamond Hyperinverter SRK/SRC 100 ZR-W   \n",
       "284     TOSHIBA       Inverter RAV-RM1401FT / RAV-GM1401ATP-E   \n",
       "285     TOSHIBA       Inverter RAV-RM1601FT / RAV-GM1601ATP-E   \n",
       "\n",
       "                      type energy_class          power     temperature  \\\n",
       "0    ИНВЕРТЕР СПЛИТ СИСТЕМ          A++    3517/3810 W  ОД -10℃ ДО 50℃   \n",
       "1    ИНВЕРТЕР СПЛИТ СИСТЕМ          A++    3400/3500 W  ОД -15℃ ДО 49℃   \n",
       "2    ИНВЕРТЕР СПЛИТ СИСТЕМ          A++    3520/3810 W  ОД -15℃ ДО 50℃   \n",
       "3    ИНВЕРТЕР СПЛИТ СИСТЕМ          A++    2638/2930 W  ОД -15℃ ДО 50℃   \n",
       "4      МОБИЛНИ КЛИМА УРЕДИ            A         2640 W   ОД 17℃ ДО 35℃   \n",
       "..                     ...          ...            ...             ...   \n",
       "281        КАНАЛНИ СИСТЕМИ          A++  15240/18170 W  ОД -20℃ ДО 50℃   \n",
       "282            САМОСТОЕЧКИ          A++  16120/17000 W  ОД -15℃ ДО 50℃   \n",
       "283  ИНВЕРТЕР СПЛИТ СИСТЕМ           A+   9600/10000 W  ОД -15℃ ДО 46℃   \n",
       "284            САМОСТОЕЧКИ            A  14000/14600 W  ОД -15℃ ДО 46℃   \n",
       "285            САМОСТОЕЧКИ            A  14000/16000 W  ОД -15℃ ДО 53℃   \n",
       "\n",
       "          area                                          functions guarantee  \\\n",
       "0     ДО 30 м2  Внесете свежина во вашите домашни и деловни пр...  5 ГОДИНИ   \n",
       "1     ДО 35 м2                                                  /  3 ГОДИНИ   \n",
       "2     ДО 30 м2                                                  /  5 ГОДИНИ   \n",
       "3     ДО 25 м2  Висока ефикасност, прикажување на самодијагноз...  5 ГОДИНИ   \n",
       "4     ДО 25 м2  Тајмер, 3 стапки на проток на воздух, Рачно ра...  3 ГОДИНИ   \n",
       "..         ...                                                ...       ...   \n",
       "281  ДО 170 м2                                                  /  5 ГОДИНИ   \n",
       "282  ДО 170 м2                                                  /  5 ГОДИНИ   \n",
       "283  ДО 100 м2  • Серијата ZR е идеално решение за греење и ла...  3 ГОДИНИ   \n",
       "284  ДО 140 м2  Екстремно тивок и штедлив клима уред\\nА/ А ене...  3 ГОДИНИ   \n",
       "285  ДО 170 м2  Екстремно тивок и штедлив клима уред А/ А енер...  3 ГОДИНИ   \n",
       "\n",
       "    curr_price prev_price  \n",
       "0       17.990     20.990  \n",
       "1       18.990       None  \n",
       "2       19.990     24.990  \n",
       "3       19.990     22.990  \n",
       "4       19.990       None  \n",
       "..         ...        ...  \n",
       "281    199.990       None  \n",
       "282    199.990       None  \n",
       "283    205.590       None  \n",
       "284    249.990       None  \n",
       "285    305.990       None  \n",
       "\n",
       "[286 rows x 11 columns]"
      ]
     },
     "execution_count": 75,
     "metadata": {},
     "output_type": "execute_result"
    }
   ],
   "source": [
    "df"
   ]
  },
  {
   "cell_type": "code",
   "execution_count": 76,
   "id": "9216fa0b",
   "metadata": {},
   "outputs": [],
   "source": [
    "df.to_csv(\"data/02/raw_data.csv\", index=False)"
   ]
  },
  {
   "cell_type": "markdown",
   "id": "c51291fc",
   "metadata": {},
   "source": [
    "# Data Analysis"
   ]
  },
  {
   "cell_type": "markdown",
   "id": "c68710f1",
   "metadata": {},
   "source": [
    "We import extra libraries for data analysis and visualization:\n",
    "- `re` for regular expressions,\n",
    "- `numpy` for numerical calculations, and\n",
    "- `matplotlib.pyplot` and `seaborn` for creating charts and statistical plots."
   ]
  },
  {
   "cell_type": "code",
   "execution_count": 77,
   "id": "eac64771",
   "metadata": {},
   "outputs": [],
   "source": [
    "import re\n",
    "\n",
    "import numpy as np\n",
    "import matplotlib.pyplot as plt\n",
    "import seaborn as sns"
   ]
  },
  {
   "cell_type": "markdown",
   "id": "59788d2e",
   "metadata": {},
   "source": [
    "We inspect each column in our data frame and preprocess its data if needed."
   ]
  },
  {
   "cell_type": "code",
   "execution_count": 78,
   "id": "c4c78edb",
   "metadata": {},
   "outputs": [],
   "source": [
    "df = pd.read_csv(\"data/02/raw_data.csv\", dtype=str)"
   ]
  },
  {
   "cell_type": "code",
   "execution_count": 79,
   "id": "ab556895",
   "metadata": {},
   "outputs": [
    {
     "data": {
      "text/plain": [
       "array(['VIVAX', 'TESLA', 'TOSOT', 'GREE', 'TCL', 'AUX', 'HISENSE',\n",
       "       'HAIER', 'BOSCH', 'CARRIER', 'SAMSUNG', 'VAILLANT', 'TOSHIBA',\n",
       "       'HITACHI', 'FUJITSU', 'MITSUBISHI', 'DAIKIN', 'HYUNDAI'],\n",
       "      dtype=object)"
      ]
     },
     "execution_count": 79,
     "metadata": {},
     "output_type": "execute_result"
    }
   ],
   "source": [
    "df[\"brand\"].unique()"
   ]
  },
  {
   "cell_type": "code",
   "execution_count": 80,
   "id": "dfb7ba48",
   "metadata": {},
   "outputs": [
    {
     "data": {
      "text/plain": [
       "array(['ИНВЕРТЕР СПЛИТ СИСТЕМ', 'МОБИЛНИ КЛИМА УРЕДИ',\n",
       "       'СТАНДАРД СПЛИТ СИСТЕМ', 'ПАРАПЕТНИ/КОНЗОЛНИ',\n",
       "       'КАСЕТНИ СПЛИТ СИСТЕМ', 'КАНАЛНИ СИСТЕМИ', 'САМОСТОЕЧКИ'],\n",
       "      dtype=object)"
      ]
     },
     "execution_count": 80,
     "metadata": {},
     "output_type": "execute_result"
    }
   ],
   "source": [
    "df[\"type\"].unique()"
   ]
  },
  {
   "cell_type": "code",
   "execution_count": 81,
   "id": "fb6111f0",
   "metadata": {},
   "outputs": [
    {
     "data": {
      "text/plain": [
       "array(['A++', 'A', 'A+++', 'A+'], dtype=object)"
      ]
     },
     "execution_count": 81,
     "metadata": {},
     "output_type": "execute_result"
    }
   ],
   "source": [
    "df[\"energy_class\"].unique()"
   ]
  },
  {
   "cell_type": "code",
   "execution_count": 82,
   "id": "0997c8ce",
   "metadata": {},
   "outputs": [],
   "source": [
    "text = \"2700/3000 W\""
   ]
  },
  {
   "cell_type": "code",
   "execution_count": 83,
   "id": "cb7bcda5",
   "metadata": {},
   "outputs": [],
   "source": [
    "numbers = re.findall(r\"\\d+\", text)"
   ]
  },
  {
   "cell_type": "code",
   "execution_count": 84,
   "id": "b0f312d6",
   "metadata": {},
   "outputs": [],
   "source": [
    "def preprocess_power(power):\n",
    "    numbers = re.findall(r\"\\d+\", power)\n",
    "    if len(numbers) == 1:\n",
    "        return numbers * 2\n",
    "    return numbers"
   ]
  },
  {
   "cell_type": "code",
   "execution_count": 85,
   "id": "f6477fe6",
   "metadata": {},
   "outputs": [],
   "source": [
    "df[[\"min_power\", \"max_power\"]] = df[\"power\"].apply(preprocess_power).tolist()"
   ]
  },
  {
   "cell_type": "code",
   "execution_count": 86,
   "id": "8301dc11",
   "metadata": {},
   "outputs": [],
   "source": [
    "df[\"min_power\"] = df[\"min_power\"].astype(int)"
   ]
  },
  {
   "cell_type": "code",
   "execution_count": 87,
   "id": "90d0231f",
   "metadata": {},
   "outputs": [],
   "source": [
    "df[\"max_power\"] = df[\"max_power\"].astype(int)"
   ]
  },
  {
   "cell_type": "code",
   "execution_count": 88,
   "id": "6d9f1840",
   "metadata": {},
   "outputs": [],
   "source": [
    "df.drop(columns=[\"power\"], inplace=True)"
   ]
  },
  {
   "cell_type": "code",
   "execution_count": 89,
   "id": "9829a915",
   "metadata": {},
   "outputs": [
    {
     "data": {
      "application/vnd.microsoft.datawrangler.viewer.v0+json": {
       "columns": [
        {
         "name": "index",
         "rawType": "int64",
         "type": "integer"
        },
        {
         "name": "brand",
         "rawType": "object",
         "type": "string"
        },
        {
         "name": "model",
         "rawType": "object",
         "type": "string"
        },
        {
         "name": "type",
         "rawType": "object",
         "type": "string"
        },
        {
         "name": "energy_class",
         "rawType": "object",
         "type": "string"
        },
        {
         "name": "temperature",
         "rawType": "object",
         "type": "string"
        },
        {
         "name": "area",
         "rawType": "object",
         "type": "string"
        },
        {
         "name": "functions",
         "rawType": "object",
         "type": "string"
        },
        {
         "name": "guarantee",
         "rawType": "object",
         "type": "string"
        },
        {
         "name": "curr_price",
         "rawType": "object",
         "type": "string"
        },
        {
         "name": "prev_price",
         "rawType": "object",
         "type": "unknown"
        },
        {
         "name": "min_power",
         "rawType": "int64",
         "type": "integer"
        },
        {
         "name": "max_power",
         "rawType": "int64",
         "type": "integer"
        }
       ],
       "ref": "04fef732-7660-4c21-8de4-cab8f4287e54",
       "rows": [
        [
         "0",
         "VIVAX",
         "ACP-12CH35AEFIs R32",
         "ИНВЕРТЕР СПЛИТ СИСТЕМ",
         "A++",
         "ОД -10℃ ДО 50℃",
         "ДО 30 м2",
         "Внесете свежина во вашите домашни и деловни простории и во најтешките летни денови!",
         "5 ГОДИНИ",
         "17.990",
         "20.990",
         "3517",
         "3810"
        ],
        [
         "1",
         "TESLA",
         "CLASSIC TA36FFLL-1232IA",
         "ИНВЕРТЕР СПЛИТ СИСТЕМ",
         "A++",
         "ОД -15℃ ДО 49℃",
         "ДО 35 м2",
         "/",
         "3 ГОДИНИ",
         "18.990",
         null,
         "3400",
         "3500"
        ],
        [
         "2",
         "VIVAX",
         "ACP-12CH35AEXIs R32",
         "ИНВЕРТЕР СПЛИТ СИСТЕМ",
         "A++",
         "ОД -15℃ ДО 50℃",
         "ДО 30 м2",
         "/",
         "5 ГОДИНИ",
         "19.990",
         "24.990",
         "3520",
         "3810"
        ],
        [
         "3",
         "VIVAX",
         "ACP-09CH25AEQIS R32",
         "ИНВЕРТЕР СПЛИТ СИСТЕМ",
         "A++",
         "ОД -15℃ ДО 50℃",
         "ДО 25 м2",
         "Висока ефикасност, прикажување на самодијагноза, индикатор за истекување на гасот за разладување, 1W standby, турбо, заштита на вентил на надворешна единица, интелегентно отопување, 12 Fan Speed, безшумна опција, двосмерен одвод на кондензат, дигитален екран.",
         "5 ГОДИНИ",
         "19.990",
         "22.990",
         "2638",
         "2930"
        ],
        [
         "4",
         "VIVAX",
         "ACP-09PT25AEG",
         "МОБИЛНИ КЛИМА УРЕДИ",
         "A",
         "ОД 17℃ ДО 35℃",
         "ДО 25 м2",
         "Тајмер, 3 стапки на проток на воздух, Рачно ракување, Повеќенасочни тркала.",
         "3 ГОДИНИ",
         "19.990",
         null,
         "2640",
         "2640"
        ],
        [
         "5",
         "TOSOT",
         "MUSE PREMIUM TWH12AFBXB-K6DNA5A",
         "ИНВЕРТЕР СПЛИТ СИСТЕМ",
         "A++",
         "ОД -15℃ ДО 43℃",
         "ДО 30 м2",
         "Произведено од GREE. Самодијагноза, интелегентно отопување, аuto restart, нормален sleep mode,тајмер, turbo",
         "3 ГОДИНИ",
         "19.990",
         "31.990",
         "3200",
         "3400"
        ],
        [
         "6",
         "VIVAX",
         "ACP-09CH25AEMIS R32",
         "ИНВЕРТЕР СПЛИТ СИСТЕМ",
         "A++",
         "ОД -15℃ ДО 50℃",
         "ДО 25 м2",
         "Висока ефикасност, самодијагноза, 1W standby, заштита на вентил надворешна единица, 12 Fan Speed, self cleaning, индикатор за истекување на гасот за разладување, безшумна операција, двосмерен одвод на кондензат, дигитален екран, sleep mode, тајмер, интелегентно отопување, memory функција, турбо, припрема за Wi-Fi  ( WiFi ready )",
         "5 ГОДИНИ",
         "19.990",
         "24.990",
         "2638",
         "2930"
        ],
        [
         "7",
         "VIVAX",
         "ACP-12CH35AEQIS R32",
         "ИНВЕРТЕР СПЛИТ СИСТЕМ",
         "A++",
         "ОД -15℃ ДО 50℃",
         "ДО 35 м2",
         "Висока ефикасност, прикажување на самодијагноза, индикатор за истекување на гасот за разладување, 1W standby, турбо, заштита на вентил на надворешна единица, интелегентно отопување, 12 Fan Speed, безшумна опција, двосмерен одвод на кондензат, дигитален екран.",
         "5 ГОДИНИ",
         "20.990",
         "25.990",
         "3517",
         "3810"
        ],
        [
         "8",
         "TESLA",
         "CLASSIC TT34EX21-1232IA",
         "ИНВЕРТЕР СПЛИТ СИСТЕМ",
         "A++",
         "ОД -20℃ ДО 53℃",
         "ДО 35 м2",
         "/",
         "3 ГОДИНИ",
         "20.990",
         "25.990",
         "3400",
         "3420"
        ],
        [
         "9",
         "VIVAX",
         "ACP-12CH35AEMIS R32",
         "ИНВЕРТЕР СПЛИТ СИСТЕМ",
         "A++",
         "ОД -15℃ ДО 50℃",
         "ДО 35 м2",
         "-ГРАТИС WI-FI МОДУЛ!\nВисока ефикасност, самодијагноза, 1W standby, заштита на вентил надворешна единица, висока ефикасност, 12 Fan Speed, self cleaning, индикатор за истекување на гасот за разладување, безшумна операција, двосмерен одвод на кондензат, дигитален екран, sleep mode, тајмер, интелегентно отопување, memory функција, турбо.",
         "5 ГОДИНИ",
         "21.990",
         "27.990",
         "3517",
         "3810"
        ],
        [
         "10",
         "TESLA",
         "SELECT TT34EX81-1232IAW",
         "ИНВЕРТЕР СПЛИТ СИСТЕМ",
         "A++",
         "ОД -20℃ ДО 53℃",
         "ДО 35 м2",
         "/",
         "3 ГОДИНИ",
         "21.990",
         "26.990",
         "3400",
         "3420"
        ],
        [
         "11",
         "TESLA",
         "PORTABLE TTMYW-12CHW",
         "МОБИЛНИ КЛИМА УРЕДИ",
         "A",
         "ОД 0℃ ДО 0℃",
         "ДО 30 м2",
         "/",
         "3 ГОДИНИ",
         "22.990",
         null,
         "3200",
         "2900"
        ],
        [
         "12",
         "TESLA",
         "SELECT STYLE TT34EX82BM-1232IAW",
         "ИНВЕРТЕР СПЛИТ СИСТЕМ",
         "A++",
         "ОД -20℃ ДО 53℃",
         "ДО 35 м2",
         "Стерилизација на 56°C",
         "3 ГОДИНИ",
         "22.990",
         null,
         "3400",
         "3420"
        ],
        [
         "13",
         "TESLA",
         "SELECT STYLE TT34EX82SM-1232IAW",
         "ИНВЕРТЕР СПЛИТ СИСТЕМ",
         "A++",
         "ОД -20℃ ДО 53℃",
         "ДО 35 м2",
         "Стерилизација на 56°C",
         "3 ГОДИНИ",
         "22.990",
         null,
         "3400",
         "3420"
        ],
        [
         "14",
         "GREE",
         "Charmo Premium GWH12ATBXB-K6DNA1D",
         "ИНВЕРТЕР СПЛИТ СИСТЕМ",
         "A++",
         "ОД -15℃ ДО 43℃",
         "ДО 30 м2",
         "GREE компресор со магнети од ретки метали (Rare Earth Magnet)\nФункции",
         "10 ГОДИНИ",
         "22.990",
         "26.990",
         "3200",
         "3400"
        ],
        [
         "15",
         "TCL",
         "Elite Lite TAC-12CHSD/XA73IF",
         "ИНВЕРТЕР СПЛИТ СИСТЕМ",
         "A++",
         "ОД -20℃ ДО 53℃",
         "ДО 35 м2",
         "/",
         "3 ГОДИНИ",
         "22.990",
         "25.990",
         "3400",
         "3420"
        ],
        [
         "16",
         "VIVAX",
         "ACP-12CH35AENI R32",
         "ИНВЕРТЕР СПЛИТ СИСТЕМ",
         "A++",
         "ОД -20℃ ДО 50℃",
         "ДО 35 м2",
         "/",
         "5 ГОДИНИ",
         "22.990",
         "27.990",
         "3517",
         "3810"
        ],
        [
         "17",
         "TESLA",
         "PORTABLE TTMYB-12CHW",
         "МОБИЛНИ КЛИМА УРЕДИ",
         "A",
         "ОД 0℃ ДО 0℃",
         "ДО 30 м2",
         "/",
         "3 ГОДИНИ",
         "23.590",
         null,
         "3200",
         "2900"
        ],
        [
         "18",
         "AUX",
         "Gentle Breeze ASW-H09B5C4/CAR3DI-C3",
         "ИНВЕРТЕР СПЛИТ СИСТЕМ",
         "A++",
         "ОД -25℃ ДО 52℃",
         "ДО 25 м2",
         "A++ / A+++ висока енергетска класа при ладење / греење (топла зона)\nDC Hybrid inverter  технологија\nSOFT AIR микро отвори за безосетно ладење\nвграден WiFi уред за постојана контрола \nI FEEL опција со далечинско како термостат, VOICE Control, 4D Wind, UVC дезинфекција\nгреач во када на надворешната единица против мрзнење\nопсег на работа ладење – надворешна температура од 15 ÷ 52oC\nопсег на работа греење – надворешна температура од -25 ÷ 24oC",
         "5 ГОДИНИ",
         "23.990",
         null,
         "2700",
         "3200"
        ],
        [
         "19",
         "VIVAX",
         "ACP-12PT35AEFs",
         "МОБИЛНИ КЛИМА УРЕДИ",
         "A",
         "ОД 0℃ ДО 0℃",
         "ДО 35 м2",
         "0.5 W standby, мemory функција (auto-restart), аnti cool air design, oдвлажнување, тајмер, sleep mode, led display, прикажување на само дијагноза, повеќенасочни позиции, самоиспарувачки систем.",
         "3 ГОДИНИ",
         "23.990",
         null,
         "3517",
         "3517"
        ],
        [
         "20",
         "HISENSE",
         "EASY SMART CA35YR03G-CA35YR03W",
         "ИНВЕРТЕР СПЛИТ СИСТЕМ",
         "A++",
         "ОД -20℃ ДО 43℃",
         "ДО 35 м2",
         "5 години гаранција на компресор ( 16.10.2025-31.10.2025 ) со регистрација на  https",
         "2 ( 5 години на компресор ) ГОДИНИ",
         "23.990",
         "28.990",
         "3400",
         "3800"
        ],
        [
         "21",
         "TESLA",
         "ADVANCE TA36QQCT-1232IAWT",
         "ИНВЕРТЕР СПЛИТ СИСТЕМ",
         "A++",
         "ОД -25℃ ДО 49℃",
         "ДО 35 м2",
         "Функција против создавање на мувла и габи \nФункција против ‘рѓа \nСтерилизација на 56°C",
         "3 ГОДИНИ",
         "24.990",
         null,
         "3500",
         "3800"
        ],
        [
         "22",
         "AUX",
         "Gentle Breeze ASW-H12C5A4/CAR3DI-B8",
         "ИНВЕРТЕР СПЛИТ СИСТЕМ",
         "A++",
         "ОД -25℃ ДО 52℃",
         "ДО 35 м2",
         "A++ / A+++ висока енергетска класа при ладење / греење (топла зона)\nDC Hybrid inverter  технологија\nSOFT AIR микро отвори за безосетно ладење\nвграден WiFi уред за постојана контрола \nI FEEL опција со далечинско како термостат, VOICE Control, 4D Wind, UVC дезинфекција\nгреач во када на надворешната единица против мрзнење\nопсег на работа ладење – надворешна температура од 15 ÷ 52oC\nопсег на работа греење – надворешна температура од -25 ÷ 24oC",
         "5 ГОДИНИ",
         "24.990",
         null,
         "3500",
         "3800"
        ],
        [
         "23",
         "TESLA",
         "ADVANCE TT34TP81-1232IAWT",
         "ИНВЕРТЕР СПЛИТ СИСТЕМ",
         "A++",
         "ОД -25℃ ДО 53℃",
         "ДО 35 м2",
         "UV lamp",
         "3 ГОДИНИ",
         "24.990",
         "28.990",
         "3500",
         "3620"
        ],
        [
         "24",
         "TESLA",
         "ADVANCE TT34TP81-1232IHWT",
         "ИНВЕРТЕР СПЛИТ СИСТЕМ",
         "A+++",
         "ОД -25℃ ДО 52℃",
         "ДО 35 м2",
         "Функција против создавање на мувла и габи \nФункција против ‘рѓа \nСтерилизација на 56°C",
         "3 ГОДИНИ",
         "25.990",
         null,
         "3520",
         "3860"
        ],
        [
         "25",
         "GREE",
         "PULAR PREMIUM GWH07AGA-K6DNA1A",
         "ИНВЕРТЕР СПЛИТ СИСТЕМ",
         "A++",
         "ОД -15℃ ДО 43℃",
         "ДО 20 м2",
         "/",
         "10 ГОДИНИ",
         "25.990",
         "29.990",
         "2200",
         "2400"
        ],
        [
         "26",
         "HAIER",
         "AS25RHBHRA / 1U25YERFRA Revive",
         "ИНВЕРТЕР СПЛИТ СИСТЕМ",
         "A++",
         "ОД -15℃ ДО 43℃",
         "ДО 25 м2",
         "- Фабрички вграден hOn Wi-Fi\n- Tивок режим на работа (18dB)\n- Coanda Plus технологија за рамномерна дистрибуција на воздухот\n- Super Quiet mode, Comfortable sleep mode, Aнтибактериски филтер\n- Модерниот дизајн дава можност за многу брза и прецизна инсталација",
         "3 ГОДИНИ",
         "25.990",
         null,
         "2500",
         "2800"
        ],
        [
         "27",
         "VIVAX",
         "ACP-12PT35AEHs",
         "МОБИЛНИ КЛИМА УРЕДИ",
         "A+",
         "ОД 5℃ ДО 35℃",
         "ДО 35 м2",
         "0.5 W standby, memory функција (auto-restart), anti cool air design, oдвлажнување, тајмер, sleep mode, led display, прикажување на само диагноза, повеќенасочни позиции, самоиспарувачки систем.",
         "3 ГОДИНИ",
         "25.990",
         null,
         "3500",
         "2900"
        ],
        [
         "28",
         "HAIER",
         "AS35RHBHRA / 1U35YERFRA Revive",
         "ИНВЕРТЕР СПЛИТ СИСТЕМ",
         "A++",
         "ОД -15℃ ДО 43℃",
         "ДО 35 м2",
         "- Фабрички вграден hOn Wi-Fi - Tивок режим на работа (18dB) - Coanda Plus технологија за рамномерна дистрибуција на воздухот - Super Quiet mode, Comfortable sleep mode, Aнтибактериски филтер - Модерниот дизајн дава можност за многу брза и прецизна инсталација",
         "3 ГОДИНИ",
         "26.990",
         "32.000",
         "3200",
         "3400"
        ],
        [
         "29",
         "GREE",
         "Charmo Arctic PRO II GWH09ATCXB-K6DNA4A",
         "ИНВЕРТЕР СПЛИТ СИСТЕМ",
         "A++",
         "ОД -25℃ ДО 50℃",
         "ДО 25 м2",
         "Функции",
         "10 ГОДИНИ",
         "26.990",
         "29.990",
         "2700",
         "3000"
        ],
        [
         "30",
         "GREE",
         "PULAR PREMIUM GWH09AGA-K6DNA1A",
         "ИНВЕРТЕР СПЛИТ СИСТЕМ",
         "A++",
         "ОД -15℃ ДО 43℃",
         "ДО 25 м2",
         "/",
         "10 ГОДИНИ",
         "26.990",
         "31.990",
         "2500",
         "2800"
        ],
        [
         "31",
         "TESLA",
         "ADVANCE TT34TP91-1232IHWT",
         "ИНВЕРТЕР СПЛИТ СИСТЕМ",
         "A+++",
         "ОД -25℃ ДО 53℃",
         "ДО 35 м2",
         "UV lamp",
         "3 ГОДИНИ",
         "26.990",
         null,
         "3510",
         "3800"
        ],
        [
         "32",
         "HISENSE",
         "WINGS PRO KB35YR3EG-KB35YR3EW",
         "ИНВЕРТЕР СПЛИТ СИСТЕМ",
         "A++",
         "ОД -20℃ ДО 43℃",
         "ДО 35 м2",
         "5 години гаранција на компресор ( 16.10.2025-31.10.2025 ) со регистрација на  https",
         "2 ( 5 години на компресор ) ГОДИНИ",
         "26.990",
         "32.990",
         "3400",
         "3800"
        ],
        [
         "33",
         "BOSCH",
         "CLIMATE 2000 26 WE",
         "ИНВЕРТЕР СПЛИТ СИСТЕМ",
         "A++",
         "ОД -15℃ ДО 50℃",
         "ДО 25 м2",
         "- Внатрешната единица може да работи исклучително тивко со ниво на бучавост од само 21 dB(A)\n- Филтрите со висока густина и филтрите со ладен катализатор ја отстрануваат прашината и поленот од просторијата до 80%\n- Комбинацијата на вертикални и хоризонтални перки за вентилација обезбедува рамномерна распределба на протокот на воздух",
         "3 ГОДИНИ",
         "27.900",
         "35.900",
         "2600",
         "2900"
        ],
        [
         "34",
         "GREE",
         "FAIRY PREMIUM GWH12ACC-K6DNA1F",
         "ИНВЕРТЕР СПЛИТ СИСТЕМ",
         "A++",
         "ОД -25℃ ДО 50℃",
         "ДО 35 м2",
         "SMART DC Инвертер со G10 технологија, патент на ГРЕЕ\nGREE компресор со магнети од ретки метали (Rare Earth Magnet)\nEEV – Eлектронски експанзионен вентил, Грејач на тацна за одмрзнување на кондензат\nФункции",
         "10 ГОДИНИ",
         "27.990",
         "39.990",
         "3510",
         "3810"
        ],
        [
         "35",
         "GREE",
         "FAIRY PREMIUM Black GWH12ACC-K6DNA1F",
         "ИНВЕРТЕР СПЛИТ СИСТЕМ",
         "A++",
         "ОД -25℃ ДО 50℃",
         "ДО 35 м2",
         "SMART DC Инвертер со G10 технологија, патент на ГРЕЕ GREE компресор со магнети од ретки метали (Rare Earth Magnet) EEV – Eлектронски експанзионен вентил, Грејач на тацна за одмрзнување на кондензат Функции",
         "10 ГОДИНИ",
         "27.990",
         "41.990",
         "3510",
         "3810"
        ],
        [
         "36",
         "VIVAX",
         "ACP-09CH25AERI+ R32",
         "ИНВЕРТЕР СПЛИТ СИСТЕМ",
         "A+++",
         "ОД -25℃ ДО 50℃",
         "ДО 25 м2",
         "/",
         "5 ГОДИНИ",
         "27.990",
         "33.990",
         "2638",
         "2931"
        ],
        [
         "37",
         "VIVAX",
         "ACP-12CH35AERI+ R32",
         "ИНВЕРТЕР СПЛИТ СИСТЕМ",
         "A+++",
         "ОД -25℃ ДО 50℃",
         "ДО 35 м2",
         "/",
         "5 ГОДИНИ",
         "27.990",
         "36.990",
         "3517",
         "3810"
        ],
        [
         "38",
         "VIVAX",
         "ACP-09CH25AERI+ R32 Gold",
         "ИНВЕРТЕР СПЛИТ СИСТЕМ",
         "A+++",
         "ОД -25℃ ДО 50℃",
         "ДО 25 м2",
         "/",
         "5 ГОДИНИ",
         "27.990",
         "33.990",
         "2638",
         "2931"
        ],
        [
         "39",
         "VIVAX",
         "ACP-09CH25AERI+ R32 Silver",
         "ИНВЕРТЕР СПЛИТ СИСТЕМ",
         "A+++",
         "ОД -25℃ ДО 50℃",
         "ДО 25 м2",
         "/",
         "5 ГОДИНИ",
         "27.990",
         "33.990",
         "2638",
         "2931"
        ],
        [
         "40",
         "TOSOT",
         "MUSE EXTREME LCLH TWH12AFC-K6DNA5F",
         "ИНВЕРТЕР СПЛИТ СИСТЕМ",
         "A++",
         "ОД -25℃ ДО 50℃",
         "ДО 35 м2",
         "Произведено од GREE. Самодијагноза, интелегентно отопување, аuto restart, I Feel фунција, нормален sleep mode,тајмер, turbo",
         "3 ГОДИНИ",
         "27.990",
         "37.990",
         "3510",
         "3810"
        ],
        [
         "41",
         "HAIER",
         "TIDE PLUS AS25THMHRA-C/1U25YEFFRA-C",
         "ИНВЕРТЕР СПЛИТ СИСТЕМ",
         "A++",
         "ОД -15℃ ДО 43℃",
         "ДО 25 м2",
         "DC Inverter технологија со Intelligent Air, функција на самочистење и самодијагностицирање, можност за Wi-Fi управување, Auto-restart, 24h тајмер, оптимизиран дизајн на вентилаторот.",
         "3 ГОДИНИ",
         "27.990",
         "31.990",
         "2600",
         "2800"
        ],
        [
         "42",
         "HAIER",
         "TUNDRA PLUS AS25TAEHRA-THC/1U25YEFFRA-1",
         "ИНВЕРТЕР СПЛИТ СИСТЕМ",
         "A++",
         "ОД -15℃ ДО 43℃",
         "ДО 25 м2",
         "180° sine wave DC Inverter технологија со IntelligentAir, Super Quiet mode, Comfortable sleep mode - режими на работа , Eurovent сертификат, можност за Wi-Fi управување, функција на самочистење и самодијагностицирање, Auto-restart, 24hтајмер.",
         "3 ГОДИНИ",
         "27.990",
         "36.990",
         "2600",
         "2900"
        ],
        [
         "43",
         "HAIER",
         "TUNDRA GREEN AS25TADHRA-CL/1U25BEЕFRA",
         "ИНВЕРТЕР СПЛИТ СИСТЕМ",
         "A++",
         "ОД -15℃ ДО 43℃",
         "ДО 25 м2",
         "180° sine wave DC Inverter технологија со IntelligentAir, Super Quiet mode, Comfortable sleep mode - режими на работа \n, Eurovent сертификат, можност за Wi-Fi управување, функција на самочистење и самодијагностицирање, Auto-restart, 24hтајмер.",
         "3 ГОДИНИ",
         "27.990",
         "33.990",
         "2600",
         "2900"
        ],
        [
         "44",
         "GREE",
         "Charmo Arctic PRO II GWH12ATCXB-K6DNA4A",
         "ИНВЕРТЕР СПЛИТ СИСТЕМ",
         "A++",
         "ОД -25℃ ДО 50℃",
         "ДО 35 м2",
         "Функции",
         "10 ГОДИНИ",
         "27.990",
         "30.990",
         "3510",
         "3810"
        ],
        [
         "45",
         "GREE",
         "PULAR PREMIUM GWH12AGC-K6DNA1A",
         "ИНВЕРТЕР СПЛИТ СИСТЕМ",
         "A++",
         "ОД -15℃ ДО 43℃",
         "ДО 30 м2",
         "/",
         "10 ГОДИНИ",
         "27.990",
         "33.990",
         "3200",
         "3400"
        ],
        [
         "46",
         "TESLA",
         "STANDARD TT51X81-18410A",
         "СТАНДАРД СПЛИТ СИСТЕМ",
         "A",
         "ОД -7℃ ДО 43℃",
         "ДО 55 м2",
         "/",
         "3 ГОДИНИ",
         "28.990",
         "29.990",
         "4990",
         "5310"
        ],
        [
         "47",
         "VIVAX",
         "ACP-12CH35AERI+ R32 Red",
         "ИНВЕРТЕР СПЛИТ СИСТЕМ",
         "A+++",
         "ОД -25℃ ДО 50℃",
         "ДО 35 м2",
         "/",
         "5 ГОДИНИ",
         "29.990",
         "36.990",
         "3517",
         "3810"
        ],
        [
         "48",
         "VIVAX",
         "ACP-12CH35AERI+ R32 Silver",
         "ИНВЕРТЕР СПЛИТ СИСТЕМ",
         "A+++",
         "ОД -25℃ ДО 50℃",
         "ДО 35 м2",
         "/",
         "5 ГОДИНИ",
         "29.990",
         "36.990",
         "3517",
         "3810"
        ],
        [
         "49",
         "VIVAX",
         "ACP-12CH35AERI+ R32 Gold",
         "ИНВЕРТЕР СПЛИТ СИСТЕМ",
         "A+++",
         "ОД -25℃ ДО 50℃",
         "ДО 35 м2",
         "/",
         "5 ГОДИНИ",
         "29.990",
         "36.990",
         "3517",
         "3810"
        ]
       ],
       "shape": {
        "columns": 12,
        "rows": 286
       }
      },
      "text/html": [
       "<div>\n",
       "<style scoped>\n",
       "    .dataframe tbody tr th:only-of-type {\n",
       "        vertical-align: middle;\n",
       "    }\n",
       "\n",
       "    .dataframe tbody tr th {\n",
       "        vertical-align: top;\n",
       "    }\n",
       "\n",
       "    .dataframe thead th {\n",
       "        text-align: right;\n",
       "    }\n",
       "</style>\n",
       "<table border=\"1\" class=\"dataframe\">\n",
       "  <thead>\n",
       "    <tr style=\"text-align: right;\">\n",
       "      <th></th>\n",
       "      <th>brand</th>\n",
       "      <th>model</th>\n",
       "      <th>type</th>\n",
       "      <th>energy_class</th>\n",
       "      <th>temperature</th>\n",
       "      <th>area</th>\n",
       "      <th>functions</th>\n",
       "      <th>guarantee</th>\n",
       "      <th>curr_price</th>\n",
       "      <th>prev_price</th>\n",
       "      <th>min_power</th>\n",
       "      <th>max_power</th>\n",
       "    </tr>\n",
       "  </thead>\n",
       "  <tbody>\n",
       "    <tr>\n",
       "      <th>0</th>\n",
       "      <td>VIVAX</td>\n",
       "      <td>ACP-12CH35AEFIs R32</td>\n",
       "      <td>ИНВЕРТЕР СПЛИТ СИСТЕМ</td>\n",
       "      <td>A++</td>\n",
       "      <td>ОД -10℃ ДО 50℃</td>\n",
       "      <td>ДО 30 м2</td>\n",
       "      <td>Внесете свежина во вашите домашни и деловни пр...</td>\n",
       "      <td>5 ГОДИНИ</td>\n",
       "      <td>17.990</td>\n",
       "      <td>20.990</td>\n",
       "      <td>3517</td>\n",
       "      <td>3810</td>\n",
       "    </tr>\n",
       "    <tr>\n",
       "      <th>1</th>\n",
       "      <td>TESLA</td>\n",
       "      <td>CLASSIC TA36FFLL-1232IA</td>\n",
       "      <td>ИНВЕРТЕР СПЛИТ СИСТЕМ</td>\n",
       "      <td>A++</td>\n",
       "      <td>ОД -15℃ ДО 49℃</td>\n",
       "      <td>ДО 35 м2</td>\n",
       "      <td>/</td>\n",
       "      <td>3 ГОДИНИ</td>\n",
       "      <td>18.990</td>\n",
       "      <td>NaN</td>\n",
       "      <td>3400</td>\n",
       "      <td>3500</td>\n",
       "    </tr>\n",
       "    <tr>\n",
       "      <th>2</th>\n",
       "      <td>VIVAX</td>\n",
       "      <td>ACP-12CH35AEXIs R32</td>\n",
       "      <td>ИНВЕРТЕР СПЛИТ СИСТЕМ</td>\n",
       "      <td>A++</td>\n",
       "      <td>ОД -15℃ ДО 50℃</td>\n",
       "      <td>ДО 30 м2</td>\n",
       "      <td>/</td>\n",
       "      <td>5 ГОДИНИ</td>\n",
       "      <td>19.990</td>\n",
       "      <td>24.990</td>\n",
       "      <td>3520</td>\n",
       "      <td>3810</td>\n",
       "    </tr>\n",
       "    <tr>\n",
       "      <th>3</th>\n",
       "      <td>VIVAX</td>\n",
       "      <td>ACP-09CH25AEQIS R32</td>\n",
       "      <td>ИНВЕРТЕР СПЛИТ СИСТЕМ</td>\n",
       "      <td>A++</td>\n",
       "      <td>ОД -15℃ ДО 50℃</td>\n",
       "      <td>ДО 25 м2</td>\n",
       "      <td>Висока ефикасност, прикажување на самодијагноз...</td>\n",
       "      <td>5 ГОДИНИ</td>\n",
       "      <td>19.990</td>\n",
       "      <td>22.990</td>\n",
       "      <td>2638</td>\n",
       "      <td>2930</td>\n",
       "    </tr>\n",
       "    <tr>\n",
       "      <th>4</th>\n",
       "      <td>VIVAX</td>\n",
       "      <td>ACP-09PT25AEG</td>\n",
       "      <td>МОБИЛНИ КЛИМА УРЕДИ</td>\n",
       "      <td>A</td>\n",
       "      <td>ОД 17℃ ДО 35℃</td>\n",
       "      <td>ДО 25 м2</td>\n",
       "      <td>Тајмер, 3 стапки на проток на воздух, Рачно ра...</td>\n",
       "      <td>3 ГОДИНИ</td>\n",
       "      <td>19.990</td>\n",
       "      <td>NaN</td>\n",
       "      <td>2640</td>\n",
       "      <td>2640</td>\n",
       "    </tr>\n",
       "    <tr>\n",
       "      <th>...</th>\n",
       "      <td>...</td>\n",
       "      <td>...</td>\n",
       "      <td>...</td>\n",
       "      <td>...</td>\n",
       "      <td>...</td>\n",
       "      <td>...</td>\n",
       "      <td>...</td>\n",
       "      <td>...</td>\n",
       "      <td>...</td>\n",
       "      <td>...</td>\n",
       "      <td>...</td>\n",
       "      <td>...</td>\n",
       "    </tr>\n",
       "    <tr>\n",
       "      <th>281</th>\n",
       "      <td>VIVAX</td>\n",
       "      <td>ACP-55DT160AERI+ R32</td>\n",
       "      <td>КАНАЛНИ СИСТЕМИ</td>\n",
       "      <td>A++</td>\n",
       "      <td>ОД -20℃ ДО 50℃</td>\n",
       "      <td>ДО 170 м2</td>\n",
       "      <td>/</td>\n",
       "      <td>5 ГОДИНИ</td>\n",
       "      <td>199.990</td>\n",
       "      <td>NaN</td>\n",
       "      <td>15240</td>\n",
       "      <td>18170</td>\n",
       "    </tr>\n",
       "    <tr>\n",
       "      <th>282</th>\n",
       "      <td>VIVAX</td>\n",
       "      <td>ACP-55FS160AERI R410A</td>\n",
       "      <td>САМОСТОЕЧКИ</td>\n",
       "      <td>A++</td>\n",
       "      <td>ОД -15℃ ДО 50℃</td>\n",
       "      <td>ДО 170 м2</td>\n",
       "      <td>/</td>\n",
       "      <td>5 ГОДИНИ</td>\n",
       "      <td>199.990</td>\n",
       "      <td>NaN</td>\n",
       "      <td>16120</td>\n",
       "      <td>17000</td>\n",
       "    </tr>\n",
       "    <tr>\n",
       "      <th>283</th>\n",
       "      <td>MITSUBISHI</td>\n",
       "      <td>Heavy Diamond Hyperinverter SRK/SRC 100 ZR-W</td>\n",
       "      <td>ИНВЕРТЕР СПЛИТ СИСТЕМ</td>\n",
       "      <td>A+</td>\n",
       "      <td>ОД -15℃ ДО 46℃</td>\n",
       "      <td>ДО 100 м2</td>\n",
       "      <td>• Серијата ZR е идеално решение за греење и ла...</td>\n",
       "      <td>3 ГОДИНИ</td>\n",
       "      <td>205.590</td>\n",
       "      <td>NaN</td>\n",
       "      <td>9600</td>\n",
       "      <td>10000</td>\n",
       "    </tr>\n",
       "    <tr>\n",
       "      <th>284</th>\n",
       "      <td>TOSHIBA</td>\n",
       "      <td>Inverter RAV-RM1401FT / RAV-GM1401ATP-E</td>\n",
       "      <td>САМОСТОЕЧКИ</td>\n",
       "      <td>A</td>\n",
       "      <td>ОД -15℃ ДО 46℃</td>\n",
       "      <td>ДО 140 м2</td>\n",
       "      <td>Екстремно тивок и штедлив клима уред\\nА/ А ене...</td>\n",
       "      <td>3 ГОДИНИ</td>\n",
       "      <td>249.990</td>\n",
       "      <td>NaN</td>\n",
       "      <td>14000</td>\n",
       "      <td>14600</td>\n",
       "    </tr>\n",
       "    <tr>\n",
       "      <th>285</th>\n",
       "      <td>TOSHIBA</td>\n",
       "      <td>Inverter RAV-RM1601FT / RAV-GM1601ATP-E</td>\n",
       "      <td>САМОСТОЕЧКИ</td>\n",
       "      <td>A</td>\n",
       "      <td>ОД -15℃ ДО 53℃</td>\n",
       "      <td>ДО 170 м2</td>\n",
       "      <td>Екстремно тивок и штедлив клима уред А/ А енер...</td>\n",
       "      <td>3 ГОДИНИ</td>\n",
       "      <td>305.990</td>\n",
       "      <td>NaN</td>\n",
       "      <td>14000</td>\n",
       "      <td>16000</td>\n",
       "    </tr>\n",
       "  </tbody>\n",
       "</table>\n",
       "<p>286 rows × 12 columns</p>\n",
       "</div>"
      ],
      "text/plain": [
       "          brand                                         model  \\\n",
       "0         VIVAX                           ACP-12CH35AEFIs R32   \n",
       "1         TESLA                       CLASSIC TA36FFLL-1232IA   \n",
       "2         VIVAX                           ACP-12CH35AEXIs R32   \n",
       "3         VIVAX                           ACP-09CH25AEQIS R32   \n",
       "4         VIVAX                                 ACP-09PT25AEG   \n",
       "..          ...                                           ...   \n",
       "281       VIVAX                          ACP-55DT160AERI+ R32   \n",
       "282       VIVAX                         ACP-55FS160AERI R410A   \n",
       "283  MITSUBISHI  Heavy Diamond Hyperinverter SRK/SRC 100 ZR-W   \n",
       "284     TOSHIBA       Inverter RAV-RM1401FT / RAV-GM1401ATP-E   \n",
       "285     TOSHIBA       Inverter RAV-RM1601FT / RAV-GM1601ATP-E   \n",
       "\n",
       "                      type energy_class     temperature       area  \\\n",
       "0    ИНВЕРТЕР СПЛИТ СИСТЕМ          A++  ОД -10℃ ДО 50℃   ДО 30 м2   \n",
       "1    ИНВЕРТЕР СПЛИТ СИСТЕМ          A++  ОД -15℃ ДО 49℃   ДО 35 м2   \n",
       "2    ИНВЕРТЕР СПЛИТ СИСТЕМ          A++  ОД -15℃ ДО 50℃   ДО 30 м2   \n",
       "3    ИНВЕРТЕР СПЛИТ СИСТЕМ          A++  ОД -15℃ ДО 50℃   ДО 25 м2   \n",
       "4      МОБИЛНИ КЛИМА УРЕДИ            A   ОД 17℃ ДО 35℃   ДО 25 м2   \n",
       "..                     ...          ...             ...        ...   \n",
       "281        КАНАЛНИ СИСТЕМИ          A++  ОД -20℃ ДО 50℃  ДО 170 м2   \n",
       "282            САМОСТОЕЧКИ          A++  ОД -15℃ ДО 50℃  ДО 170 м2   \n",
       "283  ИНВЕРТЕР СПЛИТ СИСТЕМ           A+  ОД -15℃ ДО 46℃  ДО 100 м2   \n",
       "284            САМОСТОЕЧКИ            A  ОД -15℃ ДО 46℃  ДО 140 м2   \n",
       "285            САМОСТОЕЧКИ            A  ОД -15℃ ДО 53℃  ДО 170 м2   \n",
       "\n",
       "                                             functions guarantee curr_price  \\\n",
       "0    Внесете свежина во вашите домашни и деловни пр...  5 ГОДИНИ     17.990   \n",
       "1                                                    /  3 ГОДИНИ     18.990   \n",
       "2                                                    /  5 ГОДИНИ     19.990   \n",
       "3    Висока ефикасност, прикажување на самодијагноз...  5 ГОДИНИ     19.990   \n",
       "4    Тајмер, 3 стапки на проток на воздух, Рачно ра...  3 ГОДИНИ     19.990   \n",
       "..                                                 ...       ...        ...   \n",
       "281                                                  /  5 ГОДИНИ    199.990   \n",
       "282                                                  /  5 ГОДИНИ    199.990   \n",
       "283  • Серијата ZR е идеално решение за греење и ла...  3 ГОДИНИ    205.590   \n",
       "284  Екстремно тивок и штедлив клима уред\\nА/ А ене...  3 ГОДИНИ    249.990   \n",
       "285  Екстремно тивок и штедлив клима уред А/ А енер...  3 ГОДИНИ    305.990   \n",
       "\n",
       "    prev_price  min_power  max_power  \n",
       "0       20.990       3517       3810  \n",
       "1          NaN       3400       3500  \n",
       "2       24.990       3520       3810  \n",
       "3       22.990       2638       2930  \n",
       "4          NaN       2640       2640  \n",
       "..         ...        ...        ...  \n",
       "281        NaN      15240      18170  \n",
       "282        NaN      16120      17000  \n",
       "283        NaN       9600      10000  \n",
       "284        NaN      14000      14600  \n",
       "285        NaN      14000      16000  \n",
       "\n",
       "[286 rows x 12 columns]"
      ]
     },
     "execution_count": 89,
     "metadata": {},
     "output_type": "execute_result"
    }
   ],
   "source": [
    "df"
   ]
  },
  {
   "cell_type": "code",
   "execution_count": 90,
   "id": "cd528816",
   "metadata": {},
   "outputs": [],
   "source": [
    "text = \"ОД -10℃ ДО 50℃\""
   ]
  },
  {
   "cell_type": "code",
   "execution_count": 91,
   "id": "b02db974",
   "metadata": {},
   "outputs": [],
   "source": [
    "numbers = re.findall(r\"-?\\d+\", text)"
   ]
  },
  {
   "cell_type": "code",
   "execution_count": 92,
   "id": "859891d5",
   "metadata": {},
   "outputs": [
    {
     "data": {
      "text/plain": [
       "['-10', '50']"
      ]
     },
     "execution_count": 92,
     "metadata": {},
     "output_type": "execute_result"
    }
   ],
   "source": [
    "numbers"
   ]
  },
  {
   "cell_type": "code",
   "execution_count": 93,
   "id": "52cfc949",
   "metadata": {},
   "outputs": [],
   "source": [
    "df[[\"min_temp\", \"max_temp\"]] = (\n",
    "    df[\"temperature\"].apply(lambda text: re.findall(r\"-?\\d+\", text)).tolist()\n",
    ")"
   ]
  },
  {
   "cell_type": "code",
   "execution_count": 94,
   "id": "c6a1754a",
   "metadata": {},
   "outputs": [],
   "source": [
    "df[\"min_temp\"] = df[\"min_temp\"].astype(int)"
   ]
  },
  {
   "cell_type": "code",
   "execution_count": 95,
   "id": "38f2e06f",
   "metadata": {},
   "outputs": [],
   "source": [
    "df[\"max_temp\"] = df[\"max_temp\"].astype(int)"
   ]
  },
  {
   "cell_type": "code",
   "execution_count": 96,
   "id": "6781f38d",
   "metadata": {},
   "outputs": [],
   "source": [
    "df.drop(columns=[\"temperature\"], inplace=True)"
   ]
  },
  {
   "cell_type": "code",
   "execution_count": 97,
   "id": "a7064834",
   "metadata": {},
   "outputs": [
    {
     "data": {
      "application/vnd.microsoft.datawrangler.viewer.v0+json": {
       "columns": [
        {
         "name": "index",
         "rawType": "int64",
         "type": "integer"
        },
        {
         "name": "brand",
         "rawType": "object",
         "type": "string"
        },
        {
         "name": "model",
         "rawType": "object",
         "type": "string"
        },
        {
         "name": "type",
         "rawType": "object",
         "type": "string"
        },
        {
         "name": "energy_class",
         "rawType": "object",
         "type": "string"
        },
        {
         "name": "area",
         "rawType": "object",
         "type": "string"
        },
        {
         "name": "functions",
         "rawType": "object",
         "type": "string"
        },
        {
         "name": "guarantee",
         "rawType": "object",
         "type": "string"
        },
        {
         "name": "curr_price",
         "rawType": "object",
         "type": "string"
        },
        {
         "name": "prev_price",
         "rawType": "object",
         "type": "unknown"
        },
        {
         "name": "min_power",
         "rawType": "int64",
         "type": "integer"
        },
        {
         "name": "max_power",
         "rawType": "int64",
         "type": "integer"
        },
        {
         "name": "min_temp",
         "rawType": "int64",
         "type": "integer"
        },
        {
         "name": "max_temp",
         "rawType": "int64",
         "type": "integer"
        }
       ],
       "ref": "06a9e931-e8f3-4e2a-9bd8-355f3b2517a8",
       "rows": [
        [
         "0",
         "VIVAX",
         "ACP-12CH35AEFIs R32",
         "ИНВЕРТЕР СПЛИТ СИСТЕМ",
         "A++",
         "ДО 30 м2",
         "Внесете свежина во вашите домашни и деловни простории и во најтешките летни денови!",
         "5 ГОДИНИ",
         "17.990",
         "20.990",
         "3517",
         "3810",
         "-10",
         "50"
        ],
        [
         "1",
         "TESLA",
         "CLASSIC TA36FFLL-1232IA",
         "ИНВЕРТЕР СПЛИТ СИСТЕМ",
         "A++",
         "ДО 35 м2",
         "/",
         "3 ГОДИНИ",
         "18.990",
         null,
         "3400",
         "3500",
         "-15",
         "49"
        ],
        [
         "2",
         "VIVAX",
         "ACP-12CH35AEXIs R32",
         "ИНВЕРТЕР СПЛИТ СИСТЕМ",
         "A++",
         "ДО 30 м2",
         "/",
         "5 ГОДИНИ",
         "19.990",
         "24.990",
         "3520",
         "3810",
         "-15",
         "50"
        ],
        [
         "3",
         "VIVAX",
         "ACP-09CH25AEQIS R32",
         "ИНВЕРТЕР СПЛИТ СИСТЕМ",
         "A++",
         "ДО 25 м2",
         "Висока ефикасност, прикажување на самодијагноза, индикатор за истекување на гасот за разладување, 1W standby, турбо, заштита на вентил на надворешна единица, интелегентно отопување, 12 Fan Speed, безшумна опција, двосмерен одвод на кондензат, дигитален екран.",
         "5 ГОДИНИ",
         "19.990",
         "22.990",
         "2638",
         "2930",
         "-15",
         "50"
        ],
        [
         "4",
         "VIVAX",
         "ACP-09PT25AEG",
         "МОБИЛНИ КЛИМА УРЕДИ",
         "A",
         "ДО 25 м2",
         "Тајмер, 3 стапки на проток на воздух, Рачно ракување, Повеќенасочни тркала.",
         "3 ГОДИНИ",
         "19.990",
         null,
         "2640",
         "2640",
         "17",
         "35"
        ],
        [
         "5",
         "TOSOT",
         "MUSE PREMIUM TWH12AFBXB-K6DNA5A",
         "ИНВЕРТЕР СПЛИТ СИСТЕМ",
         "A++",
         "ДО 30 м2",
         "Произведено од GREE. Самодијагноза, интелегентно отопување, аuto restart, нормален sleep mode,тајмер, turbo",
         "3 ГОДИНИ",
         "19.990",
         "31.990",
         "3200",
         "3400",
         "-15",
         "43"
        ],
        [
         "6",
         "VIVAX",
         "ACP-09CH25AEMIS R32",
         "ИНВЕРТЕР СПЛИТ СИСТЕМ",
         "A++",
         "ДО 25 м2",
         "Висока ефикасност, самодијагноза, 1W standby, заштита на вентил надворешна единица, 12 Fan Speed, self cleaning, индикатор за истекување на гасот за разладување, безшумна операција, двосмерен одвод на кондензат, дигитален екран, sleep mode, тајмер, интелегентно отопување, memory функција, турбо, припрема за Wi-Fi  ( WiFi ready )",
         "5 ГОДИНИ",
         "19.990",
         "24.990",
         "2638",
         "2930",
         "-15",
         "50"
        ],
        [
         "7",
         "VIVAX",
         "ACP-12CH35AEQIS R32",
         "ИНВЕРТЕР СПЛИТ СИСТЕМ",
         "A++",
         "ДО 35 м2",
         "Висока ефикасност, прикажување на самодијагноза, индикатор за истекување на гасот за разладување, 1W standby, турбо, заштита на вентил на надворешна единица, интелегентно отопување, 12 Fan Speed, безшумна опција, двосмерен одвод на кондензат, дигитален екран.",
         "5 ГОДИНИ",
         "20.990",
         "25.990",
         "3517",
         "3810",
         "-15",
         "50"
        ],
        [
         "8",
         "TESLA",
         "CLASSIC TT34EX21-1232IA",
         "ИНВЕРТЕР СПЛИТ СИСТЕМ",
         "A++",
         "ДО 35 м2",
         "/",
         "3 ГОДИНИ",
         "20.990",
         "25.990",
         "3400",
         "3420",
         "-20",
         "53"
        ],
        [
         "9",
         "VIVAX",
         "ACP-12CH35AEMIS R32",
         "ИНВЕРТЕР СПЛИТ СИСТЕМ",
         "A++",
         "ДО 35 м2",
         "-ГРАТИС WI-FI МОДУЛ!\nВисока ефикасност, самодијагноза, 1W standby, заштита на вентил надворешна единица, висока ефикасност, 12 Fan Speed, self cleaning, индикатор за истекување на гасот за разладување, безшумна операција, двосмерен одвод на кондензат, дигитален екран, sleep mode, тајмер, интелегентно отопување, memory функција, турбо.",
         "5 ГОДИНИ",
         "21.990",
         "27.990",
         "3517",
         "3810",
         "-15",
         "50"
        ],
        [
         "10",
         "TESLA",
         "SELECT TT34EX81-1232IAW",
         "ИНВЕРТЕР СПЛИТ СИСТЕМ",
         "A++",
         "ДО 35 м2",
         "/",
         "3 ГОДИНИ",
         "21.990",
         "26.990",
         "3400",
         "3420",
         "-20",
         "53"
        ],
        [
         "11",
         "TESLA",
         "PORTABLE TTMYW-12CHW",
         "МОБИЛНИ КЛИМА УРЕДИ",
         "A",
         "ДО 30 м2",
         "/",
         "3 ГОДИНИ",
         "22.990",
         null,
         "3200",
         "2900",
         "0",
         "0"
        ],
        [
         "12",
         "TESLA",
         "SELECT STYLE TT34EX82BM-1232IAW",
         "ИНВЕРТЕР СПЛИТ СИСТЕМ",
         "A++",
         "ДО 35 м2",
         "Стерилизација на 56°C",
         "3 ГОДИНИ",
         "22.990",
         null,
         "3400",
         "3420",
         "-20",
         "53"
        ],
        [
         "13",
         "TESLA",
         "SELECT STYLE TT34EX82SM-1232IAW",
         "ИНВЕРТЕР СПЛИТ СИСТЕМ",
         "A++",
         "ДО 35 м2",
         "Стерилизација на 56°C",
         "3 ГОДИНИ",
         "22.990",
         null,
         "3400",
         "3420",
         "-20",
         "53"
        ],
        [
         "14",
         "GREE",
         "Charmo Premium GWH12ATBXB-K6DNA1D",
         "ИНВЕРТЕР СПЛИТ СИСТЕМ",
         "A++",
         "ДО 30 м2",
         "GREE компресор со магнети од ретки метали (Rare Earth Magnet)\nФункции",
         "10 ГОДИНИ",
         "22.990",
         "26.990",
         "3200",
         "3400",
         "-15",
         "43"
        ],
        [
         "15",
         "TCL",
         "Elite Lite TAC-12CHSD/XA73IF",
         "ИНВЕРТЕР СПЛИТ СИСТЕМ",
         "A++",
         "ДО 35 м2",
         "/",
         "3 ГОДИНИ",
         "22.990",
         "25.990",
         "3400",
         "3420",
         "-20",
         "53"
        ],
        [
         "16",
         "VIVAX",
         "ACP-12CH35AENI R32",
         "ИНВЕРТЕР СПЛИТ СИСТЕМ",
         "A++",
         "ДО 35 м2",
         "/",
         "5 ГОДИНИ",
         "22.990",
         "27.990",
         "3517",
         "3810",
         "-20",
         "50"
        ],
        [
         "17",
         "TESLA",
         "PORTABLE TTMYB-12CHW",
         "МОБИЛНИ КЛИМА УРЕДИ",
         "A",
         "ДО 30 м2",
         "/",
         "3 ГОДИНИ",
         "23.590",
         null,
         "3200",
         "2900",
         "0",
         "0"
        ],
        [
         "18",
         "AUX",
         "Gentle Breeze ASW-H09B5C4/CAR3DI-C3",
         "ИНВЕРТЕР СПЛИТ СИСТЕМ",
         "A++",
         "ДО 25 м2",
         "A++ / A+++ висока енергетска класа при ладење / греење (топла зона)\nDC Hybrid inverter  технологија\nSOFT AIR микро отвори за безосетно ладење\nвграден WiFi уред за постојана контрола \nI FEEL опција со далечинско како термостат, VOICE Control, 4D Wind, UVC дезинфекција\nгреач во када на надворешната единица против мрзнење\nопсег на работа ладење – надворешна температура од 15 ÷ 52oC\nопсег на работа греење – надворешна температура од -25 ÷ 24oC",
         "5 ГОДИНИ",
         "23.990",
         null,
         "2700",
         "3200",
         "-25",
         "52"
        ],
        [
         "19",
         "VIVAX",
         "ACP-12PT35AEFs",
         "МОБИЛНИ КЛИМА УРЕДИ",
         "A",
         "ДО 35 м2",
         "0.5 W standby, мemory функција (auto-restart), аnti cool air design, oдвлажнување, тајмер, sleep mode, led display, прикажување на само дијагноза, повеќенасочни позиции, самоиспарувачки систем.",
         "3 ГОДИНИ",
         "23.990",
         null,
         "3517",
         "3517",
         "0",
         "0"
        ],
        [
         "20",
         "HISENSE",
         "EASY SMART CA35YR03G-CA35YR03W",
         "ИНВЕРТЕР СПЛИТ СИСТЕМ",
         "A++",
         "ДО 35 м2",
         "5 години гаранција на компресор ( 16.10.2025-31.10.2025 ) со регистрација на  https",
         "2 ( 5 години на компресор ) ГОДИНИ",
         "23.990",
         "28.990",
         "3400",
         "3800",
         "-20",
         "43"
        ],
        [
         "21",
         "TESLA",
         "ADVANCE TA36QQCT-1232IAWT",
         "ИНВЕРТЕР СПЛИТ СИСТЕМ",
         "A++",
         "ДО 35 м2",
         "Функција против создавање на мувла и габи \nФункција против ‘рѓа \nСтерилизација на 56°C",
         "3 ГОДИНИ",
         "24.990",
         null,
         "3500",
         "3800",
         "-25",
         "49"
        ],
        [
         "22",
         "AUX",
         "Gentle Breeze ASW-H12C5A4/CAR3DI-B8",
         "ИНВЕРТЕР СПЛИТ СИСТЕМ",
         "A++",
         "ДО 35 м2",
         "A++ / A+++ висока енергетска класа при ладење / греење (топла зона)\nDC Hybrid inverter  технологија\nSOFT AIR микро отвори за безосетно ладење\nвграден WiFi уред за постојана контрола \nI FEEL опција со далечинско како термостат, VOICE Control, 4D Wind, UVC дезинфекција\nгреач во када на надворешната единица против мрзнење\nопсег на работа ладење – надворешна температура од 15 ÷ 52oC\nопсег на работа греење – надворешна температура од -25 ÷ 24oC",
         "5 ГОДИНИ",
         "24.990",
         null,
         "3500",
         "3800",
         "-25",
         "52"
        ],
        [
         "23",
         "TESLA",
         "ADVANCE TT34TP81-1232IAWT",
         "ИНВЕРТЕР СПЛИТ СИСТЕМ",
         "A++",
         "ДО 35 м2",
         "UV lamp",
         "3 ГОДИНИ",
         "24.990",
         "28.990",
         "3500",
         "3620",
         "-25",
         "53"
        ],
        [
         "24",
         "TESLA",
         "ADVANCE TT34TP81-1232IHWT",
         "ИНВЕРТЕР СПЛИТ СИСТЕМ",
         "A+++",
         "ДО 35 м2",
         "Функција против создавање на мувла и габи \nФункција против ‘рѓа \nСтерилизација на 56°C",
         "3 ГОДИНИ",
         "25.990",
         null,
         "3520",
         "3860",
         "-25",
         "52"
        ],
        [
         "25",
         "GREE",
         "PULAR PREMIUM GWH07AGA-K6DNA1A",
         "ИНВЕРТЕР СПЛИТ СИСТЕМ",
         "A++",
         "ДО 20 м2",
         "/",
         "10 ГОДИНИ",
         "25.990",
         "29.990",
         "2200",
         "2400",
         "-15",
         "43"
        ],
        [
         "26",
         "HAIER",
         "AS25RHBHRA / 1U25YERFRA Revive",
         "ИНВЕРТЕР СПЛИТ СИСТЕМ",
         "A++",
         "ДО 25 м2",
         "- Фабрички вграден hOn Wi-Fi\n- Tивок режим на работа (18dB)\n- Coanda Plus технологија за рамномерна дистрибуција на воздухот\n- Super Quiet mode, Comfortable sleep mode, Aнтибактериски филтер\n- Модерниот дизајн дава можност за многу брза и прецизна инсталација",
         "3 ГОДИНИ",
         "25.990",
         null,
         "2500",
         "2800",
         "-15",
         "43"
        ],
        [
         "27",
         "VIVAX",
         "ACP-12PT35AEHs",
         "МОБИЛНИ КЛИМА УРЕДИ",
         "A+",
         "ДО 35 м2",
         "0.5 W standby, memory функција (auto-restart), anti cool air design, oдвлажнување, тајмер, sleep mode, led display, прикажување на само диагноза, повеќенасочни позиции, самоиспарувачки систем.",
         "3 ГОДИНИ",
         "25.990",
         null,
         "3500",
         "2900",
         "5",
         "35"
        ],
        [
         "28",
         "HAIER",
         "AS35RHBHRA / 1U35YERFRA Revive",
         "ИНВЕРТЕР СПЛИТ СИСТЕМ",
         "A++",
         "ДО 35 м2",
         "- Фабрички вграден hOn Wi-Fi - Tивок режим на работа (18dB) - Coanda Plus технологија за рамномерна дистрибуција на воздухот - Super Quiet mode, Comfortable sleep mode, Aнтибактериски филтер - Модерниот дизајн дава можност за многу брза и прецизна инсталација",
         "3 ГОДИНИ",
         "26.990",
         "32.000",
         "3200",
         "3400",
         "-15",
         "43"
        ],
        [
         "29",
         "GREE",
         "Charmo Arctic PRO II GWH09ATCXB-K6DNA4A",
         "ИНВЕРТЕР СПЛИТ СИСТЕМ",
         "A++",
         "ДО 25 м2",
         "Функции",
         "10 ГОДИНИ",
         "26.990",
         "29.990",
         "2700",
         "3000",
         "-25",
         "50"
        ],
        [
         "30",
         "GREE",
         "PULAR PREMIUM GWH09AGA-K6DNA1A",
         "ИНВЕРТЕР СПЛИТ СИСТЕМ",
         "A++",
         "ДО 25 м2",
         "/",
         "10 ГОДИНИ",
         "26.990",
         "31.990",
         "2500",
         "2800",
         "-15",
         "43"
        ],
        [
         "31",
         "TESLA",
         "ADVANCE TT34TP91-1232IHWT",
         "ИНВЕРТЕР СПЛИТ СИСТЕМ",
         "A+++",
         "ДО 35 м2",
         "UV lamp",
         "3 ГОДИНИ",
         "26.990",
         null,
         "3510",
         "3800",
         "-25",
         "53"
        ],
        [
         "32",
         "HISENSE",
         "WINGS PRO KB35YR3EG-KB35YR3EW",
         "ИНВЕРТЕР СПЛИТ СИСТЕМ",
         "A++",
         "ДО 35 м2",
         "5 години гаранција на компресор ( 16.10.2025-31.10.2025 ) со регистрација на  https",
         "2 ( 5 години на компресор ) ГОДИНИ",
         "26.990",
         "32.990",
         "3400",
         "3800",
         "-20",
         "43"
        ],
        [
         "33",
         "BOSCH",
         "CLIMATE 2000 26 WE",
         "ИНВЕРТЕР СПЛИТ СИСТЕМ",
         "A++",
         "ДО 25 м2",
         "- Внатрешната единица може да работи исклучително тивко со ниво на бучавост од само 21 dB(A)\n- Филтрите со висока густина и филтрите со ладен катализатор ја отстрануваат прашината и поленот од просторијата до 80%\n- Комбинацијата на вертикални и хоризонтални перки за вентилација обезбедува рамномерна распределба на протокот на воздух",
         "3 ГОДИНИ",
         "27.900",
         "35.900",
         "2600",
         "2900",
         "-15",
         "50"
        ],
        [
         "34",
         "GREE",
         "FAIRY PREMIUM GWH12ACC-K6DNA1F",
         "ИНВЕРТЕР СПЛИТ СИСТЕМ",
         "A++",
         "ДО 35 м2",
         "SMART DC Инвертер со G10 технологија, патент на ГРЕЕ\nGREE компресор со магнети од ретки метали (Rare Earth Magnet)\nEEV – Eлектронски експанзионен вентил, Грејач на тацна за одмрзнување на кондензат\nФункции",
         "10 ГОДИНИ",
         "27.990",
         "39.990",
         "3510",
         "3810",
         "-25",
         "50"
        ],
        [
         "35",
         "GREE",
         "FAIRY PREMIUM Black GWH12ACC-K6DNA1F",
         "ИНВЕРТЕР СПЛИТ СИСТЕМ",
         "A++",
         "ДО 35 м2",
         "SMART DC Инвертер со G10 технологија, патент на ГРЕЕ GREE компресор со магнети од ретки метали (Rare Earth Magnet) EEV – Eлектронски експанзионен вентил, Грејач на тацна за одмрзнување на кондензат Функции",
         "10 ГОДИНИ",
         "27.990",
         "41.990",
         "3510",
         "3810",
         "-25",
         "50"
        ],
        [
         "36",
         "VIVAX",
         "ACP-09CH25AERI+ R32",
         "ИНВЕРТЕР СПЛИТ СИСТЕМ",
         "A+++",
         "ДО 25 м2",
         "/",
         "5 ГОДИНИ",
         "27.990",
         "33.990",
         "2638",
         "2931",
         "-25",
         "50"
        ],
        [
         "37",
         "VIVAX",
         "ACP-12CH35AERI+ R32",
         "ИНВЕРТЕР СПЛИТ СИСТЕМ",
         "A+++",
         "ДО 35 м2",
         "/",
         "5 ГОДИНИ",
         "27.990",
         "36.990",
         "3517",
         "3810",
         "-25",
         "50"
        ],
        [
         "38",
         "VIVAX",
         "ACP-09CH25AERI+ R32 Gold",
         "ИНВЕРТЕР СПЛИТ СИСТЕМ",
         "A+++",
         "ДО 25 м2",
         "/",
         "5 ГОДИНИ",
         "27.990",
         "33.990",
         "2638",
         "2931",
         "-25",
         "50"
        ],
        [
         "39",
         "VIVAX",
         "ACP-09CH25AERI+ R32 Silver",
         "ИНВЕРТЕР СПЛИТ СИСТЕМ",
         "A+++",
         "ДО 25 м2",
         "/",
         "5 ГОДИНИ",
         "27.990",
         "33.990",
         "2638",
         "2931",
         "-25",
         "50"
        ],
        [
         "40",
         "TOSOT",
         "MUSE EXTREME LCLH TWH12AFC-K6DNA5F",
         "ИНВЕРТЕР СПЛИТ СИСТЕМ",
         "A++",
         "ДО 35 м2",
         "Произведено од GREE. Самодијагноза, интелегентно отопување, аuto restart, I Feel фунција, нормален sleep mode,тајмер, turbo",
         "3 ГОДИНИ",
         "27.990",
         "37.990",
         "3510",
         "3810",
         "-25",
         "50"
        ],
        [
         "41",
         "HAIER",
         "TIDE PLUS AS25THMHRA-C/1U25YEFFRA-C",
         "ИНВЕРТЕР СПЛИТ СИСТЕМ",
         "A++",
         "ДО 25 м2",
         "DC Inverter технологија со Intelligent Air, функција на самочистење и самодијагностицирање, можност за Wi-Fi управување, Auto-restart, 24h тајмер, оптимизиран дизајн на вентилаторот.",
         "3 ГОДИНИ",
         "27.990",
         "31.990",
         "2600",
         "2800",
         "-15",
         "43"
        ],
        [
         "42",
         "HAIER",
         "TUNDRA PLUS AS25TAEHRA-THC/1U25YEFFRA-1",
         "ИНВЕРТЕР СПЛИТ СИСТЕМ",
         "A++",
         "ДО 25 м2",
         "180° sine wave DC Inverter технологија со IntelligentAir, Super Quiet mode, Comfortable sleep mode - режими на работа , Eurovent сертификат, можност за Wi-Fi управување, функција на самочистење и самодијагностицирање, Auto-restart, 24hтајмер.",
         "3 ГОДИНИ",
         "27.990",
         "36.990",
         "2600",
         "2900",
         "-15",
         "43"
        ],
        [
         "43",
         "HAIER",
         "TUNDRA GREEN AS25TADHRA-CL/1U25BEЕFRA",
         "ИНВЕРТЕР СПЛИТ СИСТЕМ",
         "A++",
         "ДО 25 м2",
         "180° sine wave DC Inverter технологија со IntelligentAir, Super Quiet mode, Comfortable sleep mode - режими на работа \n, Eurovent сертификат, можност за Wi-Fi управување, функција на самочистење и самодијагностицирање, Auto-restart, 24hтајмер.",
         "3 ГОДИНИ",
         "27.990",
         "33.990",
         "2600",
         "2900",
         "-15",
         "43"
        ],
        [
         "44",
         "GREE",
         "Charmo Arctic PRO II GWH12ATCXB-K6DNA4A",
         "ИНВЕРТЕР СПЛИТ СИСТЕМ",
         "A++",
         "ДО 35 м2",
         "Функции",
         "10 ГОДИНИ",
         "27.990",
         "30.990",
         "3510",
         "3810",
         "-25",
         "50"
        ],
        [
         "45",
         "GREE",
         "PULAR PREMIUM GWH12AGC-K6DNA1A",
         "ИНВЕРТЕР СПЛИТ СИСТЕМ",
         "A++",
         "ДО 30 м2",
         "/",
         "10 ГОДИНИ",
         "27.990",
         "33.990",
         "3200",
         "3400",
         "-15",
         "43"
        ],
        [
         "46",
         "TESLA",
         "STANDARD TT51X81-18410A",
         "СТАНДАРД СПЛИТ СИСТЕМ",
         "A",
         "ДО 55 м2",
         "/",
         "3 ГОДИНИ",
         "28.990",
         "29.990",
         "4990",
         "5310",
         "-7",
         "43"
        ],
        [
         "47",
         "VIVAX",
         "ACP-12CH35AERI+ R32 Red",
         "ИНВЕРТЕР СПЛИТ СИСТЕМ",
         "A+++",
         "ДО 35 м2",
         "/",
         "5 ГОДИНИ",
         "29.990",
         "36.990",
         "3517",
         "3810",
         "-25",
         "50"
        ],
        [
         "48",
         "VIVAX",
         "ACP-12CH35AERI+ R32 Silver",
         "ИНВЕРТЕР СПЛИТ СИСТЕМ",
         "A+++",
         "ДО 35 м2",
         "/",
         "5 ГОДИНИ",
         "29.990",
         "36.990",
         "3517",
         "3810",
         "-25",
         "50"
        ],
        [
         "49",
         "VIVAX",
         "ACP-12CH35AERI+ R32 Gold",
         "ИНВЕРТЕР СПЛИТ СИСТЕМ",
         "A+++",
         "ДО 35 м2",
         "/",
         "5 ГОДИНИ",
         "29.990",
         "36.990",
         "3517",
         "3810",
         "-25",
         "50"
        ]
       ],
       "shape": {
        "columns": 13,
        "rows": 286
       }
      },
      "text/html": [
       "<div>\n",
       "<style scoped>\n",
       "    .dataframe tbody tr th:only-of-type {\n",
       "        vertical-align: middle;\n",
       "    }\n",
       "\n",
       "    .dataframe tbody tr th {\n",
       "        vertical-align: top;\n",
       "    }\n",
       "\n",
       "    .dataframe thead th {\n",
       "        text-align: right;\n",
       "    }\n",
       "</style>\n",
       "<table border=\"1\" class=\"dataframe\">\n",
       "  <thead>\n",
       "    <tr style=\"text-align: right;\">\n",
       "      <th></th>\n",
       "      <th>brand</th>\n",
       "      <th>model</th>\n",
       "      <th>type</th>\n",
       "      <th>energy_class</th>\n",
       "      <th>area</th>\n",
       "      <th>functions</th>\n",
       "      <th>guarantee</th>\n",
       "      <th>curr_price</th>\n",
       "      <th>prev_price</th>\n",
       "      <th>min_power</th>\n",
       "      <th>max_power</th>\n",
       "      <th>min_temp</th>\n",
       "      <th>max_temp</th>\n",
       "    </tr>\n",
       "  </thead>\n",
       "  <tbody>\n",
       "    <tr>\n",
       "      <th>0</th>\n",
       "      <td>VIVAX</td>\n",
       "      <td>ACP-12CH35AEFIs R32</td>\n",
       "      <td>ИНВЕРТЕР СПЛИТ СИСТЕМ</td>\n",
       "      <td>A++</td>\n",
       "      <td>ДО 30 м2</td>\n",
       "      <td>Внесете свежина во вашите домашни и деловни пр...</td>\n",
       "      <td>5 ГОДИНИ</td>\n",
       "      <td>17.990</td>\n",
       "      <td>20.990</td>\n",
       "      <td>3517</td>\n",
       "      <td>3810</td>\n",
       "      <td>-10</td>\n",
       "      <td>50</td>\n",
       "    </tr>\n",
       "    <tr>\n",
       "      <th>1</th>\n",
       "      <td>TESLA</td>\n",
       "      <td>CLASSIC TA36FFLL-1232IA</td>\n",
       "      <td>ИНВЕРТЕР СПЛИТ СИСТЕМ</td>\n",
       "      <td>A++</td>\n",
       "      <td>ДО 35 м2</td>\n",
       "      <td>/</td>\n",
       "      <td>3 ГОДИНИ</td>\n",
       "      <td>18.990</td>\n",
       "      <td>NaN</td>\n",
       "      <td>3400</td>\n",
       "      <td>3500</td>\n",
       "      <td>-15</td>\n",
       "      <td>49</td>\n",
       "    </tr>\n",
       "    <tr>\n",
       "      <th>2</th>\n",
       "      <td>VIVAX</td>\n",
       "      <td>ACP-12CH35AEXIs R32</td>\n",
       "      <td>ИНВЕРТЕР СПЛИТ СИСТЕМ</td>\n",
       "      <td>A++</td>\n",
       "      <td>ДО 30 м2</td>\n",
       "      <td>/</td>\n",
       "      <td>5 ГОДИНИ</td>\n",
       "      <td>19.990</td>\n",
       "      <td>24.990</td>\n",
       "      <td>3520</td>\n",
       "      <td>3810</td>\n",
       "      <td>-15</td>\n",
       "      <td>50</td>\n",
       "    </tr>\n",
       "    <tr>\n",
       "      <th>3</th>\n",
       "      <td>VIVAX</td>\n",
       "      <td>ACP-09CH25AEQIS R32</td>\n",
       "      <td>ИНВЕРТЕР СПЛИТ СИСТЕМ</td>\n",
       "      <td>A++</td>\n",
       "      <td>ДО 25 м2</td>\n",
       "      <td>Висока ефикасност, прикажување на самодијагноз...</td>\n",
       "      <td>5 ГОДИНИ</td>\n",
       "      <td>19.990</td>\n",
       "      <td>22.990</td>\n",
       "      <td>2638</td>\n",
       "      <td>2930</td>\n",
       "      <td>-15</td>\n",
       "      <td>50</td>\n",
       "    </tr>\n",
       "    <tr>\n",
       "      <th>4</th>\n",
       "      <td>VIVAX</td>\n",
       "      <td>ACP-09PT25AEG</td>\n",
       "      <td>МОБИЛНИ КЛИМА УРЕДИ</td>\n",
       "      <td>A</td>\n",
       "      <td>ДО 25 м2</td>\n",
       "      <td>Тајмер, 3 стапки на проток на воздух, Рачно ра...</td>\n",
       "      <td>3 ГОДИНИ</td>\n",
       "      <td>19.990</td>\n",
       "      <td>NaN</td>\n",
       "      <td>2640</td>\n",
       "      <td>2640</td>\n",
       "      <td>17</td>\n",
       "      <td>35</td>\n",
       "    </tr>\n",
       "    <tr>\n",
       "      <th>...</th>\n",
       "      <td>...</td>\n",
       "      <td>...</td>\n",
       "      <td>...</td>\n",
       "      <td>...</td>\n",
       "      <td>...</td>\n",
       "      <td>...</td>\n",
       "      <td>...</td>\n",
       "      <td>...</td>\n",
       "      <td>...</td>\n",
       "      <td>...</td>\n",
       "      <td>...</td>\n",
       "      <td>...</td>\n",
       "      <td>...</td>\n",
       "    </tr>\n",
       "    <tr>\n",
       "      <th>281</th>\n",
       "      <td>VIVAX</td>\n",
       "      <td>ACP-55DT160AERI+ R32</td>\n",
       "      <td>КАНАЛНИ СИСТЕМИ</td>\n",
       "      <td>A++</td>\n",
       "      <td>ДО 170 м2</td>\n",
       "      <td>/</td>\n",
       "      <td>5 ГОДИНИ</td>\n",
       "      <td>199.990</td>\n",
       "      <td>NaN</td>\n",
       "      <td>15240</td>\n",
       "      <td>18170</td>\n",
       "      <td>-20</td>\n",
       "      <td>50</td>\n",
       "    </tr>\n",
       "    <tr>\n",
       "      <th>282</th>\n",
       "      <td>VIVAX</td>\n",
       "      <td>ACP-55FS160AERI R410A</td>\n",
       "      <td>САМОСТОЕЧКИ</td>\n",
       "      <td>A++</td>\n",
       "      <td>ДО 170 м2</td>\n",
       "      <td>/</td>\n",
       "      <td>5 ГОДИНИ</td>\n",
       "      <td>199.990</td>\n",
       "      <td>NaN</td>\n",
       "      <td>16120</td>\n",
       "      <td>17000</td>\n",
       "      <td>-15</td>\n",
       "      <td>50</td>\n",
       "    </tr>\n",
       "    <tr>\n",
       "      <th>283</th>\n",
       "      <td>MITSUBISHI</td>\n",
       "      <td>Heavy Diamond Hyperinverter SRK/SRC 100 ZR-W</td>\n",
       "      <td>ИНВЕРТЕР СПЛИТ СИСТЕМ</td>\n",
       "      <td>A+</td>\n",
       "      <td>ДО 100 м2</td>\n",
       "      <td>• Серијата ZR е идеално решение за греење и ла...</td>\n",
       "      <td>3 ГОДИНИ</td>\n",
       "      <td>205.590</td>\n",
       "      <td>NaN</td>\n",
       "      <td>9600</td>\n",
       "      <td>10000</td>\n",
       "      <td>-15</td>\n",
       "      <td>46</td>\n",
       "    </tr>\n",
       "    <tr>\n",
       "      <th>284</th>\n",
       "      <td>TOSHIBA</td>\n",
       "      <td>Inverter RAV-RM1401FT / RAV-GM1401ATP-E</td>\n",
       "      <td>САМОСТОЕЧКИ</td>\n",
       "      <td>A</td>\n",
       "      <td>ДО 140 м2</td>\n",
       "      <td>Екстремно тивок и штедлив клима уред\\nА/ А ене...</td>\n",
       "      <td>3 ГОДИНИ</td>\n",
       "      <td>249.990</td>\n",
       "      <td>NaN</td>\n",
       "      <td>14000</td>\n",
       "      <td>14600</td>\n",
       "      <td>-15</td>\n",
       "      <td>46</td>\n",
       "    </tr>\n",
       "    <tr>\n",
       "      <th>285</th>\n",
       "      <td>TOSHIBA</td>\n",
       "      <td>Inverter RAV-RM1601FT / RAV-GM1601ATP-E</td>\n",
       "      <td>САМОСТОЕЧКИ</td>\n",
       "      <td>A</td>\n",
       "      <td>ДО 170 м2</td>\n",
       "      <td>Екстремно тивок и штедлив клима уред А/ А енер...</td>\n",
       "      <td>3 ГОДИНИ</td>\n",
       "      <td>305.990</td>\n",
       "      <td>NaN</td>\n",
       "      <td>14000</td>\n",
       "      <td>16000</td>\n",
       "      <td>-15</td>\n",
       "      <td>53</td>\n",
       "    </tr>\n",
       "  </tbody>\n",
       "</table>\n",
       "<p>286 rows × 13 columns</p>\n",
       "</div>"
      ],
      "text/plain": [
       "          brand                                         model  \\\n",
       "0         VIVAX                           ACP-12CH35AEFIs R32   \n",
       "1         TESLA                       CLASSIC TA36FFLL-1232IA   \n",
       "2         VIVAX                           ACP-12CH35AEXIs R32   \n",
       "3         VIVAX                           ACP-09CH25AEQIS R32   \n",
       "4         VIVAX                                 ACP-09PT25AEG   \n",
       "..          ...                                           ...   \n",
       "281       VIVAX                          ACP-55DT160AERI+ R32   \n",
       "282       VIVAX                         ACP-55FS160AERI R410A   \n",
       "283  MITSUBISHI  Heavy Diamond Hyperinverter SRK/SRC 100 ZR-W   \n",
       "284     TOSHIBA       Inverter RAV-RM1401FT / RAV-GM1401ATP-E   \n",
       "285     TOSHIBA       Inverter RAV-RM1601FT / RAV-GM1601ATP-E   \n",
       "\n",
       "                      type energy_class       area  \\\n",
       "0    ИНВЕРТЕР СПЛИТ СИСТЕМ          A++   ДО 30 м2   \n",
       "1    ИНВЕРТЕР СПЛИТ СИСТЕМ          A++   ДО 35 м2   \n",
       "2    ИНВЕРТЕР СПЛИТ СИСТЕМ          A++   ДО 30 м2   \n",
       "3    ИНВЕРТЕР СПЛИТ СИСТЕМ          A++   ДО 25 м2   \n",
       "4      МОБИЛНИ КЛИМА УРЕДИ            A   ДО 25 м2   \n",
       "..                     ...          ...        ...   \n",
       "281        КАНАЛНИ СИСТЕМИ          A++  ДО 170 м2   \n",
       "282            САМОСТОЕЧКИ          A++  ДО 170 м2   \n",
       "283  ИНВЕРТЕР СПЛИТ СИСТЕМ           A+  ДО 100 м2   \n",
       "284            САМОСТОЕЧКИ            A  ДО 140 м2   \n",
       "285            САМОСТОЕЧКИ            A  ДО 170 м2   \n",
       "\n",
       "                                             functions guarantee curr_price  \\\n",
       "0    Внесете свежина во вашите домашни и деловни пр...  5 ГОДИНИ     17.990   \n",
       "1                                                    /  3 ГОДИНИ     18.990   \n",
       "2                                                    /  5 ГОДИНИ     19.990   \n",
       "3    Висока ефикасност, прикажување на самодијагноз...  5 ГОДИНИ     19.990   \n",
       "4    Тајмер, 3 стапки на проток на воздух, Рачно ра...  3 ГОДИНИ     19.990   \n",
       "..                                                 ...       ...        ...   \n",
       "281                                                  /  5 ГОДИНИ    199.990   \n",
       "282                                                  /  5 ГОДИНИ    199.990   \n",
       "283  • Серијата ZR е идеално решение за греење и ла...  3 ГОДИНИ    205.590   \n",
       "284  Екстремно тивок и штедлив клима уред\\nА/ А ене...  3 ГОДИНИ    249.990   \n",
       "285  Екстремно тивок и штедлив клима уред А/ А енер...  3 ГОДИНИ    305.990   \n",
       "\n",
       "    prev_price  min_power  max_power  min_temp  max_temp  \n",
       "0       20.990       3517       3810       -10        50  \n",
       "1          NaN       3400       3500       -15        49  \n",
       "2       24.990       3520       3810       -15        50  \n",
       "3       22.990       2638       2930       -15        50  \n",
       "4          NaN       2640       2640        17        35  \n",
       "..         ...        ...        ...       ...       ...  \n",
       "281        NaN      15240      18170       -20        50  \n",
       "282        NaN      16120      17000       -15        50  \n",
       "283        NaN       9600      10000       -15        46  \n",
       "284        NaN      14000      14600       -15        46  \n",
       "285        NaN      14000      16000       -15        53  \n",
       "\n",
       "[286 rows x 13 columns]"
      ]
     },
     "execution_count": 97,
     "metadata": {},
     "output_type": "execute_result"
    }
   ],
   "source": [
    "df"
   ]
  },
  {
   "cell_type": "code",
   "execution_count": 98,
   "id": "b0b1f437",
   "metadata": {},
   "outputs": [],
   "source": [
    "df[\"area\"] = df[\"area\"].apply(lambda text: re.findall(r\"\\d+\", text)[0])"
   ]
  },
  {
   "cell_type": "code",
   "execution_count": 99,
   "id": "b6589053",
   "metadata": {},
   "outputs": [],
   "source": [
    "df[\"area\"] = df[\"area\"].astype(int)"
   ]
  },
  {
   "cell_type": "code",
   "execution_count": 100,
   "id": "a0a242fb",
   "metadata": {},
   "outputs": [],
   "source": [
    "df[\"guarantee\"] = df[\"guarantee\"].apply(lambda text: re.findall(r\"\\d+\", text)[0])"
   ]
  },
  {
   "cell_type": "code",
   "execution_count": 101,
   "id": "166809e5",
   "metadata": {},
   "outputs": [],
   "source": [
    "df[\"guarantee\"] = df[\"guarantee\"].astype(int)"
   ]
  },
  {
   "cell_type": "code",
   "execution_count": 102,
   "id": "66f6ea9f",
   "metadata": {},
   "outputs": [
    {
     "data": {
      "application/vnd.microsoft.datawrangler.viewer.v0+json": {
       "columns": [
        {
         "name": "index",
         "rawType": "int64",
         "type": "integer"
        },
        {
         "name": "brand",
         "rawType": "object",
         "type": "string"
        },
        {
         "name": "model",
         "rawType": "object",
         "type": "string"
        },
        {
         "name": "type",
         "rawType": "object",
         "type": "string"
        },
        {
         "name": "energy_class",
         "rawType": "object",
         "type": "string"
        },
        {
         "name": "area",
         "rawType": "int64",
         "type": "integer"
        },
        {
         "name": "functions",
         "rawType": "object",
         "type": "string"
        },
        {
         "name": "guarantee",
         "rawType": "int64",
         "type": "integer"
        },
        {
         "name": "curr_price",
         "rawType": "object",
         "type": "string"
        },
        {
         "name": "prev_price",
         "rawType": "object",
         "type": "unknown"
        },
        {
         "name": "min_power",
         "rawType": "int64",
         "type": "integer"
        },
        {
         "name": "max_power",
         "rawType": "int64",
         "type": "integer"
        },
        {
         "name": "min_temp",
         "rawType": "int64",
         "type": "integer"
        },
        {
         "name": "max_temp",
         "rawType": "int64",
         "type": "integer"
        }
       ],
       "ref": "5c2c2e5f-e1ec-4af2-bd8a-9be760e175b9",
       "rows": [
        [
         "0",
         "VIVAX",
         "ACP-12CH35AEFIs R32",
         "ИНВЕРТЕР СПЛИТ СИСТЕМ",
         "A++",
         "30",
         "Внесете свежина во вашите домашни и деловни простории и во најтешките летни денови!",
         "5",
         "17.990",
         "20.990",
         "3517",
         "3810",
         "-10",
         "50"
        ],
        [
         "1",
         "TESLA",
         "CLASSIC TA36FFLL-1232IA",
         "ИНВЕРТЕР СПЛИТ СИСТЕМ",
         "A++",
         "35",
         "/",
         "3",
         "18.990",
         null,
         "3400",
         "3500",
         "-15",
         "49"
        ],
        [
         "2",
         "VIVAX",
         "ACP-12CH35AEXIs R32",
         "ИНВЕРТЕР СПЛИТ СИСТЕМ",
         "A++",
         "30",
         "/",
         "5",
         "19.990",
         "24.990",
         "3520",
         "3810",
         "-15",
         "50"
        ],
        [
         "3",
         "VIVAX",
         "ACP-09CH25AEQIS R32",
         "ИНВЕРТЕР СПЛИТ СИСТЕМ",
         "A++",
         "25",
         "Висока ефикасност, прикажување на самодијагноза, индикатор за истекување на гасот за разладување, 1W standby, турбо, заштита на вентил на надворешна единица, интелегентно отопување, 12 Fan Speed, безшумна опција, двосмерен одвод на кондензат, дигитален екран.",
         "5",
         "19.990",
         "22.990",
         "2638",
         "2930",
         "-15",
         "50"
        ],
        [
         "4",
         "VIVAX",
         "ACP-09PT25AEG",
         "МОБИЛНИ КЛИМА УРЕДИ",
         "A",
         "25",
         "Тајмер, 3 стапки на проток на воздух, Рачно ракување, Повеќенасочни тркала.",
         "3",
         "19.990",
         null,
         "2640",
         "2640",
         "17",
         "35"
        ],
        [
         "5",
         "TOSOT",
         "MUSE PREMIUM TWH12AFBXB-K6DNA5A",
         "ИНВЕРТЕР СПЛИТ СИСТЕМ",
         "A++",
         "30",
         "Произведено од GREE. Самодијагноза, интелегентно отопување, аuto restart, нормален sleep mode,тајмер, turbo",
         "3",
         "19.990",
         "31.990",
         "3200",
         "3400",
         "-15",
         "43"
        ],
        [
         "6",
         "VIVAX",
         "ACP-09CH25AEMIS R32",
         "ИНВЕРТЕР СПЛИТ СИСТЕМ",
         "A++",
         "25",
         "Висока ефикасност, самодијагноза, 1W standby, заштита на вентил надворешна единица, 12 Fan Speed, self cleaning, индикатор за истекување на гасот за разладување, безшумна операција, двосмерен одвод на кондензат, дигитален екран, sleep mode, тајмер, интелегентно отопување, memory функција, турбо, припрема за Wi-Fi  ( WiFi ready )",
         "5",
         "19.990",
         "24.990",
         "2638",
         "2930",
         "-15",
         "50"
        ],
        [
         "7",
         "VIVAX",
         "ACP-12CH35AEQIS R32",
         "ИНВЕРТЕР СПЛИТ СИСТЕМ",
         "A++",
         "35",
         "Висока ефикасност, прикажување на самодијагноза, индикатор за истекување на гасот за разладување, 1W standby, турбо, заштита на вентил на надворешна единица, интелегентно отопување, 12 Fan Speed, безшумна опција, двосмерен одвод на кондензат, дигитален екран.",
         "5",
         "20.990",
         "25.990",
         "3517",
         "3810",
         "-15",
         "50"
        ],
        [
         "8",
         "TESLA",
         "CLASSIC TT34EX21-1232IA",
         "ИНВЕРТЕР СПЛИТ СИСТЕМ",
         "A++",
         "35",
         "/",
         "3",
         "20.990",
         "25.990",
         "3400",
         "3420",
         "-20",
         "53"
        ],
        [
         "9",
         "VIVAX",
         "ACP-12CH35AEMIS R32",
         "ИНВЕРТЕР СПЛИТ СИСТЕМ",
         "A++",
         "35",
         "-ГРАТИС WI-FI МОДУЛ!\nВисока ефикасност, самодијагноза, 1W standby, заштита на вентил надворешна единица, висока ефикасност, 12 Fan Speed, self cleaning, индикатор за истекување на гасот за разладување, безшумна операција, двосмерен одвод на кондензат, дигитален екран, sleep mode, тајмер, интелегентно отопување, memory функција, турбо.",
         "5",
         "21.990",
         "27.990",
         "3517",
         "3810",
         "-15",
         "50"
        ],
        [
         "10",
         "TESLA",
         "SELECT TT34EX81-1232IAW",
         "ИНВЕРТЕР СПЛИТ СИСТЕМ",
         "A++",
         "35",
         "/",
         "3",
         "21.990",
         "26.990",
         "3400",
         "3420",
         "-20",
         "53"
        ],
        [
         "11",
         "TESLA",
         "PORTABLE TTMYW-12CHW",
         "МОБИЛНИ КЛИМА УРЕДИ",
         "A",
         "30",
         "/",
         "3",
         "22.990",
         null,
         "3200",
         "2900",
         "0",
         "0"
        ],
        [
         "12",
         "TESLA",
         "SELECT STYLE TT34EX82BM-1232IAW",
         "ИНВЕРТЕР СПЛИТ СИСТЕМ",
         "A++",
         "35",
         "Стерилизација на 56°C",
         "3",
         "22.990",
         null,
         "3400",
         "3420",
         "-20",
         "53"
        ],
        [
         "13",
         "TESLA",
         "SELECT STYLE TT34EX82SM-1232IAW",
         "ИНВЕРТЕР СПЛИТ СИСТЕМ",
         "A++",
         "35",
         "Стерилизација на 56°C",
         "3",
         "22.990",
         null,
         "3400",
         "3420",
         "-20",
         "53"
        ],
        [
         "14",
         "GREE",
         "Charmo Premium GWH12ATBXB-K6DNA1D",
         "ИНВЕРТЕР СПЛИТ СИСТЕМ",
         "A++",
         "30",
         "GREE компресор со магнети од ретки метали (Rare Earth Magnet)\nФункции",
         "10",
         "22.990",
         "26.990",
         "3200",
         "3400",
         "-15",
         "43"
        ],
        [
         "15",
         "TCL",
         "Elite Lite TAC-12CHSD/XA73IF",
         "ИНВЕРТЕР СПЛИТ СИСТЕМ",
         "A++",
         "35",
         "/",
         "3",
         "22.990",
         "25.990",
         "3400",
         "3420",
         "-20",
         "53"
        ],
        [
         "16",
         "VIVAX",
         "ACP-12CH35AENI R32",
         "ИНВЕРТЕР СПЛИТ СИСТЕМ",
         "A++",
         "35",
         "/",
         "5",
         "22.990",
         "27.990",
         "3517",
         "3810",
         "-20",
         "50"
        ],
        [
         "17",
         "TESLA",
         "PORTABLE TTMYB-12CHW",
         "МОБИЛНИ КЛИМА УРЕДИ",
         "A",
         "30",
         "/",
         "3",
         "23.590",
         null,
         "3200",
         "2900",
         "0",
         "0"
        ],
        [
         "18",
         "AUX",
         "Gentle Breeze ASW-H09B5C4/CAR3DI-C3",
         "ИНВЕРТЕР СПЛИТ СИСТЕМ",
         "A++",
         "25",
         "A++ / A+++ висока енергетска класа при ладење / греење (топла зона)\nDC Hybrid inverter  технологија\nSOFT AIR микро отвори за безосетно ладење\nвграден WiFi уред за постојана контрола \nI FEEL опција со далечинско како термостат, VOICE Control, 4D Wind, UVC дезинфекција\nгреач во када на надворешната единица против мрзнење\nопсег на работа ладење – надворешна температура од 15 ÷ 52oC\nопсег на работа греење – надворешна температура од -25 ÷ 24oC",
         "5",
         "23.990",
         null,
         "2700",
         "3200",
         "-25",
         "52"
        ],
        [
         "19",
         "VIVAX",
         "ACP-12PT35AEFs",
         "МОБИЛНИ КЛИМА УРЕДИ",
         "A",
         "35",
         "0.5 W standby, мemory функција (auto-restart), аnti cool air design, oдвлажнување, тајмер, sleep mode, led display, прикажување на само дијагноза, повеќенасочни позиции, самоиспарувачки систем.",
         "3",
         "23.990",
         null,
         "3517",
         "3517",
         "0",
         "0"
        ],
        [
         "20",
         "HISENSE",
         "EASY SMART CA35YR03G-CA35YR03W",
         "ИНВЕРТЕР СПЛИТ СИСТЕМ",
         "A++",
         "35",
         "5 години гаранција на компресор ( 16.10.2025-31.10.2025 ) со регистрација на  https",
         "2",
         "23.990",
         "28.990",
         "3400",
         "3800",
         "-20",
         "43"
        ],
        [
         "21",
         "TESLA",
         "ADVANCE TA36QQCT-1232IAWT",
         "ИНВЕРТЕР СПЛИТ СИСТЕМ",
         "A++",
         "35",
         "Функција против создавање на мувла и габи \nФункција против ‘рѓа \nСтерилизација на 56°C",
         "3",
         "24.990",
         null,
         "3500",
         "3800",
         "-25",
         "49"
        ],
        [
         "22",
         "AUX",
         "Gentle Breeze ASW-H12C5A4/CAR3DI-B8",
         "ИНВЕРТЕР СПЛИТ СИСТЕМ",
         "A++",
         "35",
         "A++ / A+++ висока енергетска класа при ладење / греење (топла зона)\nDC Hybrid inverter  технологија\nSOFT AIR микро отвори за безосетно ладење\nвграден WiFi уред за постојана контрола \nI FEEL опција со далечинско како термостат, VOICE Control, 4D Wind, UVC дезинфекција\nгреач во када на надворешната единица против мрзнење\nопсег на работа ладење – надворешна температура од 15 ÷ 52oC\nопсег на работа греење – надворешна температура од -25 ÷ 24oC",
         "5",
         "24.990",
         null,
         "3500",
         "3800",
         "-25",
         "52"
        ],
        [
         "23",
         "TESLA",
         "ADVANCE TT34TP81-1232IAWT",
         "ИНВЕРТЕР СПЛИТ СИСТЕМ",
         "A++",
         "35",
         "UV lamp",
         "3",
         "24.990",
         "28.990",
         "3500",
         "3620",
         "-25",
         "53"
        ],
        [
         "24",
         "TESLA",
         "ADVANCE TT34TP81-1232IHWT",
         "ИНВЕРТЕР СПЛИТ СИСТЕМ",
         "A+++",
         "35",
         "Функција против создавање на мувла и габи \nФункција против ‘рѓа \nСтерилизација на 56°C",
         "3",
         "25.990",
         null,
         "3520",
         "3860",
         "-25",
         "52"
        ],
        [
         "25",
         "GREE",
         "PULAR PREMIUM GWH07AGA-K6DNA1A",
         "ИНВЕРТЕР СПЛИТ СИСТЕМ",
         "A++",
         "20",
         "/",
         "10",
         "25.990",
         "29.990",
         "2200",
         "2400",
         "-15",
         "43"
        ],
        [
         "26",
         "HAIER",
         "AS25RHBHRA / 1U25YERFRA Revive",
         "ИНВЕРТЕР СПЛИТ СИСТЕМ",
         "A++",
         "25",
         "- Фабрички вграден hOn Wi-Fi\n- Tивок режим на работа (18dB)\n- Coanda Plus технологија за рамномерна дистрибуција на воздухот\n- Super Quiet mode, Comfortable sleep mode, Aнтибактериски филтер\n- Модерниот дизајн дава можност за многу брза и прецизна инсталација",
         "3",
         "25.990",
         null,
         "2500",
         "2800",
         "-15",
         "43"
        ],
        [
         "27",
         "VIVAX",
         "ACP-12PT35AEHs",
         "МОБИЛНИ КЛИМА УРЕДИ",
         "A+",
         "35",
         "0.5 W standby, memory функција (auto-restart), anti cool air design, oдвлажнување, тајмер, sleep mode, led display, прикажување на само диагноза, повеќенасочни позиции, самоиспарувачки систем.",
         "3",
         "25.990",
         null,
         "3500",
         "2900",
         "5",
         "35"
        ],
        [
         "28",
         "HAIER",
         "AS35RHBHRA / 1U35YERFRA Revive",
         "ИНВЕРТЕР СПЛИТ СИСТЕМ",
         "A++",
         "35",
         "- Фабрички вграден hOn Wi-Fi - Tивок режим на работа (18dB) - Coanda Plus технологија за рамномерна дистрибуција на воздухот - Super Quiet mode, Comfortable sleep mode, Aнтибактериски филтер - Модерниот дизајн дава можност за многу брза и прецизна инсталација",
         "3",
         "26.990",
         "32.000",
         "3200",
         "3400",
         "-15",
         "43"
        ],
        [
         "29",
         "GREE",
         "Charmo Arctic PRO II GWH09ATCXB-K6DNA4A",
         "ИНВЕРТЕР СПЛИТ СИСТЕМ",
         "A++",
         "25",
         "Функции",
         "10",
         "26.990",
         "29.990",
         "2700",
         "3000",
         "-25",
         "50"
        ],
        [
         "30",
         "GREE",
         "PULAR PREMIUM GWH09AGA-K6DNA1A",
         "ИНВЕРТЕР СПЛИТ СИСТЕМ",
         "A++",
         "25",
         "/",
         "10",
         "26.990",
         "31.990",
         "2500",
         "2800",
         "-15",
         "43"
        ],
        [
         "31",
         "TESLA",
         "ADVANCE TT34TP91-1232IHWT",
         "ИНВЕРТЕР СПЛИТ СИСТЕМ",
         "A+++",
         "35",
         "UV lamp",
         "3",
         "26.990",
         null,
         "3510",
         "3800",
         "-25",
         "53"
        ],
        [
         "32",
         "HISENSE",
         "WINGS PRO KB35YR3EG-KB35YR3EW",
         "ИНВЕРТЕР СПЛИТ СИСТЕМ",
         "A++",
         "35",
         "5 години гаранција на компресор ( 16.10.2025-31.10.2025 ) со регистрација на  https",
         "2",
         "26.990",
         "32.990",
         "3400",
         "3800",
         "-20",
         "43"
        ],
        [
         "33",
         "BOSCH",
         "CLIMATE 2000 26 WE",
         "ИНВЕРТЕР СПЛИТ СИСТЕМ",
         "A++",
         "25",
         "- Внатрешната единица може да работи исклучително тивко со ниво на бучавост од само 21 dB(A)\n- Филтрите со висока густина и филтрите со ладен катализатор ја отстрануваат прашината и поленот од просторијата до 80%\n- Комбинацијата на вертикални и хоризонтални перки за вентилација обезбедува рамномерна распределба на протокот на воздух",
         "3",
         "27.900",
         "35.900",
         "2600",
         "2900",
         "-15",
         "50"
        ],
        [
         "34",
         "GREE",
         "FAIRY PREMIUM GWH12ACC-K6DNA1F",
         "ИНВЕРТЕР СПЛИТ СИСТЕМ",
         "A++",
         "35",
         "SMART DC Инвертер со G10 технологија, патент на ГРЕЕ\nGREE компресор со магнети од ретки метали (Rare Earth Magnet)\nEEV – Eлектронски експанзионен вентил, Грејач на тацна за одмрзнување на кондензат\nФункции",
         "10",
         "27.990",
         "39.990",
         "3510",
         "3810",
         "-25",
         "50"
        ],
        [
         "35",
         "GREE",
         "FAIRY PREMIUM Black GWH12ACC-K6DNA1F",
         "ИНВЕРТЕР СПЛИТ СИСТЕМ",
         "A++",
         "35",
         "SMART DC Инвертер со G10 технологија, патент на ГРЕЕ GREE компресор со магнети од ретки метали (Rare Earth Magnet) EEV – Eлектронски експанзионен вентил, Грејач на тацна за одмрзнување на кондензат Функции",
         "10",
         "27.990",
         "41.990",
         "3510",
         "3810",
         "-25",
         "50"
        ],
        [
         "36",
         "VIVAX",
         "ACP-09CH25AERI+ R32",
         "ИНВЕРТЕР СПЛИТ СИСТЕМ",
         "A+++",
         "25",
         "/",
         "5",
         "27.990",
         "33.990",
         "2638",
         "2931",
         "-25",
         "50"
        ],
        [
         "37",
         "VIVAX",
         "ACP-12CH35AERI+ R32",
         "ИНВЕРТЕР СПЛИТ СИСТЕМ",
         "A+++",
         "35",
         "/",
         "5",
         "27.990",
         "36.990",
         "3517",
         "3810",
         "-25",
         "50"
        ],
        [
         "38",
         "VIVAX",
         "ACP-09CH25AERI+ R32 Gold",
         "ИНВЕРТЕР СПЛИТ СИСТЕМ",
         "A+++",
         "25",
         "/",
         "5",
         "27.990",
         "33.990",
         "2638",
         "2931",
         "-25",
         "50"
        ],
        [
         "39",
         "VIVAX",
         "ACP-09CH25AERI+ R32 Silver",
         "ИНВЕРТЕР СПЛИТ СИСТЕМ",
         "A+++",
         "25",
         "/",
         "5",
         "27.990",
         "33.990",
         "2638",
         "2931",
         "-25",
         "50"
        ],
        [
         "40",
         "TOSOT",
         "MUSE EXTREME LCLH TWH12AFC-K6DNA5F",
         "ИНВЕРТЕР СПЛИТ СИСТЕМ",
         "A++",
         "35",
         "Произведено од GREE. Самодијагноза, интелегентно отопување, аuto restart, I Feel фунција, нормален sleep mode,тајмер, turbo",
         "3",
         "27.990",
         "37.990",
         "3510",
         "3810",
         "-25",
         "50"
        ],
        [
         "41",
         "HAIER",
         "TIDE PLUS AS25THMHRA-C/1U25YEFFRA-C",
         "ИНВЕРТЕР СПЛИТ СИСТЕМ",
         "A++",
         "25",
         "DC Inverter технологија со Intelligent Air, функција на самочистење и самодијагностицирање, можност за Wi-Fi управување, Auto-restart, 24h тајмер, оптимизиран дизајн на вентилаторот.",
         "3",
         "27.990",
         "31.990",
         "2600",
         "2800",
         "-15",
         "43"
        ],
        [
         "42",
         "HAIER",
         "TUNDRA PLUS AS25TAEHRA-THC/1U25YEFFRA-1",
         "ИНВЕРТЕР СПЛИТ СИСТЕМ",
         "A++",
         "25",
         "180° sine wave DC Inverter технологија со IntelligentAir, Super Quiet mode, Comfortable sleep mode - режими на работа , Eurovent сертификат, можност за Wi-Fi управување, функција на самочистење и самодијагностицирање, Auto-restart, 24hтајмер.",
         "3",
         "27.990",
         "36.990",
         "2600",
         "2900",
         "-15",
         "43"
        ],
        [
         "43",
         "HAIER",
         "TUNDRA GREEN AS25TADHRA-CL/1U25BEЕFRA",
         "ИНВЕРТЕР СПЛИТ СИСТЕМ",
         "A++",
         "25",
         "180° sine wave DC Inverter технологија со IntelligentAir, Super Quiet mode, Comfortable sleep mode - режими на работа \n, Eurovent сертификат, можност за Wi-Fi управување, функција на самочистење и самодијагностицирање, Auto-restart, 24hтајмер.",
         "3",
         "27.990",
         "33.990",
         "2600",
         "2900",
         "-15",
         "43"
        ],
        [
         "44",
         "GREE",
         "Charmo Arctic PRO II GWH12ATCXB-K6DNA4A",
         "ИНВЕРТЕР СПЛИТ СИСТЕМ",
         "A++",
         "35",
         "Функции",
         "10",
         "27.990",
         "30.990",
         "3510",
         "3810",
         "-25",
         "50"
        ],
        [
         "45",
         "GREE",
         "PULAR PREMIUM GWH12AGC-K6DNA1A",
         "ИНВЕРТЕР СПЛИТ СИСТЕМ",
         "A++",
         "30",
         "/",
         "10",
         "27.990",
         "33.990",
         "3200",
         "3400",
         "-15",
         "43"
        ],
        [
         "46",
         "TESLA",
         "STANDARD TT51X81-18410A",
         "СТАНДАРД СПЛИТ СИСТЕМ",
         "A",
         "55",
         "/",
         "3",
         "28.990",
         "29.990",
         "4990",
         "5310",
         "-7",
         "43"
        ],
        [
         "47",
         "VIVAX",
         "ACP-12CH35AERI+ R32 Red",
         "ИНВЕРТЕР СПЛИТ СИСТЕМ",
         "A+++",
         "35",
         "/",
         "5",
         "29.990",
         "36.990",
         "3517",
         "3810",
         "-25",
         "50"
        ],
        [
         "48",
         "VIVAX",
         "ACP-12CH35AERI+ R32 Silver",
         "ИНВЕРТЕР СПЛИТ СИСТЕМ",
         "A+++",
         "35",
         "/",
         "5",
         "29.990",
         "36.990",
         "3517",
         "3810",
         "-25",
         "50"
        ],
        [
         "49",
         "VIVAX",
         "ACP-12CH35AERI+ R32 Gold",
         "ИНВЕРТЕР СПЛИТ СИСТЕМ",
         "A+++",
         "35",
         "/",
         "5",
         "29.990",
         "36.990",
         "3517",
         "3810",
         "-25",
         "50"
        ]
       ],
       "shape": {
        "columns": 13,
        "rows": 286
       }
      },
      "text/html": [
       "<div>\n",
       "<style scoped>\n",
       "    .dataframe tbody tr th:only-of-type {\n",
       "        vertical-align: middle;\n",
       "    }\n",
       "\n",
       "    .dataframe tbody tr th {\n",
       "        vertical-align: top;\n",
       "    }\n",
       "\n",
       "    .dataframe thead th {\n",
       "        text-align: right;\n",
       "    }\n",
       "</style>\n",
       "<table border=\"1\" class=\"dataframe\">\n",
       "  <thead>\n",
       "    <tr style=\"text-align: right;\">\n",
       "      <th></th>\n",
       "      <th>brand</th>\n",
       "      <th>model</th>\n",
       "      <th>type</th>\n",
       "      <th>energy_class</th>\n",
       "      <th>area</th>\n",
       "      <th>functions</th>\n",
       "      <th>guarantee</th>\n",
       "      <th>curr_price</th>\n",
       "      <th>prev_price</th>\n",
       "      <th>min_power</th>\n",
       "      <th>max_power</th>\n",
       "      <th>min_temp</th>\n",
       "      <th>max_temp</th>\n",
       "    </tr>\n",
       "  </thead>\n",
       "  <tbody>\n",
       "    <tr>\n",
       "      <th>0</th>\n",
       "      <td>VIVAX</td>\n",
       "      <td>ACP-12CH35AEFIs R32</td>\n",
       "      <td>ИНВЕРТЕР СПЛИТ СИСТЕМ</td>\n",
       "      <td>A++</td>\n",
       "      <td>30</td>\n",
       "      <td>Внесете свежина во вашите домашни и деловни пр...</td>\n",
       "      <td>5</td>\n",
       "      <td>17.990</td>\n",
       "      <td>20.990</td>\n",
       "      <td>3517</td>\n",
       "      <td>3810</td>\n",
       "      <td>-10</td>\n",
       "      <td>50</td>\n",
       "    </tr>\n",
       "    <tr>\n",
       "      <th>1</th>\n",
       "      <td>TESLA</td>\n",
       "      <td>CLASSIC TA36FFLL-1232IA</td>\n",
       "      <td>ИНВЕРТЕР СПЛИТ СИСТЕМ</td>\n",
       "      <td>A++</td>\n",
       "      <td>35</td>\n",
       "      <td>/</td>\n",
       "      <td>3</td>\n",
       "      <td>18.990</td>\n",
       "      <td>NaN</td>\n",
       "      <td>3400</td>\n",
       "      <td>3500</td>\n",
       "      <td>-15</td>\n",
       "      <td>49</td>\n",
       "    </tr>\n",
       "    <tr>\n",
       "      <th>2</th>\n",
       "      <td>VIVAX</td>\n",
       "      <td>ACP-12CH35AEXIs R32</td>\n",
       "      <td>ИНВЕРТЕР СПЛИТ СИСТЕМ</td>\n",
       "      <td>A++</td>\n",
       "      <td>30</td>\n",
       "      <td>/</td>\n",
       "      <td>5</td>\n",
       "      <td>19.990</td>\n",
       "      <td>24.990</td>\n",
       "      <td>3520</td>\n",
       "      <td>3810</td>\n",
       "      <td>-15</td>\n",
       "      <td>50</td>\n",
       "    </tr>\n",
       "    <tr>\n",
       "      <th>3</th>\n",
       "      <td>VIVAX</td>\n",
       "      <td>ACP-09CH25AEQIS R32</td>\n",
       "      <td>ИНВЕРТЕР СПЛИТ СИСТЕМ</td>\n",
       "      <td>A++</td>\n",
       "      <td>25</td>\n",
       "      <td>Висока ефикасност, прикажување на самодијагноз...</td>\n",
       "      <td>5</td>\n",
       "      <td>19.990</td>\n",
       "      <td>22.990</td>\n",
       "      <td>2638</td>\n",
       "      <td>2930</td>\n",
       "      <td>-15</td>\n",
       "      <td>50</td>\n",
       "    </tr>\n",
       "    <tr>\n",
       "      <th>4</th>\n",
       "      <td>VIVAX</td>\n",
       "      <td>ACP-09PT25AEG</td>\n",
       "      <td>МОБИЛНИ КЛИМА УРЕДИ</td>\n",
       "      <td>A</td>\n",
       "      <td>25</td>\n",
       "      <td>Тајмер, 3 стапки на проток на воздух, Рачно ра...</td>\n",
       "      <td>3</td>\n",
       "      <td>19.990</td>\n",
       "      <td>NaN</td>\n",
       "      <td>2640</td>\n",
       "      <td>2640</td>\n",
       "      <td>17</td>\n",
       "      <td>35</td>\n",
       "    </tr>\n",
       "    <tr>\n",
       "      <th>...</th>\n",
       "      <td>...</td>\n",
       "      <td>...</td>\n",
       "      <td>...</td>\n",
       "      <td>...</td>\n",
       "      <td>...</td>\n",
       "      <td>...</td>\n",
       "      <td>...</td>\n",
       "      <td>...</td>\n",
       "      <td>...</td>\n",
       "      <td>...</td>\n",
       "      <td>...</td>\n",
       "      <td>...</td>\n",
       "      <td>...</td>\n",
       "    </tr>\n",
       "    <tr>\n",
       "      <th>281</th>\n",
       "      <td>VIVAX</td>\n",
       "      <td>ACP-55DT160AERI+ R32</td>\n",
       "      <td>КАНАЛНИ СИСТЕМИ</td>\n",
       "      <td>A++</td>\n",
       "      <td>170</td>\n",
       "      <td>/</td>\n",
       "      <td>5</td>\n",
       "      <td>199.990</td>\n",
       "      <td>NaN</td>\n",
       "      <td>15240</td>\n",
       "      <td>18170</td>\n",
       "      <td>-20</td>\n",
       "      <td>50</td>\n",
       "    </tr>\n",
       "    <tr>\n",
       "      <th>282</th>\n",
       "      <td>VIVAX</td>\n",
       "      <td>ACP-55FS160AERI R410A</td>\n",
       "      <td>САМОСТОЕЧКИ</td>\n",
       "      <td>A++</td>\n",
       "      <td>170</td>\n",
       "      <td>/</td>\n",
       "      <td>5</td>\n",
       "      <td>199.990</td>\n",
       "      <td>NaN</td>\n",
       "      <td>16120</td>\n",
       "      <td>17000</td>\n",
       "      <td>-15</td>\n",
       "      <td>50</td>\n",
       "    </tr>\n",
       "    <tr>\n",
       "      <th>283</th>\n",
       "      <td>MITSUBISHI</td>\n",
       "      <td>Heavy Diamond Hyperinverter SRK/SRC 100 ZR-W</td>\n",
       "      <td>ИНВЕРТЕР СПЛИТ СИСТЕМ</td>\n",
       "      <td>A+</td>\n",
       "      <td>100</td>\n",
       "      <td>• Серијата ZR е идеално решение за греење и ла...</td>\n",
       "      <td>3</td>\n",
       "      <td>205.590</td>\n",
       "      <td>NaN</td>\n",
       "      <td>9600</td>\n",
       "      <td>10000</td>\n",
       "      <td>-15</td>\n",
       "      <td>46</td>\n",
       "    </tr>\n",
       "    <tr>\n",
       "      <th>284</th>\n",
       "      <td>TOSHIBA</td>\n",
       "      <td>Inverter RAV-RM1401FT / RAV-GM1401ATP-E</td>\n",
       "      <td>САМОСТОЕЧКИ</td>\n",
       "      <td>A</td>\n",
       "      <td>140</td>\n",
       "      <td>Екстремно тивок и штедлив клима уред\\nА/ А ене...</td>\n",
       "      <td>3</td>\n",
       "      <td>249.990</td>\n",
       "      <td>NaN</td>\n",
       "      <td>14000</td>\n",
       "      <td>14600</td>\n",
       "      <td>-15</td>\n",
       "      <td>46</td>\n",
       "    </tr>\n",
       "    <tr>\n",
       "      <th>285</th>\n",
       "      <td>TOSHIBA</td>\n",
       "      <td>Inverter RAV-RM1601FT / RAV-GM1601ATP-E</td>\n",
       "      <td>САМОСТОЕЧКИ</td>\n",
       "      <td>A</td>\n",
       "      <td>170</td>\n",
       "      <td>Екстремно тивок и штедлив клима уред А/ А енер...</td>\n",
       "      <td>3</td>\n",
       "      <td>305.990</td>\n",
       "      <td>NaN</td>\n",
       "      <td>14000</td>\n",
       "      <td>16000</td>\n",
       "      <td>-15</td>\n",
       "      <td>53</td>\n",
       "    </tr>\n",
       "  </tbody>\n",
       "</table>\n",
       "<p>286 rows × 13 columns</p>\n",
       "</div>"
      ],
      "text/plain": [
       "          brand                                         model  \\\n",
       "0         VIVAX                           ACP-12CH35AEFIs R32   \n",
       "1         TESLA                       CLASSIC TA36FFLL-1232IA   \n",
       "2         VIVAX                           ACP-12CH35AEXIs R32   \n",
       "3         VIVAX                           ACP-09CH25AEQIS R32   \n",
       "4         VIVAX                                 ACP-09PT25AEG   \n",
       "..          ...                                           ...   \n",
       "281       VIVAX                          ACP-55DT160AERI+ R32   \n",
       "282       VIVAX                         ACP-55FS160AERI R410A   \n",
       "283  MITSUBISHI  Heavy Diamond Hyperinverter SRK/SRC 100 ZR-W   \n",
       "284     TOSHIBA       Inverter RAV-RM1401FT / RAV-GM1401ATP-E   \n",
       "285     TOSHIBA       Inverter RAV-RM1601FT / RAV-GM1601ATP-E   \n",
       "\n",
       "                      type energy_class  area  \\\n",
       "0    ИНВЕРТЕР СПЛИТ СИСТЕМ          A++    30   \n",
       "1    ИНВЕРТЕР СПЛИТ СИСТЕМ          A++    35   \n",
       "2    ИНВЕРТЕР СПЛИТ СИСТЕМ          A++    30   \n",
       "3    ИНВЕРТЕР СПЛИТ СИСТЕМ          A++    25   \n",
       "4      МОБИЛНИ КЛИМА УРЕДИ            A    25   \n",
       "..                     ...          ...   ...   \n",
       "281        КАНАЛНИ СИСТЕМИ          A++   170   \n",
       "282            САМОСТОЕЧКИ          A++   170   \n",
       "283  ИНВЕРТЕР СПЛИТ СИСТЕМ           A+   100   \n",
       "284            САМОСТОЕЧКИ            A   140   \n",
       "285            САМОСТОЕЧКИ            A   170   \n",
       "\n",
       "                                             functions  guarantee curr_price  \\\n",
       "0    Внесете свежина во вашите домашни и деловни пр...          5     17.990   \n",
       "1                                                    /          3     18.990   \n",
       "2                                                    /          5     19.990   \n",
       "3    Висока ефикасност, прикажување на самодијагноз...          5     19.990   \n",
       "4    Тајмер, 3 стапки на проток на воздух, Рачно ра...          3     19.990   \n",
       "..                                                 ...        ...        ...   \n",
       "281                                                  /          5    199.990   \n",
       "282                                                  /          5    199.990   \n",
       "283  • Серијата ZR е идеално решение за греење и ла...          3    205.590   \n",
       "284  Екстремно тивок и штедлив клима уред\\nА/ А ене...          3    249.990   \n",
       "285  Екстремно тивок и штедлив клима уред А/ А енер...          3    305.990   \n",
       "\n",
       "    prev_price  min_power  max_power  min_temp  max_temp  \n",
       "0       20.990       3517       3810       -10        50  \n",
       "1          NaN       3400       3500       -15        49  \n",
       "2       24.990       3520       3810       -15        50  \n",
       "3       22.990       2638       2930       -15        50  \n",
       "4          NaN       2640       2640        17        35  \n",
       "..         ...        ...        ...       ...       ...  \n",
       "281        NaN      15240      18170       -20        50  \n",
       "282        NaN      16120      17000       -15        50  \n",
       "283        NaN       9600      10000       -15        46  \n",
       "284        NaN      14000      14600       -15        46  \n",
       "285        NaN      14000      16000       -15        53  \n",
       "\n",
       "[286 rows x 13 columns]"
      ]
     },
     "execution_count": 102,
     "metadata": {},
     "output_type": "execute_result"
    }
   ],
   "source": [
    "df"
   ]
  },
  {
   "cell_type": "code",
   "execution_count": 103,
   "id": "f732f238",
   "metadata": {},
   "outputs": [],
   "source": [
    "df[\"curr_price\"] = df[\"curr_price\"].apply(lambda price: price.replace(\".\", \"\"))"
   ]
  },
  {
   "cell_type": "code",
   "execution_count": 104,
   "id": "21fe67e7",
   "metadata": {},
   "outputs": [],
   "source": [
    "df[\"curr_price\"] = df[\"curr_price\"].astype(float)"
   ]
  },
  {
   "cell_type": "code",
   "execution_count": 105,
   "id": "d971d2aa",
   "metadata": {},
   "outputs": [],
   "source": [
    "df[\"prev_price\"] = df[\"prev_price\"].apply(\n",
    "    lambda price: price.replace(\".\", \"\") if not pd.isna(price) else np.nan\n",
    ")"
   ]
  },
  {
   "cell_type": "code",
   "execution_count": 106,
   "id": "c46bc2a0",
   "metadata": {},
   "outputs": [],
   "source": [
    "df[\"prev_price\"] = df[\"prev_price\"].astype(float)"
   ]
  },
  {
   "cell_type": "code",
   "execution_count": 107,
   "id": "4549677c",
   "metadata": {},
   "outputs": [
    {
     "data": {
      "application/vnd.microsoft.datawrangler.viewer.v0+json": {
       "columns": [
        {
         "name": "index",
         "rawType": "int64",
         "type": "integer"
        },
        {
         "name": "brand",
         "rawType": "object",
         "type": "string"
        },
        {
         "name": "model",
         "rawType": "object",
         "type": "string"
        },
        {
         "name": "type",
         "rawType": "object",
         "type": "string"
        },
        {
         "name": "energy_class",
         "rawType": "object",
         "type": "string"
        },
        {
         "name": "area",
         "rawType": "int64",
         "type": "integer"
        },
        {
         "name": "functions",
         "rawType": "object",
         "type": "string"
        },
        {
         "name": "guarantee",
         "rawType": "int64",
         "type": "integer"
        },
        {
         "name": "curr_price",
         "rawType": "float64",
         "type": "float"
        },
        {
         "name": "prev_price",
         "rawType": "float64",
         "type": "float"
        },
        {
         "name": "min_power",
         "rawType": "int64",
         "type": "integer"
        },
        {
         "name": "max_power",
         "rawType": "int64",
         "type": "integer"
        },
        {
         "name": "min_temp",
         "rawType": "int64",
         "type": "integer"
        },
        {
         "name": "max_temp",
         "rawType": "int64",
         "type": "integer"
        }
       ],
       "ref": "8929f55a-898f-422b-960d-de26dff7c5f1",
       "rows": [
        [
         "0",
         "VIVAX",
         "ACP-12CH35AEFIs R32",
         "ИНВЕРТЕР СПЛИТ СИСТЕМ",
         "A++",
         "30",
         "Внесете свежина во вашите домашни и деловни простории и во најтешките летни денови!",
         "5",
         "17990.0",
         "20990.0",
         "3517",
         "3810",
         "-10",
         "50"
        ],
        [
         "1",
         "TESLA",
         "CLASSIC TA36FFLL-1232IA",
         "ИНВЕРТЕР СПЛИТ СИСТЕМ",
         "A++",
         "35",
         "/",
         "3",
         "18990.0",
         null,
         "3400",
         "3500",
         "-15",
         "49"
        ],
        [
         "2",
         "VIVAX",
         "ACP-12CH35AEXIs R32",
         "ИНВЕРТЕР СПЛИТ СИСТЕМ",
         "A++",
         "30",
         "/",
         "5",
         "19990.0",
         "24990.0",
         "3520",
         "3810",
         "-15",
         "50"
        ],
        [
         "3",
         "VIVAX",
         "ACP-09CH25AEQIS R32",
         "ИНВЕРТЕР СПЛИТ СИСТЕМ",
         "A++",
         "25",
         "Висока ефикасност, прикажување на самодијагноза, индикатор за истекување на гасот за разладување, 1W standby, турбо, заштита на вентил на надворешна единица, интелегентно отопување, 12 Fan Speed, безшумна опција, двосмерен одвод на кондензат, дигитален екран.",
         "5",
         "19990.0",
         "22990.0",
         "2638",
         "2930",
         "-15",
         "50"
        ],
        [
         "4",
         "VIVAX",
         "ACP-09PT25AEG",
         "МОБИЛНИ КЛИМА УРЕДИ",
         "A",
         "25",
         "Тајмер, 3 стапки на проток на воздух, Рачно ракување, Повеќенасочни тркала.",
         "3",
         "19990.0",
         null,
         "2640",
         "2640",
         "17",
         "35"
        ],
        [
         "5",
         "TOSOT",
         "MUSE PREMIUM TWH12AFBXB-K6DNA5A",
         "ИНВЕРТЕР СПЛИТ СИСТЕМ",
         "A++",
         "30",
         "Произведено од GREE. Самодијагноза, интелегентно отопување, аuto restart, нормален sleep mode,тајмер, turbo",
         "3",
         "19990.0",
         "31990.0",
         "3200",
         "3400",
         "-15",
         "43"
        ],
        [
         "6",
         "VIVAX",
         "ACP-09CH25AEMIS R32",
         "ИНВЕРТЕР СПЛИТ СИСТЕМ",
         "A++",
         "25",
         "Висока ефикасност, самодијагноза, 1W standby, заштита на вентил надворешна единица, 12 Fan Speed, self cleaning, индикатор за истекување на гасот за разладување, безшумна операција, двосмерен одвод на кондензат, дигитален екран, sleep mode, тајмер, интелегентно отопување, memory функција, турбо, припрема за Wi-Fi  ( WiFi ready )",
         "5",
         "19990.0",
         "24990.0",
         "2638",
         "2930",
         "-15",
         "50"
        ],
        [
         "7",
         "VIVAX",
         "ACP-12CH35AEQIS R32",
         "ИНВЕРТЕР СПЛИТ СИСТЕМ",
         "A++",
         "35",
         "Висока ефикасност, прикажување на самодијагноза, индикатор за истекување на гасот за разладување, 1W standby, турбо, заштита на вентил на надворешна единица, интелегентно отопување, 12 Fan Speed, безшумна опција, двосмерен одвод на кондензат, дигитален екран.",
         "5",
         "20990.0",
         "25990.0",
         "3517",
         "3810",
         "-15",
         "50"
        ],
        [
         "8",
         "TESLA",
         "CLASSIC TT34EX21-1232IA",
         "ИНВЕРТЕР СПЛИТ СИСТЕМ",
         "A++",
         "35",
         "/",
         "3",
         "20990.0",
         "25990.0",
         "3400",
         "3420",
         "-20",
         "53"
        ],
        [
         "9",
         "VIVAX",
         "ACP-12CH35AEMIS R32",
         "ИНВЕРТЕР СПЛИТ СИСТЕМ",
         "A++",
         "35",
         "-ГРАТИС WI-FI МОДУЛ!\nВисока ефикасност, самодијагноза, 1W standby, заштита на вентил надворешна единица, висока ефикасност, 12 Fan Speed, self cleaning, индикатор за истекување на гасот за разладување, безшумна операција, двосмерен одвод на кондензат, дигитален екран, sleep mode, тајмер, интелегентно отопување, memory функција, турбо.",
         "5",
         "21990.0",
         "27990.0",
         "3517",
         "3810",
         "-15",
         "50"
        ],
        [
         "10",
         "TESLA",
         "SELECT TT34EX81-1232IAW",
         "ИНВЕРТЕР СПЛИТ СИСТЕМ",
         "A++",
         "35",
         "/",
         "3",
         "21990.0",
         "26990.0",
         "3400",
         "3420",
         "-20",
         "53"
        ],
        [
         "11",
         "TESLA",
         "PORTABLE TTMYW-12CHW",
         "МОБИЛНИ КЛИМА УРЕДИ",
         "A",
         "30",
         "/",
         "3",
         "22990.0",
         null,
         "3200",
         "2900",
         "0",
         "0"
        ],
        [
         "12",
         "TESLA",
         "SELECT STYLE TT34EX82BM-1232IAW",
         "ИНВЕРТЕР СПЛИТ СИСТЕМ",
         "A++",
         "35",
         "Стерилизација на 56°C",
         "3",
         "22990.0",
         null,
         "3400",
         "3420",
         "-20",
         "53"
        ],
        [
         "13",
         "TESLA",
         "SELECT STYLE TT34EX82SM-1232IAW",
         "ИНВЕРТЕР СПЛИТ СИСТЕМ",
         "A++",
         "35",
         "Стерилизација на 56°C",
         "3",
         "22990.0",
         null,
         "3400",
         "3420",
         "-20",
         "53"
        ],
        [
         "14",
         "GREE",
         "Charmo Premium GWH12ATBXB-K6DNA1D",
         "ИНВЕРТЕР СПЛИТ СИСТЕМ",
         "A++",
         "30",
         "GREE компресор со магнети од ретки метали (Rare Earth Magnet)\nФункции",
         "10",
         "22990.0",
         "26990.0",
         "3200",
         "3400",
         "-15",
         "43"
        ],
        [
         "15",
         "TCL",
         "Elite Lite TAC-12CHSD/XA73IF",
         "ИНВЕРТЕР СПЛИТ СИСТЕМ",
         "A++",
         "35",
         "/",
         "3",
         "22990.0",
         "25990.0",
         "3400",
         "3420",
         "-20",
         "53"
        ],
        [
         "16",
         "VIVAX",
         "ACP-12CH35AENI R32",
         "ИНВЕРТЕР СПЛИТ СИСТЕМ",
         "A++",
         "35",
         "/",
         "5",
         "22990.0",
         "27990.0",
         "3517",
         "3810",
         "-20",
         "50"
        ],
        [
         "17",
         "TESLA",
         "PORTABLE TTMYB-12CHW",
         "МОБИЛНИ КЛИМА УРЕДИ",
         "A",
         "30",
         "/",
         "3",
         "23590.0",
         null,
         "3200",
         "2900",
         "0",
         "0"
        ],
        [
         "18",
         "AUX",
         "Gentle Breeze ASW-H09B5C4/CAR3DI-C3",
         "ИНВЕРТЕР СПЛИТ СИСТЕМ",
         "A++",
         "25",
         "A++ / A+++ висока енергетска класа при ладење / греење (топла зона)\nDC Hybrid inverter  технологија\nSOFT AIR микро отвори за безосетно ладење\nвграден WiFi уред за постојана контрола \nI FEEL опција со далечинско како термостат, VOICE Control, 4D Wind, UVC дезинфекција\nгреач во када на надворешната единица против мрзнење\nопсег на работа ладење – надворешна температура од 15 ÷ 52oC\nопсег на работа греење – надворешна температура од -25 ÷ 24oC",
         "5",
         "23990.0",
         null,
         "2700",
         "3200",
         "-25",
         "52"
        ],
        [
         "19",
         "VIVAX",
         "ACP-12PT35AEFs",
         "МОБИЛНИ КЛИМА УРЕДИ",
         "A",
         "35",
         "0.5 W standby, мemory функција (auto-restart), аnti cool air design, oдвлажнување, тајмер, sleep mode, led display, прикажување на само дијагноза, повеќенасочни позиции, самоиспарувачки систем.",
         "3",
         "23990.0",
         null,
         "3517",
         "3517",
         "0",
         "0"
        ],
        [
         "20",
         "HISENSE",
         "EASY SMART CA35YR03G-CA35YR03W",
         "ИНВЕРТЕР СПЛИТ СИСТЕМ",
         "A++",
         "35",
         "5 години гаранција на компресор ( 16.10.2025-31.10.2025 ) со регистрација на  https",
         "2",
         "23990.0",
         "28990.0",
         "3400",
         "3800",
         "-20",
         "43"
        ],
        [
         "21",
         "TESLA",
         "ADVANCE TA36QQCT-1232IAWT",
         "ИНВЕРТЕР СПЛИТ СИСТЕМ",
         "A++",
         "35",
         "Функција против создавање на мувла и габи \nФункција против ‘рѓа \nСтерилизација на 56°C",
         "3",
         "24990.0",
         null,
         "3500",
         "3800",
         "-25",
         "49"
        ],
        [
         "22",
         "AUX",
         "Gentle Breeze ASW-H12C5A4/CAR3DI-B8",
         "ИНВЕРТЕР СПЛИТ СИСТЕМ",
         "A++",
         "35",
         "A++ / A+++ висока енергетска класа при ладење / греење (топла зона)\nDC Hybrid inverter  технологија\nSOFT AIR микро отвори за безосетно ладење\nвграден WiFi уред за постојана контрола \nI FEEL опција со далечинско како термостат, VOICE Control, 4D Wind, UVC дезинфекција\nгреач во када на надворешната единица против мрзнење\nопсег на работа ладење – надворешна температура од 15 ÷ 52oC\nопсег на работа греење – надворешна температура од -25 ÷ 24oC",
         "5",
         "24990.0",
         null,
         "3500",
         "3800",
         "-25",
         "52"
        ],
        [
         "23",
         "TESLA",
         "ADVANCE TT34TP81-1232IAWT",
         "ИНВЕРТЕР СПЛИТ СИСТЕМ",
         "A++",
         "35",
         "UV lamp",
         "3",
         "24990.0",
         "28990.0",
         "3500",
         "3620",
         "-25",
         "53"
        ],
        [
         "24",
         "TESLA",
         "ADVANCE TT34TP81-1232IHWT",
         "ИНВЕРТЕР СПЛИТ СИСТЕМ",
         "A+++",
         "35",
         "Функција против создавање на мувла и габи \nФункција против ‘рѓа \nСтерилизација на 56°C",
         "3",
         "25990.0",
         null,
         "3520",
         "3860",
         "-25",
         "52"
        ],
        [
         "25",
         "GREE",
         "PULAR PREMIUM GWH07AGA-K6DNA1A",
         "ИНВЕРТЕР СПЛИТ СИСТЕМ",
         "A++",
         "20",
         "/",
         "10",
         "25990.0",
         "29990.0",
         "2200",
         "2400",
         "-15",
         "43"
        ],
        [
         "26",
         "HAIER",
         "AS25RHBHRA / 1U25YERFRA Revive",
         "ИНВЕРТЕР СПЛИТ СИСТЕМ",
         "A++",
         "25",
         "- Фабрички вграден hOn Wi-Fi\n- Tивок режим на работа (18dB)\n- Coanda Plus технологија за рамномерна дистрибуција на воздухот\n- Super Quiet mode, Comfortable sleep mode, Aнтибактериски филтер\n- Модерниот дизајн дава можност за многу брза и прецизна инсталација",
         "3",
         "25990.0",
         null,
         "2500",
         "2800",
         "-15",
         "43"
        ],
        [
         "27",
         "VIVAX",
         "ACP-12PT35AEHs",
         "МОБИЛНИ КЛИМА УРЕДИ",
         "A+",
         "35",
         "0.5 W standby, memory функција (auto-restart), anti cool air design, oдвлажнување, тајмер, sleep mode, led display, прикажување на само диагноза, повеќенасочни позиции, самоиспарувачки систем.",
         "3",
         "25990.0",
         null,
         "3500",
         "2900",
         "5",
         "35"
        ],
        [
         "28",
         "HAIER",
         "AS35RHBHRA / 1U35YERFRA Revive",
         "ИНВЕРТЕР СПЛИТ СИСТЕМ",
         "A++",
         "35",
         "- Фабрички вграден hOn Wi-Fi - Tивок режим на работа (18dB) - Coanda Plus технологија за рамномерна дистрибуција на воздухот - Super Quiet mode, Comfortable sleep mode, Aнтибактериски филтер - Модерниот дизајн дава можност за многу брза и прецизна инсталација",
         "3",
         "26990.0",
         "32000.0",
         "3200",
         "3400",
         "-15",
         "43"
        ],
        [
         "29",
         "GREE",
         "Charmo Arctic PRO II GWH09ATCXB-K6DNA4A",
         "ИНВЕРТЕР СПЛИТ СИСТЕМ",
         "A++",
         "25",
         "Функции",
         "10",
         "26990.0",
         "29990.0",
         "2700",
         "3000",
         "-25",
         "50"
        ],
        [
         "30",
         "GREE",
         "PULAR PREMIUM GWH09AGA-K6DNA1A",
         "ИНВЕРТЕР СПЛИТ СИСТЕМ",
         "A++",
         "25",
         "/",
         "10",
         "26990.0",
         "31990.0",
         "2500",
         "2800",
         "-15",
         "43"
        ],
        [
         "31",
         "TESLA",
         "ADVANCE TT34TP91-1232IHWT",
         "ИНВЕРТЕР СПЛИТ СИСТЕМ",
         "A+++",
         "35",
         "UV lamp",
         "3",
         "26990.0",
         null,
         "3510",
         "3800",
         "-25",
         "53"
        ],
        [
         "32",
         "HISENSE",
         "WINGS PRO KB35YR3EG-KB35YR3EW",
         "ИНВЕРТЕР СПЛИТ СИСТЕМ",
         "A++",
         "35",
         "5 години гаранција на компресор ( 16.10.2025-31.10.2025 ) со регистрација на  https",
         "2",
         "26990.0",
         "32990.0",
         "3400",
         "3800",
         "-20",
         "43"
        ],
        [
         "33",
         "BOSCH",
         "CLIMATE 2000 26 WE",
         "ИНВЕРТЕР СПЛИТ СИСТЕМ",
         "A++",
         "25",
         "- Внатрешната единица може да работи исклучително тивко со ниво на бучавост од само 21 dB(A)\n- Филтрите со висока густина и филтрите со ладен катализатор ја отстрануваат прашината и поленот од просторијата до 80%\n- Комбинацијата на вертикални и хоризонтални перки за вентилација обезбедува рамномерна распределба на протокот на воздух",
         "3",
         "27900.0",
         "35900.0",
         "2600",
         "2900",
         "-15",
         "50"
        ],
        [
         "34",
         "GREE",
         "FAIRY PREMIUM GWH12ACC-K6DNA1F",
         "ИНВЕРТЕР СПЛИТ СИСТЕМ",
         "A++",
         "35",
         "SMART DC Инвертер со G10 технологија, патент на ГРЕЕ\nGREE компресор со магнети од ретки метали (Rare Earth Magnet)\nEEV – Eлектронски експанзионен вентил, Грејач на тацна за одмрзнување на кондензат\nФункции",
         "10",
         "27990.0",
         "39990.0",
         "3510",
         "3810",
         "-25",
         "50"
        ],
        [
         "35",
         "GREE",
         "FAIRY PREMIUM Black GWH12ACC-K6DNA1F",
         "ИНВЕРТЕР СПЛИТ СИСТЕМ",
         "A++",
         "35",
         "SMART DC Инвертер со G10 технологија, патент на ГРЕЕ GREE компресор со магнети од ретки метали (Rare Earth Magnet) EEV – Eлектронски експанзионен вентил, Грејач на тацна за одмрзнување на кондензат Функции",
         "10",
         "27990.0",
         "41990.0",
         "3510",
         "3810",
         "-25",
         "50"
        ],
        [
         "36",
         "VIVAX",
         "ACP-09CH25AERI+ R32",
         "ИНВЕРТЕР СПЛИТ СИСТЕМ",
         "A+++",
         "25",
         "/",
         "5",
         "27990.0",
         "33990.0",
         "2638",
         "2931",
         "-25",
         "50"
        ],
        [
         "37",
         "VIVAX",
         "ACP-12CH35AERI+ R32",
         "ИНВЕРТЕР СПЛИТ СИСТЕМ",
         "A+++",
         "35",
         "/",
         "5",
         "27990.0",
         "36990.0",
         "3517",
         "3810",
         "-25",
         "50"
        ],
        [
         "38",
         "VIVAX",
         "ACP-09CH25AERI+ R32 Gold",
         "ИНВЕРТЕР СПЛИТ СИСТЕМ",
         "A+++",
         "25",
         "/",
         "5",
         "27990.0",
         "33990.0",
         "2638",
         "2931",
         "-25",
         "50"
        ],
        [
         "39",
         "VIVAX",
         "ACP-09CH25AERI+ R32 Silver",
         "ИНВЕРТЕР СПЛИТ СИСТЕМ",
         "A+++",
         "25",
         "/",
         "5",
         "27990.0",
         "33990.0",
         "2638",
         "2931",
         "-25",
         "50"
        ],
        [
         "40",
         "TOSOT",
         "MUSE EXTREME LCLH TWH12AFC-K6DNA5F",
         "ИНВЕРТЕР СПЛИТ СИСТЕМ",
         "A++",
         "35",
         "Произведено од GREE. Самодијагноза, интелегентно отопување, аuto restart, I Feel фунција, нормален sleep mode,тајмер, turbo",
         "3",
         "27990.0",
         "37990.0",
         "3510",
         "3810",
         "-25",
         "50"
        ],
        [
         "41",
         "HAIER",
         "TIDE PLUS AS25THMHRA-C/1U25YEFFRA-C",
         "ИНВЕРТЕР СПЛИТ СИСТЕМ",
         "A++",
         "25",
         "DC Inverter технологија со Intelligent Air, функција на самочистење и самодијагностицирање, можност за Wi-Fi управување, Auto-restart, 24h тајмер, оптимизиран дизајн на вентилаторот.",
         "3",
         "27990.0",
         "31990.0",
         "2600",
         "2800",
         "-15",
         "43"
        ],
        [
         "42",
         "HAIER",
         "TUNDRA PLUS AS25TAEHRA-THC/1U25YEFFRA-1",
         "ИНВЕРТЕР СПЛИТ СИСТЕМ",
         "A++",
         "25",
         "180° sine wave DC Inverter технологија со IntelligentAir, Super Quiet mode, Comfortable sleep mode - режими на работа , Eurovent сертификат, можност за Wi-Fi управување, функција на самочистење и самодијагностицирање, Auto-restart, 24hтајмер.",
         "3",
         "27990.0",
         "36990.0",
         "2600",
         "2900",
         "-15",
         "43"
        ],
        [
         "43",
         "HAIER",
         "TUNDRA GREEN AS25TADHRA-CL/1U25BEЕFRA",
         "ИНВЕРТЕР СПЛИТ СИСТЕМ",
         "A++",
         "25",
         "180° sine wave DC Inverter технологија со IntelligentAir, Super Quiet mode, Comfortable sleep mode - режими на работа \n, Eurovent сертификат, можност за Wi-Fi управување, функција на самочистење и самодијагностицирање, Auto-restart, 24hтајмер.",
         "3",
         "27990.0",
         "33990.0",
         "2600",
         "2900",
         "-15",
         "43"
        ],
        [
         "44",
         "GREE",
         "Charmo Arctic PRO II GWH12ATCXB-K6DNA4A",
         "ИНВЕРТЕР СПЛИТ СИСТЕМ",
         "A++",
         "35",
         "Функции",
         "10",
         "27990.0",
         "30990.0",
         "3510",
         "3810",
         "-25",
         "50"
        ],
        [
         "45",
         "GREE",
         "PULAR PREMIUM GWH12AGC-K6DNA1A",
         "ИНВЕРТЕР СПЛИТ СИСТЕМ",
         "A++",
         "30",
         "/",
         "10",
         "27990.0",
         "33990.0",
         "3200",
         "3400",
         "-15",
         "43"
        ],
        [
         "46",
         "TESLA",
         "STANDARD TT51X81-18410A",
         "СТАНДАРД СПЛИТ СИСТЕМ",
         "A",
         "55",
         "/",
         "3",
         "28990.0",
         "29990.0",
         "4990",
         "5310",
         "-7",
         "43"
        ],
        [
         "47",
         "VIVAX",
         "ACP-12CH35AERI+ R32 Red",
         "ИНВЕРТЕР СПЛИТ СИСТЕМ",
         "A+++",
         "35",
         "/",
         "5",
         "29990.0",
         "36990.0",
         "3517",
         "3810",
         "-25",
         "50"
        ],
        [
         "48",
         "VIVAX",
         "ACP-12CH35AERI+ R32 Silver",
         "ИНВЕРТЕР СПЛИТ СИСТЕМ",
         "A+++",
         "35",
         "/",
         "5",
         "29990.0",
         "36990.0",
         "3517",
         "3810",
         "-25",
         "50"
        ],
        [
         "49",
         "VIVAX",
         "ACP-12CH35AERI+ R32 Gold",
         "ИНВЕРТЕР СПЛИТ СИСТЕМ",
         "A+++",
         "35",
         "/",
         "5",
         "29990.0",
         "36990.0",
         "3517",
         "3810",
         "-25",
         "50"
        ]
       ],
       "shape": {
        "columns": 13,
        "rows": 286
       }
      },
      "text/html": [
       "<div>\n",
       "<style scoped>\n",
       "    .dataframe tbody tr th:only-of-type {\n",
       "        vertical-align: middle;\n",
       "    }\n",
       "\n",
       "    .dataframe tbody tr th {\n",
       "        vertical-align: top;\n",
       "    }\n",
       "\n",
       "    .dataframe thead th {\n",
       "        text-align: right;\n",
       "    }\n",
       "</style>\n",
       "<table border=\"1\" class=\"dataframe\">\n",
       "  <thead>\n",
       "    <tr style=\"text-align: right;\">\n",
       "      <th></th>\n",
       "      <th>brand</th>\n",
       "      <th>model</th>\n",
       "      <th>type</th>\n",
       "      <th>energy_class</th>\n",
       "      <th>area</th>\n",
       "      <th>functions</th>\n",
       "      <th>guarantee</th>\n",
       "      <th>curr_price</th>\n",
       "      <th>prev_price</th>\n",
       "      <th>min_power</th>\n",
       "      <th>max_power</th>\n",
       "      <th>min_temp</th>\n",
       "      <th>max_temp</th>\n",
       "    </tr>\n",
       "  </thead>\n",
       "  <tbody>\n",
       "    <tr>\n",
       "      <th>0</th>\n",
       "      <td>VIVAX</td>\n",
       "      <td>ACP-12CH35AEFIs R32</td>\n",
       "      <td>ИНВЕРТЕР СПЛИТ СИСТЕМ</td>\n",
       "      <td>A++</td>\n",
       "      <td>30</td>\n",
       "      <td>Внесете свежина во вашите домашни и деловни пр...</td>\n",
       "      <td>5</td>\n",
       "      <td>17990.0</td>\n",
       "      <td>20990.0</td>\n",
       "      <td>3517</td>\n",
       "      <td>3810</td>\n",
       "      <td>-10</td>\n",
       "      <td>50</td>\n",
       "    </tr>\n",
       "    <tr>\n",
       "      <th>1</th>\n",
       "      <td>TESLA</td>\n",
       "      <td>CLASSIC TA36FFLL-1232IA</td>\n",
       "      <td>ИНВЕРТЕР СПЛИТ СИСТЕМ</td>\n",
       "      <td>A++</td>\n",
       "      <td>35</td>\n",
       "      <td>/</td>\n",
       "      <td>3</td>\n",
       "      <td>18990.0</td>\n",
       "      <td>NaN</td>\n",
       "      <td>3400</td>\n",
       "      <td>3500</td>\n",
       "      <td>-15</td>\n",
       "      <td>49</td>\n",
       "    </tr>\n",
       "    <tr>\n",
       "      <th>2</th>\n",
       "      <td>VIVAX</td>\n",
       "      <td>ACP-12CH35AEXIs R32</td>\n",
       "      <td>ИНВЕРТЕР СПЛИТ СИСТЕМ</td>\n",
       "      <td>A++</td>\n",
       "      <td>30</td>\n",
       "      <td>/</td>\n",
       "      <td>5</td>\n",
       "      <td>19990.0</td>\n",
       "      <td>24990.0</td>\n",
       "      <td>3520</td>\n",
       "      <td>3810</td>\n",
       "      <td>-15</td>\n",
       "      <td>50</td>\n",
       "    </tr>\n",
       "    <tr>\n",
       "      <th>3</th>\n",
       "      <td>VIVAX</td>\n",
       "      <td>ACP-09CH25AEQIS R32</td>\n",
       "      <td>ИНВЕРТЕР СПЛИТ СИСТЕМ</td>\n",
       "      <td>A++</td>\n",
       "      <td>25</td>\n",
       "      <td>Висока ефикасност, прикажување на самодијагноз...</td>\n",
       "      <td>5</td>\n",
       "      <td>19990.0</td>\n",
       "      <td>22990.0</td>\n",
       "      <td>2638</td>\n",
       "      <td>2930</td>\n",
       "      <td>-15</td>\n",
       "      <td>50</td>\n",
       "    </tr>\n",
       "    <tr>\n",
       "      <th>4</th>\n",
       "      <td>VIVAX</td>\n",
       "      <td>ACP-09PT25AEG</td>\n",
       "      <td>МОБИЛНИ КЛИМА УРЕДИ</td>\n",
       "      <td>A</td>\n",
       "      <td>25</td>\n",
       "      <td>Тајмер, 3 стапки на проток на воздух, Рачно ра...</td>\n",
       "      <td>3</td>\n",
       "      <td>19990.0</td>\n",
       "      <td>NaN</td>\n",
       "      <td>2640</td>\n",
       "      <td>2640</td>\n",
       "      <td>17</td>\n",
       "      <td>35</td>\n",
       "    </tr>\n",
       "    <tr>\n",
       "      <th>...</th>\n",
       "      <td>...</td>\n",
       "      <td>...</td>\n",
       "      <td>...</td>\n",
       "      <td>...</td>\n",
       "      <td>...</td>\n",
       "      <td>...</td>\n",
       "      <td>...</td>\n",
       "      <td>...</td>\n",
       "      <td>...</td>\n",
       "      <td>...</td>\n",
       "      <td>...</td>\n",
       "      <td>...</td>\n",
       "      <td>...</td>\n",
       "    </tr>\n",
       "    <tr>\n",
       "      <th>281</th>\n",
       "      <td>VIVAX</td>\n",
       "      <td>ACP-55DT160AERI+ R32</td>\n",
       "      <td>КАНАЛНИ СИСТЕМИ</td>\n",
       "      <td>A++</td>\n",
       "      <td>170</td>\n",
       "      <td>/</td>\n",
       "      <td>5</td>\n",
       "      <td>199990.0</td>\n",
       "      <td>NaN</td>\n",
       "      <td>15240</td>\n",
       "      <td>18170</td>\n",
       "      <td>-20</td>\n",
       "      <td>50</td>\n",
       "    </tr>\n",
       "    <tr>\n",
       "      <th>282</th>\n",
       "      <td>VIVAX</td>\n",
       "      <td>ACP-55FS160AERI R410A</td>\n",
       "      <td>САМОСТОЕЧКИ</td>\n",
       "      <td>A++</td>\n",
       "      <td>170</td>\n",
       "      <td>/</td>\n",
       "      <td>5</td>\n",
       "      <td>199990.0</td>\n",
       "      <td>NaN</td>\n",
       "      <td>16120</td>\n",
       "      <td>17000</td>\n",
       "      <td>-15</td>\n",
       "      <td>50</td>\n",
       "    </tr>\n",
       "    <tr>\n",
       "      <th>283</th>\n",
       "      <td>MITSUBISHI</td>\n",
       "      <td>Heavy Diamond Hyperinverter SRK/SRC 100 ZR-W</td>\n",
       "      <td>ИНВЕРТЕР СПЛИТ СИСТЕМ</td>\n",
       "      <td>A+</td>\n",
       "      <td>100</td>\n",
       "      <td>• Серијата ZR е идеално решение за греење и ла...</td>\n",
       "      <td>3</td>\n",
       "      <td>205590.0</td>\n",
       "      <td>NaN</td>\n",
       "      <td>9600</td>\n",
       "      <td>10000</td>\n",
       "      <td>-15</td>\n",
       "      <td>46</td>\n",
       "    </tr>\n",
       "    <tr>\n",
       "      <th>284</th>\n",
       "      <td>TOSHIBA</td>\n",
       "      <td>Inverter RAV-RM1401FT / RAV-GM1401ATP-E</td>\n",
       "      <td>САМОСТОЕЧКИ</td>\n",
       "      <td>A</td>\n",
       "      <td>140</td>\n",
       "      <td>Екстремно тивок и штедлив клима уред\\nА/ А ене...</td>\n",
       "      <td>3</td>\n",
       "      <td>249990.0</td>\n",
       "      <td>NaN</td>\n",
       "      <td>14000</td>\n",
       "      <td>14600</td>\n",
       "      <td>-15</td>\n",
       "      <td>46</td>\n",
       "    </tr>\n",
       "    <tr>\n",
       "      <th>285</th>\n",
       "      <td>TOSHIBA</td>\n",
       "      <td>Inverter RAV-RM1601FT / RAV-GM1601ATP-E</td>\n",
       "      <td>САМОСТОЕЧКИ</td>\n",
       "      <td>A</td>\n",
       "      <td>170</td>\n",
       "      <td>Екстремно тивок и штедлив клима уред А/ А енер...</td>\n",
       "      <td>3</td>\n",
       "      <td>305990.0</td>\n",
       "      <td>NaN</td>\n",
       "      <td>14000</td>\n",
       "      <td>16000</td>\n",
       "      <td>-15</td>\n",
       "      <td>53</td>\n",
       "    </tr>\n",
       "  </tbody>\n",
       "</table>\n",
       "<p>286 rows × 13 columns</p>\n",
       "</div>"
      ],
      "text/plain": [
       "          brand                                         model  \\\n",
       "0         VIVAX                           ACP-12CH35AEFIs R32   \n",
       "1         TESLA                       CLASSIC TA36FFLL-1232IA   \n",
       "2         VIVAX                           ACP-12CH35AEXIs R32   \n",
       "3         VIVAX                           ACP-09CH25AEQIS R32   \n",
       "4         VIVAX                                 ACP-09PT25AEG   \n",
       "..          ...                                           ...   \n",
       "281       VIVAX                          ACP-55DT160AERI+ R32   \n",
       "282       VIVAX                         ACP-55FS160AERI R410A   \n",
       "283  MITSUBISHI  Heavy Diamond Hyperinverter SRK/SRC 100 ZR-W   \n",
       "284     TOSHIBA       Inverter RAV-RM1401FT / RAV-GM1401ATP-E   \n",
       "285     TOSHIBA       Inverter RAV-RM1601FT / RAV-GM1601ATP-E   \n",
       "\n",
       "                      type energy_class  area  \\\n",
       "0    ИНВЕРТЕР СПЛИТ СИСТЕМ          A++    30   \n",
       "1    ИНВЕРТЕР СПЛИТ СИСТЕМ          A++    35   \n",
       "2    ИНВЕРТЕР СПЛИТ СИСТЕМ          A++    30   \n",
       "3    ИНВЕРТЕР СПЛИТ СИСТЕМ          A++    25   \n",
       "4      МОБИЛНИ КЛИМА УРЕДИ            A    25   \n",
       "..                     ...          ...   ...   \n",
       "281        КАНАЛНИ СИСТЕМИ          A++   170   \n",
       "282            САМОСТОЕЧКИ          A++   170   \n",
       "283  ИНВЕРТЕР СПЛИТ СИСТЕМ           A+   100   \n",
       "284            САМОСТОЕЧКИ            A   140   \n",
       "285            САМОСТОЕЧКИ            A   170   \n",
       "\n",
       "                                             functions  guarantee  curr_price  \\\n",
       "0    Внесете свежина во вашите домашни и деловни пр...          5     17990.0   \n",
       "1                                                    /          3     18990.0   \n",
       "2                                                    /          5     19990.0   \n",
       "3    Висока ефикасност, прикажување на самодијагноз...          5     19990.0   \n",
       "4    Тајмер, 3 стапки на проток на воздух, Рачно ра...          3     19990.0   \n",
       "..                                                 ...        ...         ...   \n",
       "281                                                  /          5    199990.0   \n",
       "282                                                  /          5    199990.0   \n",
       "283  • Серијата ZR е идеално решение за греење и ла...          3    205590.0   \n",
       "284  Екстремно тивок и штедлив клима уред\\nА/ А ене...          3    249990.0   \n",
       "285  Екстремно тивок и штедлив клима уред А/ А енер...          3    305990.0   \n",
       "\n",
       "     prev_price  min_power  max_power  min_temp  max_temp  \n",
       "0       20990.0       3517       3810       -10        50  \n",
       "1           NaN       3400       3500       -15        49  \n",
       "2       24990.0       3520       3810       -15        50  \n",
       "3       22990.0       2638       2930       -15        50  \n",
       "4           NaN       2640       2640        17        35  \n",
       "..          ...        ...        ...       ...       ...  \n",
       "281         NaN      15240      18170       -20        50  \n",
       "282         NaN      16120      17000       -15        50  \n",
       "283         NaN       9600      10000       -15        46  \n",
       "284         NaN      14000      14600       -15        46  \n",
       "285         NaN      14000      16000       -15        53  \n",
       "\n",
       "[286 rows x 13 columns]"
      ]
     },
     "execution_count": 107,
     "metadata": {},
     "output_type": "execute_result"
    }
   ],
   "source": [
    "df"
   ]
  },
  {
   "cell_type": "code",
   "execution_count": 108,
   "id": "1d2d6b1b",
   "metadata": {},
   "outputs": [],
   "source": [
    "df.to_csv(\"data/02/clean_data.csv\", index=False)"
   ]
  },
  {
   "cell_type": "code",
   "execution_count": 109,
   "id": "281e2caa",
   "metadata": {},
   "outputs": [
    {
     "data": {
      "application/vnd.microsoft.datawrangler.viewer.v0+json": {
       "columns": [
        {
         "name": "index",
         "rawType": "object",
         "type": "string"
        },
        {
         "name": "area",
         "rawType": "float64",
         "type": "float"
        },
        {
         "name": "guarantee",
         "rawType": "float64",
         "type": "float"
        },
        {
         "name": "curr_price",
         "rawType": "float64",
         "type": "float"
        },
        {
         "name": "prev_price",
         "rawType": "float64",
         "type": "float"
        },
        {
         "name": "min_power",
         "rawType": "float64",
         "type": "float"
        },
        {
         "name": "max_power",
         "rawType": "float64",
         "type": "float"
        },
        {
         "name": "min_temp",
         "rawType": "float64",
         "type": "float"
        },
        {
         "name": "max_temp",
         "rawType": "float64",
         "type": "float"
        }
       ],
       "ref": "ec4cb640-2205-4853-a5c8-e8607453d8e5",
       "rows": [
        [
         "count",
         "286.0",
         "286.0",
         "286.0",
         "163.0",
         "286.0",
         "286.0",
         "286.0",
         "286.0"
        ],
        [
         "mean",
         "56.53846153846154",
         "4.346153846153846",
         "68179.58041958042",
         "56940.79754601227",
         "5374.43006993007",
         "5882.4965034965035",
         "-18.503496503496503",
         "47.29370629370629"
        ],
        [
         "std",
         "32.88326385618309",
         "2.590624641353638",
         "45741.165924954425",
         "24536.548978610397",
         "4151.319635506914",
         "4463.565478088197",
         "5.64427873766071",
         "5.869136841803903"
        ],
        [
         "min",
         "20.0",
         "1.0",
         "17990.0",
         "20990.0",
         "2000.0",
         "1115.0",
         "-32.0",
         "0.0"
        ],
        [
         "25%",
         "35.0",
         "3.0",
         "36990.0",
         "39490.0",
         "3500.0",
         "3800.0",
         "-22.0",
         "46.0"
        ],
        [
         "50%",
         "55.0",
         "3.0",
         "56615.0",
         "52990.0",
         "4600.0",
         "5100.0",
         "-15.0",
         "50.0"
        ],
        [
         "75%",
         "65.0",
         "5.0",
         "84297.5",
         "70290.0",
         "5375.0",
         "6200.0",
         "-15.0",
         "50.0"
        ],
        [
         "max",
         "180.0",
         "10.0",
         "305990.0",
         "169990.0",
         "55000.0",
         "58000.0",
         "17.0",
         "54.0"
        ]
       ],
       "shape": {
        "columns": 8,
        "rows": 8
       }
      },
      "text/html": [
       "<div>\n",
       "<style scoped>\n",
       "    .dataframe tbody tr th:only-of-type {\n",
       "        vertical-align: middle;\n",
       "    }\n",
       "\n",
       "    .dataframe tbody tr th {\n",
       "        vertical-align: top;\n",
       "    }\n",
       "\n",
       "    .dataframe thead th {\n",
       "        text-align: right;\n",
       "    }\n",
       "</style>\n",
       "<table border=\"1\" class=\"dataframe\">\n",
       "  <thead>\n",
       "    <tr style=\"text-align: right;\">\n",
       "      <th></th>\n",
       "      <th>area</th>\n",
       "      <th>guarantee</th>\n",
       "      <th>curr_price</th>\n",
       "      <th>prev_price</th>\n",
       "      <th>min_power</th>\n",
       "      <th>max_power</th>\n",
       "      <th>min_temp</th>\n",
       "      <th>max_temp</th>\n",
       "    </tr>\n",
       "  </thead>\n",
       "  <tbody>\n",
       "    <tr>\n",
       "      <th>count</th>\n",
       "      <td>286.000000</td>\n",
       "      <td>286.000000</td>\n",
       "      <td>286.000000</td>\n",
       "      <td>163.000000</td>\n",
       "      <td>286.000000</td>\n",
       "      <td>286.000000</td>\n",
       "      <td>286.000000</td>\n",
       "      <td>286.000000</td>\n",
       "    </tr>\n",
       "    <tr>\n",
       "      <th>mean</th>\n",
       "      <td>56.538462</td>\n",
       "      <td>4.346154</td>\n",
       "      <td>68179.580420</td>\n",
       "      <td>56940.797546</td>\n",
       "      <td>5374.430070</td>\n",
       "      <td>5882.496503</td>\n",
       "      <td>-18.503497</td>\n",
       "      <td>47.293706</td>\n",
       "    </tr>\n",
       "    <tr>\n",
       "      <th>std</th>\n",
       "      <td>32.883264</td>\n",
       "      <td>2.590625</td>\n",
       "      <td>45741.165925</td>\n",
       "      <td>24536.548979</td>\n",
       "      <td>4151.319636</td>\n",
       "      <td>4463.565478</td>\n",
       "      <td>5.644279</td>\n",
       "      <td>5.869137</td>\n",
       "    </tr>\n",
       "    <tr>\n",
       "      <th>min</th>\n",
       "      <td>20.000000</td>\n",
       "      <td>1.000000</td>\n",
       "      <td>17990.000000</td>\n",
       "      <td>20990.000000</td>\n",
       "      <td>2000.000000</td>\n",
       "      <td>1115.000000</td>\n",
       "      <td>-32.000000</td>\n",
       "      <td>0.000000</td>\n",
       "    </tr>\n",
       "    <tr>\n",
       "      <th>25%</th>\n",
       "      <td>35.000000</td>\n",
       "      <td>3.000000</td>\n",
       "      <td>36990.000000</td>\n",
       "      <td>39490.000000</td>\n",
       "      <td>3500.000000</td>\n",
       "      <td>3800.000000</td>\n",
       "      <td>-22.000000</td>\n",
       "      <td>46.000000</td>\n",
       "    </tr>\n",
       "    <tr>\n",
       "      <th>50%</th>\n",
       "      <td>55.000000</td>\n",
       "      <td>3.000000</td>\n",
       "      <td>56615.000000</td>\n",
       "      <td>52990.000000</td>\n",
       "      <td>4600.000000</td>\n",
       "      <td>5100.000000</td>\n",
       "      <td>-15.000000</td>\n",
       "      <td>50.000000</td>\n",
       "    </tr>\n",
       "    <tr>\n",
       "      <th>75%</th>\n",
       "      <td>65.000000</td>\n",
       "      <td>5.000000</td>\n",
       "      <td>84297.500000</td>\n",
       "      <td>70290.000000</td>\n",
       "      <td>5375.000000</td>\n",
       "      <td>6200.000000</td>\n",
       "      <td>-15.000000</td>\n",
       "      <td>50.000000</td>\n",
       "    </tr>\n",
       "    <tr>\n",
       "      <th>max</th>\n",
       "      <td>180.000000</td>\n",
       "      <td>10.000000</td>\n",
       "      <td>305990.000000</td>\n",
       "      <td>169990.000000</td>\n",
       "      <td>55000.000000</td>\n",
       "      <td>58000.000000</td>\n",
       "      <td>17.000000</td>\n",
       "      <td>54.000000</td>\n",
       "    </tr>\n",
       "  </tbody>\n",
       "</table>\n",
       "</div>"
      ],
      "text/plain": [
       "             area   guarantee     curr_price     prev_price     min_power  \\\n",
       "count  286.000000  286.000000     286.000000     163.000000    286.000000   \n",
       "mean    56.538462    4.346154   68179.580420   56940.797546   5374.430070   \n",
       "std     32.883264    2.590625   45741.165925   24536.548979   4151.319636   \n",
       "min     20.000000    1.000000   17990.000000   20990.000000   2000.000000   \n",
       "25%     35.000000    3.000000   36990.000000   39490.000000   3500.000000   \n",
       "50%     55.000000    3.000000   56615.000000   52990.000000   4600.000000   \n",
       "75%     65.000000    5.000000   84297.500000   70290.000000   5375.000000   \n",
       "max    180.000000   10.000000  305990.000000  169990.000000  55000.000000   \n",
       "\n",
       "          max_power    min_temp    max_temp  \n",
       "count    286.000000  286.000000  286.000000  \n",
       "mean    5882.496503  -18.503497   47.293706  \n",
       "std     4463.565478    5.644279    5.869137  \n",
       "min     1115.000000  -32.000000    0.000000  \n",
       "25%     3800.000000  -22.000000   46.000000  \n",
       "50%     5100.000000  -15.000000   50.000000  \n",
       "75%     6200.000000  -15.000000   50.000000  \n",
       "max    58000.000000   17.000000   54.000000  "
      ]
     },
     "execution_count": 109,
     "metadata": {},
     "output_type": "execute_result"
    }
   ],
   "source": [
    "df.describe()"
   ]
  },
  {
   "cell_type": "code",
   "execution_count": 110,
   "id": "4e67d2d7",
   "metadata": {},
   "outputs": [
    {
     "data": {
      "application/vnd.microsoft.datawrangler.viewer.v0+json": {
       "columns": [
        {
         "name": "index",
         "rawType": "float64",
         "type": "float"
        },
        {
         "name": "curr_price",
         "rawType": "float64",
         "type": "float"
        }
       ],
       "ref": "c84e896b-2486-4a96-ac81-5aa60c6dbc00",
       "rows": [
        [
         "0.25",
         "36990.0"
        ],
        [
         "0.5",
         "56615.0"
        ],
        [
         "0.75",
         "84297.5"
        ]
       ],
       "shape": {
        "columns": 1,
        "rows": 3
       }
      },
      "text/plain": [
       "0.25    36990.0\n",
       "0.50    56615.0\n",
       "0.75    84297.5\n",
       "Name: curr_price, dtype: float64"
      ]
     },
     "execution_count": 110,
     "metadata": {},
     "output_type": "execute_result"
    }
   ],
   "source": [
    "df[\"curr_price\"].quantile([0.25, 0.50, 0.75])"
   ]
  },
  {
   "cell_type": "markdown",
   "id": "81095bdd",
   "metadata": {},
   "source": [
    "# Data Visualization"
   ]
  },
  {
   "cell_type": "markdown",
   "id": "2ad0a231",
   "metadata": {},
   "source": [
    "## Histogram"
   ]
  },
  {
   "cell_type": "markdown",
   "id": "96c72d71",
   "metadata": {},
   "source": [
    "We use a histogram to visualize how current prices are distributed across products. Histogram is a graphical distribution of data arranged into discrete groups (bins). Although similar in apperance to a bar graph, a histogram deals with continuous data."
   ]
  },
  {
   "cell_type": "code",
   "execution_count": 111,
   "id": "120bceaf",
   "metadata": {},
   "outputs": [
    {
     "data": {
      "text/plain": [
       "<Axes: >"
      ]
     },
     "execution_count": 111,
     "metadata": {},
     "output_type": "execute_result"
    },
    {
     "data": {
      "image/png": "[encoded data removed]",
      "text/plain": [
       "<Figure size 640x480 with 1 Axes>"
      ]
     },
     "metadata": {},
     "output_type": "display_data"
    }
   ],
   "source": [
    "df[\"curr_price\"].hist()"
   ]
  },
  {
   "cell_type": "code",
   "execution_count": 112,
   "id": "c7e31e7a",
   "metadata": {},
   "outputs": [
    {
     "data": {
      "image/png": "[encoded data removed]",
      "text/plain": [
       "<Figure size 600x400 with 1 Axes>"
      ]
     },
     "metadata": {},
     "output_type": "display_data"
    }
   ],
   "source": [
    "plt.figure(figsize=(6, 4))\n",
    "plt.hist(df[\"curr_price\"], bins=10)\n",
    "plt.show()"
   ]
  },
  {
   "cell_type": "code",
   "execution_count": 113,
   "id": "00a27e3e",
   "metadata": {},
   "outputs": [
    {
     "data": {
      "image/png": "[encoded data removed]",
      "text/plain": [
       "<Figure size 600x400 with 1 Axes>"
      ]
     },
     "metadata": {},
     "output_type": "display_data"
    }
   ],
   "source": [
    "plt.figure(figsize=(6, 4))\n",
    "plt.hist(df[\"curr_price\"], bins=15)\n",
    "plt.hist(df[\"prev_price\"], bins=15)\n",
    "plt.show()"
   ]
  },
  {
   "cell_type": "markdown",
   "id": "88ba4aca",
   "metadata": {},
   "source": [
    "The `kde` line shows the density estimate, helping to understand where most prices fall."
   ]
  },
  {
   "cell_type": "code",
   "execution_count": 114,
   "id": "1641d34e",
   "metadata": {},
   "outputs": [
    {
     "data": {
      "text/plain": [
       "<Axes: xlabel='curr_price', ylabel='Count'>"
      ]
     },
     "execution_count": 114,
     "metadata": {},
     "output_type": "execute_result"
    },
    {
     "data": {
      "image/png": "[encoded data removed]",
      "text/plain": [
       "<Figure size 640x480 with 1 Axes>"
      ]
     },
     "metadata": {},
     "output_type": "display_data"
    }
   ],
   "source": [
    "sns.histplot(df[\"curr_price\"], kde=True, bins=10)"
   ]
  },
  {
   "cell_type": "markdown",
   "id": "961c6517",
   "metadata": {},
   "source": [
    "## Bar Plot"
   ]
  },
  {
   "cell_type": "markdown",
   "id": "fcfb883d",
   "metadata": {},
   "source": [
    "This bar plot shows how many products belong to each type. It provides a quick overview of which product categories dominate the dataset."
   ]
  },
  {
   "cell_type": "code",
   "execution_count": 115,
   "id": "305e31a0",
   "metadata": {},
   "outputs": [
    {
     "data": {
      "text/plain": [
       "<Axes: xlabel='type'>"
      ]
     },
     "execution_count": 115,
     "metadata": {},
     "output_type": "execute_result"
    },
    {
     "data": {
      "image/png": "[encoded data removed]",
      "text/plain": [
       "<Figure size 640x480 with 1 Axes>"
      ]
     },
     "metadata": {},
     "output_type": "display_data"
    }
   ],
   "source": [
    "df[\"type\"].value_counts().plot.bar()"
   ]
  },
  {
   "cell_type": "code",
   "execution_count": 116,
   "id": "e0709e3c",
   "metadata": {},
   "outputs": [],
   "source": [
    "counts_per_type = df[\"type\"].value_counts()"
   ]
  },
  {
   "cell_type": "code",
   "execution_count": 117,
   "id": "2ec8044a",
   "metadata": {},
   "outputs": [
    {
     "data": {
      "image/png": "[encoded data removed]",
      "text/plain": [
       "<Figure size 640x480 with 1 Axes>"
      ]
     },
     "metadata": {},
     "output_type": "display_data"
    }
   ],
   "source": [
    "plt.bar(counts_per_type.index, counts_per_type)\n",
    "plt.xticks(rotation=90)\n",
    "plt.show()"
   ]
  },
  {
   "cell_type": "markdown",
   "id": "b7adccbf",
   "metadata": {},
   "source": [
    "## Box Plot"
   ]
  },
  {
   "cell_type": "markdown",
   "id": "9600372e",
   "metadata": {},
   "source": [
    "![A box plot.](images/02/boxplot.png)"
   ]
  },
  {
   "cell_type": "markdown",
   "id": "065f8f6d",
   "metadata": {},
   "source": [
    "We use box plots to identify how prices are spread and to detect potential outliers. Box plots summarize the median, quartiles, and extremes of the price range."
   ]
  },
  {
   "cell_type": "code",
   "execution_count": 118,
   "id": "e56e740c",
   "metadata": {},
   "outputs": [
    {
     "data": {
      "text/plain": [
       "<Axes: >"
      ]
     },
     "execution_count": 118,
     "metadata": {},
     "output_type": "execute_result"
    },
    {
     "data": {
      "image/png": "[encoded data removed]",
      "text/plain": [
       "<Figure size 640x480 with 1 Axes>"
      ]
     },
     "metadata": {},
     "output_type": "display_data"
    }
   ],
   "source": [
    "df[\"curr_price\"].plot.box()"
   ]
  },
  {
   "cell_type": "code",
   "execution_count": 119,
   "id": "7364cd46",
   "metadata": {},
   "outputs": [
    {
     "data": {
      "image/png": "[encoded data removed]",
      "text/plain": [
       "<Figure size 640x480 with 1 Axes>"
      ]
     },
     "metadata": {},
     "output_type": "display_data"
    }
   ],
   "source": [
    "plt.boxplot(df[\"curr_price\"])\n",
    "plt.show()"
   ]
  },
  {
   "cell_type": "markdown",
   "id": "22ffe94f",
   "metadata": {},
   "source": [
    "We compare price distributions between different product types and different brands. These plots help identify which brands or categories tend to have higher or lower prices."
   ]
  },
  {
   "cell_type": "code",
   "execution_count": 120,
   "id": "61adb7e1",
   "metadata": {},
   "outputs": [
    {
     "data": {
      "text/plain": [
       "<Axes: xlabel='curr_price', ylabel='type'>"
      ]
     },
     "execution_count": 120,
     "metadata": {},
     "output_type": "execute_result"
    },
    {
     "data": {
      "image/png": "[encoded data removed]",
      "text/plain": [
       "<Figure size 640x480 with 1 Axes>"
      ]
     },
     "metadata": {},
     "output_type": "display_data"
    }
   ],
   "source": [
    "sns.boxplot(df, x=\"curr_price\", y=\"type\")"
   ]
  },
  {
   "cell_type": "code",
   "execution_count": 121,
   "id": "c7190a5a",
   "metadata": {},
   "outputs": [
    {
     "data": {
      "text/plain": [
       "<Axes: xlabel='curr_price', ylabel='brand'>"
      ]
     },
     "execution_count": 121,
     "metadata": {},
     "output_type": "execute_result"
    },
    {
     "data": {
      "image/png": "[encoded data removed]",
      "text/plain": [
       "<Figure size 640x480 with 1 Axes>"
      ]
     },
     "metadata": {},
     "output_type": "display_data"
    }
   ],
   "source": [
    "sns.boxplot(df, x=\"curr_price\", y=\"brand\")"
   ]
  },
  {
   "cell_type": "markdown",
   "id": "3891141c",
   "metadata": {},
   "source": [
    "## Scatter Plot"
   ]
  },
  {
   "cell_type": "markdown",
   "id": "7acaaa20",
   "metadata": {},
   "source": [
    "We use scatter plots to explore possible relationships:\n",
    "- between current and previous prices,\n",
    "- between current price and maximum power,\n",
    "- between current price and maximum temperature.\n",
    "\n",
    "This helps to see if higher performance correlates with higher cost."
   ]
  },
  {
   "cell_type": "code",
   "execution_count": 122,
   "id": "064cc333",
   "metadata": {},
   "outputs": [
    {
     "data": {
      "text/plain": [
       "<Axes: xlabel='curr_price', ylabel='prev_price'>"
      ]
     },
     "execution_count": 122,
     "metadata": {},
     "output_type": "execute_result"
    },
    {
     "data": {
      "image/png": "[encoded data removed]",
      "text/plain": [
       "<Figure size 640x480 with 1 Axes>"
      ]
     },
     "metadata": {},
     "output_type": "display_data"
    }
   ],
   "source": [
    "sns.scatterplot(df, x=\"curr_price\", y=\"prev_price\")"
   ]
  },
  {
   "cell_type": "code",
   "execution_count": 123,
   "id": "d2366bc5",
   "metadata": {},
   "outputs": [
    {
     "data": {
      "text/plain": [
       "<Axes: xlabel='curr_price', ylabel='max_power'>"
      ]
     },
     "execution_count": 123,
     "metadata": {},
     "output_type": "execute_result"
    },
    {
     "data": {
      "image/png": "[encoded data removed]",
      "text/plain": [
       "<Figure size 640x480 with 1 Axes>"
      ]
     },
     "metadata": {},
     "output_type": "display_data"
    }
   ],
   "source": [
    "sns.scatterplot(df, x=\"curr_price\", y=\"max_power\")"
   ]
  },
  {
   "cell_type": "code",
   "execution_count": 124,
   "id": "64ee74da",
   "metadata": {},
   "outputs": [
    {
     "data": {
      "text/plain": [
       "<Axes: xlabel='curr_price', ylabel='max_temp'>"
      ]
     },
     "execution_count": 124,
     "metadata": {},
     "output_type": "execute_result"
    },
    {
     "data": {
      "image/png": "[encoded data removed]",
      "text/plain": [
       "<Figure size 640x480 with 1 Axes>"
      ]
     },
     "metadata": {},
     "output_type": "display_data"
    }
   ],
   "source": [
    "sns.scatterplot(df, x=\"curr_price\", y=\"max_temp\")"
   ]
  },
  {
   "cell_type": "markdown",
   "id": "db62bc09",
   "metadata": {},
   "source": [
    "## Heatmap"
   ]
  },
  {
   "cell_type": "markdown",
   "id": "030fa3b8",
   "metadata": {},
   "source": [
    "We generate a heatmap showing correlations between all numerical columns. The default correlation type is `pearson`."
   ]
  },
  {
   "cell_type": "code",
   "execution_count": 125,
   "id": "2566adb7",
   "metadata": {},
   "outputs": [
    {
     "data": {
      "text/plain": [
       "<Axes: >"
      ]
     },
     "execution_count": 125,
     "metadata": {},
     "output_type": "execute_result"
    },
    {
     "data": {
      "image/png": "[encoded data removed]",
      "text/plain": [
       "<Figure size 640x480 with 2 Axes>"
      ]
     },
     "metadata": {},
     "output_type": "display_data"
    }
   ],
   "source": [
    "sns.heatmap(df.corr(numeric_only=True), annot=True)"
   ]
  },
  {
   "cell_type": "markdown",
   "id": "0975ed05",
   "metadata": {},
   "source": [
    "We plot how minimum and maximum power relate to the area each product can cover. These plots show whether there is a correlation between the product power and its area coverage."
   ]
  },
  {
   "cell_type": "code",
   "execution_count": 126,
   "id": "043fa6db",
   "metadata": {},
   "outputs": [
    {
     "data": {
      "text/plain": [
       "<Axes: xlabel='min_power', ylabel='area'>"
      ]
     },
     "execution_count": 126,
     "metadata": {},
     "output_type": "execute_result"
    },
    {
     "data": {
      "image/png": "[encoded data removed]",
      "text/plain": [
       "<Figure size 640x480 with 1 Axes>"
      ]
     },
     "metadata": {},
     "output_type": "display_data"
    }
   ],
   "source": [
    "sns.scatterplot(df, x=\"min_power\", y=\"area\")"
   ]
  },
  {
   "cell_type": "code",
   "execution_count": 127,
   "id": "7b874779",
   "metadata": {},
   "outputs": [
    {
     "data": {
      "text/plain": [
       "<Axes: xlabel='max_power', ylabel='area'>"
      ]
     },
     "execution_count": 127,
     "metadata": {},
     "output_type": "execute_result"
    },
    {
     "data": {
      "image/png": "[encoded data removed]",
      "text/plain": [
       "<Figure size 640x480 with 1 Axes>"
      ]
     },
     "metadata": {},
     "output_type": "display_data"
    }
   ],
   "source": [
    "sns.scatterplot(df, x=\"max_power\", y=\"area\")"
   ]
  },
  {
   "cell_type": "markdown",
   "id": "4364b96b",
   "metadata": {},
   "source": [
    "## Grouping Data"
   ]
  },
  {
   "cell_type": "markdown",
   "id": "0d17041f",
   "metadata": {},
   "source": [
    "We can use the `.groupby()` method to group the data frame by certain columns, select the columns we want to analyze and aggregate their values across the group using a reduction function, such as `mean`, `min`, `max`, `sum`, etc."
   ]
  },
  {
   "cell_type": "code",
   "execution_count": 128,
   "id": "ba9f04d7",
   "metadata": {},
   "outputs": [
    {
     "data": {
      "application/vnd.microsoft.datawrangler.viewer.v0+json": {
       "columns": [
        {
         "name": "type",
         "rawType": "object",
         "type": "string"
        },
        {
         "name": "curr_price",
         "rawType": "float64",
         "type": "float"
        },
        {
         "name": "prev_price",
         "rawType": "float64",
         "type": "float"
        }
       ],
       "ref": "66ee8849-2e6c-4ac3-8068-f840c4361f41",
       "rows": [
        [
         "ИНВЕРТЕР СПЛИТ СИСТЕМ",
         "56080.13513513513",
         "54879.48051948052"
        ],
        [
         "КАНАЛНИ СИСТЕМИ",
         "125990.0",
         null
        ],
        [
         "КАСЕТНИ СПЛИТ СИСТЕМ",
         "125812.85714285714",
         null
        ],
        [
         "МОБИЛНИ КЛИМА УРЕДИ",
         "23310.0",
         null
        ],
        [
         "ПАРАПЕТНИ/КОНЗОЛНИ",
         "84952.17391304347",
         "55490.0"
        ],
        [
         "САМОСТОЕЧКИ",
         "162187.33333333334",
         "144490.0"
        ],
        [
         "СТАНДАРД СПЛИТ СИСТЕМ",
         "28990.0",
         "29990.0"
        ]
       ],
       "shape": {
        "columns": 2,
        "rows": 7
       }
      },
      "text/html": [
       "<div>\n",
       "<style scoped>\n",
       "    .dataframe tbody tr th:only-of-type {\n",
       "        vertical-align: middle;\n",
       "    }\n",
       "\n",
       "    .dataframe tbody tr th {\n",
       "        vertical-align: top;\n",
       "    }\n",
       "\n",
       "    .dataframe thead th {\n",
       "        text-align: right;\n",
       "    }\n",
       "</style>\n",
       "<table border=\"1\" class=\"dataframe\">\n",
       "  <thead>\n",
       "    <tr style=\"text-align: right;\">\n",
       "      <th></th>\n",
       "      <th>curr_price</th>\n",
       "      <th>prev_price</th>\n",
       "    </tr>\n",
       "    <tr>\n",
       "      <th>type</th>\n",
       "      <th></th>\n",
       "      <th></th>\n",
       "    </tr>\n",
       "  </thead>\n",
       "  <tbody>\n",
       "    <tr>\n",
       "      <th>ИНВЕРТЕР СПЛИТ СИСТЕМ</th>\n",
       "      <td>56080.135135</td>\n",
       "      <td>54879.480519</td>\n",
       "    </tr>\n",
       "    <tr>\n",
       "      <th>КАНАЛНИ СИСТЕМИ</th>\n",
       "      <td>125990.000000</td>\n",
       "      <td>NaN</td>\n",
       "    </tr>\n",
       "    <tr>\n",
       "      <th>КАСЕТНИ СПЛИТ СИСТЕМ</th>\n",
       "      <td>125812.857143</td>\n",
       "      <td>NaN</td>\n",
       "    </tr>\n",
       "    <tr>\n",
       "      <th>МОБИЛНИ КЛИМА УРЕДИ</th>\n",
       "      <td>23310.000000</td>\n",
       "      <td>NaN</td>\n",
       "    </tr>\n",
       "    <tr>\n",
       "      <th>ПАРАПЕТНИ/КОНЗОЛНИ</th>\n",
       "      <td>84952.173913</td>\n",
       "      <td>55490.000000</td>\n",
       "    </tr>\n",
       "    <tr>\n",
       "      <th>САМОСТОЕЧКИ</th>\n",
       "      <td>162187.333333</td>\n",
       "      <td>144490.000000</td>\n",
       "    </tr>\n",
       "    <tr>\n",
       "      <th>СТАНДАРД СПЛИТ СИСТЕМ</th>\n",
       "      <td>28990.000000</td>\n",
       "      <td>29990.000000</td>\n",
       "    </tr>\n",
       "  </tbody>\n",
       "</table>\n",
       "</div>"
      ],
      "text/plain": [
       "                          curr_price     prev_price\n",
       "type                                               \n",
       "ИНВЕРТЕР СПЛИТ СИСТЕМ   56080.135135   54879.480519\n",
       "КАНАЛНИ СИСТЕМИ        125990.000000            NaN\n",
       "КАСЕТНИ СПЛИТ СИСТЕМ   125812.857143            NaN\n",
       "МОБИЛНИ КЛИМА УРЕДИ     23310.000000            NaN\n",
       "ПАРАПЕТНИ/КОНЗОЛНИ      84952.173913   55490.000000\n",
       "САМОСТОЕЧКИ            162187.333333  144490.000000\n",
       "СТАНДАРД СПЛИТ СИСТЕМ   28990.000000   29990.000000"
      ]
     },
     "execution_count": 128,
     "metadata": {},
     "output_type": "execute_result"
    }
   ],
   "source": [
    "df.groupby(by=[\"type\"])[[\"curr_price\", \"prev_price\"]].mean()"
   ]
  }
 ],
 "metadata": {
  "kernelspec": {
   "display_name": "i2ds-25-26",
   "language": "python",
   "name": "i2ds-25-26"
  },
  "language_info": {
   "codemirror_mode": {
    "name": "ipython",
    "version": 3
   },
   "file_extension": ".py",
   "mimetype": "text/x-python",
   "name": "python",
   "nbconvert_exporter": "python",
   "pygments_lexer": "ipython3",
   "version": "3.10.10"
  }
 },
 "nbformat": 4,
 "nbformat_minor": 5
}
