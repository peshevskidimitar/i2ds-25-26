{
 "cells": [
  {
   "cell_type": "markdown",
   "id": "2cf299ff",
   "metadata": {},
   "source": [
    "# Requirements"
   ]
  },
  {
   "cell_type": "code",
   "execution_count": 1,
   "id": "d8c42278",
   "metadata": {},
   "outputs": [],
   "source": [
    "import pandas as pd\n",
    "import matplotlib.pyplot as plt\n",
    "import seaborn as sns\n",
    "import missingno as msno\n",
    "from sklearn.experimental import enable_iterative_imputer\n",
    "from sklearn.impute import SimpleImputer, KNNImputer, IterativeImputer\n",
    "from sklearn.preprocessing import (\n",
    "    MinMaxScaler,\n",
    "    LabelEncoder,\n",
    "    OrdinalEncoder,\n",
    ")"
   ]
  },
  {
   "cell_type": "markdown",
   "id": "ad23e522",
   "metadata": {},
   "source": [
    "# Data Preparation"
   ]
  },
  {
   "cell_type": "code",
   "execution_count": 2,
   "id": "fb6e0a57",
   "metadata": {},
   "outputs": [],
   "source": [
    "df = pd.read_csv(\"data/03/spaceship_titanic.csv\")"
   ]
  },
  {
   "cell_type": "code",
   "execution_count": 3,
   "id": "059754ff",
   "metadata": {},
   "outputs": [
    {
     "data": {
      "application/vnd.microsoft.datawrangler.viewer.v0+json": {
       "columns": [
        {
         "name": "index",
         "rawType": "int64",
         "type": "integer"
        },
        {
         "name": "PassengerId",
         "rawType": "object",
         "type": "string"
        },
        {
         "name": "HomePlanet",
         "rawType": "object",
         "type": "string"
        },
        {
         "name": "CryoSleep",
         "rawType": "object",
         "type": "unknown"
        },
        {
         "name": "Cabin",
         "rawType": "object",
         "type": "unknown"
        },
        {
         "name": "Destination",
         "rawType": "object",
         "type": "string"
        },
        {
         "name": "Age",
         "rawType": "float64",
         "type": "float"
        },
        {
         "name": "VIP",
         "rawType": "object",
         "type": "unknown"
        },
        {
         "name": "RoomService",
         "rawType": "float64",
         "type": "float"
        },
        {
         "name": "FoodCourt",
         "rawType": "float64",
         "type": "float"
        },
        {
         "name": "ShoppingMall",
         "rawType": "float64",
         "type": "float"
        },
        {
         "name": "Spa",
         "rawType": "float64",
         "type": "float"
        },
        {
         "name": "VRDeck",
         "rawType": "float64",
         "type": "float"
        },
        {
         "name": "Name",
         "rawType": "object",
         "type": "string"
        },
        {
         "name": "Transported",
         "rawType": "bool",
         "type": "boolean"
        }
       ],
       "ref": "dcbf16f4-ecfb-4c6e-a517-cc4a453fa48c",
       "rows": [
        [
         "0",
         "0001_01",
         "Europa",
         "False",
         null,
         "TRAPPIST-1e",
         "39.0",
         "False",
         "0.0",
         "0.0",
         "0.0",
         "0.0",
         "0.0",
         "Maham Ofracculy",
         "False"
        ],
        [
         "1",
         "0002_01",
         "Earth",
         "False",
         null,
         "TRAPPIST-1e",
         "24.0",
         "False",
         "109.0",
         "9.0",
         "25.0",
         "549.0",
         "44.0",
         "Juanna Vines",
         "True"
        ],
        [
         "2",
         "0003_01",
         "Europa",
         "False",
         "A/0/S",
         "TRAPPIST-1e",
         null,
         "True",
         "43.0",
         "3576.0",
         "0.0",
         "6715.0",
         "49.0",
         "Altark Susent",
         "False"
        ],
        [
         "3",
         "0003_02",
         "Europa",
         "False",
         "A/0/S",
         "TRAPPIST-1e",
         "33.0",
         "False",
         "0.0",
         "1283.0",
         "371.0",
         "3329.0",
         "193.0",
         "Solam Susent",
         "False"
        ],
        [
         "4",
         "0004_01",
         "Earth",
         "False",
         "F/1/S",
         "TRAPPIST-1e",
         "16.0",
         "False",
         "303.0",
         "70.0",
         "151.0",
         "565.0",
         "2.0",
         "Willy Santantines",
         "True"
        ]
       ],
       "shape": {
        "columns": 14,
        "rows": 5
       }
      },
      "text/html": [
       "<div>\n",
       "<style scoped>\n",
       "    .dataframe tbody tr th:only-of-type {\n",
       "        vertical-align: middle;\n",
       "    }\n",
       "\n",
       "    .dataframe tbody tr th {\n",
       "        vertical-align: top;\n",
       "    }\n",
       "\n",
       "    .dataframe thead th {\n",
       "        text-align: right;\n",
       "    }\n",
       "</style>\n",
       "<table border=\"1\" class=\"dataframe\">\n",
       "  <thead>\n",
       "    <tr style=\"text-align: right;\">\n",
       "      <th></th>\n",
       "      <th>PassengerId</th>\n",
       "      <th>HomePlanet</th>\n",
       "      <th>CryoSleep</th>\n",
       "      <th>Cabin</th>\n",
       "      <th>Destination</th>\n",
       "      <th>Age</th>\n",
       "      <th>VIP</th>\n",
       "      <th>RoomService</th>\n",
       "      <th>FoodCourt</th>\n",
       "      <th>ShoppingMall</th>\n",
       "      <th>Spa</th>\n",
       "      <th>VRDeck</th>\n",
       "      <th>Name</th>\n",
       "      <th>Transported</th>\n",
       "    </tr>\n",
       "  </thead>\n",
       "  <tbody>\n",
       "    <tr>\n",
       "      <th>0</th>\n",
       "      <td>0001_01</td>\n",
       "      <td>Europa</td>\n",
       "      <td>False</td>\n",
       "      <td>NaN</td>\n",
       "      <td>TRAPPIST-1e</td>\n",
       "      <td>39.0</td>\n",
       "      <td>False</td>\n",
       "      <td>0.0</td>\n",
       "      <td>0.0</td>\n",
       "      <td>0.0</td>\n",
       "      <td>0.0</td>\n",
       "      <td>0.0</td>\n",
       "      <td>Maham Ofracculy</td>\n",
       "      <td>False</td>\n",
       "    </tr>\n",
       "    <tr>\n",
       "      <th>1</th>\n",
       "      <td>0002_01</td>\n",
       "      <td>Earth</td>\n",
       "      <td>False</td>\n",
       "      <td>NaN</td>\n",
       "      <td>TRAPPIST-1e</td>\n",
       "      <td>24.0</td>\n",
       "      <td>False</td>\n",
       "      <td>109.0</td>\n",
       "      <td>9.0</td>\n",
       "      <td>25.0</td>\n",
       "      <td>549.0</td>\n",
       "      <td>44.0</td>\n",
       "      <td>Juanna Vines</td>\n",
       "      <td>True</td>\n",
       "    </tr>\n",
       "    <tr>\n",
       "      <th>2</th>\n",
       "      <td>0003_01</td>\n",
       "      <td>Europa</td>\n",
       "      <td>False</td>\n",
       "      <td>A/0/S</td>\n",
       "      <td>TRAPPIST-1e</td>\n",
       "      <td>NaN</td>\n",
       "      <td>True</td>\n",
       "      <td>43.0</td>\n",
       "      <td>3576.0</td>\n",
       "      <td>0.0</td>\n",
       "      <td>6715.0</td>\n",
       "      <td>49.0</td>\n",
       "      <td>Altark Susent</td>\n",
       "      <td>False</td>\n",
       "    </tr>\n",
       "    <tr>\n",
       "      <th>3</th>\n",
       "      <td>0003_02</td>\n",
       "      <td>Europa</td>\n",
       "      <td>False</td>\n",
       "      <td>A/0/S</td>\n",
       "      <td>TRAPPIST-1e</td>\n",
       "      <td>33.0</td>\n",
       "      <td>False</td>\n",
       "      <td>0.0</td>\n",
       "      <td>1283.0</td>\n",
       "      <td>371.0</td>\n",
       "      <td>3329.0</td>\n",
       "      <td>193.0</td>\n",
       "      <td>Solam Susent</td>\n",
       "      <td>False</td>\n",
       "    </tr>\n",
       "    <tr>\n",
       "      <th>4</th>\n",
       "      <td>0004_01</td>\n",
       "      <td>Earth</td>\n",
       "      <td>False</td>\n",
       "      <td>F/1/S</td>\n",
       "      <td>TRAPPIST-1e</td>\n",
       "      <td>16.0</td>\n",
       "      <td>False</td>\n",
       "      <td>303.0</td>\n",
       "      <td>70.0</td>\n",
       "      <td>151.0</td>\n",
       "      <td>565.0</td>\n",
       "      <td>2.0</td>\n",
       "      <td>Willy Santantines</td>\n",
       "      <td>True</td>\n",
       "    </tr>\n",
       "  </tbody>\n",
       "</table>\n",
       "</div>"
      ],
      "text/plain": [
       "  PassengerId HomePlanet CryoSleep  Cabin  Destination   Age    VIP  \\\n",
       "0     0001_01     Europa     False    NaN  TRAPPIST-1e  39.0  False   \n",
       "1     0002_01      Earth     False    NaN  TRAPPIST-1e  24.0  False   \n",
       "2     0003_01     Europa     False  A/0/S  TRAPPIST-1e   NaN   True   \n",
       "3     0003_02     Europa     False  A/0/S  TRAPPIST-1e  33.0  False   \n",
       "4     0004_01      Earth     False  F/1/S  TRAPPIST-1e  16.0  False   \n",
       "\n",
       "   RoomService  FoodCourt  ShoppingMall     Spa  VRDeck               Name  \\\n",
       "0          0.0        0.0           0.0     0.0     0.0    Maham Ofracculy   \n",
       "1        109.0        9.0          25.0   549.0    44.0       Juanna Vines   \n",
       "2         43.0     3576.0           0.0  6715.0    49.0      Altark Susent   \n",
       "3          0.0     1283.0         371.0  3329.0   193.0       Solam Susent   \n",
       "4        303.0       70.0         151.0   565.0     2.0  Willy Santantines   \n",
       "\n",
       "   Transported  \n",
       "0        False  \n",
       "1         True  \n",
       "2        False  \n",
       "3        False  \n",
       "4         True  "
      ]
     },
     "execution_count": 3,
     "metadata": {},
     "output_type": "execute_result"
    }
   ],
   "source": [
    "df.head()"
   ]
  },
  {
   "cell_type": "code",
   "execution_count": 4,
   "id": "4a740202",
   "metadata": {},
   "outputs": [
    {
     "name": "stdout",
     "output_type": "stream",
     "text": [
      "<class 'pandas.core.frame.DataFrame'>\n",
      "RangeIndex: 8693 entries, 0 to 8692\n",
      "Data columns (total 14 columns):\n",
      " #   Column        Non-Null Count  Dtype  \n",
      "---  ------        --------------  -----  \n",
      " 0   PassengerId   8693 non-null   object \n",
      " 1   HomePlanet    8292 non-null   object \n",
      " 2   CryoSleep     8476 non-null   object \n",
      " 3   Cabin         1892 non-null   object \n",
      " 4   Destination   8511 non-null   object \n",
      " 5   Age           7699 non-null   float64\n",
      " 6   VIP           8490 non-null   object \n",
      " 7   RoomService   8512 non-null   float64\n",
      " 8   FoodCourt     8510 non-null   float64\n",
      " 9   ShoppingMall  8485 non-null   float64\n",
      " 10  Spa           8510 non-null   float64\n",
      " 11  VRDeck        8505 non-null   float64\n",
      " 12  Name          8493 non-null   object \n",
      " 13  Transported   8693 non-null   bool   \n",
      "dtypes: bool(1), float64(6), object(7)\n",
      "memory usage: 891.5+ KB\n"
     ]
    }
   ],
   "source": [
    "df.info()"
   ]
  },
  {
   "cell_type": "markdown",
   "id": "f8753c09",
   "metadata": {},
   "source": [
    "## Missing Data"
   ]
  },
  {
   "cell_type": "markdown",
   "id": "f1b404b4",
   "metadata": {},
   "source": [
    "### Discovering Missing Data"
   ]
  },
  {
   "cell_type": "markdown",
   "id": "86740e11",
   "metadata": {},
   "source": [
    "We check if there are missing values in the dataset."
   ]
  },
  {
   "cell_type": "code",
   "execution_count": 5,
   "id": "f68a2918",
   "metadata": {},
   "outputs": [
    {
     "data": {
      "application/vnd.microsoft.datawrangler.viewer.v0+json": {
       "columns": [
        {
         "name": "index",
         "rawType": "object",
         "type": "string"
        },
        {
         "name": "0",
         "rawType": "int64",
         "type": "integer"
        }
       ],
       "ref": "e21083fd-0e84-4472-a946-8212b4c1ff6d",
       "rows": [
        [
         "PassengerId",
         "0"
        ],
        [
         "HomePlanet",
         "401"
        ],
        [
         "CryoSleep",
         "217"
        ],
        [
         "Cabin",
         "6801"
        ],
        [
         "Destination",
         "182"
        ],
        [
         "Age",
         "994"
        ],
        [
         "VIP",
         "203"
        ],
        [
         "RoomService",
         "181"
        ],
        [
         "FoodCourt",
         "183"
        ],
        [
         "ShoppingMall",
         "208"
        ],
        [
         "Spa",
         "183"
        ],
        [
         "VRDeck",
         "188"
        ],
        [
         "Name",
         "200"
        ],
        [
         "Transported",
         "0"
        ]
       ],
       "shape": {
        "columns": 1,
        "rows": 14
       }
      },
      "text/plain": [
       "PassengerId        0\n",
       "HomePlanet       401\n",
       "CryoSleep        217\n",
       "Cabin           6801\n",
       "Destination      182\n",
       "Age              994\n",
       "VIP              203\n",
       "RoomService      181\n",
       "FoodCourt        183\n",
       "ShoppingMall     208\n",
       "Spa              183\n",
       "VRDeck           188\n",
       "Name             200\n",
       "Transported        0\n",
       "dtype: int64"
      ]
     },
     "execution_count": 5,
     "metadata": {},
     "output_type": "execute_result"
    }
   ],
   "source": [
    "df.isnull().sum()"
   ]
  },
  {
   "cell_type": "code",
   "execution_count": 6,
   "id": "f4b6d239",
   "metadata": {},
   "outputs": [],
   "source": [
    "percentage_of_missing_values_per_column = df.isnull().sum() / len(df) * 100"
   ]
  },
  {
   "cell_type": "code",
   "execution_count": 7,
   "id": "9fe80576",
   "metadata": {},
   "outputs": [],
   "source": [
    "percentage_of_missing_values_per_column = (\n",
    "    percentage_of_missing_values_per_column.reset_index().rename(\n",
    "        columns={\"index\": \"column_name\", 0: \"missing_percentage\"}\n",
    "    )\n",
    ")"
   ]
  },
  {
   "cell_type": "code",
   "execution_count": 8,
   "id": "182da1f6",
   "metadata": {},
   "outputs": [
    {
     "data": {
      "application/vnd.microsoft.datawrangler.viewer.v0+json": {
       "columns": [
        {
         "name": "index",
         "rawType": "int64",
         "type": "integer"
        },
        {
         "name": "column_name",
         "rawType": "object",
         "type": "string"
        },
        {
         "name": "missing_percentage",
         "rawType": "float64",
         "type": "float"
        }
       ],
       "ref": "a62366b4-4dea-4ea5-a695-27008b075f36",
       "rows": [
        [
         "0",
         "PassengerId",
         "0.0"
        ],
        [
         "1",
         "HomePlanet",
         "4.612906936615667"
        ],
        [
         "2",
         "CryoSleep",
         "2.4962613597147127"
        ],
        [
         "3",
         "Cabin",
         "78.23536178534452"
        ],
        [
         "4",
         "Destination",
         "2.093638559760727"
        ],
        [
         "5",
         "Age",
         "11.434487518693201"
        ],
        [
         "6",
         "VIP",
         "2.3352122397331185"
        ],
        [
         "7",
         "RoomService",
         "2.082135051190613"
        ],
        [
         "8",
         "FoodCourt",
         "2.105142068330841"
        ],
        [
         "9",
         "ShoppingMall",
         "2.392729782583688"
        ],
        [
         "10",
         "Spa",
         "2.105142068330841"
        ],
        [
         "11",
         "VRDeck",
         "2.1626596111814105"
        ],
        [
         "12",
         "Name",
         "2.300701714022777"
        ],
        [
         "13",
         "Transported",
         "0.0"
        ]
       ],
       "shape": {
        "columns": 2,
        "rows": 14
       }
      },
      "text/html": [
       "<div>\n",
       "<style scoped>\n",
       "    .dataframe tbody tr th:only-of-type {\n",
       "        vertical-align: middle;\n",
       "    }\n",
       "\n",
       "    .dataframe tbody tr th {\n",
       "        vertical-align: top;\n",
       "    }\n",
       "\n",
       "    .dataframe thead th {\n",
       "        text-align: right;\n",
       "    }\n",
       "</style>\n",
       "<table border=\"1\" class=\"dataframe\">\n",
       "  <thead>\n",
       "    <tr style=\"text-align: right;\">\n",
       "      <th></th>\n",
       "      <th>column_name</th>\n",
       "      <th>missing_percentage</th>\n",
       "    </tr>\n",
       "  </thead>\n",
       "  <tbody>\n",
       "    <tr>\n",
       "      <th>0</th>\n",
       "      <td>PassengerId</td>\n",
       "      <td>0.000000</td>\n",
       "    </tr>\n",
       "    <tr>\n",
       "      <th>1</th>\n",
       "      <td>HomePlanet</td>\n",
       "      <td>4.612907</td>\n",
       "    </tr>\n",
       "    <tr>\n",
       "      <th>2</th>\n",
       "      <td>CryoSleep</td>\n",
       "      <td>2.496261</td>\n",
       "    </tr>\n",
       "    <tr>\n",
       "      <th>3</th>\n",
       "      <td>Cabin</td>\n",
       "      <td>78.235362</td>\n",
       "    </tr>\n",
       "    <tr>\n",
       "      <th>4</th>\n",
       "      <td>Destination</td>\n",
       "      <td>2.093639</td>\n",
       "    </tr>\n",
       "    <tr>\n",
       "      <th>5</th>\n",
       "      <td>Age</td>\n",
       "      <td>11.434488</td>\n",
       "    </tr>\n",
       "    <tr>\n",
       "      <th>6</th>\n",
       "      <td>VIP</td>\n",
       "      <td>2.335212</td>\n",
       "    </tr>\n",
       "    <tr>\n",
       "      <th>7</th>\n",
       "      <td>RoomService</td>\n",
       "      <td>2.082135</td>\n",
       "    </tr>\n",
       "    <tr>\n",
       "      <th>8</th>\n",
       "      <td>FoodCourt</td>\n",
       "      <td>2.105142</td>\n",
       "    </tr>\n",
       "    <tr>\n",
       "      <th>9</th>\n",
       "      <td>ShoppingMall</td>\n",
       "      <td>2.392730</td>\n",
       "    </tr>\n",
       "    <tr>\n",
       "      <th>10</th>\n",
       "      <td>Spa</td>\n",
       "      <td>2.105142</td>\n",
       "    </tr>\n",
       "    <tr>\n",
       "      <th>11</th>\n",
       "      <td>VRDeck</td>\n",
       "      <td>2.162660</td>\n",
       "    </tr>\n",
       "    <tr>\n",
       "      <th>12</th>\n",
       "      <td>Name</td>\n",
       "      <td>2.300702</td>\n",
       "    </tr>\n",
       "    <tr>\n",
       "      <th>13</th>\n",
       "      <td>Transported</td>\n",
       "      <td>0.000000</td>\n",
       "    </tr>\n",
       "  </tbody>\n",
       "</table>\n",
       "</div>"
      ],
      "text/plain": [
       "     column_name  missing_percentage\n",
       "0    PassengerId            0.000000\n",
       "1     HomePlanet            4.612907\n",
       "2      CryoSleep            2.496261\n",
       "3          Cabin           78.235362\n",
       "4    Destination            2.093639\n",
       "5            Age           11.434488\n",
       "6            VIP            2.335212\n",
       "7    RoomService            2.082135\n",
       "8      FoodCourt            2.105142\n",
       "9   ShoppingMall            2.392730\n",
       "10           Spa            2.105142\n",
       "11        VRDeck            2.162660\n",
       "12          Name            2.300702\n",
       "13   Transported            0.000000"
      ]
     },
     "execution_count": 8,
     "metadata": {},
     "output_type": "execute_result"
    }
   ],
   "source": [
    "percentage_of_missing_values_per_column"
   ]
  },
  {
   "cell_type": "markdown",
   "id": "afe06e1f",
   "metadata": {},
   "source": [
    "The `msno.bar(df)` function presents a simple visualization of nullity by column."
   ]
  },
  {
   "cell_type": "code",
   "execution_count": 9,
   "id": "793d79d7",
   "metadata": {},
   "outputs": [
    {
     "data": {
      "text/plain": [
       "<Axes: >"
      ]
     },
     "execution_count": 9,
     "metadata": {},
     "output_type": "execute_result"
    },
    {
     "data": {
      "image/png": "[encoded data removed]",
      "text/plain": [
       "<Figure size 2500x1000 with 3 Axes>"
      ]
     },
     "metadata": {},
     "output_type": "display_data"
    }
   ],
   "source": [
    "msno.bar(df)"
   ]
  },
  {
   "cell_type": "markdown",
   "id": "52b56737",
   "metadata": {},
   "source": [
    "The `msno.matrix(df)` function presents a nullity matrix that is a data-dense display which lets you quickly visually pick out patterns in data completion. The sparkline at right summarizes the general shape of the data completeness and points out the rows with the maximum and minimum nullity in the dataset."
   ]
  },
  {
   "cell_type": "code",
   "execution_count": 10,
   "id": "7fe2a46e",
   "metadata": {},
   "outputs": [
    {
     "data": {
      "text/plain": [
       "<Axes: >"
      ]
     },
     "execution_count": 10,
     "metadata": {},
     "output_type": "execute_result"
    },
    {
     "data": {
      "image/png": "[encoded data removed]",
      "text/plain": [
       "<Figure size 2500x1000 with 2 Axes>"
      ]
     },
     "metadata": {},
     "output_type": "display_data"
    }
   ],
   "source": [
    "msno.matrix(df)"
   ]
  },
  {
   "cell_type": "markdown",
   "id": "6f0e93fb",
   "metadata": {},
   "source": [
    "The `missingno.heatmap(df)` function presents a `seaborn` heatmap visualization of nullity correlation in the given data frame. The nullity correlation shows how strongly the presence or absence of one variable affects the presence or absence of another."
   ]
  },
  {
   "cell_type": "code",
   "execution_count": 11,
   "id": "b563a0a4",
   "metadata": {},
   "outputs": [
    {
     "data": {
      "text/plain": [
       "<Axes: >"
      ]
     },
     "execution_count": 11,
     "metadata": {},
     "output_type": "execute_result"
    },
    {
     "data": {
      "image/png": "[encoded data removed]",
      "text/plain": [
       "<Figure size 2000x1200 with 2 Axes>"
      ]
     },
     "metadata": {},
     "output_type": "display_data"
    }
   ],
   "source": [
    "msno.heatmap(df)"
   ]
  },
  {
   "cell_type": "markdown",
   "id": "c00ff498",
   "metadata": {},
   "source": [
    "**What does the 0.7 correlation tell us? Is the data missing at random?**"
   ]
  },
  {
   "cell_type": "markdown",
   "id": "bed2f4ce",
   "metadata": {},
   "source": [
    "The dendrogram allows you to more fully correlate variable completion, revealing trends deeper than the pairwise ones visible in the correlation heatmap. The dendrogram uses a hierarchical clustering algorithm (courtesy of `scipy`) to bin variables against one another by their nullity correlation (measured in terms of binary distance). At each step of the tree the variables are split up based on which combination minimizes the distance of the remaining clusters. The more monotone the set of variables, the closer their total distance is to zero, and the closer their average distance (the y-axis) is to zero."
   ]
  },
  {
   "cell_type": "code",
   "execution_count": 12,
   "id": "be46351d",
   "metadata": {},
   "outputs": [
    {
     "data": {
      "text/plain": [
       "<Axes: >"
      ]
     },
     "execution_count": 12,
     "metadata": {},
     "output_type": "execute_result"
    },
    {
     "data": {
      "image/png": "[encoded data removed]",
      "text/plain": [
       "<Figure size 2500x1000 with 1 Axes>"
      ]
     },
     "metadata": {},
     "output_type": "display_data"
    }
   ],
   "source": [
    "msno.dendrogram(df)"
   ]
  },
  {
   "cell_type": "markdown",
   "id": "fa4529f2",
   "metadata": {},
   "source": [
    "To interpret this graph, read it from a top-down perspective. Cluster leaves which linked together at a distance of zero fully predict one another's presence, i.e., one variable might always be empty when another is filled, or they might always both be filled or both empty, and so on. In this specific example the dendrogram glues together the variables which are required and therefore present in every record."
   ]
  },
  {
   "cell_type": "markdown",
   "id": "108ec459",
   "metadata": {},
   "source": [
    "### Missing Values Overview"
   ]
  },
  {
   "cell_type": "markdown",
   "id": "98303cc8",
   "metadata": {},
   "source": [
    "We have different ways data can be missing. It is important to identify which type it is as it will change how we should deal with it. The 3 types we will consider are Missing Completely At Random (MCAR), Missing At Random (MAR), and Missing Not At Random (MNAR)."
   ]
  },
  {
   "cell_type": "markdown",
   "id": "c7f24221",
   "metadata": {},
   "source": [
    "When data is MCAR, then we have that the missingness is unrelated to anything else in our data set or other relevant information. This is the cleanest form of missingness as if a truly random die was rolled for each value to determine whether a value should be marked as missing or not. This type of missing data doesn’t contain any information, and our method of remedying it is about causing the least destruction. Data are very rarely missing completely at random."
   ]
  },
  {
   "cell_type": "markdown",
   "id": "7784730f",
   "metadata": {},
   "source": [
    "When data is MAR, then the missingness is related to the observed data but not the unobserved data. We can find this type of missingness by looking at the relationship between the missingness and the observed data we have. If we are collecting reviews from hotel stays, we might imagine that satisfaction with the stay is related to how much information we get in other fields. This is a much bigger class of missingness than MCAR and something we can find good remedies for. Most methods that try to deal with missing data assume the data is MAR."
   ]
  },
  {
   "cell_type": "markdown",
   "id": "de268b19",
   "metadata": {},
   "source": [
    "Lastly, we have MNAR. This happens when neither MCAR nor MAR holds. Rephrased, this happens when the missingness isn’t related to anything we have observed. An example of this is an instrument that wears over time, giving higher and higher probabilities of producing missing values. If we don’t know and measure this, then we have data that are MNAR. MNAR might feel like MCAR, so our main goal is to figure out if it is or not. This should all be done at the EDA stage."
   ]
  },
  {
   "cell_type": "markdown",
   "id": "96156550",
   "metadata": {},
   "source": [
    "<img src=\"images/missing-mcar-mar-mnar.png\" width=\"1000\"/>"
   ]
  },
  {
   "cell_type": "markdown",
   "id": "6a9106a1",
   "metadata": {},
   "source": [
    "The 3 types of missing data MCAR, MAR, and MNAR. Missing data is represented in the first column as gray squares. The missing values don’t seem to have a pattern for MCAR. For MAR the missing values appear to align with light values in the second column. For MNAR we have that the missing values align with dark values of the unobserved data."
   ]
  },
  {
   "cell_type": "markdown",
   "id": "efbe3d58",
   "metadata": {},
   "source": [
    "<img src=\"images/missing-data-nature.png\" alt=\"drawing\" width=\"500\"/>"
   ]
  },
  {
   "cell_type": "markdown",
   "id": "ab2f2c11",
   "metadata": {},
   "source": [
    "<img src=\"images/missing-data-causes-solution.jpg\" width=\"500\"/>"
   ]
  },
  {
   "cell_type": "markdown",
   "id": "7aa56e0a",
   "metadata": {},
   "source": [
    "### Handling Missing Data"
   ]
  },
  {
   "cell_type": "markdown",
   "id": "50659300",
   "metadata": {},
   "source": [
    "<img src=\"images/deletions.png\" width=\"750\"/>"
   ]
  },
  {
   "cell_type": "markdown",
   "id": "23ad1b2d",
   "metadata": {},
   "source": [
    "The \"pairwise deletion\" method is used when values are missing completely at random, i.e, MCAR. During pairwise deletion, only the missing values are deleted. All operations in `pandas` like mean, sum, min, max, and similar, intrinsically skip missing values."
   ]
  },
  {
   "cell_type": "code",
   "execution_count": 13,
   "id": "50fa66c6",
   "metadata": {},
   "outputs": [
    {
     "data": {
      "text/plain": [
       "28.798805039615534"
      ]
     },
     "execution_count": 13,
     "metadata": {},
     "output_type": "execute_result"
    }
   ],
   "source": [
    "df[\"Age\"].mean().item()"
   ]
  },
  {
   "cell_type": "markdown",
   "id": "66d8ea7e",
   "metadata": {},
   "source": [
    "The \"listwise deletion\" method is used to remove complete rows which contain missing values. As a result, it is also called \"complete case deletion\". Like \"pairwise deletion\", \"listwise deletion\" is also only used for MCAR values."
   ]
  },
  {
   "cell_type": "code",
   "execution_count": 14,
   "id": "5146357e",
   "metadata": {},
   "outputs": [],
   "source": [
    "df = df.dropna(subset=[\"RoomService\"], axis=0)"
   ]
  },
  {
   "cell_type": "code",
   "execution_count": 15,
   "id": "e2bd0ed5",
   "metadata": {},
   "outputs": [
    {
     "data": {
      "application/vnd.microsoft.datawrangler.viewer.v0+json": {
       "columns": [
        {
         "name": "index",
         "rawType": "object",
         "type": "string"
        },
        {
         "name": "0",
         "rawType": "int64",
         "type": "integer"
        }
       ],
       "ref": "698799f9-e9a5-4fc9-b813-d157a2f99a84",
       "rows": [
        [
         "PassengerId",
         "0"
        ],
        [
         "HomePlanet",
         "391"
        ],
        [
         "CryoSleep",
         "215"
        ],
        [
         "Cabin",
         "6655"
        ],
        [
         "Destination",
         "179"
        ],
        [
         "Age",
         "974"
        ],
        [
         "VIP",
         "199"
        ],
        [
         "RoomService",
         "0"
        ],
        [
         "FoodCourt",
         "181"
        ],
        [
         "ShoppingMall",
         "204"
        ],
        [
         "Spa",
         "180"
        ],
        [
         "VRDeck",
         "186"
        ],
        [
         "Name",
         "199"
        ],
        [
         "Transported",
         "0"
        ]
       ],
       "shape": {
        "columns": 1,
        "rows": 14
       }
      },
      "text/plain": [
       "PassengerId        0\n",
       "HomePlanet       391\n",
       "CryoSleep        215\n",
       "Cabin           6655\n",
       "Destination      179\n",
       "Age              974\n",
       "VIP              199\n",
       "RoomService        0\n",
       "FoodCourt        181\n",
       "ShoppingMall     204\n",
       "Spa              180\n",
       "VRDeck           186\n",
       "Name             199\n",
       "Transported        0\n",
       "dtype: int64"
      ]
     },
     "execution_count": 15,
     "metadata": {},
     "output_type": "execute_result"
    }
   ],
   "source": [
    "df.isnull().sum()"
   ]
  },
  {
   "cell_type": "markdown",
   "id": "61b28925",
   "metadata": {},
   "source": [
    "The major problem of \"listwise deletion\" method is that a major chunk of data is deleted and hence a lot of information is lost. Hence, it is advisable to use it only when the number of missing values is very small."
   ]
  },
  {
   "cell_type": "markdown",
   "id": "7f370a2a",
   "metadata": {},
   "source": [
    "If a column contains a lot of missing values, say more than 70%, and the feature is not significant for the task at hand, you might want to delete that feature. However, again, it is not a good methodology to delete data."
   ]
  },
  {
   "cell_type": "code",
   "execution_count": 16,
   "id": "799e72e3",
   "metadata": {},
   "outputs": [],
   "source": [
    "df = df.drop(columns=[\"Cabin\"])"
   ]
  },
  {
   "cell_type": "markdown",
   "id": "a1300b2e",
   "metadata": {},
   "source": [
    "Note: Even though we don't see it at first, the cabin feature has actually significant correlation with the target variable \"Transported\"."
   ]
  },
  {
   "cell_type": "markdown",
   "id": "d0a8d104",
   "metadata": {},
   "source": [
    "### Missing Data Imputation"
   ]
  },
  {
   "cell_type": "markdown",
   "id": "9c1378f7",
   "metadata": {},
   "source": [
    "#### Simple Imputation Methods"
   ]
  },
  {
   "cell_type": "markdown",
   "id": "c24082a7",
   "metadata": {},
   "source": [
    "<img src=\"images/imputations.png\" width=\"750\"/>"
   ]
  },
  {
   "cell_type": "code",
   "execution_count": 17,
   "id": "097640c9",
   "metadata": {},
   "outputs": [
    {
     "data": {
      "application/vnd.microsoft.datawrangler.viewer.v0+json": {
       "columns": [
        {
         "name": "index",
         "rawType": "int64",
         "type": "integer"
        },
        {
         "name": "PassengerId",
         "rawType": "object",
         "type": "string"
        },
        {
         "name": "HomePlanet",
         "rawType": "object",
         "type": "string"
        },
        {
         "name": "CryoSleep",
         "rawType": "object",
         "type": "unknown"
        },
        {
         "name": "Destination",
         "rawType": "object",
         "type": "string"
        },
        {
         "name": "Age",
         "rawType": "float64",
         "type": "float"
        },
        {
         "name": "VIP",
         "rawType": "object",
         "type": "unknown"
        },
        {
         "name": "RoomService",
         "rawType": "float64",
         "type": "float"
        },
        {
         "name": "FoodCourt",
         "rawType": "float64",
         "type": "float"
        },
        {
         "name": "ShoppingMall",
         "rawType": "float64",
         "type": "float"
        },
        {
         "name": "Spa",
         "rawType": "float64",
         "type": "float"
        },
        {
         "name": "VRDeck",
         "rawType": "float64",
         "type": "float"
        },
        {
         "name": "Name",
         "rawType": "object",
         "type": "string"
        },
        {
         "name": "Transported",
         "rawType": "bool",
         "type": "boolean"
        }
       ],
       "ref": "16e8bf4a-b122-4783-98ac-ad47a8c0eaed",
       "rows": [
        [
         "0",
         "0001_01",
         "Europa",
         "False",
         "TRAPPIST-1e",
         "39.0",
         "False",
         "0.0",
         "0.0",
         "0.0",
         "0.0",
         "0.0",
         "Maham Ofracculy",
         "False"
        ],
        [
         "1",
         "0002_01",
         "Earth",
         "False",
         "TRAPPIST-1e",
         "24.0",
         "False",
         "109.0",
         "9.0",
         "25.0",
         "549.0",
         "44.0",
         "Juanna Vines",
         "True"
        ],
        [
         "2",
         "0003_01",
         "Europa",
         "False",
         "TRAPPIST-1e",
         null,
         "True",
         "43.0",
         "3576.0",
         "0.0",
         "6715.0",
         "49.0",
         "Altark Susent",
         "False"
        ],
        [
         "3",
         "0003_02",
         "Europa",
         "False",
         "TRAPPIST-1e",
         "33.0",
         "False",
         "0.0",
         "1283.0",
         "371.0",
         "3329.0",
         "193.0",
         "Solam Susent",
         "False"
        ],
        [
         "4",
         "0004_01",
         "Earth",
         "False",
         "TRAPPIST-1e",
         "16.0",
         "False",
         "303.0",
         "70.0",
         "151.0",
         "565.0",
         "2.0",
         "Willy Santantines",
         "True"
        ]
       ],
       "shape": {
        "columns": 13,
        "rows": 5
       }
      },
      "text/html": [
       "<div>\n",
       "<style scoped>\n",
       "    .dataframe tbody tr th:only-of-type {\n",
       "        vertical-align: middle;\n",
       "    }\n",
       "\n",
       "    .dataframe tbody tr th {\n",
       "        vertical-align: top;\n",
       "    }\n",
       "\n",
       "    .dataframe thead th {\n",
       "        text-align: right;\n",
       "    }\n",
       "</style>\n",
       "<table border=\"1\" class=\"dataframe\">\n",
       "  <thead>\n",
       "    <tr style=\"text-align: right;\">\n",
       "      <th></th>\n",
       "      <th>PassengerId</th>\n",
       "      <th>HomePlanet</th>\n",
       "      <th>CryoSleep</th>\n",
       "      <th>Destination</th>\n",
       "      <th>Age</th>\n",
       "      <th>VIP</th>\n",
       "      <th>RoomService</th>\n",
       "      <th>FoodCourt</th>\n",
       "      <th>ShoppingMall</th>\n",
       "      <th>Spa</th>\n",
       "      <th>VRDeck</th>\n",
       "      <th>Name</th>\n",
       "      <th>Transported</th>\n",
       "    </tr>\n",
       "  </thead>\n",
       "  <tbody>\n",
       "    <tr>\n",
       "      <th>0</th>\n",
       "      <td>0001_01</td>\n",
       "      <td>Europa</td>\n",
       "      <td>False</td>\n",
       "      <td>TRAPPIST-1e</td>\n",
       "      <td>39.0</td>\n",
       "      <td>False</td>\n",
       "      <td>0.0</td>\n",
       "      <td>0.0</td>\n",
       "      <td>0.0</td>\n",
       "      <td>0.0</td>\n",
       "      <td>0.0</td>\n",
       "      <td>Maham Ofracculy</td>\n",
       "      <td>False</td>\n",
       "    </tr>\n",
       "    <tr>\n",
       "      <th>1</th>\n",
       "      <td>0002_01</td>\n",
       "      <td>Earth</td>\n",
       "      <td>False</td>\n",
       "      <td>TRAPPIST-1e</td>\n",
       "      <td>24.0</td>\n",
       "      <td>False</td>\n",
       "      <td>109.0</td>\n",
       "      <td>9.0</td>\n",
       "      <td>25.0</td>\n",
       "      <td>549.0</td>\n",
       "      <td>44.0</td>\n",
       "      <td>Juanna Vines</td>\n",
       "      <td>True</td>\n",
       "    </tr>\n",
       "    <tr>\n",
       "      <th>2</th>\n",
       "      <td>0003_01</td>\n",
       "      <td>Europa</td>\n",
       "      <td>False</td>\n",
       "      <td>TRAPPIST-1e</td>\n",
       "      <td>NaN</td>\n",
       "      <td>True</td>\n",
       "      <td>43.0</td>\n",
       "      <td>3576.0</td>\n",
       "      <td>0.0</td>\n",
       "      <td>6715.0</td>\n",
       "      <td>49.0</td>\n",
       "      <td>Altark Susent</td>\n",
       "      <td>False</td>\n",
       "    </tr>\n",
       "    <tr>\n",
       "      <th>3</th>\n",
       "      <td>0003_02</td>\n",
       "      <td>Europa</td>\n",
       "      <td>False</td>\n",
       "      <td>TRAPPIST-1e</td>\n",
       "      <td>33.0</td>\n",
       "      <td>False</td>\n",
       "      <td>0.0</td>\n",
       "      <td>1283.0</td>\n",
       "      <td>371.0</td>\n",
       "      <td>3329.0</td>\n",
       "      <td>193.0</td>\n",
       "      <td>Solam Susent</td>\n",
       "      <td>False</td>\n",
       "    </tr>\n",
       "    <tr>\n",
       "      <th>4</th>\n",
       "      <td>0004_01</td>\n",
       "      <td>Earth</td>\n",
       "      <td>False</td>\n",
       "      <td>TRAPPIST-1e</td>\n",
       "      <td>16.0</td>\n",
       "      <td>False</td>\n",
       "      <td>303.0</td>\n",
       "      <td>70.0</td>\n",
       "      <td>151.0</td>\n",
       "      <td>565.0</td>\n",
       "      <td>2.0</td>\n",
       "      <td>Willy Santantines</td>\n",
       "      <td>True</td>\n",
       "    </tr>\n",
       "  </tbody>\n",
       "</table>\n",
       "</div>"
      ],
      "text/plain": [
       "  PassengerId HomePlanet CryoSleep  Destination   Age    VIP  RoomService  \\\n",
       "0     0001_01     Europa     False  TRAPPIST-1e  39.0  False          0.0   \n",
       "1     0002_01      Earth     False  TRAPPIST-1e  24.0  False        109.0   \n",
       "2     0003_01     Europa     False  TRAPPIST-1e   NaN   True         43.0   \n",
       "3     0003_02     Europa     False  TRAPPIST-1e  33.0  False          0.0   \n",
       "4     0004_01      Earth     False  TRAPPIST-1e  16.0  False        303.0   \n",
       "\n",
       "   FoodCourt  ShoppingMall     Spa  VRDeck               Name  Transported  \n",
       "0        0.0           0.0     0.0     0.0    Maham Ofracculy        False  \n",
       "1        9.0          25.0   549.0    44.0       Juanna Vines         True  \n",
       "2     3576.0           0.0  6715.0    49.0      Altark Susent        False  \n",
       "3     1283.0         371.0  3329.0   193.0       Solam Susent        False  \n",
       "4       70.0         151.0   565.0     2.0  Willy Santantines         True  "
      ]
     },
     "execution_count": 17,
     "metadata": {},
     "output_type": "execute_result"
    }
   ],
   "source": [
    "df.head()"
   ]
  },
  {
   "cell_type": "code",
   "execution_count": 18,
   "id": "33141864",
   "metadata": {},
   "outputs": [],
   "source": [
    "constant_imputer = SimpleImputer(strategy=\"constant\", fill_value=0)"
   ]
  },
  {
   "cell_type": "markdown",
   "id": "e0ffc7bb",
   "metadata": {},
   "source": [
    "Here, we hypothesize that the missing values actually represent that people haven't spent any money on food."
   ]
  },
  {
   "cell_type": "code",
   "execution_count": 19,
   "id": "5d45d5eb",
   "metadata": {},
   "outputs": [],
   "source": [
    "df[\"FoodCourt\"] = constant_imputer.fit_transform([df[\"FoodCourt\"]])[0]"
   ]
  },
  {
   "cell_type": "code",
   "execution_count": 20,
   "id": "5edff0e4",
   "metadata": {},
   "outputs": [
    {
     "data": {
      "application/vnd.microsoft.datawrangler.viewer.v0+json": {
       "columns": [
        {
         "name": "index",
         "rawType": "object",
         "type": "string"
        },
        {
         "name": "0",
         "rawType": "int64",
         "type": "integer"
        }
       ],
       "ref": "e966133a-1f38-478f-b5dd-4a09a2ac2d2b",
       "rows": [
        [
         "PassengerId",
         "0"
        ],
        [
         "HomePlanet",
         "391"
        ],
        [
         "CryoSleep",
         "215"
        ],
        [
         "Destination",
         "179"
        ],
        [
         "Age",
         "974"
        ],
        [
         "VIP",
         "199"
        ],
        [
         "RoomService",
         "0"
        ],
        [
         "FoodCourt",
         "0"
        ],
        [
         "ShoppingMall",
         "204"
        ],
        [
         "Spa",
         "180"
        ],
        [
         "VRDeck",
         "186"
        ],
        [
         "Name",
         "199"
        ],
        [
         "Transported",
         "0"
        ]
       ],
       "shape": {
        "columns": 1,
        "rows": 13
       }
      },
      "text/plain": [
       "PassengerId       0\n",
       "HomePlanet      391\n",
       "CryoSleep       215\n",
       "Destination     179\n",
       "Age             974\n",
       "VIP             199\n",
       "RoomService       0\n",
       "FoodCourt         0\n",
       "ShoppingMall    204\n",
       "Spa             180\n",
       "VRDeck          186\n",
       "Name            199\n",
       "Transported       0\n",
       "dtype: int64"
      ]
     },
     "execution_count": 20,
     "metadata": {},
     "output_type": "execute_result"
    }
   ],
   "source": [
    "df.isnull().sum()"
   ]
  },
  {
   "cell_type": "markdown",
   "id": "03bf6692",
   "metadata": {},
   "source": [
    "The most frequent value of a variable is called \"mode\"."
   ]
  },
  {
   "cell_type": "code",
   "execution_count": 21,
   "id": "ecc7afc0",
   "metadata": {},
   "outputs": [],
   "source": [
    "most_frequent_imputer = SimpleImputer(strategy=\"most_frequent\")"
   ]
  },
  {
   "cell_type": "code",
   "execution_count": 22,
   "id": "67d1ab78",
   "metadata": {},
   "outputs": [
    {
     "data": {
      "text/plain": [
       "<Axes: xlabel='HomePlanet'>"
      ]
     },
     "execution_count": 22,
     "metadata": {},
     "output_type": "execute_result"
    },
    {
     "data": {
      "image/png": "[encoded data removed]",
      "text/plain": [
       "<Figure size 640x480 with 1 Axes>"
      ]
     },
     "metadata": {},
     "output_type": "display_data"
    }
   ],
   "source": [
    "df[\"HomePlanet\"].value_counts().plot.bar()"
   ]
  },
  {
   "cell_type": "markdown",
   "id": "ffc6378d",
   "metadata": {},
   "source": [
    "The simple imputer with `most_frequent` strategy works with numbers and strings."
   ]
  },
  {
   "cell_type": "markdown",
   "id": "8b5ae34c",
   "metadata": {},
   "source": [
    "We will fill missing values with \"Earth\" since it's the most frequent."
   ]
  },
  {
   "cell_type": "code",
   "execution_count": 23,
   "id": "529cfab7",
   "metadata": {},
   "outputs": [],
   "source": [
    "df[[\"HomePlanet\"]] = most_frequent_imputer.fit_transform(df[[\"HomePlanet\"]])"
   ]
  },
  {
   "cell_type": "code",
   "execution_count": 24,
   "id": "8873392c",
   "metadata": {},
   "outputs": [
    {
     "data": {
      "application/vnd.microsoft.datawrangler.viewer.v0+json": {
       "columns": [
        {
         "name": "index",
         "rawType": "object",
         "type": "string"
        },
        {
         "name": "0",
         "rawType": "int64",
         "type": "integer"
        }
       ],
       "ref": "0de9c6d2-8993-4ac2-a354-81dfb5bb576c",
       "rows": [
        [
         "PassengerId",
         "0"
        ],
        [
         "HomePlanet",
         "0"
        ],
        [
         "CryoSleep",
         "215"
        ],
        [
         "Destination",
         "179"
        ],
        [
         "Age",
         "974"
        ],
        [
         "VIP",
         "199"
        ],
        [
         "RoomService",
         "0"
        ],
        [
         "FoodCourt",
         "0"
        ],
        [
         "ShoppingMall",
         "204"
        ],
        [
         "Spa",
         "180"
        ],
        [
         "VRDeck",
         "186"
        ],
        [
         "Name",
         "199"
        ],
        [
         "Transported",
         "0"
        ]
       ],
       "shape": {
        "columns": 1,
        "rows": 13
       }
      },
      "text/plain": [
       "PassengerId       0\n",
       "HomePlanet        0\n",
       "CryoSleep       215\n",
       "Destination     179\n",
       "Age             974\n",
       "VIP             199\n",
       "RoomService       0\n",
       "FoodCourt         0\n",
       "ShoppingMall    204\n",
       "Spa             180\n",
       "VRDeck          186\n",
       "Name            199\n",
       "Transported       0\n",
       "dtype: int64"
      ]
     },
     "execution_count": 24,
     "metadata": {},
     "output_type": "execute_result"
    }
   ],
   "source": [
    "df.isnull().sum()"
   ]
  },
  {
   "cell_type": "code",
   "execution_count": 25,
   "id": "e7489603",
   "metadata": {},
   "outputs": [
    {
     "data": {
      "text/plain": [
       "<Axes: ylabel='Frequency'>"
      ]
     },
     "execution_count": 25,
     "metadata": {},
     "output_type": "execute_result"
    },
    {
     "data": {
      "image/png": "[encoded data removed]",
      "text/plain": [
       "<Figure size 640x480 with 1 Axes>"
      ]
     },
     "metadata": {},
     "output_type": "display_data"
    }
   ],
   "source": [
    "df[\"Age\"].plot.hist()"
   ]
  },
  {
   "cell_type": "code",
   "execution_count": 26,
   "id": "fbc9ddcc",
   "metadata": {},
   "outputs": [],
   "source": [
    "mean_imputer = SimpleImputer(strategy=\"mean\")"
   ]
  },
  {
   "cell_type": "code",
   "execution_count": 27,
   "id": "84924022",
   "metadata": {},
   "outputs": [
    {
     "data": {
      "text/plain": [
       "np.int64(974)"
      ]
     },
     "execution_count": 27,
     "metadata": {},
     "output_type": "execute_result"
    }
   ],
   "source": [
    "df[\"Age\"].isnull().sum()"
   ]
  },
  {
   "cell_type": "code",
   "execution_count": 28,
   "id": "bc93a289",
   "metadata": {},
   "outputs": [],
   "source": [
    "df[[\"Age\"]] = mean_imputer.fit_transform(df[[\"Age\"]])"
   ]
  },
  {
   "cell_type": "code",
   "execution_count": 29,
   "id": "7f9130b6",
   "metadata": {},
   "outputs": [
    {
     "data": {
      "text/plain": [
       "<Axes: ylabel='Frequency'>"
      ]
     },
     "execution_count": 29,
     "metadata": {},
     "output_type": "execute_result"
    },
    {
     "data": {
      "image/png": "[encoded data removed]",
      "text/plain": [
       "<Figure size 640x480 with 1 Axes>"
      ]
     },
     "metadata": {},
     "output_type": "display_data"
    }
   ],
   "source": [
    "df[\"ShoppingMall\"].plot.hist(bins=100)"
   ]
  },
  {
   "cell_type": "code",
   "execution_count": 30,
   "id": "e9a817f4",
   "metadata": {},
   "outputs": [
    {
     "data": {
      "text/plain": [
       "173.41911410688493"
      ]
     },
     "execution_count": 30,
     "metadata": {},
     "output_type": "execute_result"
    }
   ],
   "source": [
    "df[\"ShoppingMall\"].mean().item()"
   ]
  },
  {
   "cell_type": "code",
   "execution_count": 31,
   "id": "d7be6009",
   "metadata": {},
   "outputs": [
    {
     "data": {
      "text/plain": [
       "0.0"
      ]
     },
     "execution_count": 31,
     "metadata": {},
     "output_type": "execute_result"
    }
   ],
   "source": [
    "df[\"ShoppingMall\"].median().item()"
   ]
  },
  {
   "cell_type": "code",
   "execution_count": 32,
   "id": "32e4897c",
   "metadata": {},
   "outputs": [
    {
     "data": {
      "text/plain": [
       "0.0"
      ]
     },
     "execution_count": 32,
     "metadata": {},
     "output_type": "execute_result"
    }
   ],
   "source": [
    "df[\"ShoppingMall\"].mode().item()"
   ]
  },
  {
   "cell_type": "markdown",
   "id": "751a1c45",
   "metadata": {},
   "source": [
    "<img src=\"images/mean-mode-median.png\" width=\"750\"/>"
   ]
  },
  {
   "cell_type": "markdown",
   "id": "1073701b",
   "metadata": {},
   "source": [
    "#### Advanced Imputation Methods"
   ]
  },
  {
   "cell_type": "markdown",
   "id": "0e74d2e3",
   "metadata": {},
   "source": [
    "K-Nearest Neighbor Imputation"
   ]
  },
  {
   "cell_type": "markdown",
   "id": "d88ce3c1",
   "metadata": {},
   "source": [
    "<img src=\"images/knn.png\" width=\"750\"/>"
   ]
  },
  {
   "cell_type": "markdown",
   "id": "6a978509",
   "metadata": {},
   "source": [
    "<img src=\"images/knn-imputation.png\" width=\"750\"/>"
   ]
  },
  {
   "cell_type": "code",
   "execution_count": 33,
   "id": "dafbec2d",
   "metadata": {},
   "outputs": [
    {
     "data": {
      "application/vnd.microsoft.datawrangler.viewer.v0+json": {
       "columns": [
        {
         "name": "index",
         "rawType": "object",
         "type": "string"
        },
        {
         "name": "0",
         "rawType": "int64",
         "type": "integer"
        }
       ],
       "ref": "74e75b97-d2e2-4a07-8f1a-eeacfd02ad29",
       "rows": [
        [
         "PassengerId",
         "0"
        ],
        [
         "HomePlanet",
         "0"
        ],
        [
         "CryoSleep",
         "215"
        ],
        [
         "Destination",
         "179"
        ],
        [
         "Age",
         "0"
        ],
        [
         "VIP",
         "199"
        ],
        [
         "RoomService",
         "0"
        ],
        [
         "FoodCourt",
         "0"
        ],
        [
         "ShoppingMall",
         "204"
        ],
        [
         "Spa",
         "180"
        ],
        [
         "VRDeck",
         "186"
        ],
        [
         "Name",
         "199"
        ],
        [
         "Transported",
         "0"
        ]
       ],
       "shape": {
        "columns": 1,
        "rows": 13
       }
      },
      "text/plain": [
       "PassengerId       0\n",
       "HomePlanet        0\n",
       "CryoSleep       215\n",
       "Destination     179\n",
       "Age               0\n",
       "VIP             199\n",
       "RoomService       0\n",
       "FoodCourt         0\n",
       "ShoppingMall    204\n",
       "Spa             180\n",
       "VRDeck          186\n",
       "Name            199\n",
       "Transported       0\n",
       "dtype: int64"
      ]
     },
     "execution_count": 33,
     "metadata": {},
     "output_type": "execute_result"
    }
   ],
   "source": [
    "df.isnull().sum()"
   ]
  },
  {
   "cell_type": "code",
   "execution_count": 34,
   "id": "11a61a08",
   "metadata": {},
   "outputs": [
    {
     "data": {
      "text/plain": [
       "array([<Axes: ylabel='Frequency'>, <Axes: ylabel='Frequency'>],\n",
       "      dtype=object)"
      ]
     },
     "execution_count": 34,
     "metadata": {},
     "output_type": "execute_result"
    },
    {
     "data": {
      "image/png": "[encoded data removed]",
      "text/plain": [
       "<Figure size 640x480 with 2 Axes>"
      ]
     },
     "metadata": {},
     "output_type": "display_data"
    }
   ],
   "source": [
    "df[[\"VRDeck\", \"Spa\"]].plot.hist(subplots=True)"
   ]
  },
  {
   "cell_type": "markdown",
   "id": "daf60b65",
   "metadata": {},
   "source": [
    "<img src=\"images/minmaxscaler.png\" width=\"500\"/>"
   ]
  },
  {
   "cell_type": "code",
   "execution_count": 35,
   "id": "f843b0e3",
   "metadata": {},
   "outputs": [],
   "source": [
    "min_max_scaler = MinMaxScaler()"
   ]
  },
  {
   "cell_type": "code",
   "execution_count": 36,
   "id": "5d510b54",
   "metadata": {},
   "outputs": [],
   "source": [
    "scaled_data = min_max_scaler.fit_transform(df[[\"VRDeck\", \"Spa\"]])"
   ]
  },
  {
   "cell_type": "code",
   "execution_count": 37,
   "id": "6b86cba4",
   "metadata": {},
   "outputs": [],
   "source": [
    "knn_imputer = KNNImputer(n_neighbors=5)"
   ]
  },
  {
   "cell_type": "code",
   "execution_count": 38,
   "id": "40540866",
   "metadata": {},
   "outputs": [],
   "source": [
    "imputed_data = knn_imputer.fit_transform(scaled_data)"
   ]
  },
  {
   "cell_type": "code",
   "execution_count": 39,
   "id": "888bda91",
   "metadata": {},
   "outputs": [],
   "source": [
    "imputed_data = min_max_scaler.inverse_transform(imputed_data)"
   ]
  },
  {
   "cell_type": "code",
   "execution_count": 40,
   "id": "a8c5df81",
   "metadata": {},
   "outputs": [],
   "source": [
    "df[[\"VRDeck\", \"Spa\"]] = imputed_data"
   ]
  },
  {
   "cell_type": "code",
   "execution_count": 41,
   "id": "3e890eaa",
   "metadata": {},
   "outputs": [
    {
     "data": {
      "application/vnd.microsoft.datawrangler.viewer.v0+json": {
       "columns": [
        {
         "name": "index",
         "rawType": "object",
         "type": "string"
        },
        {
         "name": "0",
         "rawType": "int64",
         "type": "integer"
        }
       ],
       "ref": "451158a9-648c-4bb2-b9a3-cc5d3ba33a0a",
       "rows": [
        [
         "PassengerId",
         "0"
        ],
        [
         "HomePlanet",
         "0"
        ],
        [
         "CryoSleep",
         "215"
        ],
        [
         "Destination",
         "179"
        ],
        [
         "Age",
         "0"
        ],
        [
         "VIP",
         "199"
        ],
        [
         "RoomService",
         "0"
        ],
        [
         "FoodCourt",
         "0"
        ],
        [
         "ShoppingMall",
         "204"
        ],
        [
         "Spa",
         "0"
        ],
        [
         "VRDeck",
         "0"
        ],
        [
         "Name",
         "199"
        ],
        [
         "Transported",
         "0"
        ]
       ],
       "shape": {
        "columns": 1,
        "rows": 13
       }
      },
      "text/plain": [
       "PassengerId       0\n",
       "HomePlanet        0\n",
       "CryoSleep       215\n",
       "Destination     179\n",
       "Age               0\n",
       "VIP             199\n",
       "RoomService       0\n",
       "FoodCourt         0\n",
       "ShoppingMall    204\n",
       "Spa               0\n",
       "VRDeck            0\n",
       "Name            199\n",
       "Transported       0\n",
       "dtype: int64"
      ]
     },
     "execution_count": 41,
     "metadata": {},
     "output_type": "execute_result"
    }
   ],
   "source": [
    "df.isnull().sum()"
   ]
  },
  {
   "cell_type": "markdown",
   "id": "2314b8fd",
   "metadata": {},
   "source": [
    "Multivariate Imputation by Chained Equations (MICE)"
   ]
  },
  {
   "cell_type": "markdown",
   "id": "63d4f9df",
   "metadata": {},
   "source": [
    "A strategy for imputing missing values by modeling each feature with missing values as a function of other features in a round-robin fashion. It performns multiple regressions over random sample of the data, then takes the average of the multiple regression values and uses that value to impute the missing value. In SciKit Learn, it is implemented as follows:"
   ]
  },
  {
   "cell_type": "markdown",
   "id": "460bd247",
   "metadata": {},
   "source": [
    "<img src=\"images/mice.png\" width=\"1000\"/>"
   ]
  },
  {
   "cell_type": "code",
   "execution_count": 42,
   "id": "f2021e62",
   "metadata": {},
   "outputs": [
    {
     "data": {
      "text/plain": [
       "<Axes: >"
      ]
     },
     "execution_count": 42,
     "metadata": {},
     "output_type": "execute_result"
    },
    {
     "data": {
      "image/png": "[encoded data removed]",
      "text/plain": [
       "<Figure size 1200x1000 with 2 Axes>"
      ]
     },
     "metadata": {},
     "output_type": "display_data"
    }
   ],
   "source": [
    "plt.figure(figsize=(12, 10))\n",
    "sns.heatmap(df.corr(numeric_only=True), annot=True)"
   ]
  },
  {
   "cell_type": "markdown",
   "id": "65a9e385",
   "metadata": {},
   "source": [
    "Suppose that the values in the columns \"VRDeck\", \"FoodCourt\", and \"Spa\" are still missing."
   ]
  },
  {
   "cell_type": "code",
   "execution_count": 43,
   "id": "364eb37b",
   "metadata": {},
   "outputs": [],
   "source": [
    "iterative_imputer = IterativeImputer()"
   ]
  },
  {
   "cell_type": "code",
   "execution_count": 44,
   "id": "e7a23802",
   "metadata": {},
   "outputs": [],
   "source": [
    "imputed_data = iterative_imputer.fit_transform(df[[\"VRDeck\", \"FoodCourt\", \"Spa\"]])"
   ]
  },
  {
   "cell_type": "code",
   "execution_count": 45,
   "id": "da8cfed3",
   "metadata": {},
   "outputs": [],
   "source": [
    "df[[\"VRDeck\", \"FoodCourt\", \"Spa\"]] = imputed_data"
   ]
  },
  {
   "cell_type": "markdown",
   "id": "dc66e224",
   "metadata": {},
   "source": [
    "#### Time Series Missing Data Imputation"
   ]
  },
  {
   "cell_type": "code",
   "execution_count": 46,
   "id": "cc1a5c0e",
   "metadata": {},
   "outputs": [],
   "source": [
    "df = pd.read_csv(\"data/03/air_quality_missing.csv\")"
   ]
  },
  {
   "cell_type": "code",
   "execution_count": 47,
   "id": "2cb4be89",
   "metadata": {},
   "outputs": [
    {
     "data": {
      "application/vnd.microsoft.datawrangler.viewer.v0+json": {
       "columns": [
        {
         "name": "index",
         "rawType": "int64",
         "type": "integer"
        },
        {
         "name": "Measurement date",
         "rawType": "object",
         "type": "string"
        },
        {
         "name": "Station code",
         "rawType": "int64",
         "type": "integer"
        },
        {
         "name": "Address",
         "rawType": "object",
         "type": "string"
        },
        {
         "name": "Latitude",
         "rawType": "float64",
         "type": "float"
        },
        {
         "name": "Longitude",
         "rawType": "float64",
         "type": "float"
        },
        {
         "name": "SO2",
         "rawType": "float64",
         "type": "float"
        },
        {
         "name": "NO2",
         "rawType": "float64",
         "type": "float"
        },
        {
         "name": "O3",
         "rawType": "float64",
         "type": "float"
        },
        {
         "name": "CO",
         "rawType": "float64",
         "type": "float"
        },
        {
         "name": "PM10",
         "rawType": "float64",
         "type": "float"
        },
        {
         "name": "PM2.5",
         "rawType": "float64",
         "type": "float"
        }
       ],
       "ref": "62249366-94da-4a36-a56a-be5e4ec851dd",
       "rows": [
        [
         "0",
         "1/1/2017 0:00",
         "101",
         "19, Jong-ro 35ga-gil, Jongno-gu, Seoul, Republic of Korea",
         "37.5720164",
         "127.0050075",
         "0.004",
         null,
         "0.002",
         "1.2",
         "73.0",
         "57.0"
        ],
        [
         "1",
         "1/1/2017 1:00",
         "101",
         "19, Jong-ro 35ga-gil, Jongno-gu, Seoul, Republic of Korea",
         "37.5720164",
         "127.0050075",
         "0.004",
         null,
         "0.002",
         "1.2",
         "71.0",
         "59.0"
        ],
        [
         "2",
         "1/1/2017 2:00",
         "101",
         "19, Jong-ro 35ga-gil, Jongno-gu, Seoul, Republic of Korea",
         "37.5720164",
         "127.0050075",
         "0.004",
         null,
         "0.002",
         "1.2",
         "70.0",
         "59.0"
        ],
        [
         "3",
         "1/1/2017 3:00",
         "101",
         "19, Jong-ro 35ga-gil, Jongno-gu, Seoul, Republic of Korea",
         "37.5720164",
         "127.0050075",
         "0.004",
         null,
         "0.002",
         "1.2",
         null,
         "58.0"
        ],
        [
         "4",
         "1/1/2017 4:00",
         "101",
         "19, Jong-ro 35ga-gil, Jongno-gu, Seoul, Republic of Korea",
         "37.5720164",
         "127.0050075",
         "0.003",
         null,
         "0.002",
         "1.2",
         null,
         "61.0"
        ]
       ],
       "shape": {
        "columns": 11,
        "rows": 5
       }
      },
      "text/html": [
       "<div>\n",
       "<style scoped>\n",
       "    .dataframe tbody tr th:only-of-type {\n",
       "        vertical-align: middle;\n",
       "    }\n",
       "\n",
       "    .dataframe tbody tr th {\n",
       "        vertical-align: top;\n",
       "    }\n",
       "\n",
       "    .dataframe thead th {\n",
       "        text-align: right;\n",
       "    }\n",
       "</style>\n",
       "<table border=\"1\" class=\"dataframe\">\n",
       "  <thead>\n",
       "    <tr style=\"text-align: right;\">\n",
       "      <th></th>\n",
       "      <th>Measurement date</th>\n",
       "      <th>Station code</th>\n",
       "      <th>Address</th>\n",
       "      <th>Latitude</th>\n",
       "      <th>Longitude</th>\n",
       "      <th>SO2</th>\n",
       "      <th>NO2</th>\n",
       "      <th>O3</th>\n",
       "      <th>CO</th>\n",
       "      <th>PM10</th>\n",
       "      <th>PM2.5</th>\n",
       "    </tr>\n",
       "  </thead>\n",
       "  <tbody>\n",
       "    <tr>\n",
       "      <th>0</th>\n",
       "      <td>1/1/2017 0:00</td>\n",
       "      <td>101</td>\n",
       "      <td>19, Jong-ro 35ga-gil, Jongno-gu, Seoul, Republ...</td>\n",
       "      <td>37.572016</td>\n",
       "      <td>127.005008</td>\n",
       "      <td>0.004</td>\n",
       "      <td>NaN</td>\n",
       "      <td>0.002</td>\n",
       "      <td>1.2</td>\n",
       "      <td>73.0</td>\n",
       "      <td>57.0</td>\n",
       "    </tr>\n",
       "    <tr>\n",
       "      <th>1</th>\n",
       "      <td>1/1/2017 1:00</td>\n",
       "      <td>101</td>\n",
       "      <td>19, Jong-ro 35ga-gil, Jongno-gu, Seoul, Republ...</td>\n",
       "      <td>37.572016</td>\n",
       "      <td>127.005008</td>\n",
       "      <td>0.004</td>\n",
       "      <td>NaN</td>\n",
       "      <td>0.002</td>\n",
       "      <td>1.2</td>\n",
       "      <td>71.0</td>\n",
       "      <td>59.0</td>\n",
       "    </tr>\n",
       "    <tr>\n",
       "      <th>2</th>\n",
       "      <td>1/1/2017 2:00</td>\n",
       "      <td>101</td>\n",
       "      <td>19, Jong-ro 35ga-gil, Jongno-gu, Seoul, Republ...</td>\n",
       "      <td>37.572016</td>\n",
       "      <td>127.005008</td>\n",
       "      <td>0.004</td>\n",
       "      <td>NaN</td>\n",
       "      <td>0.002</td>\n",
       "      <td>1.2</td>\n",
       "      <td>70.0</td>\n",
       "      <td>59.0</td>\n",
       "    </tr>\n",
       "    <tr>\n",
       "      <th>3</th>\n",
       "      <td>1/1/2017 3:00</td>\n",
       "      <td>101</td>\n",
       "      <td>19, Jong-ro 35ga-gil, Jongno-gu, Seoul, Republ...</td>\n",
       "      <td>37.572016</td>\n",
       "      <td>127.005008</td>\n",
       "      <td>0.004</td>\n",
       "      <td>NaN</td>\n",
       "      <td>0.002</td>\n",
       "      <td>1.2</td>\n",
       "      <td>NaN</td>\n",
       "      <td>58.0</td>\n",
       "    </tr>\n",
       "    <tr>\n",
       "      <th>4</th>\n",
       "      <td>1/1/2017 4:00</td>\n",
       "      <td>101</td>\n",
       "      <td>19, Jong-ro 35ga-gil, Jongno-gu, Seoul, Republ...</td>\n",
       "      <td>37.572016</td>\n",
       "      <td>127.005008</td>\n",
       "      <td>0.003</td>\n",
       "      <td>NaN</td>\n",
       "      <td>0.002</td>\n",
       "      <td>1.2</td>\n",
       "      <td>NaN</td>\n",
       "      <td>61.0</td>\n",
       "    </tr>\n",
       "  </tbody>\n",
       "</table>\n",
       "</div>"
      ],
      "text/plain": [
       "  Measurement date  Station code  \\\n",
       "0    1/1/2017 0:00           101   \n",
       "1    1/1/2017 1:00           101   \n",
       "2    1/1/2017 2:00           101   \n",
       "3    1/1/2017 3:00           101   \n",
       "4    1/1/2017 4:00           101   \n",
       "\n",
       "                                             Address   Latitude   Longitude  \\\n",
       "0  19, Jong-ro 35ga-gil, Jongno-gu, Seoul, Republ...  37.572016  127.005008   \n",
       "1  19, Jong-ro 35ga-gil, Jongno-gu, Seoul, Republ...  37.572016  127.005008   \n",
       "2  19, Jong-ro 35ga-gil, Jongno-gu, Seoul, Republ...  37.572016  127.005008   \n",
       "3  19, Jong-ro 35ga-gil, Jongno-gu, Seoul, Republ...  37.572016  127.005008   \n",
       "4  19, Jong-ro 35ga-gil, Jongno-gu, Seoul, Republ...  37.572016  127.005008   \n",
       "\n",
       "     SO2  NO2     O3   CO  PM10  PM2.5  \n",
       "0  0.004  NaN  0.002  1.2  73.0   57.0  \n",
       "1  0.004  NaN  0.002  1.2  71.0   59.0  \n",
       "2  0.004  NaN  0.002  1.2  70.0   59.0  \n",
       "3  0.004  NaN  0.002  1.2   NaN   58.0  \n",
       "4  0.003  NaN  0.002  1.2   NaN   61.0  "
      ]
     },
     "execution_count": 47,
     "metadata": {},
     "output_type": "execute_result"
    }
   ],
   "source": [
    "df.head()"
   ]
  },
  {
   "cell_type": "code",
   "execution_count": 48,
   "id": "ce0ff6ac",
   "metadata": {},
   "outputs": [
    {
     "data": {
      "application/vnd.microsoft.datawrangler.viewer.v0+json": {
       "columns": [
        {
         "name": "index",
         "rawType": "int64",
         "type": "integer"
        },
        {
         "name": "Measurement date",
         "rawType": "object",
         "type": "string"
        },
        {
         "name": "Station code",
         "rawType": "int64",
         "type": "integer"
        },
        {
         "name": "Address",
         "rawType": "object",
         "type": "string"
        },
        {
         "name": "Latitude",
         "rawType": "float64",
         "type": "float"
        },
        {
         "name": "Longitude",
         "rawType": "float64",
         "type": "float"
        },
        {
         "name": "SO2",
         "rawType": "float64",
         "type": "float"
        },
        {
         "name": "NO2",
         "rawType": "float64",
         "type": "float"
        },
        {
         "name": "O3",
         "rawType": "float64",
         "type": "float"
        },
        {
         "name": "CO",
         "rawType": "float64",
         "type": "float"
        },
        {
         "name": "PM10",
         "rawType": "float64",
         "type": "float"
        },
        {
         "name": "PM2.5",
         "rawType": "float64",
         "type": "float"
        }
       ],
       "ref": "b51eb067-1c10-4376-bb13-fddf4d2172e1",
       "rows": [
        [
         "647506",
         "12/31/2019 19:00",
         "125",
         "59, Gucheonmyeon-ro 42-gil, Gangdong-gu, Seoul, Republic of Korea",
         "37.5449625",
         "127.13679170000002",
         "0.003",
         "0.0279999999999999",
         "0.013",
         null,
         "23.0",
         "17.0"
        ],
        [
         "647507",
         "12/31/2019 20:00",
         "125",
         "59, Gucheonmyeon-ro 42-gil, Gangdong-gu, Seoul, Republic of Korea",
         "37.5449625",
         "127.13679170000002",
         "0.003",
         "0.025",
         "0.015",
         null,
         "25.0",
         "19.0"
        ],
        [
         "647508",
         "12/31/2019 21:00",
         "125",
         "59, Gucheonmyeon-ro 42-gil, Gangdong-gu, Seoul, Republic of Korea",
         "37.5449625",
         "127.13679170000002",
         "0.003",
         "0.023",
         "0.015",
         null,
         "24.0",
         "17.0"
        ],
        [
         "647509",
         "12/31/2019 22:00",
         "125",
         "59, Gucheonmyeon-ro 42-gil, Gangdong-gu, Seoul, Republic of Korea",
         "37.5449625",
         "127.13679170000002",
         "0.003",
         "0.04",
         "0.004",
         null,
         "25.0",
         "18.0"
        ],
        [
         "647510",
         "12/31/2019 23:00",
         "125",
         "59, Gucheonmyeon-ro 42-gil, Gangdong-gu, Seoul, Republic of Korea",
         "37.5449625",
         "127.13679170000002",
         "0.003",
         "0.037",
         "0.005",
         null,
         "27.0",
         "18.0"
        ]
       ],
       "shape": {
        "columns": 11,
        "rows": 5
       }
      },
      "text/html": [
       "<div>\n",
       "<style scoped>\n",
       "    .dataframe tbody tr th:only-of-type {\n",
       "        vertical-align: middle;\n",
       "    }\n",
       "\n",
       "    .dataframe tbody tr th {\n",
       "        vertical-align: top;\n",
       "    }\n",
       "\n",
       "    .dataframe thead th {\n",
       "        text-align: right;\n",
       "    }\n",
       "</style>\n",
       "<table border=\"1\" class=\"dataframe\">\n",
       "  <thead>\n",
       "    <tr style=\"text-align: right;\">\n",
       "      <th></th>\n",
       "      <th>Measurement date</th>\n",
       "      <th>Station code</th>\n",
       "      <th>Address</th>\n",
       "      <th>Latitude</th>\n",
       "      <th>Longitude</th>\n",
       "      <th>SO2</th>\n",
       "      <th>NO2</th>\n",
       "      <th>O3</th>\n",
       "      <th>CO</th>\n",
       "      <th>PM10</th>\n",
       "      <th>PM2.5</th>\n",
       "    </tr>\n",
       "  </thead>\n",
       "  <tbody>\n",
       "    <tr>\n",
       "      <th>647506</th>\n",
       "      <td>12/31/2019 19:00</td>\n",
       "      <td>125</td>\n",
       "      <td>59, Gucheonmyeon-ro 42-gil, Gangdong-gu, Seoul...</td>\n",
       "      <td>37.544962</td>\n",
       "      <td>127.136792</td>\n",
       "      <td>0.003</td>\n",
       "      <td>0.028</td>\n",
       "      <td>0.013</td>\n",
       "      <td>NaN</td>\n",
       "      <td>23.0</td>\n",
       "      <td>17.0</td>\n",
       "    </tr>\n",
       "    <tr>\n",
       "      <th>647507</th>\n",
       "      <td>12/31/2019 20:00</td>\n",
       "      <td>125</td>\n",
       "      <td>59, Gucheonmyeon-ro 42-gil, Gangdong-gu, Seoul...</td>\n",
       "      <td>37.544962</td>\n",
       "      <td>127.136792</td>\n",
       "      <td>0.003</td>\n",
       "      <td>0.025</td>\n",
       "      <td>0.015</td>\n",
       "      <td>NaN</td>\n",
       "      <td>25.0</td>\n",
       "      <td>19.0</td>\n",
       "    </tr>\n",
       "    <tr>\n",
       "      <th>647508</th>\n",
       "      <td>12/31/2019 21:00</td>\n",
       "      <td>125</td>\n",
       "      <td>59, Gucheonmyeon-ro 42-gil, Gangdong-gu, Seoul...</td>\n",
       "      <td>37.544962</td>\n",
       "      <td>127.136792</td>\n",
       "      <td>0.003</td>\n",
       "      <td>0.023</td>\n",
       "      <td>0.015</td>\n",
       "      <td>NaN</td>\n",
       "      <td>24.0</td>\n",
       "      <td>17.0</td>\n",
       "    </tr>\n",
       "    <tr>\n",
       "      <th>647509</th>\n",
       "      <td>12/31/2019 22:00</td>\n",
       "      <td>125</td>\n",
       "      <td>59, Gucheonmyeon-ro 42-gil, Gangdong-gu, Seoul...</td>\n",
       "      <td>37.544962</td>\n",
       "      <td>127.136792</td>\n",
       "      <td>0.003</td>\n",
       "      <td>0.040</td>\n",
       "      <td>0.004</td>\n",
       "      <td>NaN</td>\n",
       "      <td>25.0</td>\n",
       "      <td>18.0</td>\n",
       "    </tr>\n",
       "    <tr>\n",
       "      <th>647510</th>\n",
       "      <td>12/31/2019 23:00</td>\n",
       "      <td>125</td>\n",
       "      <td>59, Gucheonmyeon-ro 42-gil, Gangdong-gu, Seoul...</td>\n",
       "      <td>37.544962</td>\n",
       "      <td>127.136792</td>\n",
       "      <td>0.003</td>\n",
       "      <td>0.037</td>\n",
       "      <td>0.005</td>\n",
       "      <td>NaN</td>\n",
       "      <td>27.0</td>\n",
       "      <td>18.0</td>\n",
       "    </tr>\n",
       "  </tbody>\n",
       "</table>\n",
       "</div>"
      ],
      "text/plain": [
       "        Measurement date  Station code  \\\n",
       "647506  12/31/2019 19:00           125   \n",
       "647507  12/31/2019 20:00           125   \n",
       "647508  12/31/2019 21:00           125   \n",
       "647509  12/31/2019 22:00           125   \n",
       "647510  12/31/2019 23:00           125   \n",
       "\n",
       "                                                  Address   Latitude  \\\n",
       "647506  59, Gucheonmyeon-ro 42-gil, Gangdong-gu, Seoul...  37.544962   \n",
       "647507  59, Gucheonmyeon-ro 42-gil, Gangdong-gu, Seoul...  37.544962   \n",
       "647508  59, Gucheonmyeon-ro 42-gil, Gangdong-gu, Seoul...  37.544962   \n",
       "647509  59, Gucheonmyeon-ro 42-gil, Gangdong-gu, Seoul...  37.544962   \n",
       "647510  59, Gucheonmyeon-ro 42-gil, Gangdong-gu, Seoul...  37.544962   \n",
       "\n",
       "         Longitude    SO2    NO2     O3  CO  PM10  PM2.5  \n",
       "647506  127.136792  0.003  0.028  0.013 NaN  23.0   17.0  \n",
       "647507  127.136792  0.003  0.025  0.015 NaN  25.0   19.0  \n",
       "647508  127.136792  0.003  0.023  0.015 NaN  24.0   17.0  \n",
       "647509  127.136792  0.003  0.040  0.004 NaN  25.0   18.0  \n",
       "647510  127.136792  0.003  0.037  0.005 NaN  27.0   18.0  "
      ]
     },
     "execution_count": 48,
     "metadata": {},
     "output_type": "execute_result"
    }
   ],
   "source": [
    "df.tail()"
   ]
  },
  {
   "cell_type": "code",
   "execution_count": 49,
   "id": "c2dbea58",
   "metadata": {},
   "outputs": [
    {
     "data": {
      "application/vnd.microsoft.datawrangler.viewer.v0+json": {
       "columns": [
        {
         "name": "index",
         "rawType": "object",
         "type": "string"
        },
        {
         "name": "0",
         "rawType": "int64",
         "type": "integer"
        }
       ],
       "ref": "b2b318c4-353a-4bca-81a4-456a052c94b8",
       "rows": [
        [
         "Measurement date",
         "0"
        ],
        [
         "Station code",
         "0"
        ],
        [
         "Address",
         "0"
        ],
        [
         "Latitude",
         "0"
        ],
        [
         "Longitude",
         "0"
        ],
        [
         "SO2",
         "74"
        ],
        [
         "NO2",
         "90"
        ],
        [
         "O3",
         "75"
        ],
        [
         "CO",
         "114"
        ],
        [
         "PM10",
         "95"
        ],
        [
         "PM2.5",
         "78"
        ]
       ],
       "shape": {
        "columns": 1,
        "rows": 11
       }
      },
      "text/plain": [
       "Measurement date      0\n",
       "Station code          0\n",
       "Address               0\n",
       "Latitude              0\n",
       "Longitude             0\n",
       "SO2                  74\n",
       "NO2                  90\n",
       "O3                   75\n",
       "CO                  114\n",
       "PM10                 95\n",
       "PM2.5                78\n",
       "dtype: int64"
      ]
     },
     "execution_count": 49,
     "metadata": {},
     "output_type": "execute_result"
    }
   ],
   "source": [
    "df.isnull().sum()"
   ]
  },
  {
   "cell_type": "markdown",
   "id": "8094d289",
   "metadata": {},
   "source": [
    "The most popular methods for time series missing data imputation are: `forward fill`, `backward fill`, and `interpolation`."
   ]
  },
  {
   "cell_type": "code",
   "execution_count": 50,
   "id": "78617ae0",
   "metadata": {},
   "outputs": [
    {
     "data": {
      "application/vnd.microsoft.datawrangler.viewer.v0+json": {
       "columns": [
        {
         "name": "index",
         "rawType": "int64",
         "type": "integer"
        },
        {
         "name": "Measurement date",
         "rawType": "object",
         "type": "string"
        },
        {
         "name": "Station code",
         "rawType": "int64",
         "type": "integer"
        },
        {
         "name": "Address",
         "rawType": "object",
         "type": "string"
        },
        {
         "name": "Latitude",
         "rawType": "float64",
         "type": "float"
        },
        {
         "name": "Longitude",
         "rawType": "float64",
         "type": "float"
        },
        {
         "name": "SO2",
         "rawType": "float64",
         "type": "float"
        },
        {
         "name": "NO2",
         "rawType": "float64",
         "type": "float"
        },
        {
         "name": "O3",
         "rawType": "float64",
         "type": "float"
        },
        {
         "name": "CO",
         "rawType": "float64",
         "type": "float"
        },
        {
         "name": "PM10",
         "rawType": "float64",
         "type": "float"
        },
        {
         "name": "PM2.5",
         "rawType": "float64",
         "type": "float"
        }
       ],
       "ref": "fa2abc03-adbf-4a24-88cf-644fc74d898f",
       "rows": [
        [
         "0",
         "1/1/2017 0:00",
         "101",
         "19, Jong-ro 35ga-gil, Jongno-gu, Seoul, Republic of Korea",
         "37.5720164",
         "127.0050075",
         "0.004",
         null,
         "0.002",
         "1.2",
         "73.0",
         "57.0"
        ],
        [
         "1",
         "1/1/2017 1:00",
         "101",
         "19, Jong-ro 35ga-gil, Jongno-gu, Seoul, Republic of Korea",
         "37.5720164",
         "127.0050075",
         "0.004",
         null,
         "0.002",
         "1.2",
         "71.0",
         "59.0"
        ],
        [
         "2",
         "1/1/2017 2:00",
         "101",
         "19, Jong-ro 35ga-gil, Jongno-gu, Seoul, Republic of Korea",
         "37.5720164",
         "127.0050075",
         "0.004",
         null,
         "0.002",
         "1.2",
         "70.0",
         "59.0"
        ],
        [
         "3",
         "1/1/2017 3:00",
         "101",
         "19, Jong-ro 35ga-gil, Jongno-gu, Seoul, Republic of Korea",
         "37.5720164",
         "127.0050075",
         "0.004",
         null,
         "0.002",
         "1.2",
         null,
         "58.0"
        ],
        [
         "4",
         "1/1/2017 4:00",
         "101",
         "19, Jong-ro 35ga-gil, Jongno-gu, Seoul, Republic of Korea",
         "37.5720164",
         "127.0050075",
         "0.003",
         null,
         "0.002",
         "1.2",
         null,
         "61.0"
        ]
       ],
       "shape": {
        "columns": 11,
        "rows": 5
       }
      },
      "text/html": [
       "<div>\n",
       "<style scoped>\n",
       "    .dataframe tbody tr th:only-of-type {\n",
       "        vertical-align: middle;\n",
       "    }\n",
       "\n",
       "    .dataframe tbody tr th {\n",
       "        vertical-align: top;\n",
       "    }\n",
       "\n",
       "    .dataframe thead th {\n",
       "        text-align: right;\n",
       "    }\n",
       "</style>\n",
       "<table border=\"1\" class=\"dataframe\">\n",
       "  <thead>\n",
       "    <tr style=\"text-align: right;\">\n",
       "      <th></th>\n",
       "      <th>Measurement date</th>\n",
       "      <th>Station code</th>\n",
       "      <th>Address</th>\n",
       "      <th>Latitude</th>\n",
       "      <th>Longitude</th>\n",
       "      <th>SO2</th>\n",
       "      <th>NO2</th>\n",
       "      <th>O3</th>\n",
       "      <th>CO</th>\n",
       "      <th>PM10</th>\n",
       "      <th>PM2.5</th>\n",
       "    </tr>\n",
       "  </thead>\n",
       "  <tbody>\n",
       "    <tr>\n",
       "      <th>0</th>\n",
       "      <td>1/1/2017 0:00</td>\n",
       "      <td>101</td>\n",
       "      <td>19, Jong-ro 35ga-gil, Jongno-gu, Seoul, Republ...</td>\n",
       "      <td>37.572016</td>\n",
       "      <td>127.005008</td>\n",
       "      <td>0.004</td>\n",
       "      <td>NaN</td>\n",
       "      <td>0.002</td>\n",
       "      <td>1.2</td>\n",
       "      <td>73.0</td>\n",
       "      <td>57.0</td>\n",
       "    </tr>\n",
       "    <tr>\n",
       "      <th>1</th>\n",
       "      <td>1/1/2017 1:00</td>\n",
       "      <td>101</td>\n",
       "      <td>19, Jong-ro 35ga-gil, Jongno-gu, Seoul, Republ...</td>\n",
       "      <td>37.572016</td>\n",
       "      <td>127.005008</td>\n",
       "      <td>0.004</td>\n",
       "      <td>NaN</td>\n",
       "      <td>0.002</td>\n",
       "      <td>1.2</td>\n",
       "      <td>71.0</td>\n",
       "      <td>59.0</td>\n",
       "    </tr>\n",
       "    <tr>\n",
       "      <th>2</th>\n",
       "      <td>1/1/2017 2:00</td>\n",
       "      <td>101</td>\n",
       "      <td>19, Jong-ro 35ga-gil, Jongno-gu, Seoul, Republ...</td>\n",
       "      <td>37.572016</td>\n",
       "      <td>127.005008</td>\n",
       "      <td>0.004</td>\n",
       "      <td>NaN</td>\n",
       "      <td>0.002</td>\n",
       "      <td>1.2</td>\n",
       "      <td>70.0</td>\n",
       "      <td>59.0</td>\n",
       "    </tr>\n",
       "    <tr>\n",
       "      <th>3</th>\n",
       "      <td>1/1/2017 3:00</td>\n",
       "      <td>101</td>\n",
       "      <td>19, Jong-ro 35ga-gil, Jongno-gu, Seoul, Republ...</td>\n",
       "      <td>37.572016</td>\n",
       "      <td>127.005008</td>\n",
       "      <td>0.004</td>\n",
       "      <td>NaN</td>\n",
       "      <td>0.002</td>\n",
       "      <td>1.2</td>\n",
       "      <td>NaN</td>\n",
       "      <td>58.0</td>\n",
       "    </tr>\n",
       "    <tr>\n",
       "      <th>4</th>\n",
       "      <td>1/1/2017 4:00</td>\n",
       "      <td>101</td>\n",
       "      <td>19, Jong-ro 35ga-gil, Jongno-gu, Seoul, Republ...</td>\n",
       "      <td>37.572016</td>\n",
       "      <td>127.005008</td>\n",
       "      <td>0.003</td>\n",
       "      <td>NaN</td>\n",
       "      <td>0.002</td>\n",
       "      <td>1.2</td>\n",
       "      <td>NaN</td>\n",
       "      <td>61.0</td>\n",
       "    </tr>\n",
       "  </tbody>\n",
       "</table>\n",
       "</div>"
      ],
      "text/plain": [
       "  Measurement date  Station code  \\\n",
       "0    1/1/2017 0:00           101   \n",
       "1    1/1/2017 1:00           101   \n",
       "2    1/1/2017 2:00           101   \n",
       "3    1/1/2017 3:00           101   \n",
       "4    1/1/2017 4:00           101   \n",
       "\n",
       "                                             Address   Latitude   Longitude  \\\n",
       "0  19, Jong-ro 35ga-gil, Jongno-gu, Seoul, Republ...  37.572016  127.005008   \n",
       "1  19, Jong-ro 35ga-gil, Jongno-gu, Seoul, Republ...  37.572016  127.005008   \n",
       "2  19, Jong-ro 35ga-gil, Jongno-gu, Seoul, Republ...  37.572016  127.005008   \n",
       "3  19, Jong-ro 35ga-gil, Jongno-gu, Seoul, Republ...  37.572016  127.005008   \n",
       "4  19, Jong-ro 35ga-gil, Jongno-gu, Seoul, Republ...  37.572016  127.005008   \n",
       "\n",
       "     SO2  NO2     O3   CO  PM10  PM2.5  \n",
       "0  0.004  NaN  0.002  1.2  73.0   57.0  \n",
       "1  0.004  NaN  0.002  1.2  71.0   59.0  \n",
       "2  0.004  NaN  0.002  1.2  70.0   59.0  \n",
       "3  0.004  NaN  0.002  1.2   NaN   58.0  \n",
       "4  0.003  NaN  0.002  1.2   NaN   61.0  "
      ]
     },
     "execution_count": 50,
     "metadata": {},
     "output_type": "execute_result"
    }
   ],
   "source": [
    "df.head()"
   ]
  },
  {
   "cell_type": "code",
   "execution_count": 51,
   "id": "dbbc8878",
   "metadata": {},
   "outputs": [],
   "source": [
    "df[\"CO\"] = df[\"CO\"].ffill()"
   ]
  },
  {
   "cell_type": "code",
   "execution_count": 52,
   "id": "ca555e59",
   "metadata": {},
   "outputs": [
    {
     "data": {
      "application/vnd.microsoft.datawrangler.viewer.v0+json": {
       "columns": [
        {
         "name": "index",
         "rawType": "int64",
         "type": "integer"
        },
        {
         "name": "Measurement date",
         "rawType": "object",
         "type": "string"
        },
        {
         "name": "Station code",
         "rawType": "int64",
         "type": "integer"
        },
        {
         "name": "Address",
         "rawType": "object",
         "type": "string"
        },
        {
         "name": "Latitude",
         "rawType": "float64",
         "type": "float"
        },
        {
         "name": "Longitude",
         "rawType": "float64",
         "type": "float"
        },
        {
         "name": "SO2",
         "rawType": "float64",
         "type": "float"
        },
        {
         "name": "NO2",
         "rawType": "float64",
         "type": "float"
        },
        {
         "name": "O3",
         "rawType": "float64",
         "type": "float"
        },
        {
         "name": "CO",
         "rawType": "float64",
         "type": "float"
        },
        {
         "name": "PM10",
         "rawType": "float64",
         "type": "float"
        },
        {
         "name": "PM2.5",
         "rawType": "float64",
         "type": "float"
        }
       ],
       "ref": "ae30e96f-2dc8-4efb-9864-bfa294c56361",
       "rows": [
        [
         "647506",
         "12/31/2019 19:00",
         "125",
         "59, Gucheonmyeon-ro 42-gil, Gangdong-gu, Seoul, Republic of Korea",
         "37.5449625",
         "127.13679170000002",
         "0.003",
         "0.0279999999999999",
         "0.013",
         "0.4",
         "23.0",
         "17.0"
        ],
        [
         "647507",
         "12/31/2019 20:00",
         "125",
         "59, Gucheonmyeon-ro 42-gil, Gangdong-gu, Seoul, Republic of Korea",
         "37.5449625",
         "127.13679170000002",
         "0.003",
         "0.025",
         "0.015",
         "0.4",
         "25.0",
         "19.0"
        ],
        [
         "647508",
         "12/31/2019 21:00",
         "125",
         "59, Gucheonmyeon-ro 42-gil, Gangdong-gu, Seoul, Republic of Korea",
         "37.5449625",
         "127.13679170000002",
         "0.003",
         "0.023",
         "0.015",
         "0.4",
         "24.0",
         "17.0"
        ],
        [
         "647509",
         "12/31/2019 22:00",
         "125",
         "59, Gucheonmyeon-ro 42-gil, Gangdong-gu, Seoul, Republic of Korea",
         "37.5449625",
         "127.13679170000002",
         "0.003",
         "0.04",
         "0.004",
         "0.4",
         "25.0",
         "18.0"
        ],
        [
         "647510",
         "12/31/2019 23:00",
         "125",
         "59, Gucheonmyeon-ro 42-gil, Gangdong-gu, Seoul, Republic of Korea",
         "37.5449625",
         "127.13679170000002",
         "0.003",
         "0.037",
         "0.005",
         "0.4",
         "27.0",
         "18.0"
        ]
       ],
       "shape": {
        "columns": 11,
        "rows": 5
       }
      },
      "text/html": [
       "<div>\n",
       "<style scoped>\n",
       "    .dataframe tbody tr th:only-of-type {\n",
       "        vertical-align: middle;\n",
       "    }\n",
       "\n",
       "    .dataframe tbody tr th {\n",
       "        vertical-align: top;\n",
       "    }\n",
       "\n",
       "    .dataframe thead th {\n",
       "        text-align: right;\n",
       "    }\n",
       "</style>\n",
       "<table border=\"1\" class=\"dataframe\">\n",
       "  <thead>\n",
       "    <tr style=\"text-align: right;\">\n",
       "      <th></th>\n",
       "      <th>Measurement date</th>\n",
       "      <th>Station code</th>\n",
       "      <th>Address</th>\n",
       "      <th>Latitude</th>\n",
       "      <th>Longitude</th>\n",
       "      <th>SO2</th>\n",
       "      <th>NO2</th>\n",
       "      <th>O3</th>\n",
       "      <th>CO</th>\n",
       "      <th>PM10</th>\n",
       "      <th>PM2.5</th>\n",
       "    </tr>\n",
       "  </thead>\n",
       "  <tbody>\n",
       "    <tr>\n",
       "      <th>647506</th>\n",
       "      <td>12/31/2019 19:00</td>\n",
       "      <td>125</td>\n",
       "      <td>59, Gucheonmyeon-ro 42-gil, Gangdong-gu, Seoul...</td>\n",
       "      <td>37.544962</td>\n",
       "      <td>127.136792</td>\n",
       "      <td>0.003</td>\n",
       "      <td>0.028</td>\n",
       "      <td>0.013</td>\n",
       "      <td>0.4</td>\n",
       "      <td>23.0</td>\n",
       "      <td>17.0</td>\n",
       "    </tr>\n",
       "    <tr>\n",
       "      <th>647507</th>\n",
       "      <td>12/31/2019 20:00</td>\n",
       "      <td>125</td>\n",
       "      <td>59, Gucheonmyeon-ro 42-gil, Gangdong-gu, Seoul...</td>\n",
       "      <td>37.544962</td>\n",
       "      <td>127.136792</td>\n",
       "      <td>0.003</td>\n",
       "      <td>0.025</td>\n",
       "      <td>0.015</td>\n",
       "      <td>0.4</td>\n",
       "      <td>25.0</td>\n",
       "      <td>19.0</td>\n",
       "    </tr>\n",
       "    <tr>\n",
       "      <th>647508</th>\n",
       "      <td>12/31/2019 21:00</td>\n",
       "      <td>125</td>\n",
       "      <td>59, Gucheonmyeon-ro 42-gil, Gangdong-gu, Seoul...</td>\n",
       "      <td>37.544962</td>\n",
       "      <td>127.136792</td>\n",
       "      <td>0.003</td>\n",
       "      <td>0.023</td>\n",
       "      <td>0.015</td>\n",
       "      <td>0.4</td>\n",
       "      <td>24.0</td>\n",
       "      <td>17.0</td>\n",
       "    </tr>\n",
       "    <tr>\n",
       "      <th>647509</th>\n",
       "      <td>12/31/2019 22:00</td>\n",
       "      <td>125</td>\n",
       "      <td>59, Gucheonmyeon-ro 42-gil, Gangdong-gu, Seoul...</td>\n",
       "      <td>37.544962</td>\n",
       "      <td>127.136792</td>\n",
       "      <td>0.003</td>\n",
       "      <td>0.040</td>\n",
       "      <td>0.004</td>\n",
       "      <td>0.4</td>\n",
       "      <td>25.0</td>\n",
       "      <td>18.0</td>\n",
       "    </tr>\n",
       "    <tr>\n",
       "      <th>647510</th>\n",
       "      <td>12/31/2019 23:00</td>\n",
       "      <td>125</td>\n",
       "      <td>59, Gucheonmyeon-ro 42-gil, Gangdong-gu, Seoul...</td>\n",
       "      <td>37.544962</td>\n",
       "      <td>127.136792</td>\n",
       "      <td>0.003</td>\n",
       "      <td>0.037</td>\n",
       "      <td>0.005</td>\n",
       "      <td>0.4</td>\n",
       "      <td>27.0</td>\n",
       "      <td>18.0</td>\n",
       "    </tr>\n",
       "  </tbody>\n",
       "</table>\n",
       "</div>"
      ],
      "text/plain": [
       "        Measurement date  Station code  \\\n",
       "647506  12/31/2019 19:00           125   \n",
       "647507  12/31/2019 20:00           125   \n",
       "647508  12/31/2019 21:00           125   \n",
       "647509  12/31/2019 22:00           125   \n",
       "647510  12/31/2019 23:00           125   \n",
       "\n",
       "                                                  Address   Latitude  \\\n",
       "647506  59, Gucheonmyeon-ro 42-gil, Gangdong-gu, Seoul...  37.544962   \n",
       "647507  59, Gucheonmyeon-ro 42-gil, Gangdong-gu, Seoul...  37.544962   \n",
       "647508  59, Gucheonmyeon-ro 42-gil, Gangdong-gu, Seoul...  37.544962   \n",
       "647509  59, Gucheonmyeon-ro 42-gil, Gangdong-gu, Seoul...  37.544962   \n",
       "647510  59, Gucheonmyeon-ro 42-gil, Gangdong-gu, Seoul...  37.544962   \n",
       "\n",
       "         Longitude    SO2    NO2     O3   CO  PM10  PM2.5  \n",
       "647506  127.136792  0.003  0.028  0.013  0.4  23.0   17.0  \n",
       "647507  127.136792  0.003  0.025  0.015  0.4  25.0   19.0  \n",
       "647508  127.136792  0.003  0.023  0.015  0.4  24.0   17.0  \n",
       "647509  127.136792  0.003  0.040  0.004  0.4  25.0   18.0  \n",
       "647510  127.136792  0.003  0.037  0.005  0.4  27.0   18.0  "
      ]
     },
     "execution_count": 52,
     "metadata": {},
     "output_type": "execute_result"
    }
   ],
   "source": [
    "df.tail()"
   ]
  },
  {
   "cell_type": "code",
   "execution_count": 53,
   "id": "0336df8f",
   "metadata": {},
   "outputs": [],
   "source": [
    "df[\"NO2\"] = df[\"NO2\"].bfill()"
   ]
  },
  {
   "cell_type": "code",
   "execution_count": 54,
   "id": "3b04c1e4",
   "metadata": {},
   "outputs": [
    {
     "data": {
      "application/vnd.microsoft.datawrangler.viewer.v0+json": {
       "columns": [
        {
         "name": "index",
         "rawType": "object",
         "type": "string"
        },
        {
         "name": "0",
         "rawType": "int64",
         "type": "integer"
        }
       ],
       "ref": "a7c8d107-92c2-437e-9a80-d6933fdb61e4",
       "rows": [
        [
         "Measurement date",
         "0"
        ],
        [
         "Station code",
         "0"
        ],
        [
         "Address",
         "0"
        ],
        [
         "Latitude",
         "0"
        ],
        [
         "Longitude",
         "0"
        ],
        [
         "SO2",
         "74"
        ],
        [
         "NO2",
         "0"
        ],
        [
         "O3",
         "75"
        ],
        [
         "CO",
         "0"
        ],
        [
         "PM10",
         "95"
        ],
        [
         "PM2.5",
         "78"
        ]
       ],
       "shape": {
        "columns": 1,
        "rows": 11
       }
      },
      "text/plain": [
       "Measurement date     0\n",
       "Station code         0\n",
       "Address              0\n",
       "Latitude             0\n",
       "Longitude            0\n",
       "SO2                 74\n",
       "NO2                  0\n",
       "O3                  75\n",
       "CO                   0\n",
       "PM10                95\n",
       "PM2.5               78\n",
       "dtype: int64"
      ]
     },
     "execution_count": 54,
     "metadata": {},
     "output_type": "execute_result"
    }
   ],
   "source": [
    "df.isnull().sum()"
   ]
  },
  {
   "cell_type": "code",
   "execution_count": 55,
   "id": "0a86298e",
   "metadata": {},
   "outputs": [
    {
     "data": {
      "text/plain": [
       "<Axes: >"
      ]
     },
     "execution_count": 55,
     "metadata": {},
     "output_type": "execute_result"
    },
    {
     "data": {
      "image/png": "[encoded data removed]",
      "text/plain": [
       "<Figure size 640x480 with 1 Axes>"
      ]
     },
     "metadata": {},
     "output_type": "display_data"
    }
   ],
   "source": [
    "df[\"PM10\"][:256].plot.line()"
   ]
  },
  {
   "cell_type": "code",
   "execution_count": 56,
   "id": "8798b039",
   "metadata": {},
   "outputs": [],
   "source": [
    "df[\"PM10\"] = df[\"PM10\"].interpolate(method=\"linear\", limit_direction=\"both\")"
   ]
  },
  {
   "cell_type": "code",
   "execution_count": 57,
   "id": "fe8399e6",
   "metadata": {},
   "outputs": [
    {
     "data": {
      "application/vnd.microsoft.datawrangler.viewer.v0+json": {
       "columns": [
        {
         "name": "index",
         "rawType": "object",
         "type": "string"
        },
        {
         "name": "0",
         "rawType": "int64",
         "type": "integer"
        }
       ],
       "ref": "15c24b81-edc6-43d2-81e0-0a67a9cd7326",
       "rows": [
        [
         "Measurement date",
         "0"
        ],
        [
         "Station code",
         "0"
        ],
        [
         "Address",
         "0"
        ],
        [
         "Latitude",
         "0"
        ],
        [
         "Longitude",
         "0"
        ],
        [
         "SO2",
         "74"
        ],
        [
         "NO2",
         "0"
        ],
        [
         "O3",
         "75"
        ],
        [
         "CO",
         "0"
        ],
        [
         "PM10",
         "0"
        ],
        [
         "PM2.5",
         "78"
        ]
       ],
       "shape": {
        "columns": 1,
        "rows": 11
       }
      },
      "text/plain": [
       "Measurement date     0\n",
       "Station code         0\n",
       "Address              0\n",
       "Latitude             0\n",
       "Longitude            0\n",
       "SO2                 74\n",
       "NO2                  0\n",
       "O3                  75\n",
       "CO                   0\n",
       "PM10                 0\n",
       "PM2.5               78\n",
       "dtype: int64"
      ]
     },
     "execution_count": 57,
     "metadata": {},
     "output_type": "execute_result"
    }
   ],
   "source": [
    "df.isnull().sum()"
   ]
  },
  {
   "cell_type": "markdown",
   "id": "cb68c446",
   "metadata": {},
   "source": [
    "## Categorical Data Encoding"
   ]
  },
  {
   "cell_type": "code",
   "execution_count": 58,
   "id": "98691642",
   "metadata": {},
   "outputs": [],
   "source": [
    "df = pd.read_csv(\"data/03/spaceship_titanic.csv\")"
   ]
  },
  {
   "cell_type": "markdown",
   "id": "52c5be1f",
   "metadata": {},
   "source": [
    "### Label Encoding"
   ]
  },
  {
   "cell_type": "markdown",
   "id": "27a92657",
   "metadata": {},
   "source": [
    "Label encoding is a method that maps the categorical levels into the integers 1 through n (or 0 through n - 1) where n is the number of levels. Note: It is mostly used for encoding the target (i.e., the predicted) variable."
   ]
  },
  {
   "cell_type": "code",
   "execution_count": 59,
   "id": "9fb8598d",
   "metadata": {},
   "outputs": [],
   "source": [
    "label_encoder = LabelEncoder()"
   ]
  },
  {
   "cell_type": "code",
   "execution_count": 60,
   "id": "8da0863b",
   "metadata": {},
   "outputs": [],
   "source": [
    "encoded_values = label_encoder.fit_transform(df[\"HomePlanet\"])"
   ]
  },
  {
   "cell_type": "code",
   "execution_count": 61,
   "id": "30d95023",
   "metadata": {},
   "outputs": [
    {
     "data": {
      "text/plain": [
       "array([1, 0, 1, 1, 0, 0, 0, 0, 0, 1])"
      ]
     },
     "execution_count": 61,
     "metadata": {},
     "output_type": "execute_result"
    }
   ],
   "source": [
    "encoded_values[:10]"
   ]
  },
  {
   "cell_type": "code",
   "execution_count": 62,
   "id": "2168bebe",
   "metadata": {},
   "outputs": [
    {
     "data": {
      "text/plain": [
       "array(['Earth', 'Europa', 'Mars', nan], dtype=object)"
      ]
     },
     "execution_count": 62,
     "metadata": {},
     "output_type": "execute_result"
    }
   ],
   "source": [
    "label_encoder.classes_"
   ]
  },
  {
   "cell_type": "code",
   "execution_count": 63,
   "id": "c1586b8f",
   "metadata": {},
   "outputs": [
    {
     "data": {
      "text/plain": [
       "np.int64(0)"
      ]
     },
     "execution_count": 63,
     "metadata": {},
     "output_type": "execute_result"
    }
   ],
   "source": [
    "pd.Series(encoded_values).isnull().sum()"
   ]
  },
  {
   "cell_type": "markdown",
   "id": "426db456",
   "metadata": {},
   "source": [
    "Note: Be careful when using `LabelEncoder` from `scikit-learn`, because it is primarly intended to be used for encoding a target variable. That's why it treats missing values as a specific categorical level. It is a better practice to use `OrdinalEncoder` with `categories=\"auto\"`."
   ]
  },
  {
   "cell_type": "code",
   "execution_count": 64,
   "id": "dfdf602f",
   "metadata": {},
   "outputs": [],
   "source": [
    "ordinal_encoder = OrdinalEncoder(categories=\"auto\")"
   ]
  },
  {
   "cell_type": "code",
   "execution_count": 65,
   "id": "e93f0e4b",
   "metadata": {},
   "outputs": [],
   "source": [
    "encoded_values = ordinal_encoder.fit_transform(df[[\"HomePlanet\"]])"
   ]
  },
  {
   "cell_type": "code",
   "execution_count": 66,
   "id": "27a12b24",
   "metadata": {},
   "outputs": [
    {
     "data": {
      "text/plain": [
       "array([[1.],\n",
       "       [0.],\n",
       "       [1.],\n",
       "       [1.],\n",
       "       [0.],\n",
       "       [0.],\n",
       "       [0.],\n",
       "       [0.],\n",
       "       [0.],\n",
       "       [1.]])"
      ]
     },
     "execution_count": 66,
     "metadata": {},
     "output_type": "execute_result"
    }
   ],
   "source": [
    "encoded_values[:10]"
   ]
  },
  {
   "cell_type": "code",
   "execution_count": 67,
   "id": "2cc95d37",
   "metadata": {},
   "outputs": [
    {
     "data": {
      "text/plain": [
       "[array(['Earth', 'Europa', 'Mars', nan], dtype=object)]"
      ]
     },
     "execution_count": 67,
     "metadata": {},
     "output_type": "execute_result"
    }
   ],
   "source": [
    "ordinal_encoder.categories_"
   ]
  },
  {
   "cell_type": "code",
   "execution_count": 68,
   "id": "966cb007",
   "metadata": {},
   "outputs": [],
   "source": [
    "df[\"HomePlanet\"] = encoded_values"
   ]
  },
  {
   "cell_type": "code",
   "execution_count": 69,
   "id": "a6f1b3f8",
   "metadata": {},
   "outputs": [
    {
     "data": {
      "text/plain": [
       "np.int64(401)"
      ]
     },
     "execution_count": 69,
     "metadata": {},
     "output_type": "execute_result"
    }
   ],
   "source": [
    "df[\"HomePlanet\"].isnull().sum()"
   ]
  },
  {
   "cell_type": "markdown",
   "id": "ef969f7b",
   "metadata": {},
   "source": [
    "### One-Hot (Dummy) Encoding"
   ]
  },
  {
   "cell_type": "markdown",
   "id": "32d92c0c",
   "metadata": {},
   "source": [
    "We have some categorical variables and we want to turn them into numerical values, one of the most common ways of going about it is to create dummy variables. Dummy variables are variables that only take the values 0 and 1 to indicate the absence or presence of the levels in a categorical variable."
   ]
  },
  {
   "cell_type": "code",
   "execution_count": 70,
   "id": "3ac09b51",
   "metadata": {},
   "outputs": [
    {
     "data": {
      "application/vnd.microsoft.datawrangler.viewer.v0+json": {
       "columns": [
        {
         "name": "Destination",
         "rawType": "object",
         "type": "string"
        },
        {
         "name": "count",
         "rawType": "int64",
         "type": "integer"
        }
       ],
       "ref": "38d79e3a-efba-41f7-a09e-f69db405de98",
       "rows": [
        [
         "TRAPPIST-1e",
         "5915"
        ],
        [
         "55 Cancri e",
         "1800"
        ],
        [
         "PSO J318.5-22",
         "796"
        ]
       ],
       "shape": {
        "columns": 1,
        "rows": 3
       }
      },
      "text/plain": [
       "Destination\n",
       "TRAPPIST-1e      5915\n",
       "55 Cancri e      1800\n",
       "PSO J318.5-22     796\n",
       "Name: count, dtype: int64"
      ]
     },
     "execution_count": 70,
     "metadata": {},
     "output_type": "execute_result"
    }
   ],
   "source": [
    "df[\"Destination\"].value_counts()"
   ]
  },
  {
   "cell_type": "code",
   "execution_count": 71,
   "id": "82602918",
   "metadata": {},
   "outputs": [],
   "source": [
    "one_hot_encoded_values = pd.get_dummies(df[\"Destination\"])"
   ]
  },
  {
   "cell_type": "code",
   "execution_count": 72,
   "id": "16354c91",
   "metadata": {},
   "outputs": [
    {
     "data": {
      "application/vnd.microsoft.datawrangler.viewer.v0+json": {
       "columns": [
        {
         "name": "index",
         "rawType": "int64",
         "type": "integer"
        },
        {
         "name": "55 Cancri e",
         "rawType": "bool",
         "type": "boolean"
        },
        {
         "name": "PSO J318.5-22",
         "rawType": "bool",
         "type": "boolean"
        },
        {
         "name": "TRAPPIST-1e",
         "rawType": "bool",
         "type": "boolean"
        }
       ],
       "ref": "4b8c65d9-aae5-4bd2-8a47-ec6fa222353e",
       "rows": [
        [
         "0",
         "False",
         "False",
         "True"
        ],
        [
         "1",
         "False",
         "False",
         "True"
        ],
        [
         "2",
         "False",
         "False",
         "True"
        ],
        [
         "3",
         "False",
         "False",
         "True"
        ],
        [
         "4",
         "False",
         "False",
         "True"
        ]
       ],
       "shape": {
        "columns": 3,
        "rows": 5
       }
      },
      "text/html": [
       "<div>\n",
       "<style scoped>\n",
       "    .dataframe tbody tr th:only-of-type {\n",
       "        vertical-align: middle;\n",
       "    }\n",
       "\n",
       "    .dataframe tbody tr th {\n",
       "        vertical-align: top;\n",
       "    }\n",
       "\n",
       "    .dataframe thead th {\n",
       "        text-align: right;\n",
       "    }\n",
       "</style>\n",
       "<table border=\"1\" class=\"dataframe\">\n",
       "  <thead>\n",
       "    <tr style=\"text-align: right;\">\n",
       "      <th></th>\n",
       "      <th>55 Cancri e</th>\n",
       "      <th>PSO J318.5-22</th>\n",
       "      <th>TRAPPIST-1e</th>\n",
       "    </tr>\n",
       "  </thead>\n",
       "  <tbody>\n",
       "    <tr>\n",
       "      <th>0</th>\n",
       "      <td>False</td>\n",
       "      <td>False</td>\n",
       "      <td>True</td>\n",
       "    </tr>\n",
       "    <tr>\n",
       "      <th>1</th>\n",
       "      <td>False</td>\n",
       "      <td>False</td>\n",
       "      <td>True</td>\n",
       "    </tr>\n",
       "    <tr>\n",
       "      <th>2</th>\n",
       "      <td>False</td>\n",
       "      <td>False</td>\n",
       "      <td>True</td>\n",
       "    </tr>\n",
       "    <tr>\n",
       "      <th>3</th>\n",
       "      <td>False</td>\n",
       "      <td>False</td>\n",
       "      <td>True</td>\n",
       "    </tr>\n",
       "    <tr>\n",
       "      <th>4</th>\n",
       "      <td>False</td>\n",
       "      <td>False</td>\n",
       "      <td>True</td>\n",
       "    </tr>\n",
       "  </tbody>\n",
       "</table>\n",
       "</div>"
      ],
      "text/plain": [
       "   55 Cancri e  PSO J318.5-22  TRAPPIST-1e\n",
       "0        False          False         True\n",
       "1        False          False         True\n",
       "2        False          False         True\n",
       "3        False          False         True\n",
       "4        False          False         True"
      ]
     },
     "execution_count": 72,
     "metadata": {},
     "output_type": "execute_result"
    }
   ],
   "source": [
    "one_hot_encoded_values.head()"
   ]
  },
  {
   "cell_type": "code",
   "execution_count": 73,
   "id": "ac789e47",
   "metadata": {},
   "outputs": [],
   "source": [
    "df = pd.concat([df, one_hot_encoded_values], axis=1)"
   ]
  },
  {
   "cell_type": "code",
   "execution_count": 74,
   "id": "03536b51",
   "metadata": {},
   "outputs": [
    {
     "data": {
      "application/vnd.microsoft.datawrangler.viewer.v0+json": {
       "columns": [
        {
         "name": "index",
         "rawType": "int64",
         "type": "integer"
        },
        {
         "name": "PassengerId",
         "rawType": "object",
         "type": "string"
        },
        {
         "name": "HomePlanet",
         "rawType": "float64",
         "type": "float"
        },
        {
         "name": "CryoSleep",
         "rawType": "object",
         "type": "unknown"
        },
        {
         "name": "Cabin",
         "rawType": "object",
         "type": "unknown"
        },
        {
         "name": "Destination",
         "rawType": "object",
         "type": "string"
        },
        {
         "name": "Age",
         "rawType": "float64",
         "type": "float"
        },
        {
         "name": "VIP",
         "rawType": "object",
         "type": "unknown"
        },
        {
         "name": "RoomService",
         "rawType": "float64",
         "type": "float"
        },
        {
         "name": "FoodCourt",
         "rawType": "float64",
         "type": "float"
        },
        {
         "name": "ShoppingMall",
         "rawType": "float64",
         "type": "float"
        },
        {
         "name": "Spa",
         "rawType": "float64",
         "type": "float"
        },
        {
         "name": "VRDeck",
         "rawType": "float64",
         "type": "float"
        },
        {
         "name": "Name",
         "rawType": "object",
         "type": "string"
        },
        {
         "name": "Transported",
         "rawType": "bool",
         "type": "boolean"
        },
        {
         "name": "55 Cancri e",
         "rawType": "bool",
         "type": "boolean"
        },
        {
         "name": "PSO J318.5-22",
         "rawType": "bool",
         "type": "boolean"
        },
        {
         "name": "TRAPPIST-1e",
         "rawType": "bool",
         "type": "boolean"
        }
       ],
       "ref": "588a6c45-c73a-4ce3-bcb5-8d76a57ec12c",
       "rows": [
        [
         "0",
         "0001_01",
         "1.0",
         "False",
         null,
         "TRAPPIST-1e",
         "39.0",
         "False",
         "0.0",
         "0.0",
         "0.0",
         "0.0",
         "0.0",
         "Maham Ofracculy",
         "False",
         "False",
         "False",
         "True"
        ],
        [
         "1",
         "0002_01",
         "0.0",
         "False",
         null,
         "TRAPPIST-1e",
         "24.0",
         "False",
         "109.0",
         "9.0",
         "25.0",
         "549.0",
         "44.0",
         "Juanna Vines",
         "True",
         "False",
         "False",
         "True"
        ],
        [
         "2",
         "0003_01",
         "1.0",
         "False",
         "A/0/S",
         "TRAPPIST-1e",
         null,
         "True",
         "43.0",
         "3576.0",
         "0.0",
         "6715.0",
         "49.0",
         "Altark Susent",
         "False",
         "False",
         "False",
         "True"
        ],
        [
         "3",
         "0003_02",
         "1.0",
         "False",
         "A/0/S",
         "TRAPPIST-1e",
         "33.0",
         "False",
         "0.0",
         "1283.0",
         "371.0",
         "3329.0",
         "193.0",
         "Solam Susent",
         "False",
         "False",
         "False",
         "True"
        ],
        [
         "4",
         "0004_01",
         "0.0",
         "False",
         "F/1/S",
         "TRAPPIST-1e",
         "16.0",
         "False",
         "303.0",
         "70.0",
         "151.0",
         "565.0",
         "2.0",
         "Willy Santantines",
         "True",
         "False",
         "False",
         "True"
        ]
       ],
       "shape": {
        "columns": 17,
        "rows": 5
       }
      },
      "text/html": [
       "<div>\n",
       "<style scoped>\n",
       "    .dataframe tbody tr th:only-of-type {\n",
       "        vertical-align: middle;\n",
       "    }\n",
       "\n",
       "    .dataframe tbody tr th {\n",
       "        vertical-align: top;\n",
       "    }\n",
       "\n",
       "    .dataframe thead th {\n",
       "        text-align: right;\n",
       "    }\n",
       "</style>\n",
       "<table border=\"1\" class=\"dataframe\">\n",
       "  <thead>\n",
       "    <tr style=\"text-align: right;\">\n",
       "      <th></th>\n",
       "      <th>PassengerId</th>\n",
       "      <th>HomePlanet</th>\n",
       "      <th>CryoSleep</th>\n",
       "      <th>Cabin</th>\n",
       "      <th>Destination</th>\n",
       "      <th>Age</th>\n",
       "      <th>VIP</th>\n",
       "      <th>RoomService</th>\n",
       "      <th>FoodCourt</th>\n",
       "      <th>ShoppingMall</th>\n",
       "      <th>Spa</th>\n",
       "      <th>VRDeck</th>\n",
       "      <th>Name</th>\n",
       "      <th>Transported</th>\n",
       "      <th>55 Cancri e</th>\n",
       "      <th>PSO J318.5-22</th>\n",
       "      <th>TRAPPIST-1e</th>\n",
       "    </tr>\n",
       "  </thead>\n",
       "  <tbody>\n",
       "    <tr>\n",
       "      <th>0</th>\n",
       "      <td>0001_01</td>\n",
       "      <td>1.0</td>\n",
       "      <td>False</td>\n",
       "      <td>NaN</td>\n",
       "      <td>TRAPPIST-1e</td>\n",
       "      <td>39.0</td>\n",
       "      <td>False</td>\n",
       "      <td>0.0</td>\n",
       "      <td>0.0</td>\n",
       "      <td>0.0</td>\n",
       "      <td>0.0</td>\n",
       "      <td>0.0</td>\n",
       "      <td>Maham Ofracculy</td>\n",
       "      <td>False</td>\n",
       "      <td>False</td>\n",
       "      <td>False</td>\n",
       "      <td>True</td>\n",
       "    </tr>\n",
       "    <tr>\n",
       "      <th>1</th>\n",
       "      <td>0002_01</td>\n",
       "      <td>0.0</td>\n",
       "      <td>False</td>\n",
       "      <td>NaN</td>\n",
       "      <td>TRAPPIST-1e</td>\n",
       "      <td>24.0</td>\n",
       "      <td>False</td>\n",
       "      <td>109.0</td>\n",
       "      <td>9.0</td>\n",
       "      <td>25.0</td>\n",
       "      <td>549.0</td>\n",
       "      <td>44.0</td>\n",
       "      <td>Juanna Vines</td>\n",
       "      <td>True</td>\n",
       "      <td>False</td>\n",
       "      <td>False</td>\n",
       "      <td>True</td>\n",
       "    </tr>\n",
       "    <tr>\n",
       "      <th>2</th>\n",
       "      <td>0003_01</td>\n",
       "      <td>1.0</td>\n",
       "      <td>False</td>\n",
       "      <td>A/0/S</td>\n",
       "      <td>TRAPPIST-1e</td>\n",
       "      <td>NaN</td>\n",
       "      <td>True</td>\n",
       "      <td>43.0</td>\n",
       "      <td>3576.0</td>\n",
       "      <td>0.0</td>\n",
       "      <td>6715.0</td>\n",
       "      <td>49.0</td>\n",
       "      <td>Altark Susent</td>\n",
       "      <td>False</td>\n",
       "      <td>False</td>\n",
       "      <td>False</td>\n",
       "      <td>True</td>\n",
       "    </tr>\n",
       "    <tr>\n",
       "      <th>3</th>\n",
       "      <td>0003_02</td>\n",
       "      <td>1.0</td>\n",
       "      <td>False</td>\n",
       "      <td>A/0/S</td>\n",
       "      <td>TRAPPIST-1e</td>\n",
       "      <td>33.0</td>\n",
       "      <td>False</td>\n",
       "      <td>0.0</td>\n",
       "      <td>1283.0</td>\n",
       "      <td>371.0</td>\n",
       "      <td>3329.0</td>\n",
       "      <td>193.0</td>\n",
       "      <td>Solam Susent</td>\n",
       "      <td>False</td>\n",
       "      <td>False</td>\n",
       "      <td>False</td>\n",
       "      <td>True</td>\n",
       "    </tr>\n",
       "    <tr>\n",
       "      <th>4</th>\n",
       "      <td>0004_01</td>\n",
       "      <td>0.0</td>\n",
       "      <td>False</td>\n",
       "      <td>F/1/S</td>\n",
       "      <td>TRAPPIST-1e</td>\n",
       "      <td>16.0</td>\n",
       "      <td>False</td>\n",
       "      <td>303.0</td>\n",
       "      <td>70.0</td>\n",
       "      <td>151.0</td>\n",
       "      <td>565.0</td>\n",
       "      <td>2.0</td>\n",
       "      <td>Willy Santantines</td>\n",
       "      <td>True</td>\n",
       "      <td>False</td>\n",
       "      <td>False</td>\n",
       "      <td>True</td>\n",
       "    </tr>\n",
       "  </tbody>\n",
       "</table>\n",
       "</div>"
      ],
      "text/plain": [
       "  PassengerId  HomePlanet CryoSleep  Cabin  Destination   Age    VIP  \\\n",
       "0     0001_01         1.0     False    NaN  TRAPPIST-1e  39.0  False   \n",
       "1     0002_01         0.0     False    NaN  TRAPPIST-1e  24.0  False   \n",
       "2     0003_01         1.0     False  A/0/S  TRAPPIST-1e   NaN   True   \n",
       "3     0003_02         1.0     False  A/0/S  TRAPPIST-1e  33.0  False   \n",
       "4     0004_01         0.0     False  F/1/S  TRAPPIST-1e  16.0  False   \n",
       "\n",
       "   RoomService  FoodCourt  ShoppingMall     Spa  VRDeck               Name  \\\n",
       "0          0.0        0.0           0.0     0.0     0.0    Maham Ofracculy   \n",
       "1        109.0        9.0          25.0   549.0    44.0       Juanna Vines   \n",
       "2         43.0     3576.0           0.0  6715.0    49.0      Altark Susent   \n",
       "3          0.0     1283.0         371.0  3329.0   193.0       Solam Susent   \n",
       "4        303.0       70.0         151.0   565.0     2.0  Willy Santantines   \n",
       "\n",
       "   Transported  55 Cancri e  PSO J318.5-22  TRAPPIST-1e  \n",
       "0        False        False          False         True  \n",
       "1         True        False          False         True  \n",
       "2        False        False          False         True  \n",
       "3        False        False          False         True  \n",
       "4         True        False          False         True  "
      ]
     },
     "execution_count": 74,
     "metadata": {},
     "output_type": "execute_result"
    }
   ],
   "source": [
    "df.head()"
   ]
  },
  {
   "cell_type": "markdown",
   "id": "e90f8925",
   "metadata": {},
   "source": [
    "### Ordinal Encoding"
   ]
  },
  {
   "cell_type": "markdown",
   "id": "4ea957a0",
   "metadata": {},
   "source": [
    "This method is similar to label encoding, except that we manually specify the mapping. This method is generally used for ordinal variables as they are encoded with a natural ordering."
   ]
  },
  {
   "cell_type": "code",
   "execution_count": 75,
   "id": "8d0a9477",
   "metadata": {},
   "outputs": [],
   "source": [
    "values = [[\"good\"], [\"bad\"], [\"neutral\"], [\"neutral\"], [\"good\"], [\"bad\"], [\"good\"]]"
   ]
  },
  {
   "cell_type": "code",
   "execution_count": 76,
   "id": "a8b37090",
   "metadata": {},
   "outputs": [],
   "source": [
    "ordinal_encoder = OrdinalEncoder(categories=[[\"bad\", \"neutral\", \"good\"]])"
   ]
  },
  {
   "cell_type": "code",
   "execution_count": 77,
   "id": "4fe3feb0",
   "metadata": {},
   "outputs": [],
   "source": [
    "encoded_values = ordinal_encoder.fit_transform(values)"
   ]
  },
  {
   "cell_type": "code",
   "execution_count": 78,
   "id": "b8371812",
   "metadata": {},
   "outputs": [
    {
     "data": {
      "text/plain": [
       "array([[2.],\n",
       "       [0.],\n",
       "       [1.],\n",
       "       [1.],\n",
       "       [2.],\n",
       "       [0.],\n",
       "       [2.]])"
      ]
     },
     "execution_count": 78,
     "metadata": {},
     "output_type": "execute_result"
    }
   ],
   "source": [
    "encoded_values"
   ]
  },
  {
   "cell_type": "markdown",
   "id": "a60ec887",
   "metadata": {},
   "source": [
    "### Custom Encoding"
   ]
  },
  {
   "cell_type": "code",
   "execution_count": 79,
   "id": "b665014e",
   "metadata": {},
   "outputs": [],
   "source": [
    "def encode_bool_variable(value):\n",
    "    return 1 if value else -1"
   ]
  },
  {
   "cell_type": "code",
   "execution_count": 80,
   "id": "30b4a85e",
   "metadata": {},
   "outputs": [],
   "source": [
    "df[\"CryoSleep\"] = df[\"CryoSleep\"].apply(encode_bool_variable)"
   ]
  },
  {
   "cell_type": "code",
   "execution_count": 81,
   "id": "fd82246d",
   "metadata": {},
   "outputs": [
    {
     "data": {
      "application/vnd.microsoft.datawrangler.viewer.v0+json": {
       "columns": [
        {
         "name": "index",
         "rawType": "int64",
         "type": "integer"
        },
        {
         "name": "PassengerId",
         "rawType": "object",
         "type": "string"
        },
        {
         "name": "HomePlanet",
         "rawType": "float64",
         "type": "float"
        },
        {
         "name": "CryoSleep",
         "rawType": "int64",
         "type": "integer"
        },
        {
         "name": "Cabin",
         "rawType": "object",
         "type": "unknown"
        },
        {
         "name": "Destination",
         "rawType": "object",
         "type": "string"
        },
        {
         "name": "Age",
         "rawType": "float64",
         "type": "float"
        },
        {
         "name": "VIP",
         "rawType": "object",
         "type": "unknown"
        },
        {
         "name": "RoomService",
         "rawType": "float64",
         "type": "float"
        },
        {
         "name": "FoodCourt",
         "rawType": "float64",
         "type": "float"
        },
        {
         "name": "ShoppingMall",
         "rawType": "float64",
         "type": "float"
        },
        {
         "name": "Spa",
         "rawType": "float64",
         "type": "float"
        },
        {
         "name": "VRDeck",
         "rawType": "float64",
         "type": "float"
        },
        {
         "name": "Name",
         "rawType": "object",
         "type": "string"
        },
        {
         "name": "Transported",
         "rawType": "bool",
         "type": "boolean"
        },
        {
         "name": "55 Cancri e",
         "rawType": "bool",
         "type": "boolean"
        },
        {
         "name": "PSO J318.5-22",
         "rawType": "bool",
         "type": "boolean"
        },
        {
         "name": "TRAPPIST-1e",
         "rawType": "bool",
         "type": "boolean"
        }
       ],
       "ref": "b6378986-0583-4c09-8493-5aea2353a0dd",
       "rows": [
        [
         "0",
         "0001_01",
         "1.0",
         "-1",
         null,
         "TRAPPIST-1e",
         "39.0",
         "False",
         "0.0",
         "0.0",
         "0.0",
         "0.0",
         "0.0",
         "Maham Ofracculy",
         "False",
         "False",
         "False",
         "True"
        ],
        [
         "1",
         "0002_01",
         "0.0",
         "-1",
         null,
         "TRAPPIST-1e",
         "24.0",
         "False",
         "109.0",
         "9.0",
         "25.0",
         "549.0",
         "44.0",
         "Juanna Vines",
         "True",
         "False",
         "False",
         "True"
        ],
        [
         "2",
         "0003_01",
         "1.0",
         "-1",
         "A/0/S",
         "TRAPPIST-1e",
         null,
         "True",
         "43.0",
         "3576.0",
         "0.0",
         "6715.0",
         "49.0",
         "Altark Susent",
         "False",
         "False",
         "False",
         "True"
        ],
        [
         "3",
         "0003_02",
         "1.0",
         "-1",
         "A/0/S",
         "TRAPPIST-1e",
         "33.0",
         "False",
         "0.0",
         "1283.0",
         "371.0",
         "3329.0",
         "193.0",
         "Solam Susent",
         "False",
         "False",
         "False",
         "True"
        ],
        [
         "4",
         "0004_01",
         "0.0",
         "-1",
         "F/1/S",
         "TRAPPIST-1e",
         "16.0",
         "False",
         "303.0",
         "70.0",
         "151.0",
         "565.0",
         "2.0",
         "Willy Santantines",
         "True",
         "False",
         "False",
         "True"
        ]
       ],
       "shape": {
        "columns": 17,
        "rows": 5
       }
      },
      "text/html": [
       "<div>\n",
       "<style scoped>\n",
       "    .dataframe tbody tr th:only-of-type {\n",
       "        vertical-align: middle;\n",
       "    }\n",
       "\n",
       "    .dataframe tbody tr th {\n",
       "        vertical-align: top;\n",
       "    }\n",
       "\n",
       "    .dataframe thead th {\n",
       "        text-align: right;\n",
       "    }\n",
       "</style>\n",
       "<table border=\"1\" class=\"dataframe\">\n",
       "  <thead>\n",
       "    <tr style=\"text-align: right;\">\n",
       "      <th></th>\n",
       "      <th>PassengerId</th>\n",
       "      <th>HomePlanet</th>\n",
       "      <th>CryoSleep</th>\n",
       "      <th>Cabin</th>\n",
       "      <th>Destination</th>\n",
       "      <th>Age</th>\n",
       "      <th>VIP</th>\n",
       "      <th>RoomService</th>\n",
       "      <th>FoodCourt</th>\n",
       "      <th>ShoppingMall</th>\n",
       "      <th>Spa</th>\n",
       "      <th>VRDeck</th>\n",
       "      <th>Name</th>\n",
       "      <th>Transported</th>\n",
       "      <th>55 Cancri e</th>\n",
       "      <th>PSO J318.5-22</th>\n",
       "      <th>TRAPPIST-1e</th>\n",
       "    </tr>\n",
       "  </thead>\n",
       "  <tbody>\n",
       "    <tr>\n",
       "      <th>0</th>\n",
       "      <td>0001_01</td>\n",
       "      <td>1.0</td>\n",
       "      <td>-1</td>\n",
       "      <td>NaN</td>\n",
       "      <td>TRAPPIST-1e</td>\n",
       "      <td>39.0</td>\n",
       "      <td>False</td>\n",
       "      <td>0.0</td>\n",
       "      <td>0.0</td>\n",
       "      <td>0.0</td>\n",
       "      <td>0.0</td>\n",
       "      <td>0.0</td>\n",
       "      <td>Maham Ofracculy</td>\n",
       "      <td>False</td>\n",
       "      <td>False</td>\n",
       "      <td>False</td>\n",
       "      <td>True</td>\n",
       "    </tr>\n",
       "    <tr>\n",
       "      <th>1</th>\n",
       "      <td>0002_01</td>\n",
       "      <td>0.0</td>\n",
       "      <td>-1</td>\n",
       "      <td>NaN</td>\n",
       "      <td>TRAPPIST-1e</td>\n",
       "      <td>24.0</td>\n",
       "      <td>False</td>\n",
       "      <td>109.0</td>\n",
       "      <td>9.0</td>\n",
       "      <td>25.0</td>\n",
       "      <td>549.0</td>\n",
       "      <td>44.0</td>\n",
       "      <td>Juanna Vines</td>\n",
       "      <td>True</td>\n",
       "      <td>False</td>\n",
       "      <td>False</td>\n",
       "      <td>True</td>\n",
       "    </tr>\n",
       "    <tr>\n",
       "      <th>2</th>\n",
       "      <td>0003_01</td>\n",
       "      <td>1.0</td>\n",
       "      <td>-1</td>\n",
       "      <td>A/0/S</td>\n",
       "      <td>TRAPPIST-1e</td>\n",
       "      <td>NaN</td>\n",
       "      <td>True</td>\n",
       "      <td>43.0</td>\n",
       "      <td>3576.0</td>\n",
       "      <td>0.0</td>\n",
       "      <td>6715.0</td>\n",
       "      <td>49.0</td>\n",
       "      <td>Altark Susent</td>\n",
       "      <td>False</td>\n",
       "      <td>False</td>\n",
       "      <td>False</td>\n",
       "      <td>True</td>\n",
       "    </tr>\n",
       "    <tr>\n",
       "      <th>3</th>\n",
       "      <td>0003_02</td>\n",
       "      <td>1.0</td>\n",
       "      <td>-1</td>\n",
       "      <td>A/0/S</td>\n",
       "      <td>TRAPPIST-1e</td>\n",
       "      <td>33.0</td>\n",
       "      <td>False</td>\n",
       "      <td>0.0</td>\n",
       "      <td>1283.0</td>\n",
       "      <td>371.0</td>\n",
       "      <td>3329.0</td>\n",
       "      <td>193.0</td>\n",
       "      <td>Solam Susent</td>\n",
       "      <td>False</td>\n",
       "      <td>False</td>\n",
       "      <td>False</td>\n",
       "      <td>True</td>\n",
       "    </tr>\n",
       "    <tr>\n",
       "      <th>4</th>\n",
       "      <td>0004_01</td>\n",
       "      <td>0.0</td>\n",
       "      <td>-1</td>\n",
       "      <td>F/1/S</td>\n",
       "      <td>TRAPPIST-1e</td>\n",
       "      <td>16.0</td>\n",
       "      <td>False</td>\n",
       "      <td>303.0</td>\n",
       "      <td>70.0</td>\n",
       "      <td>151.0</td>\n",
       "      <td>565.0</td>\n",
       "      <td>2.0</td>\n",
       "      <td>Willy Santantines</td>\n",
       "      <td>True</td>\n",
       "      <td>False</td>\n",
       "      <td>False</td>\n",
       "      <td>True</td>\n",
       "    </tr>\n",
       "  </tbody>\n",
       "</table>\n",
       "</div>"
      ],
      "text/plain": [
       "  PassengerId  HomePlanet  CryoSleep  Cabin  Destination   Age    VIP  \\\n",
       "0     0001_01         1.0         -1    NaN  TRAPPIST-1e  39.0  False   \n",
       "1     0002_01         0.0         -1    NaN  TRAPPIST-1e  24.0  False   \n",
       "2     0003_01         1.0         -1  A/0/S  TRAPPIST-1e   NaN   True   \n",
       "3     0003_02         1.0         -1  A/0/S  TRAPPIST-1e  33.0  False   \n",
       "4     0004_01         0.0         -1  F/1/S  TRAPPIST-1e  16.0  False   \n",
       "\n",
       "   RoomService  FoodCourt  ShoppingMall     Spa  VRDeck               Name  \\\n",
       "0          0.0        0.0           0.0     0.0     0.0    Maham Ofracculy   \n",
       "1        109.0        9.0          25.0   549.0    44.0       Juanna Vines   \n",
       "2         43.0     3576.0           0.0  6715.0    49.0      Altark Susent   \n",
       "3          0.0     1283.0         371.0  3329.0   193.0       Solam Susent   \n",
       "4        303.0       70.0         151.0   565.0     2.0  Willy Santantines   \n",
       "\n",
       "   Transported  55 Cancri e  PSO J318.5-22  TRAPPIST-1e  \n",
       "0        False        False          False         True  \n",
       "1         True        False          False         True  \n",
       "2        False        False          False         True  \n",
       "3        False        False          False         True  \n",
       "4         True        False          False         True  "
      ]
     },
     "execution_count": 81,
     "metadata": {},
     "output_type": "execute_result"
    }
   ],
   "source": [
    "df.head()"
   ]
  }
 ],
 "metadata": {
  "kernelspec": {
   "display_name": "i2ds-25-26",
   "language": "python",
   "name": "i2ds-25-26"
  },
  "language_info": {
   "codemirror_mode": {
    "name": "ipython",
    "version": 3
   },
   "file_extension": ".py",
   "mimetype": "text/x-python",
   "name": "python",
   "nbconvert_exporter": "python",
   "pygments_lexer": "ipython3",
   "version": "3.10.10"
  }
 },
 "nbformat": 4,
 "nbformat_minor": 5
}
