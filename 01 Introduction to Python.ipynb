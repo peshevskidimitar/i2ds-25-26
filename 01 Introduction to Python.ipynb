{
 "cells": [
  {
   "cell_type": "markdown",
   "id": "e58805ca",
   "metadata": {},
   "source": [
    "# Introduction to Python"
   ]
  },
  {
   "cell_type": "markdown",
   "id": "e0c6d34f",
   "metadata": {},
   "source": [
    "Python is a **high-level**, **general-purpose**, **interpreted** programming language. It is **dynamically type-checked** and **garbage-collected**. It supports multiple programming paradigms, including **structured (particularly procedural)**, **object-oriented** and **functional** programming."
   ]
  },
  {
   "cell_type": "markdown",
   "id": "a0f99896",
   "metadata": {},
   "source": [
    "## Installation\n",
    "\n",
    "### Windows\n",
    "\n",
    "#### Install Python\n",
    "\n",
    "1. Download a Windows installer for a stable release of Python from [Python Downloads](https://www.python.org/downloads/windows/).\n",
    "2. Run the installer.\n",
    "3. Check the option \"Add python.exe to PATH\".\n",
    "4. Choose \"Install Now\".\n",
    "5. Verify the installation with `python --version`.\n",
    "\n",
    "#### Create a Virtual Environment\n",
    "\n",
    "1. Open Command Prompt.\n",
    "2. Navigate to your project directory with `cd <project_directory>`.\n",
    "3. Create a virtual environment with `python -m venv .venv`.\n",
    "4. Activate the virtual environment with `.venv\\Scripts\\activate`.\n",
    "5. Now, the prompt should start with `(.venv)`.\n",
    "\n",
    "#### Install Jupyter Notebook\n",
    "\n",
    "1. With the virtual environment active, install Jupyter with `pip install jupyter`.\n",
    "2. Start Jupyter Notebook with `jupyter notebook`.\n",
    "3. A browser will open with the notebook interface.\n",
    "\n",
    "Notes:\n",
    "- You can choose another name for the virtual environment instead of `.venv`.\n",
    "- You can exit the virtual environment with `deactivate`."
   ]
  },
  {
   "cell_type": "markdown",
   "id": "4b90fd90",
   "metadata": {},
   "source": [
    "## Variables"
   ]
  },
  {
   "cell_type": "markdown",
   "id": "946b658b",
   "metadata": {},
   "source": [
    "Python is a **dynamically typed** programming language, meaning that the type of a variable is determined at runtime, not beforehand. That's why we don't declare the type when initializing a variable."
   ]
  },
  {
   "cell_type": "markdown",
   "id": "2dfbdfb2",
   "metadata": {},
   "source": [
    "The most common numeric types in Python are `int` and `float`. The `int` type represents integers, i.e., whole numbers, positive or negative, without a decimal point. The `float` type represents real numbers with decimal points or in exponential form."
   ]
  },
  {
   "cell_type": "code",
   "execution_count": 1,
   "id": "a0b4c12d",
   "metadata": {},
   "outputs": [],
   "source": [
    "int_var = 7"
   ]
  },
  {
   "cell_type": "code",
   "execution_count": 2,
   "id": "f99fc179",
   "metadata": {},
   "outputs": [],
   "source": [
    "float_var = 10.74"
   ]
  },
  {
   "cell_type": "markdown",
   "id": "d381fe08",
   "metadata": {},
   "source": [
    "We can check the type of a variable with the built-in function `type()`."
   ]
  },
  {
   "cell_type": "code",
   "execution_count": 3,
   "id": "5f60f905",
   "metadata": {},
   "outputs": [
    {
     "data": {
      "text/plain": [
       "int"
      ]
     },
     "execution_count": 3,
     "metadata": {},
     "output_type": "execute_result"
    }
   ],
   "source": [
    "type(int_var)"
   ]
  },
  {
   "cell_type": "code",
   "execution_count": 4,
   "id": "e934fe4a",
   "metadata": {},
   "outputs": [
    {
     "data": {
      "text/plain": [
       "float"
      ]
     },
     "execution_count": 4,
     "metadata": {},
     "output_type": "execute_result"
    }
   ],
   "source": [
    "type(float_var)"
   ]
  },
  {
   "cell_type": "markdown",
   "id": "8a639b8f",
   "metadata": {},
   "source": [
    "The boolean type in Python representing truth values is `bool`. It can be either `True` or `False`."
   ]
  },
  {
   "cell_type": "code",
   "execution_count": 5,
   "id": "8e9fada0",
   "metadata": {},
   "outputs": [],
   "source": [
    "bool_var = True"
   ]
  },
  {
   "cell_type": "code",
   "execution_count": 6,
   "id": "4db8ec08",
   "metadata": {},
   "outputs": [
    {
     "data": {
      "text/plain": [
       "bool"
      ]
     },
     "execution_count": 6,
     "metadata": {},
     "output_type": "execute_result"
    }
   ],
   "source": [
    "type(bool_var)"
   ]
  },
  {
   "cell_type": "markdown",
   "id": "bba0e55d",
   "metadata": {},
   "source": [
    "In Python, there is no `character` type, unlike in other languages. The `str` type can be used both to represent characters and strings of characters. We can use both single and double quotes to initialize a string."
   ]
  },
  {
   "cell_type": "code",
   "execution_count": 7,
   "id": "ac8b36f6",
   "metadata": {},
   "outputs": [],
   "source": [
    "string1 = \"A\"\n",
    "string2 = \"Hello, world!\"\n",
    "string3 = \"Welcome!\""
   ]
  },
  {
   "cell_type": "markdown",
   "id": "5bba08c2",
   "metadata": {},
   "source": [
    "To print the value of a variable, we can use the built-in function `print()`. It prints the string representation of the variable, followed by a new line, to the standard output."
   ]
  },
  {
   "cell_type": "code",
   "execution_count": 8,
   "id": "8a9a0d1e",
   "metadata": {},
   "outputs": [
    {
     "name": "stdout",
     "output_type": "stream",
     "text": [
      "7\n",
      "10.74\n",
      "True\n",
      "A\n"
     ]
    }
   ],
   "source": [
    "print(int_var)\n",
    "print(float_var)\n",
    "print(bool_var)\n",
    "print(string1)"
   ]
  },
  {
   "cell_type": "markdown",
   "id": "98579e1f",
   "metadata": {},
   "source": [
    "We can provide multiple values to the `print()` function. It will print them separated with a space and a new line at the end."
   ]
  },
  {
   "cell_type": "code",
   "execution_count": 9,
   "id": "8f573e71",
   "metadata": {},
   "outputs": [
    {
     "name": "stdout",
     "output_type": "stream",
     "text": [
      "7 10.74 True A\n"
     ]
    }
   ],
   "source": [
    "print(int_var, float_var, bool_var, string1)"
   ]
  },
  {
   "cell_type": "markdown",
   "id": "a7786c21",
   "metadata": {},
   "source": [
    "To cast a variable from one type to another, we can use the name of the type as a function, e.g., `int()`, `float()`, `bool()`, `str()`, etc."
   ]
  },
  {
   "cell_type": "code",
   "execution_count": 10,
   "id": "5496360e",
   "metadata": {},
   "outputs": [],
   "source": [
    "var1 = 15.2"
   ]
  },
  {
   "cell_type": "code",
   "execution_count": 11,
   "id": "cbd873f4",
   "metadata": {},
   "outputs": [
    {
     "data": {
      "text/plain": [
       "15"
      ]
     },
     "execution_count": 11,
     "metadata": {},
     "output_type": "execute_result"
    }
   ],
   "source": [
    "int(var1)"
   ]
  },
  {
   "cell_type": "code",
   "execution_count": 12,
   "id": "0f26f165",
   "metadata": {},
   "outputs": [],
   "source": [
    "var2 = \"10\""
   ]
  },
  {
   "cell_type": "code",
   "execution_count": 13,
   "id": "77712af6",
   "metadata": {},
   "outputs": [
    {
     "data": {
      "text/plain": [
       "10"
      ]
     },
     "execution_count": 13,
     "metadata": {},
     "output_type": "execute_result"
    }
   ],
   "source": [
    "int(var2)"
   ]
  },
  {
   "cell_type": "markdown",
   "id": "6696655b",
   "metadata": {},
   "source": [
    "We can also assign values to multiple variables at the same time."
   ]
  },
  {
   "cell_type": "code",
   "execution_count": 14,
   "id": "791f34dc",
   "metadata": {},
   "outputs": [],
   "source": [
    "x, y, z = \"world\", 1, 85.33"
   ]
  },
  {
   "cell_type": "markdown",
   "id": "72802348",
   "metadata": {},
   "source": [
    "In Python, `NoneType` is the data type for the special value `None`. `None` represents the absence of a value or a null reference. It is a unique and immutable object in Python, meaning there is only one instance of `None` in memory."
   ]
  },
  {
   "cell_type": "code",
   "execution_count": 15,
   "id": "056dc7f7",
   "metadata": {},
   "outputs": [],
   "source": [
    "empty_var = None"
   ]
  },
  {
   "cell_type": "code",
   "execution_count": 16,
   "id": "69c6870d",
   "metadata": {},
   "outputs": [
    {
     "data": {
      "text/plain": [
       "NoneType"
      ]
     },
     "execution_count": 16,
     "metadata": {},
     "output_type": "execute_result"
    }
   ],
   "source": [
    "type(empty_var)"
   ]
  },
  {
   "cell_type": "markdown",
   "id": "28060f19",
   "metadata": {},
   "source": [
    "To check if a variable is `None`, we can use the `is` operator."
   ]
  },
  {
   "cell_type": "code",
   "execution_count": 17,
   "id": "b8a9c32e",
   "metadata": {},
   "outputs": [
    {
     "data": {
      "text/plain": [
       "True"
      ]
     },
     "execution_count": 17,
     "metadata": {},
     "output_type": "execute_result"
    }
   ],
   "source": [
    "empty_var is None"
   ]
  },
  {
   "cell_type": "code",
   "execution_count": 18,
   "id": "7539f286",
   "metadata": {},
   "outputs": [
    {
     "data": {
      "text/plain": [
       "False"
      ]
     },
     "execution_count": 18,
     "metadata": {},
     "output_type": "execute_result"
    }
   ],
   "source": [
    "int_var is None"
   ]
  },
  {
   "cell_type": "markdown",
   "id": "f3e64d0a",
   "metadata": {},
   "source": [
    "## Operators and Conditions"
   ]
  },
  {
   "cell_type": "markdown",
   "id": "a40a1a4d",
   "metadata": {},
   "source": [
    "The relational operators are: equal to (`==`), not equal to (`!=`), less than (`<`), less than or equal to (`<=`), greater than (`>`), and greater than or equal to (`>=`)."
   ]
  },
  {
   "cell_type": "code",
   "execution_count": 19,
   "id": "bef066be",
   "metadata": {},
   "outputs": [
    {
     "name": "stdout",
     "output_type": "stream",
     "text": [
      "The value of the variable is less than 10.\n"
     ]
    }
   ],
   "source": [
    "if int_var < 10:\n",
    "    print(\"The value of the variable is less than 10.\")"
   ]
  },
  {
   "cell_type": "code",
   "execution_count": 20,
   "id": "7f8fcbb2",
   "metadata": {},
   "outputs": [
    {
     "name": "stdout",
     "output_type": "stream",
     "text": [
      "The value of the variable is greater than or equal to 5.\n"
     ]
    }
   ],
   "source": [
    "if int_var < 5:\n",
    "    print(\"The value of the variable is less than 5.\")\n",
    "else:\n",
    "    print(\"The value of the variable is greater than or equal to 5.\")"
   ]
  },
  {
   "cell_type": "code",
   "execution_count": 21,
   "id": "0f7e8823",
   "metadata": {},
   "outputs": [
    {
     "name": "stdout",
     "output_type": "stream",
     "text": [
      "The value of the variable is greater than or equal to 5 and less than 10.\n"
     ]
    }
   ],
   "source": [
    "if int_var < 5:\n",
    "    print(\"The value of the variable is less than 5.\")\n",
    "elif int_var < 10:\n",
    "    print(\"The value of the variable is greater than or equal to 5 and less than 10.\")\n",
    "else:\n",
    "    print(\"The value of the variable is greater than or equal to 10.\")"
   ]
  },
  {
   "cell_type": "markdown",
   "id": "9c92267c",
   "metadata": {},
   "source": [
    "In Python, the logical operators are: and (`and`), or (`or`) and not (`not`).\n",
    "\n",
    "The `and` and `or` operators exhibit short-circuiting behavior. For `and`, if the first operand is `False`, the second operand is not evaluated because the overall result will already be `False`. For `or`, if the first operand is `True`, the second operand is not evaluated because the overall result will already be `True`."
   ]
  },
  {
   "cell_type": "code",
   "execution_count": 22,
   "id": "5268c020",
   "metadata": {},
   "outputs": [
    {
     "name": "stdout",
     "output_type": "stream",
     "text": [
      "Success!\n"
     ]
    }
   ],
   "source": [
    "if int_var < 10 or float_var > 30:\n",
    "    print(\"Success!\")"
   ]
  },
  {
   "cell_type": "code",
   "execution_count": 23,
   "id": "3bb36d40",
   "metadata": {},
   "outputs": [
    {
     "name": "stdout",
     "output_type": "stream",
     "text": [
      "Error!\n"
     ]
    }
   ],
   "source": [
    "if int_var < 10 and float_var > 30:\n",
    "    print(\"Success\")\n",
    "else:\n",
    "    print(\"Error!\")"
   ]
  },
  {
   "cell_type": "code",
   "execution_count": 24,
   "id": "574c24e4",
   "metadata": {},
   "outputs": [
    {
     "name": "stdout",
     "output_type": "stream",
     "text": [
      "The value of the variable is greater than or equal to 5.\n"
     ]
    }
   ],
   "source": [
    "if not int_var < 5:\n",
    "    print(\"The value of the variable is greater than or equal to 5.\")"
   ]
  },
  {
   "cell_type": "markdown",
   "id": "9963c05f",
   "metadata": {},
   "source": [
    "## Data Structures"
   ]
  },
  {
   "cell_type": "markdown",
   "id": "ebfddc69",
   "metadata": {},
   "source": [
    "### Lists\n",
    "\n",
    "Lists are ordered, mutable sequences of elements."
   ]
  },
  {
   "cell_type": "code",
   "execution_count": 25,
   "id": "15bb2047",
   "metadata": {},
   "outputs": [],
   "source": [
    "list1 = [1, 2, 3, 4, 5, 6, 7, 8, 9, 10]"
   ]
  },
  {
   "cell_type": "markdown",
   "id": "5c06c1eb",
   "metadata": {},
   "source": [
    "The elements in a list can be from different types."
   ]
  },
  {
   "cell_type": "code",
   "execution_count": 26,
   "id": "ef951af1",
   "metadata": {},
   "outputs": [],
   "source": [
    "list2 = [1, \"Hello, world!\", 17.2, True]"
   ]
  },
  {
   "cell_type": "markdown",
   "id": "aa6a3e2c",
   "metadata": {},
   "source": [
    "They can contain duplicates."
   ]
  },
  {
   "cell_type": "code",
   "execution_count": 27,
   "id": "c1f522b9",
   "metadata": {},
   "outputs": [],
   "source": [
    "list3 = [1, 2, 2, 3, 3, 4, 4, 4]"
   ]
  },
  {
   "cell_type": "markdown",
   "id": "9869e542",
   "metadata": {},
   "source": [
    "We can get the length of a list using the built-in function `len()`."
   ]
  },
  {
   "cell_type": "code",
   "execution_count": 28,
   "id": "4701d78f",
   "metadata": {},
   "outputs": [
    {
     "data": {
      "text/plain": [
       "10"
      ]
     },
     "execution_count": 28,
     "metadata": {},
     "output_type": "execute_result"
    }
   ],
   "source": [
    "len(list1)"
   ]
  },
  {
   "cell_type": "code",
   "execution_count": 29,
   "id": "f4f0f7c5",
   "metadata": {},
   "outputs": [
    {
     "data": {
      "text/plain": [
       "4"
      ]
     },
     "execution_count": 29,
     "metadata": {},
     "output_type": "execute_result"
    }
   ],
   "source": [
    "len(list2)"
   ]
  },
  {
   "cell_type": "code",
   "execution_count": 30,
   "id": "2f290bc1",
   "metadata": {},
   "outputs": [
    {
     "data": {
      "text/plain": [
       "8"
      ]
     },
     "execution_count": 30,
     "metadata": {},
     "output_type": "execute_result"
    }
   ],
   "source": [
    "len(list3)"
   ]
  },
  {
   "cell_type": "markdown",
   "id": "574034fd",
   "metadata": {},
   "source": [
    "We can access elements of a list using zero-based indexing."
   ]
  },
  {
   "cell_type": "code",
   "execution_count": 31,
   "id": "19c61da1",
   "metadata": {},
   "outputs": [
    {
     "data": {
      "text/plain": [
       "1"
      ]
     },
     "execution_count": 31,
     "metadata": {},
     "output_type": "execute_result"
    }
   ],
   "source": [
    "list1[0]"
   ]
  },
  {
   "cell_type": "code",
   "execution_count": 32,
   "id": "20565b4b",
   "metadata": {},
   "outputs": [
    {
     "data": {
      "text/plain": [
       "True"
      ]
     },
     "execution_count": 32,
     "metadata": {},
     "output_type": "execute_result"
    }
   ],
   "source": [
    "list2[3]"
   ]
  },
  {
   "cell_type": "markdown",
   "id": "99ebf120",
   "metadata": {},
   "source": [
    "We can use negative indices to access elements from the end of a list."
   ]
  },
  {
   "cell_type": "code",
   "execution_count": 33,
   "id": "7f4b7888",
   "metadata": {},
   "outputs": [
    {
     "data": {
      "text/plain": [
       "10"
      ]
     },
     "execution_count": 33,
     "metadata": {},
     "output_type": "execute_result"
    }
   ],
   "source": [
    "list1[-1]"
   ]
  },
  {
   "cell_type": "code",
   "execution_count": 34,
   "id": "e93a3a76",
   "metadata": {},
   "outputs": [
    {
     "data": {
      "text/plain": [
       "17.2"
      ]
     },
     "execution_count": 34,
     "metadata": {},
     "output_type": "execute_result"
    }
   ],
   "source": [
    "list2[-2]"
   ]
  },
  {
   "cell_type": "markdown",
   "id": "e29350b4",
   "metadata": {},
   "source": [
    "We can slice a list using the built-in function `slice()` or the operand `:`. The syntax is `slice(start, stop, step)` or `start:stop:step`."
   ]
  },
  {
   "cell_type": "code",
   "execution_count": 35,
   "id": "93a4cdd4",
   "metadata": {},
   "outputs": [
    {
     "data": {
      "text/plain": [
       "[3, 4, 5]"
      ]
     },
     "execution_count": 35,
     "metadata": {},
     "output_type": "execute_result"
    }
   ],
   "source": [
    "list1[slice(2, 5)]"
   ]
  },
  {
   "cell_type": "code",
   "execution_count": 36,
   "id": "c871758d",
   "metadata": {},
   "outputs": [
    {
     "data": {
      "text/plain": [
       "[3, 4, 5]"
      ]
     },
     "execution_count": 36,
     "metadata": {},
     "output_type": "execute_result"
    }
   ],
   "source": [
    "list1[2:5]"
   ]
  },
  {
   "cell_type": "code",
   "execution_count": 37,
   "id": "4c62e77a",
   "metadata": {},
   "outputs": [
    {
     "data": {
      "text/plain": [
       "[1, 3, 5, 7, 9]"
      ]
     },
     "execution_count": 37,
     "metadata": {},
     "output_type": "execute_result"
    }
   ],
   "source": [
    "list1[0:10:2]"
   ]
  },
  {
   "cell_type": "code",
   "execution_count": 38,
   "id": "6cf71634",
   "metadata": {},
   "outputs": [
    {
     "data": {
      "text/plain": [
       "[2, 2, 3, 3, 4, 4]"
      ]
     },
     "execution_count": 38,
     "metadata": {},
     "output_type": "execute_result"
    }
   ],
   "source": [
    "list3[1:-1]"
   ]
  },
  {
   "cell_type": "markdown",
   "id": "d89f1b79",
   "metadata": {},
   "source": [
    "*Hack: To reverse a list, we can use `[::-1]`.*"
   ]
  },
  {
   "cell_type": "code",
   "execution_count": 39,
   "id": "b1674995",
   "metadata": {},
   "outputs": [
    {
     "data": {
      "text/plain": [
       "[10, 9, 8, 7, 6, 5, 4, 3, 2, 1]"
      ]
     },
     "execution_count": 39,
     "metadata": {},
     "output_type": "execute_result"
    }
   ],
   "source": [
    "list1[::-1]"
   ]
  },
  {
   "cell_type": "markdown",
   "id": "21219582",
   "metadata": {},
   "source": [
    "Note: Slicing a list returns a copy of that segment of the list. We can use the slicing notation to create a copy of a list using `[:]`."
   ]
  },
  {
   "cell_type": "code",
   "execution_count": 40,
   "id": "2290cecf",
   "metadata": {},
   "outputs": [],
   "source": [
    "list2_copy = list2[:]"
   ]
  },
  {
   "cell_type": "code",
   "execution_count": 41,
   "id": "9e2633f9",
   "metadata": {},
   "outputs": [
    {
     "data": {
      "text/plain": [
       "[1, 'Hello, world!', 17.2, True]"
      ]
     },
     "execution_count": 41,
     "metadata": {},
     "output_type": "execute_result"
    }
   ],
   "source": [
    "list2_copy"
   ]
  },
  {
   "cell_type": "markdown",
   "id": "e0d1efe6",
   "metadata": {},
   "source": [
    "To check if an element exists in a list, we can use the operator `in`."
   ]
  },
  {
   "cell_type": "code",
   "execution_count": 42,
   "id": "4bd324ae",
   "metadata": {},
   "outputs": [
    {
     "name": "stdout",
     "output_type": "stream",
     "text": [
      "The list1 contains 1.\n"
     ]
    }
   ],
   "source": [
    "if 1 in list1:\n",
    "    print(\"The list1 contains 1.\")"
   ]
  },
  {
   "cell_type": "markdown",
   "id": "bd6c5785",
   "metadata": {},
   "source": [
    "To assign a specific value to an element in a list, we can use indexing or slicing with the `=` operator."
   ]
  },
  {
   "cell_type": "code",
   "execution_count": 43,
   "id": "40c4a8b6",
   "metadata": {},
   "outputs": [],
   "source": [
    "list1[0] = 10"
   ]
  },
  {
   "cell_type": "code",
   "execution_count": 44,
   "id": "d147a3e4",
   "metadata": {},
   "outputs": [
    {
     "data": {
      "text/plain": [
       "[10, 2, 3, 4, 5, 6, 7, 8, 9, 10]"
      ]
     },
     "execution_count": 44,
     "metadata": {},
     "output_type": "execute_result"
    }
   ],
   "source": [
    "list1"
   ]
  },
  {
   "cell_type": "code",
   "execution_count": 45,
   "id": "d46dcf5a",
   "metadata": {},
   "outputs": [],
   "source": [
    "list1[1:3] = [9, 8]"
   ]
  },
  {
   "cell_type": "code",
   "execution_count": 46,
   "id": "9d03f731",
   "metadata": {},
   "outputs": [
    {
     "data": {
      "text/plain": [
       "[10, 9, 8, 4, 5, 6, 7, 8, 9, 10]"
      ]
     },
     "execution_count": 46,
     "metadata": {},
     "output_type": "execute_result"
    }
   ],
   "source": [
    "list1"
   ]
  },
  {
   "cell_type": "markdown",
   "id": "f0dc866a",
   "metadata": {},
   "source": [
    "To insert a element at a specific position in a list, we can use the `.insert()` method."
   ]
  },
  {
   "cell_type": "code",
   "execution_count": 47,
   "id": "c6b3cf91",
   "metadata": {},
   "outputs": [],
   "source": [
    "list3.insert(3, \"world\")"
   ]
  },
  {
   "cell_type": "code",
   "execution_count": 48,
   "id": "ca58bf08",
   "metadata": {},
   "outputs": [
    {
     "data": {
      "text/plain": [
       "[1, 2, 2, 'world', 3, 3, 4, 4, 4]"
      ]
     },
     "execution_count": 48,
     "metadata": {},
     "output_type": "execute_result"
    }
   ],
   "source": [
    "list3"
   ]
  },
  {
   "cell_type": "markdown",
   "id": "375ea49b",
   "metadata": {},
   "source": [
    "To add an element to the end of a list, we can use the `.append()` method."
   ]
  },
  {
   "cell_type": "code",
   "execution_count": 49,
   "id": "8a5d0e67",
   "metadata": {},
   "outputs": [],
   "source": [
    "list3.append(\"a\")"
   ]
  },
  {
   "cell_type": "code",
   "execution_count": 50,
   "id": "adacaf58",
   "metadata": {},
   "outputs": [
    {
     "data": {
      "text/plain": [
       "[1, 2, 2, 'world', 3, 3, 4, 4, 4, 'a']"
      ]
     },
     "execution_count": 50,
     "metadata": {},
     "output_type": "execute_result"
    }
   ],
   "source": [
    "list3"
   ]
  },
  {
   "cell_type": "markdown",
   "id": "e40e6b77",
   "metadata": {},
   "source": [
    "To add multiple elements to the end of a list, we can use the `.extend()` method."
   ]
  },
  {
   "cell_type": "code",
   "execution_count": 51,
   "id": "219b9593",
   "metadata": {},
   "outputs": [],
   "source": [
    "list3.extend([\"b\", \"c\"])"
   ]
  },
  {
   "cell_type": "code",
   "execution_count": 52,
   "id": "d03fe738",
   "metadata": {},
   "outputs": [
    {
     "data": {
      "text/plain": [
       "[1, 2, 2, 'world', 3, 3, 4, 4, 4, 'a', 'b', 'c']"
      ]
     },
     "execution_count": 52,
     "metadata": {},
     "output_type": "execute_result"
    }
   ],
   "source": [
    "list3"
   ]
  },
  {
   "cell_type": "markdown",
   "id": "7637d201",
   "metadata": {},
   "source": [
    "To remove the first occurence of an element in a list, we can use the `.remove()` method."
   ]
  },
  {
   "cell_type": "code",
   "execution_count": 53,
   "id": "bb98c081",
   "metadata": {},
   "outputs": [],
   "source": [
    "list3.remove(3)"
   ]
  },
  {
   "cell_type": "code",
   "execution_count": 54,
   "id": "3a9e90f2",
   "metadata": {},
   "outputs": [
    {
     "data": {
      "text/plain": [
       "[1, 2, 2, 'world', 3, 4, 4, 4, 'a', 'b', 'c']"
      ]
     },
     "execution_count": 54,
     "metadata": {},
     "output_type": "execute_result"
    }
   ],
   "source": [
    "list3"
   ]
  },
  {
   "cell_type": "markdown",
   "id": "84ef8a8a",
   "metadata": {},
   "source": [
    "To remove and return an element at a specific position, we can use the `.pop()` method. *The default index is -1.*"
   ]
  },
  {
   "cell_type": "code",
   "execution_count": 55,
   "id": "4ba0056d",
   "metadata": {},
   "outputs": [
    {
     "data": {
      "text/plain": [
       "'c'"
      ]
     },
     "execution_count": 55,
     "metadata": {},
     "output_type": "execute_result"
    }
   ],
   "source": [
    "list3.pop()"
   ]
  },
  {
   "cell_type": "code",
   "execution_count": 56,
   "id": "752d0c49",
   "metadata": {},
   "outputs": [
    {
     "data": {
      "text/plain": [
       "[1, 2, 2, 'world', 3, 4, 4, 4, 'a', 'b']"
      ]
     },
     "execution_count": 56,
     "metadata": {},
     "output_type": "execute_result"
    }
   ],
   "source": [
    "list3"
   ]
  },
  {
   "cell_type": "code",
   "execution_count": 57,
   "id": "1f9aa759",
   "metadata": {},
   "outputs": [
    {
     "data": {
      "text/plain": [
       "'world'"
      ]
     },
     "execution_count": 57,
     "metadata": {},
     "output_type": "execute_result"
    }
   ],
   "source": [
    "list3.pop(3)"
   ]
  },
  {
   "cell_type": "code",
   "execution_count": 58,
   "id": "59dba6b7",
   "metadata": {},
   "outputs": [
    {
     "data": {
      "text/plain": [
       "[1, 2, 2, 3, 4, 4, 4, 'a', 'b']"
      ]
     },
     "execution_count": 58,
     "metadata": {},
     "output_type": "execute_result"
    }
   ],
   "source": [
    "list3"
   ]
  },
  {
   "cell_type": "markdown",
   "id": "bd92e01d",
   "metadata": {},
   "source": [
    "List comprehension in Python offers a concise and efficient way to create new lists based on existing iterables (like lists, tuples, strings, etc.). It provides a more compact and often more readable alternative to traditional for loops for list creation, transformation, and filtering."
   ]
  },
  {
   "cell_type": "code",
   "execution_count": 59,
   "id": "ea72d430",
   "metadata": {},
   "outputs": [],
   "source": [
    "new_list = [1, 2, 3, 4, 5, 6, 7, 8, 9, 10]"
   ]
  },
  {
   "cell_type": "code",
   "execution_count": 60,
   "id": "d5a701f6",
   "metadata": {},
   "outputs": [
    {
     "data": {
      "text/plain": [
       "[2, 4, 6, 8, 10, 12, 14, 16, 18, 20]"
      ]
     },
     "execution_count": 60,
     "metadata": {},
     "output_type": "execute_result"
    }
   ],
   "source": [
    "[2 * element for element in new_list]"
   ]
  },
  {
   "cell_type": "code",
   "execution_count": 61,
   "id": "574e7f36",
   "metadata": {},
   "outputs": [
    {
     "data": {
      "text/plain": [
       "[4, 8, 12, 16, 20]"
      ]
     },
     "execution_count": 61,
     "metadata": {},
     "output_type": "execute_result"
    }
   ],
   "source": [
    "[2 * element for element in new_list if element % 2 == 0]"
   ]
  },
  {
   "cell_type": "code",
   "execution_count": 62,
   "id": "dc346dd5",
   "metadata": {},
   "outputs": [
    {
     "data": {
      "text/plain": [
       "[0, 4, 0, 8, 0, 12, 0, 16, 0, 20]"
      ]
     },
     "execution_count": 62,
     "metadata": {},
     "output_type": "execute_result"
    }
   ],
   "source": [
    "[2 * element if element % 2 == 0 else 0 for element in new_list]"
   ]
  },
  {
   "cell_type": "markdown",
   "id": "e1fa111a",
   "metadata": {},
   "source": [
    "### Tuples\n",
    "\n",
    "Tuples are ordered, immutable sequences of elements."
   ]
  },
  {
   "cell_type": "code",
   "execution_count": 63,
   "id": "8d6f7af4",
   "metadata": {},
   "outputs": [],
   "source": [
    "tuple1 = (1, 2, 3)"
   ]
  },
  {
   "cell_type": "code",
   "execution_count": 64,
   "id": "5387b488",
   "metadata": {},
   "outputs": [],
   "source": [
    "tuple2 = (\"a\", \"b\", \"c\", \"world\", 100)"
   ]
  },
  {
   "cell_type": "markdown",
   "id": "f070b50b",
   "metadata": {},
   "source": [
    "We cannot change a tuple directly, because they are immutable."
   ]
  },
  {
   "cell_type": "code",
   "execution_count": 65,
   "id": "01251147",
   "metadata": {},
   "outputs": [
    {
     "ename": "TypeError",
     "evalue": "'tuple' object does not support item assignment",
     "output_type": "error",
     "traceback": [
      "\u001b[1;31m---------------------------------------------------------------------------\u001b[0m",
      "\u001b[1;31mTypeError\u001b[0m                                 Traceback (most recent call last)",
      "Cell \u001b[1;32mIn[65], line 1\u001b[0m\n\u001b[1;32m----> 1\u001b[0m \u001b[43mtuple1\u001b[49m\u001b[43m[\u001b[49m\u001b[38;5;241;43m0\u001b[39;49m\u001b[43m]\u001b[49m \u001b[38;5;241m=\u001b[39m \u001b[38;5;124m\"\u001b[39m\u001b[38;5;124mA\u001b[39m\u001b[38;5;124m\"\u001b[39m\n",
      "\u001b[1;31mTypeError\u001b[0m: 'tuple' object does not support item assignment"
     ]
    }
   ],
   "source": [
    "tuple1[0] = \"A\""
   ]
  },
  {
   "cell_type": "code",
   "execution_count": null,
   "id": "2749c902",
   "metadata": {},
   "outputs": [],
   "source": [
    "new_tuple = (\"hello\",) + tuple2"
   ]
  },
  {
   "cell_type": "code",
   "execution_count": null,
   "id": "d8ce39df",
   "metadata": {},
   "outputs": [
    {
     "data": {
      "text/plain": [
       "('hello', 'a', 'b', 'c', 'world', 100)"
      ]
     },
     "execution_count": 67,
     "metadata": {},
     "output_type": "execute_result"
    }
   ],
   "source": [
    "new_tuple"
   ]
  },
  {
   "cell_type": "markdown",
   "id": "f1a1c9de",
   "metadata": {},
   "source": [
    "### Sets\n",
    "\n",
    "Sets are unordered collections of unique elements."
   ]
  },
  {
   "cell_type": "code",
   "execution_count": null,
   "id": "023ac626",
   "metadata": {},
   "outputs": [],
   "source": [
    "fruits = {\"apple\", \"banana\", \"orange\", \"apple\"}"
   ]
  },
  {
   "cell_type": "code",
   "execution_count": null,
   "id": "e4b6d1f8",
   "metadata": {},
   "outputs": [
    {
     "data": {
      "text/plain": [
       "{'apple', 'banana', 'orange'}"
      ]
     },
     "execution_count": 69,
     "metadata": {},
     "output_type": "execute_result"
    }
   ],
   "source": [
    "fruits"
   ]
  },
  {
   "cell_type": "code",
   "execution_count": 66,
   "id": "59462b4f",
   "metadata": {},
   "outputs": [
    {
     "ename": "NameError",
     "evalue": "name 'fruits' is not defined",
     "output_type": "error",
     "traceback": [
      "\u001b[1;31m---------------------------------------------------------------------------\u001b[0m",
      "\u001b[1;31mNameError\u001b[0m                                 Traceback (most recent call last)",
      "Cell \u001b[1;32mIn[66], line 1\u001b[0m\n\u001b[1;32m----> 1\u001b[0m \u001b[43mfruits\u001b[49m\u001b[38;5;241m.\u001b[39madd(\u001b[38;5;124m\"\u001b[39m\u001b[38;5;124mbanana\u001b[39m\u001b[38;5;124m\"\u001b[39m)\n",
      "\u001b[1;31mNameError\u001b[0m: name 'fruits' is not defined"
     ]
    }
   ],
   "source": [
    "fruits.add(\"banana\")"
   ]
  },
  {
   "cell_type": "code",
   "execution_count": 67,
   "id": "f511c1a9",
   "metadata": {},
   "outputs": [
    {
     "ename": "NameError",
     "evalue": "name 'fruits' is not defined",
     "output_type": "error",
     "traceback": [
      "\u001b[1;31m---------------------------------------------------------------------------\u001b[0m",
      "\u001b[1;31mNameError\u001b[0m                                 Traceback (most recent call last)",
      "Cell \u001b[1;32mIn[67], line 1\u001b[0m\n\u001b[1;32m----> 1\u001b[0m \u001b[43mfruits\u001b[49m\n",
      "\u001b[1;31mNameError\u001b[0m: name 'fruits' is not defined"
     ]
    }
   ],
   "source": [
    "fruits"
   ]
  },
  {
   "cell_type": "code",
   "execution_count": 68,
   "id": "dd19ae1d",
   "metadata": {},
   "outputs": [
    {
     "ename": "NameError",
     "evalue": "name 'fruits' is not defined",
     "output_type": "error",
     "traceback": [
      "\u001b[1;31m---------------------------------------------------------------------------\u001b[0m",
      "\u001b[1;31mNameError\u001b[0m                                 Traceback (most recent call last)",
      "Cell \u001b[1;32mIn[68], line 1\u001b[0m\n\u001b[1;32m----> 1\u001b[0m \u001b[43mfruits\u001b[49m[\u001b[38;5;241m0\u001b[39m]\n",
      "\u001b[1;31mNameError\u001b[0m: name 'fruits' is not defined"
     ]
    }
   ],
   "source": [
    "fruits[0]"
   ]
  },
  {
   "cell_type": "markdown",
   "id": "3b296583",
   "metadata": {},
   "source": [
    "Set comprehension, similar to list comprehensions, allows for the construction of sets by iterating over an iterable and optionally applying transformations or filters to its elements."
   ]
  },
  {
   "cell_type": "code",
   "execution_count": 69,
   "id": "0e6aaacb",
   "metadata": {},
   "outputs": [],
   "source": [
    "new_set = {1, 2, 3, 4, 5, 6, 7, 8, 9, 10}"
   ]
  },
  {
   "cell_type": "code",
   "execution_count": 70,
   "id": "56b425e0",
   "metadata": {},
   "outputs": [
    {
     "data": {
      "text/plain": [
       "{0, 1, 2}"
      ]
     },
     "execution_count": 70,
     "metadata": {},
     "output_type": "execute_result"
    }
   ],
   "source": [
    "{element % 3 for element in new_set}"
   ]
  },
  {
   "cell_type": "code",
   "execution_count": 71,
   "id": "8a40e1ef",
   "metadata": {},
   "outputs": [
    {
     "data": {
      "text/plain": [
       "{0}"
      ]
     },
     "execution_count": 71,
     "metadata": {},
     "output_type": "execute_result"
    }
   ],
   "source": [
    "{element % 3 for element in new_set if element % 3 == 0}"
   ]
  },
  {
   "cell_type": "code",
   "execution_count": 72,
   "id": "723df7ce",
   "metadata": {},
   "outputs": [
    {
     "data": {
      "text/plain": [
       "{-1, 0}"
      ]
     },
     "execution_count": 72,
     "metadata": {},
     "output_type": "execute_result"
    }
   ],
   "source": [
    "{element % 3 if element % 3 == 0 else -1 for element in new_set}"
   ]
  },
  {
   "cell_type": "markdown",
   "id": "8bc6a1f6",
   "metadata": {},
   "source": [
    "### Dictionaries\n",
    "\n",
    "Dictionaries are unordered collections of key-value pairs."
   ]
  },
  {
   "cell_type": "markdown",
   "id": "4db1bf3b",
   "metadata": {},
   "source": [
    "- A key in a dictionary can be any value with an immutable type, e.g., `int`, `float`, `bool`, `str`, `tuple`, etc.\n",
    "- There is no restrictions for the values in a dictionary."
   ]
  },
  {
   "cell_type": "code",
   "execution_count": 73,
   "id": "e8a08bad",
   "metadata": {},
   "outputs": [],
   "source": [
    "person = {\n",
    "    \"name\": \"Dimitar\",\n",
    "    \"surname\": \"Peshevski\",\n",
    "    \"age\": 24,\n",
    "    \"height\": 185,\n",
    "}"
   ]
  },
  {
   "cell_type": "code",
   "execution_count": 74,
   "id": "4d1428f6",
   "metadata": {},
   "outputs": [
    {
     "name": "stdout",
     "output_type": "stream",
     "text": [
      "{'name': 'Dimitar', 'surname': 'Peshevski', 'age': 24, 'height': 185}\n"
     ]
    }
   ],
   "source": [
    "print(person)"
   ]
  },
  {
   "cell_type": "code",
   "execution_count": 75,
   "id": "1a1f4d23",
   "metadata": {},
   "outputs": [
    {
     "data": {
      "text/plain": [
       "4"
      ]
     },
     "execution_count": 75,
     "metadata": {},
     "output_type": "execute_result"
    }
   ],
   "source": [
    "len(person)"
   ]
  },
  {
   "cell_type": "code",
   "execution_count": 76,
   "id": "85460478",
   "metadata": {},
   "outputs": [
    {
     "data": {
      "text/plain": [
       "dict_keys(['name', 'surname', 'age', 'height'])"
      ]
     },
     "execution_count": 76,
     "metadata": {},
     "output_type": "execute_result"
    }
   ],
   "source": [
    "person.keys()"
   ]
  },
  {
   "cell_type": "code",
   "execution_count": 77,
   "id": "aa37abc3",
   "metadata": {},
   "outputs": [
    {
     "data": {
      "text/plain": [
       "dict_values(['Dimitar', 'Peshevski', 24, 185])"
      ]
     },
     "execution_count": 77,
     "metadata": {},
     "output_type": "execute_result"
    }
   ],
   "source": [
    "person.values()"
   ]
  },
  {
   "cell_type": "code",
   "execution_count": 78,
   "id": "bb231f53",
   "metadata": {},
   "outputs": [],
   "source": [
    "person[\"is_assistant\"] = True"
   ]
  },
  {
   "cell_type": "code",
   "execution_count": 79,
   "id": "2d86278a",
   "metadata": {},
   "outputs": [
    {
     "name": "stdout",
     "output_type": "stream",
     "text": [
      "{'name': 'Dimitar', 'surname': 'Peshevski', 'age': 24, 'height': 185, 'is_assistant': True}\n"
     ]
    }
   ],
   "source": [
    "print(person)"
   ]
  },
  {
   "cell_type": "code",
   "execution_count": 80,
   "id": "6ef51c5c",
   "metadata": {},
   "outputs": [
    {
     "data": {
      "text/plain": [
       "True"
      ]
     },
     "execution_count": 80,
     "metadata": {},
     "output_type": "execute_result"
    }
   ],
   "source": [
    "\"name\" in person.keys()"
   ]
  },
  {
   "cell_type": "code",
   "execution_count": 81,
   "id": "cab1cfbf",
   "metadata": {},
   "outputs": [],
   "source": [
    "courses = [\n",
    "    \"Data Science\",\n",
    "    \"Probability and Statistics\",\n",
    "    \"Parallel and Distributed Processing\",\n",
    "]"
   ]
  },
  {
   "cell_type": "code",
   "execution_count": 82,
   "id": "e6b3e6b5",
   "metadata": {},
   "outputs": [],
   "source": [
    "person[\"courses\"] = courses"
   ]
  },
  {
   "cell_type": "code",
   "execution_count": 83,
   "id": "215b6f12",
   "metadata": {},
   "outputs": [
    {
     "name": "stdout",
     "output_type": "stream",
     "text": [
      "{'name': 'Dimitar', 'surname': 'Peshevski', 'age': 24, 'height': 185, 'is_assistant': True, 'courses': ['Data Science', 'Probability and Statistics', 'Parallel and Distributed Processing']}\n"
     ]
    }
   ],
   "source": [
    "print(person)"
   ]
  },
  {
   "cell_type": "code",
   "execution_count": 84,
   "id": "857dec9d",
   "metadata": {},
   "outputs": [],
   "source": [
    "car = {\n",
    "    \"brand\": \"Mazda\",\n",
    "    \"model\": \"CX30\",\n",
    "    \"hp\": 250,\n",
    "}"
   ]
  },
  {
   "cell_type": "code",
   "execution_count": 85,
   "id": "d730e315",
   "metadata": {},
   "outputs": [],
   "source": [
    "person[\"car\"] = car"
   ]
  },
  {
   "cell_type": "code",
   "execution_count": 86,
   "id": "5eb59026",
   "metadata": {},
   "outputs": [
    {
     "name": "stdout",
     "output_type": "stream",
     "text": [
      "{'name': 'Dimitar', 'surname': 'Peshevski', 'age': 24, 'height': 185, 'is_assistant': True, 'courses': ['Data Science', 'Probability and Statistics', 'Parallel and Distributed Processing'], 'car': {'brand': 'Mazda', 'model': 'CX30', 'hp': 250}}\n"
     ]
    }
   ],
   "source": [
    "print(person)"
   ]
  },
  {
   "cell_type": "code",
   "execution_count": 87,
   "id": "05ce1210",
   "metadata": {},
   "outputs": [
    {
     "data": {
      "text/plain": [
       "{'brand': 'Mazda', 'model': 'CX30', 'hp': 250}"
      ]
     },
     "execution_count": 87,
     "metadata": {},
     "output_type": "execute_result"
    }
   ],
   "source": [
    "person.pop(\"car\")"
   ]
  },
  {
   "cell_type": "markdown",
   "id": "33bec735",
   "metadata": {},
   "source": [
    "Dictionary comprehension, similar to list and set comprehension, offers a more readable and often faster alternative to traditional for loops for constructing dictionaries from iterables."
   ]
  },
  {
   "cell_type": "code",
   "execution_count": 88,
   "id": "f3074f9c",
   "metadata": {},
   "outputs": [],
   "source": [
    "new_list = [\"abc\", \"hello\", \"world\"]"
   ]
  },
  {
   "cell_type": "code",
   "execution_count": 89,
   "id": "7773877a",
   "metadata": {},
   "outputs": [
    {
     "data": {
      "text/plain": [
       "{'abc': 3, 'hello': 5, 'world': 5}"
      ]
     },
     "execution_count": 89,
     "metadata": {},
     "output_type": "execute_result"
    }
   ],
   "source": [
    "{element: len(element) for element in new_list}"
   ]
  },
  {
   "cell_type": "code",
   "execution_count": 90,
   "id": "5e823600",
   "metadata": {},
   "outputs": [
    {
     "data": {
      "text/plain": [
       "{'name': 4,\n",
       " 'surname': 7,\n",
       " 'age': 3,\n",
       " 'height': 6,\n",
       " 'is_assistant': 12,\n",
       " 'courses': 7}"
      ]
     },
     "execution_count": 90,
     "metadata": {},
     "output_type": "execute_result"
    }
   ],
   "source": [
    "{element: len(element) for element in person}"
   ]
  },
  {
   "cell_type": "markdown",
   "id": "e9f743a7",
   "metadata": {},
   "source": [
    "## Loops"
   ]
  },
  {
   "cell_type": "code",
   "execution_count": 91,
   "id": "bfdf4071",
   "metadata": {},
   "outputs": [],
   "source": [
    "list1 = [1, \"world\", True, 10.1, [1, 2, 3]]"
   ]
  },
  {
   "cell_type": "code",
   "execution_count": 92,
   "id": "924eb150",
   "metadata": {},
   "outputs": [
    {
     "name": "stdout",
     "output_type": "stream",
     "text": [
      "1\n",
      "world\n",
      "True\n",
      "10.1\n",
      "[1, 2, 3]\n"
     ]
    }
   ],
   "source": [
    "for element in list1:\n",
    "    print(element)"
   ]
  },
  {
   "cell_type": "code",
   "execution_count": 93,
   "id": "92da585b",
   "metadata": {},
   "outputs": [
    {
     "name": "stdout",
     "output_type": "stream",
     "text": [
      "0 --> 1\n",
      "1 --> world\n",
      "2 --> True\n",
      "3 --> 10.1\n",
      "4 --> [1, 2, 3]\n"
     ]
    }
   ],
   "source": [
    "for index in range(len(list1)):\n",
    "    print(index, \"-->\", list1[index])"
   ]
  },
  {
   "cell_type": "code",
   "execution_count": 94,
   "id": "fb650325",
   "metadata": {},
   "outputs": [
    {
     "name": "stdout",
     "output_type": "stream",
     "text": [
      "0 --> 1\n",
      "2 --> True\n",
      "4 --> [1, 2, 3]\n"
     ]
    }
   ],
   "source": [
    "for index in range(0, len(list1), 2):\n",
    "    print(index, \"-->\", list1[index])"
   ]
  },
  {
   "cell_type": "code",
   "execution_count": 95,
   "id": "276a83ff",
   "metadata": {},
   "outputs": [
    {
     "name": "stdout",
     "output_type": "stream",
     "text": [
      "0 --> 1\n",
      "1 --> world\n",
      "2 --> True\n",
      "3 --> 10.1\n",
      "4 --> [1, 2, 3]\n"
     ]
    }
   ],
   "source": [
    "index = 0\n",
    "while index < len(list1):\n",
    "    print(index, \"-->\", list1[index])\n",
    "    index += 1"
   ]
  },
  {
   "cell_type": "markdown",
   "id": "df8be4d4",
   "metadata": {},
   "source": [
    "## Functions"
   ]
  },
  {
   "cell_type": "code",
   "execution_count": 96,
   "id": "0f008b5f",
   "metadata": {},
   "outputs": [],
   "source": [
    "def full_name(name, surname):\n",
    "    return \" \".join([name, surname])"
   ]
  },
  {
   "cell_type": "code",
   "execution_count": 97,
   "id": "6341d064",
   "metadata": {},
   "outputs": [
    {
     "data": {
      "text/plain": [
       "'Dimitar Peshevski'"
      ]
     },
     "execution_count": 97,
     "metadata": {},
     "output_type": "execute_result"
    }
   ],
   "source": [
    "full_name(\"Dimitar\", \"Peshevski\")"
   ]
  },
  {
   "cell_type": "code",
   "execution_count": 98,
   "id": "cbf55ccf",
   "metadata": {},
   "outputs": [],
   "source": [
    "def welcome(name, surname):\n",
    "    print(f\"Hello, {full_name(name, surname)}!\")"
   ]
  },
  {
   "cell_type": "code",
   "execution_count": 99,
   "id": "72d3db64",
   "metadata": {},
   "outputs": [
    {
     "name": "stdout",
     "output_type": "stream",
     "text": [
      "Hello, Dimitar Peshevski!\n"
     ]
    }
   ],
   "source": [
    "welcome(\"Dimitar\", \"Peshevski\")"
   ]
  },
  {
   "cell_type": "markdown",
   "id": "d01f1fc1",
   "metadata": {},
   "source": [
    "## NumPy"
   ]
  },
  {
   "cell_type": "markdown",
   "id": "6b1903bd",
   "metadata": {},
   "source": [
    "NumPy, short for Numerical Python, is a fundamental Python library for scientific computing. It provides support for large, multi-dimensional arrays and matrices, along with a comprehensive collection of high-level mathematical functions to operate on these arrays."
   ]
  },
  {
   "cell_type": "markdown",
   "id": "0de52915",
   "metadata": {},
   "source": [
    "To install NumPy run `pip install numpy`."
   ]
  },
  {
   "cell_type": "code",
   "execution_count": 100,
   "id": "3eab40e8",
   "metadata": {},
   "outputs": [],
   "source": [
    "import numpy as np"
   ]
  },
  {
   "cell_type": "markdown",
   "id": "c1642c7f",
   "metadata": {},
   "source": [
    "### 1D Arrays"
   ]
  },
  {
   "cell_type": "code",
   "execution_count": 101,
   "id": "c1a48bc7",
   "metadata": {},
   "outputs": [],
   "source": [
    "array1 = np.array([1, 2, 3, 4, 5])"
   ]
  },
  {
   "cell_type": "code",
   "execution_count": 102,
   "id": "a3691542",
   "metadata": {},
   "outputs": [
    {
     "data": {
      "text/plain": [
       "array([1, 2, 3, 4, 5])"
      ]
     },
     "execution_count": 102,
     "metadata": {},
     "output_type": "execute_result"
    }
   ],
   "source": [
    "array1"
   ]
  },
  {
   "cell_type": "code",
   "execution_count": 103,
   "id": "494ab3b5",
   "metadata": {},
   "outputs": [],
   "source": [
    "array2 = np.array([1, 2, 3, True, \"world\"])"
   ]
  },
  {
   "cell_type": "code",
   "execution_count": 104,
   "id": "fa4a0083",
   "metadata": {},
   "outputs": [
    {
     "data": {
      "text/plain": [
       "array(['1', '2', '3', 'True', 'world'], dtype='<U21')"
      ]
     },
     "execution_count": 104,
     "metadata": {},
     "output_type": "execute_result"
    }
   ],
   "source": [
    "array2"
   ]
  },
  {
   "cell_type": "code",
   "execution_count": 105,
   "id": "d7f3a3eb",
   "metadata": {},
   "outputs": [
    {
     "data": {
      "text/plain": [
       "1"
      ]
     },
     "execution_count": 105,
     "metadata": {},
     "output_type": "execute_result"
    }
   ],
   "source": [
    "array1.ndim"
   ]
  },
  {
   "cell_type": "code",
   "execution_count": 106,
   "id": "b8d16cf7",
   "metadata": {},
   "outputs": [
    {
     "data": {
      "text/plain": [
       "(5,)"
      ]
     },
     "execution_count": 106,
     "metadata": {},
     "output_type": "execute_result"
    }
   ],
   "source": [
    "array2.shape"
   ]
  },
  {
   "cell_type": "code",
   "execution_count": 107,
   "id": "99df7bbf",
   "metadata": {},
   "outputs": [
    {
     "data": {
      "text/plain": [
       "np.str_('world')"
      ]
     },
     "execution_count": 107,
     "metadata": {},
     "output_type": "execute_result"
    }
   ],
   "source": [
    "array2[-1]"
   ]
  },
  {
   "cell_type": "code",
   "execution_count": 108,
   "id": "ca2cb4b4",
   "metadata": {},
   "outputs": [
    {
     "data": {
      "text/plain": [
       "'world'"
      ]
     },
     "execution_count": 108,
     "metadata": {},
     "output_type": "execute_result"
    }
   ],
   "source": [
    "array2[-1].item()"
   ]
  },
  {
   "cell_type": "code",
   "execution_count": 109,
   "id": "9d3cb997",
   "metadata": {},
   "outputs": [
    {
     "data": {
      "text/plain": [
       "np.int64(1)"
      ]
     },
     "execution_count": 109,
     "metadata": {},
     "output_type": "execute_result"
    }
   ],
   "source": [
    "array1[0]"
   ]
  },
  {
   "cell_type": "code",
   "execution_count": 110,
   "id": "4ff47718",
   "metadata": {},
   "outputs": [
    {
     "data": {
      "text/plain": [
       "1"
      ]
     },
     "execution_count": 110,
     "metadata": {},
     "output_type": "execute_result"
    }
   ],
   "source": [
    "array1[0].item()"
   ]
  },
  {
   "cell_type": "markdown",
   "id": "a47e83dc",
   "metadata": {},
   "source": [
    "### 2D Arrays"
   ]
  },
  {
   "cell_type": "code",
   "execution_count": 111,
   "id": "ab3e560d",
   "metadata": {},
   "outputs": [],
   "source": [
    "matrix = np.array(\n",
    "    [\n",
    "        [1, 2, 3, 4, 5],\n",
    "        [6, 7, 8, 9, 10],\n",
    "    ]\n",
    ")"
   ]
  },
  {
   "cell_type": "code",
   "execution_count": 112,
   "id": "08f13258",
   "metadata": {},
   "outputs": [
    {
     "data": {
      "text/plain": [
       "2"
      ]
     },
     "execution_count": 112,
     "metadata": {},
     "output_type": "execute_result"
    }
   ],
   "source": [
    "matrix.ndim"
   ]
  },
  {
   "cell_type": "code",
   "execution_count": 113,
   "id": "81d4fc5c",
   "metadata": {},
   "outputs": [
    {
     "data": {
      "text/plain": [
       "(2, 5)"
      ]
     },
     "execution_count": 113,
     "metadata": {},
     "output_type": "execute_result"
    }
   ],
   "source": [
    "matrix.shape"
   ]
  },
  {
   "cell_type": "code",
   "execution_count": 114,
   "id": "d5bbfc6b",
   "metadata": {},
   "outputs": [
    {
     "data": {
      "text/plain": [
       "array([[ 2,  4,  6,  8, 10],\n",
       "       [ 7,  9, 11, 13, 15]])"
      ]
     },
     "execution_count": 114,
     "metadata": {},
     "output_type": "execute_result"
    }
   ],
   "source": [
    "array1 + matrix"
   ]
  },
  {
   "cell_type": "code",
   "execution_count": 115,
   "id": "5d06376c",
   "metadata": {},
   "outputs": [
    {
     "data": {
      "text/plain": [
       "array([[ 1,  4,  9, 16, 25],\n",
       "       [ 6, 14, 24, 36, 50]])"
      ]
     },
     "execution_count": 115,
     "metadata": {},
     "output_type": "execute_result"
    }
   ],
   "source": [
    "array1 * matrix"
   ]
  },
  {
   "cell_type": "code",
   "execution_count": 116,
   "id": "a06abb96",
   "metadata": {},
   "outputs": [
    {
     "data": {
      "text/plain": [
       "np.int64(55)"
      ]
     },
     "execution_count": 116,
     "metadata": {},
     "output_type": "execute_result"
    }
   ],
   "source": [
    "np.sum(matrix)"
   ]
  },
  {
   "cell_type": "code",
   "execution_count": 117,
   "id": "34617078",
   "metadata": {},
   "outputs": [
    {
     "data": {
      "text/plain": [
       "array([[ 1,  4,  9, 16, 25],\n",
       "       [ 6, 14, 24, 36, 50]])"
      ]
     },
     "execution_count": 117,
     "metadata": {},
     "output_type": "execute_result"
    }
   ],
   "source": [
    "np.multiply(array1, matrix)"
   ]
  },
  {
   "cell_type": "markdown",
   "id": "63c16478",
   "metadata": {},
   "source": [
    "## Pandas"
   ]
  },
  {
   "cell_type": "markdown",
   "id": "e92d0003",
   "metadata": {},
   "source": [
    "Pandas is an open-source Python library designed for data manipulation and analysis. It provides powerful and flexible data structures, primarily the DataFrame and Series, which are well-suited for working with structured data, similar to tables in a database or spreadsheets."
   ]
  },
  {
   "cell_type": "markdown",
   "id": "150ce94f",
   "metadata": {},
   "source": [
    "To install Pandas run `pip install pandas`."
   ]
  },
  {
   "cell_type": "code",
   "execution_count": 118,
   "id": "4fa880f8",
   "metadata": {},
   "outputs": [],
   "source": [
    "import pandas as pd"
   ]
  },
  {
   "cell_type": "code",
   "execution_count": 119,
   "id": "e4d7b861",
   "metadata": {},
   "outputs": [],
   "source": [
    "data = {\n",
    "    \"name\": [\"Alice\", \"Bob\", \"Charlie\", \"David\", \"Eva\"],\n",
    "    \"age\": [25, 30, 35, 40, 28],\n",
    "    \"city\": [\"New York\", \"Los Angeles\", \"Chicago\", \"Houston\", \"Phoenix\"],\n",
    "}"
   ]
  },
  {
   "cell_type": "code",
   "execution_count": 120,
   "id": "79e9ab27",
   "metadata": {},
   "outputs": [],
   "source": [
    "df = pd.DataFrame(data)"
   ]
  },
  {
   "cell_type": "code",
   "execution_count": 121,
   "id": "efb4bcc0",
   "metadata": {},
   "outputs": [
    {
     "data": {
      "application/vnd.microsoft.datawrangler.viewer.v0+json": {
       "columns": [
        {
         "name": "index",
         "rawType": "int64",
         "type": "integer"
        },
        {
         "name": "name",
         "rawType": "object",
         "type": "string"
        },
        {
         "name": "age",
         "rawType": "int64",
         "type": "integer"
        },
        {
         "name": "city",
         "rawType": "object",
         "type": "string"
        }
       ],
       "ref": "66ebf28e-a4d5-4346-9a33-c0480c5b5dd4",
       "rows": [
        [
         "0",
         "Alice",
         "25",
         "New York"
        ],
        [
         "1",
         "Bob",
         "30",
         "Los Angeles"
        ],
        [
         "2",
         "Charlie",
         "35",
         "Chicago"
        ],
        [
         "3",
         "David",
         "40",
         "Houston"
        ],
        [
         "4",
         "Eva",
         "28",
         "Phoenix"
        ]
       ],
       "shape": {
        "columns": 3,
        "rows": 5
       }
      },
      "text/html": [
       "<div>\n",
       "<style scoped>\n",
       "    .dataframe tbody tr th:only-of-type {\n",
       "        vertical-align: middle;\n",
       "    }\n",
       "\n",
       "    .dataframe tbody tr th {\n",
       "        vertical-align: top;\n",
       "    }\n",
       "\n",
       "    .dataframe thead th {\n",
       "        text-align: right;\n",
       "    }\n",
       "</style>\n",
       "<table border=\"1\" class=\"dataframe\">\n",
       "  <thead>\n",
       "    <tr style=\"text-align: right;\">\n",
       "      <th></th>\n",
       "      <th>name</th>\n",
       "      <th>age</th>\n",
       "      <th>city</th>\n",
       "    </tr>\n",
       "  </thead>\n",
       "  <tbody>\n",
       "    <tr>\n",
       "      <th>0</th>\n",
       "      <td>Alice</td>\n",
       "      <td>25</td>\n",
       "      <td>New York</td>\n",
       "    </tr>\n",
       "    <tr>\n",
       "      <th>1</th>\n",
       "      <td>Bob</td>\n",
       "      <td>30</td>\n",
       "      <td>Los Angeles</td>\n",
       "    </tr>\n",
       "    <tr>\n",
       "      <th>2</th>\n",
       "      <td>Charlie</td>\n",
       "      <td>35</td>\n",
       "      <td>Chicago</td>\n",
       "    </tr>\n",
       "    <tr>\n",
       "      <th>3</th>\n",
       "      <td>David</td>\n",
       "      <td>40</td>\n",
       "      <td>Houston</td>\n",
       "    </tr>\n",
       "    <tr>\n",
       "      <th>4</th>\n",
       "      <td>Eva</td>\n",
       "      <td>28</td>\n",
       "      <td>Phoenix</td>\n",
       "    </tr>\n",
       "  </tbody>\n",
       "</table>\n",
       "</div>"
      ],
      "text/plain": [
       "      name  age         city\n",
       "0    Alice   25     New York\n",
       "1      Bob   30  Los Angeles\n",
       "2  Charlie   35      Chicago\n",
       "3    David   40      Houston\n",
       "4      Eva   28      Phoenix"
      ]
     },
     "execution_count": 121,
     "metadata": {},
     "output_type": "execute_result"
    }
   ],
   "source": [
    "df"
   ]
  },
  {
   "cell_type": "code",
   "execution_count": 122,
   "id": "dff07620",
   "metadata": {},
   "outputs": [],
   "source": [
    "df.to_csv(\"data.csv\")"
   ]
  },
  {
   "cell_type": "code",
   "execution_count": 123,
   "id": "c9ba2c9f",
   "metadata": {},
   "outputs": [
    {
     "name": "stdout",
     "output_type": "stream",
     "text": [
      "<class 'pandas.core.frame.DataFrame'>\n",
      "RangeIndex: 5 entries, 0 to 4\n",
      "Data columns (total 3 columns):\n",
      " #   Column  Non-Null Count  Dtype \n",
      "---  ------  --------------  ----- \n",
      " 0   name    5 non-null      object\n",
      " 1   age     5 non-null      int64 \n",
      " 2   city    5 non-null      object\n",
      "dtypes: int64(1), object(2)\n",
      "memory usage: 248.0+ bytes\n"
     ]
    }
   ],
   "source": [
    "df.info()"
   ]
  }
 ],
 "metadata": {
  "kernelspec": {
   "display_name": "i2ds-25-26",
   "language": "python",
   "name": "i2ds-25-26"
  },
  "language_info": {
   "codemirror_mode": {
    "name": "ipython",
    "version": 3
   },
   "file_extension": ".py",
   "mimetype": "text/x-python",
   "name": "python",
   "nbconvert_exporter": "python",
   "pygments_lexer": "ipython3",
   "version": "3.10.10"
  }
 },
 "nbformat": 4,
 "nbformat_minor": 5
}
